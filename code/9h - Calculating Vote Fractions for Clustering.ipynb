{
 "cells": [
  {
   "cell_type": "markdown",
   "metadata": {},
   "source": [
    "##  We're going calculate vote fraction for Trump and Newton by county/precinct combination to use as 2 dimensions for our clustering work"
   ]
  },
  {
   "cell_type": "code",
   "execution_count": 1,
   "metadata": {
    "collapsed": false
   },
   "outputs": [],
   "source": [
    "#First set everthing up\n",
    "import pyodbc\n",
    "import graphlab as gl\n",
    "import pandas as pd\n",
    "import matplotlib.pyplot as plt\n",
    "import numpy as np\n",
    "import datetime\n",
    "import config #server information and credentials\n",
    "from pullODBC import pullODBC\n",
    "from pullODBCall import pullODBCall\n",
    "from matplotlib.backends.backend_pdf import PdfPages\n",
    "from __future__ import division # convert integer division to floating point\n",
    "%matplotlib inline\n",
    "plt.style.use('seaborn-white')\n",
    "plt.rcParams['font.size'] = 7\n",
    "plt.tight_layout;\n",
    "plt.rc('xtick', labelsize=7) \n",
    "plt.rc('ytick', labelsize=7) "
   ]
  },
  {
   "cell_type": "code",
   "execution_count": 2,
   "metadata": {
    "collapsed": false
   },
   "outputs": [
    {
     "name": "stdout",
     "output_type": "stream",
     "text": [
      "candidate, contest_name, election_date, precinct, total_votes, county\n"
     ]
    }
   ],
   "source": [
    "#Set up the fields that I need to pull from the database \n",
    "fields = 'candidate, contest_name, election_date, precinct, total_votes, county'\n",
    "print fields"
   ]
  },
  {
   "cell_type": "code",
   "execution_count": 3,
   "metadata": {
    "collapsed": false
   },
   "outputs": [
    {
     "name": "stdout",
     "output_type": "stream",
     "text": [
      "(contest_name = 'NC ATTORNEY GENERAL' OR contest_name = 'US PRESIDENT') AND election_date='2016-11-08'\n"
     ]
    }
   ],
   "source": [
    "#Set up the condition\n",
    "condition0 = \"contest_name = 'NC ATTORNEY GENERAL'\"\n",
    "condition1 = \"contest_name = 'US PRESIDENT'\"\n",
    "condition2 = \"election_date='2016-11-08'\"\n",
    "condition = \"(\" + condition0 + \" OR \" + condition1 + \") AND \" + condition2\n",
    "print condition"
   ]
  },
  {
   "cell_type": "markdown",
   "metadata": {},
   "source": [
    "Read in the results for President and Attorney General for 2016 General Election"
   ]
  },
  {
   "cell_type": "code",
   "execution_count": 4,
   "metadata": {
    "collapsed": false
   },
   "outputs": [],
   "source": [
    "#Pull the data from the database\n",
    "results=pullODBC(config.driver,\n",
    "                      config.server,\n",
    "                      config.database,\n",
    "                      config.username,\n",
    "                      config.password,\n",
    "                      config.table,\n",
    "                      fields,\n",
    "                      condition)"
   ]
  },
  {
   "cell_type": "code",
   "execution_count": 5,
   "metadata": {
    "collapsed": false
   },
   "outputs": [
    {
     "name": "stdout",
     "output_type": "stream",
     "text": [
      "22459\n",
      "                      candidate         contest_name election_date precinct  \\\n",
      "22444           Hillary Clinton         US PRESIDENT    2016-11-08       W3   \n",
      "22445                Josh Stein  NC ATTORNEY GENERAL    2016-11-08     50.1   \n",
      "22446                Josh Stein  NC ATTORNEY GENERAL    2016-11-08     KM N   \n",
      "22447                Josh Stein  NC ATTORNEY GENERAL    2016-11-08     MARB   \n",
      "22448           Hillary Clinton         US PRESIDENT    2016-11-08     PR32   \n",
      "22449              Gary Johnson         US PRESIDENT    2016-11-08       SH   \n",
      "22450     Jill Stein (Write-In)         US PRESIDENT    2016-11-08     EKWD   \n",
      "22451     Jill Stein (Write-In)         US PRESIDENT    2016-11-08       T1   \n",
      "22452           Donald J. Trump         US PRESIDENT    2016-11-08     GC09   \n",
      "22453              Gary Johnson         US PRESIDENT    2016-11-08       30   \n",
      "22454               Buck Newton  NC ATTORNEY GENERAL    2016-11-08     ROWA   \n",
      "22455                Josh Stein  NC ATTORNEY GENERAL    2016-11-08      026   \n",
      "22456  Write-In (Miscellaneous)         US PRESIDENT    2016-11-08      041   \n",
      "22457           Donald J. Trump         US PRESIDENT    2016-11-08       01   \n",
      "22458                Josh Stein  NC ATTORNEY GENERAL    2016-11-08       10   \n",
      "\n",
      "       total_votes      county  \n",
      "22444          177       ANSON  \n",
      "22445          194    BUNCOMBE  \n",
      "22446         1269   CLEVELAND  \n",
      "22447          208    CHEROKEE  \n",
      "22448          292     HARNETT  \n",
      "22449            7      LENOIR  \n",
      "22450            0       MOORE  \n",
      "22451            0  MONTGOMERY  \n",
      "22452         1161        POLK  \n",
      "22453           41       ROWAN  \n",
      "22454          234     SAMPSON  \n",
      "22455          352       UNION  \n",
      "22456           41       UNION  \n",
      "22457           84     WATAUGA  \n",
      "22458          245       WAYNE  \n"
     ]
    }
   ],
   "source": [
    "print(len(results))\n",
    "print results.tail(n=15)\n",
    "raw_len = len(results)# Save the number of rows"
   ]
  },
  {
   "cell_type": "markdown",
   "metadata": {},
   "source": [
    "We now need to clean the data to remove any rows with blank columns"
   ]
  },
  {
   "cell_type": "code",
   "execution_count": 6,
   "metadata": {
    "collapsed": true
   },
   "outputs": [],
   "source": [
    "def fix_blanks_NaN(x):\n",
    "    if x == \"\":\n",
    "        return np.nan\n",
    "    elif x == \" \":\n",
    "        return np.nan\n",
    "    else:\n",
    "        return x"
   ]
  },
  {
   "cell_type": "code",
   "execution_count": 7,
   "metadata": {
    "collapsed": false
   },
   "outputs": [
    {
     "name": "stdout",
     "output_type": "stream",
     "text": [
      "The number of rows I have dropped is 0\n",
      "The number of rows remaining in the database is 22459\n",
      "The precentage of rows that I have dropped is: 0.000%\n"
     ]
    }
   ],
   "source": [
    "#Change blank fields to Nan\n",
    "fields = results.columns\n",
    "for col in fields:\n",
    "    results[col] = results[col].apply(fix_blanks_NaN)\n",
    "#Next, delete any rows with NaN and disply counts\n",
    "results.dropna(inplace=True, how='any') #drop all rows with NaN\n",
    "clean_len=len(results) #how many rows to I have left?\n",
    "difference = raw_len - clean_len #how many rows have I dropped?\n",
    "fraction = float(difference)/float(raw_len) #what fraction of rows have I dropped?\n",
    "print \"The number of rows I have dropped is \" + str(difference) \n",
    "print \"The number of rows remaining in the database is \" + str(clean_len)\n",
    "print \"The precentage of rows that I have dropped is: \" + str('{:.3%}'.format(fraction))"
   ]
  },
  {
   "cell_type": "markdown",
   "metadata": {},
   "source": [
    "The data is clean.  No rows have been dropped\n",
    "\n",
    "Now we create a now column county_pct that combines county and precinct and strip out any blanks in this new column.  "
   ]
  },
  {
   "cell_type": "code",
   "execution_count": 8,
   "metadata": {
    "collapsed": false
   },
   "outputs": [
    {
     "name": "stdout",
     "output_type": "stream",
     "text": [
      "          candidate  contest_name election_date     precinct  total_votes  \\\n",
      "0   Donald J. Trump  US PRESIDENT    2016-11-08           18          120   \n",
      "1   Donald J. Trump  US PRESIDENT    2016-11-08     ONE STOP         2110   \n",
      "2   Donald J. Trump  US PRESIDENT    2016-11-08           13          152   \n",
      "3   Donald J. Trump  US PRESIDENT    2016-11-08           02          550   \n",
      "4   Donald J. Trump  US PRESIDENT    2016-11-08           16          361   \n",
      "5   Donald J. Trump  US PRESIDENT    2016-11-08           14          241   \n",
      "6   Donald J. Trump  US PRESIDENT    2016-11-08           19          148   \n",
      "7   Donald J. Trump  US PRESIDENT    2016-11-08           08          145   \n",
      "8   Donald J. Trump  US PRESIDENT    2016-11-08           05          116   \n",
      "9   Donald J. Trump  US PRESIDENT    2016-11-08           11          127   \n",
      "10  Donald J. Trump  US PRESIDENT    2016-11-08           12          127   \n",
      "11  Donald J. Trump  US PRESIDENT    2016-11-08           17          240   \n",
      "12  Donald J. Trump  US PRESIDENT    2016-11-08  PROVISIONAL           64   \n",
      "13  Donald J. Trump  US PRESIDENT    2016-11-08           09          156   \n",
      "14  Donald J. Trump  US PRESIDENT    2016-11-08           10          280   \n",
      "\n",
      "   county        county_pct  \n",
      "0   AVERY           AVERY18  \n",
      "1   AVERY      AVERYONESTOP  \n",
      "2   AVERY           AVERY13  \n",
      "3   AVERY           AVERY02  \n",
      "4   AVERY           AVERY16  \n",
      "5   AVERY           AVERY14  \n",
      "6   AVERY           AVERY19  \n",
      "7   AVERY           AVERY08  \n",
      "8   AVERY           AVERY05  \n",
      "9   AVERY           AVERY11  \n",
      "10  AVERY           AVERY12  \n",
      "11  AVERY           AVERY17  \n",
      "12  AVERY  AVERYPROVISIONAL  \n",
      "13  AVERY           AVERY09  \n",
      "14  AVERY           AVERY10  \n"
     ]
    }
   ],
   "source": [
    "results['county_pct'] = results['county']+results['precinct'] # create new column\n",
    "results['county_pct'] = results['county_pct'].map(lambda x: x.replace(\" \", \"\")) # strip out the blanks\n",
    "print(results.head(n=15))\n"
   ]
  },
  {
   "cell_type": "markdown",
   "metadata": {},
   "source": [
    "Now we create a pivot table to summarize the results"
   ]
  },
  {
   "cell_type": "code",
   "execution_count": 9,
   "metadata": {
    "collapsed": false
   },
   "outputs": [
    {
     "data": {
      "text/html": [
       "<div>\n",
       "<table border=\"1\" class=\"dataframe\">\n",
       "  <thead>\n",
       "    <tr>\n",
       "      <th></th>\n",
       "      <th colspan=\"8\" halign=\"left\">total_votes</th>\n",
       "    </tr>\n",
       "    <tr>\n",
       "      <th>contest_name</th>\n",
       "      <th colspan=\"2\" halign=\"left\">NC ATTORNEY GENERAL</th>\n",
       "      <th colspan=\"6\" halign=\"left\">US PRESIDENT</th>\n",
       "    </tr>\n",
       "    <tr>\n",
       "      <th>candidate</th>\n",
       "      <th>Buck Newton</th>\n",
       "      <th>Josh Stein</th>\n",
       "      <th>Donald J. Trump</th>\n",
       "      <th>Gary Johnson</th>\n",
       "      <th>Hillary Clinton</th>\n",
       "      <th>JIll Stein (Write-In)</th>\n",
       "      <th>Jill Stein (Write-In)</th>\n",
       "      <th>Write-In (Miscellaneous)</th>\n",
       "    </tr>\n",
       "    <tr>\n",
       "      <th>county_pct</th>\n",
       "      <th></th>\n",
       "      <th></th>\n",
       "      <th></th>\n",
       "      <th></th>\n",
       "      <th></th>\n",
       "      <th></th>\n",
       "      <th></th>\n",
       "      <th></th>\n",
       "    </tr>\n",
       "  </thead>\n",
       "  <tbody>\n",
       "    <tr>\n",
       "      <th>ALAMANCE01</th>\n",
       "      <td>1784.0</td>\n",
       "      <td>519.0</td>\n",
       "      <td>1865.0</td>\n",
       "      <td>50.0</td>\n",
       "      <td>411.0</td>\n",
       "      <td>NaN</td>\n",
       "      <td>10.0</td>\n",
       "      <td>15.0</td>\n",
       "    </tr>\n",
       "    <tr>\n",
       "      <th>ALAMANCE02</th>\n",
       "      <td>1909.0</td>\n",
       "      <td>497.0</td>\n",
       "      <td>2004.0</td>\n",
       "      <td>40.0</td>\n",
       "      <td>403.0</td>\n",
       "      <td>NaN</td>\n",
       "      <td>5.0</td>\n",
       "      <td>19.0</td>\n",
       "    </tr>\n",
       "    <tr>\n",
       "      <th>ALAMANCE035</th>\n",
       "      <td>1442.0</td>\n",
       "      <td>1042.0</td>\n",
       "      <td>1485.0</td>\n",
       "      <td>77.0</td>\n",
       "      <td>995.0</td>\n",
       "      <td>NaN</td>\n",
       "      <td>14.0</td>\n",
       "      <td>13.0</td>\n",
       "    </tr>\n",
       "    <tr>\n",
       "      <th>ALAMANCE03C</th>\n",
       "      <td>1094.0</td>\n",
       "      <td>720.0</td>\n",
       "      <td>1059.0</td>\n",
       "      <td>64.0</td>\n",
       "      <td>679.0</td>\n",
       "      <td>NaN</td>\n",
       "      <td>5.0</td>\n",
       "      <td>28.0</td>\n",
       "    </tr>\n",
       "    <tr>\n",
       "      <th>ALAMANCE03N</th>\n",
       "      <td>1198.0</td>\n",
       "      <td>1008.0</td>\n",
       "      <td>1160.0</td>\n",
       "      <td>66.0</td>\n",
       "      <td>1036.0</td>\n",
       "      <td>NaN</td>\n",
       "      <td>12.0</td>\n",
       "      <td>23.0</td>\n",
       "    </tr>\n",
       "  </tbody>\n",
       "</table>\n",
       "</div>"
      ],
      "text/plain": [
       "                     total_votes                                          \\\n",
       "contest_name NC ATTORNEY GENERAL               US PRESIDENT                \n",
       "candidate            Buck Newton Josh Stein Donald J. Trump Gary Johnson   \n",
       "county_pct                                                                 \n",
       "ALAMANCE01                1784.0      519.0          1865.0         50.0   \n",
       "ALAMANCE02                1909.0      497.0          2004.0         40.0   \n",
       "ALAMANCE035               1442.0     1042.0          1485.0         77.0   \n",
       "ALAMANCE03C               1094.0      720.0          1059.0         64.0   \n",
       "ALAMANCE03N               1198.0     1008.0          1160.0         66.0   \n",
       "\n",
       "                                                                          \\\n",
       "contest_name                                                               \n",
       "candidate    Hillary Clinton JIll Stein (Write-In) Jill Stein (Write-In)   \n",
       "county_pct                                                                 \n",
       "ALAMANCE01             411.0                   NaN                  10.0   \n",
       "ALAMANCE02             403.0                   NaN                   5.0   \n",
       "ALAMANCE035            995.0                   NaN                  14.0   \n",
       "ALAMANCE03C            679.0                   NaN                   5.0   \n",
       "ALAMANCE03N           1036.0                   NaN                  12.0   \n",
       "\n",
       "                                       \n",
       "contest_name                           \n",
       "candidate    Write-In (Miscellaneous)  \n",
       "county_pct                             \n",
       "ALAMANCE01                       15.0  \n",
       "ALAMANCE02                       19.0  \n",
       "ALAMANCE035                      13.0  \n",
       "ALAMANCE03C                      28.0  \n",
       "ALAMANCE03N                      23.0  "
      ]
     },
     "execution_count": 9,
     "metadata": {},
     "output_type": "execute_result"
    }
   ],
   "source": [
    "results_pivot = pd.pivot_table(results, index=['county_pct'], values=['total_votes'],  \n",
    "                                 aggfunc=np.sum,  columns = ['contest_name','candidate'], margins = False) \n",
    "results_pivot.head()"
   ]
  },
  {
   "cell_type": "markdown",
   "metadata": {},
   "source": [
    "We now need to fill all the NaNs with 0  "
   ]
  },
  {
   "cell_type": "code",
   "execution_count": 10,
   "metadata": {
    "collapsed": false
   },
   "outputs": [
    {
     "data": {
      "text/html": [
       "<div>\n",
       "<table border=\"1\" class=\"dataframe\">\n",
       "  <thead>\n",
       "    <tr>\n",
       "      <th></th>\n",
       "      <th colspan=\"8\" halign=\"left\">total_votes</th>\n",
       "    </tr>\n",
       "    <tr>\n",
       "      <th>contest_name</th>\n",
       "      <th colspan=\"2\" halign=\"left\">NC ATTORNEY GENERAL</th>\n",
       "      <th colspan=\"6\" halign=\"left\">US PRESIDENT</th>\n",
       "    </tr>\n",
       "    <tr>\n",
       "      <th>candidate</th>\n",
       "      <th>Buck Newton</th>\n",
       "      <th>Josh Stein</th>\n",
       "      <th>Donald J. Trump</th>\n",
       "      <th>Gary Johnson</th>\n",
       "      <th>Hillary Clinton</th>\n",
       "      <th>JIll Stein (Write-In)</th>\n",
       "      <th>Jill Stein (Write-In)</th>\n",
       "      <th>Write-In (Miscellaneous)</th>\n",
       "    </tr>\n",
       "    <tr>\n",
       "      <th>county_pct</th>\n",
       "      <th></th>\n",
       "      <th></th>\n",
       "      <th></th>\n",
       "      <th></th>\n",
       "      <th></th>\n",
       "      <th></th>\n",
       "      <th></th>\n",
       "      <th></th>\n",
       "    </tr>\n",
       "  </thead>\n",
       "  <tbody>\n",
       "    <tr>\n",
       "      <th>ALAMANCE01</th>\n",
       "      <td>1784.0</td>\n",
       "      <td>519.0</td>\n",
       "      <td>1865.0</td>\n",
       "      <td>50.0</td>\n",
       "      <td>411.0</td>\n",
       "      <td>0.0</td>\n",
       "      <td>10.0</td>\n",
       "      <td>15.0</td>\n",
       "    </tr>\n",
       "    <tr>\n",
       "      <th>ALAMANCE02</th>\n",
       "      <td>1909.0</td>\n",
       "      <td>497.0</td>\n",
       "      <td>2004.0</td>\n",
       "      <td>40.0</td>\n",
       "      <td>403.0</td>\n",
       "      <td>0.0</td>\n",
       "      <td>5.0</td>\n",
       "      <td>19.0</td>\n",
       "    </tr>\n",
       "    <tr>\n",
       "      <th>ALAMANCE035</th>\n",
       "      <td>1442.0</td>\n",
       "      <td>1042.0</td>\n",
       "      <td>1485.0</td>\n",
       "      <td>77.0</td>\n",
       "      <td>995.0</td>\n",
       "      <td>0.0</td>\n",
       "      <td>14.0</td>\n",
       "      <td>13.0</td>\n",
       "    </tr>\n",
       "    <tr>\n",
       "      <th>ALAMANCE03C</th>\n",
       "      <td>1094.0</td>\n",
       "      <td>720.0</td>\n",
       "      <td>1059.0</td>\n",
       "      <td>64.0</td>\n",
       "      <td>679.0</td>\n",
       "      <td>0.0</td>\n",
       "      <td>5.0</td>\n",
       "      <td>28.0</td>\n",
       "    </tr>\n",
       "    <tr>\n",
       "      <th>ALAMANCE03N</th>\n",
       "      <td>1198.0</td>\n",
       "      <td>1008.0</td>\n",
       "      <td>1160.0</td>\n",
       "      <td>66.0</td>\n",
       "      <td>1036.0</td>\n",
       "      <td>0.0</td>\n",
       "      <td>12.0</td>\n",
       "      <td>23.0</td>\n",
       "    </tr>\n",
       "  </tbody>\n",
       "</table>\n",
       "</div>"
      ],
      "text/plain": [
       "                     total_votes                                          \\\n",
       "contest_name NC ATTORNEY GENERAL               US PRESIDENT                \n",
       "candidate            Buck Newton Josh Stein Donald J. Trump Gary Johnson   \n",
       "county_pct                                                                 \n",
       "ALAMANCE01                1784.0      519.0          1865.0         50.0   \n",
       "ALAMANCE02                1909.0      497.0          2004.0         40.0   \n",
       "ALAMANCE035               1442.0     1042.0          1485.0         77.0   \n",
       "ALAMANCE03C               1094.0      720.0          1059.0         64.0   \n",
       "ALAMANCE03N               1198.0     1008.0          1160.0         66.0   \n",
       "\n",
       "                                                                          \\\n",
       "contest_name                                                               \n",
       "candidate    Hillary Clinton JIll Stein (Write-In) Jill Stein (Write-In)   \n",
       "county_pct                                                                 \n",
       "ALAMANCE01             411.0                   0.0                  10.0   \n",
       "ALAMANCE02             403.0                   0.0                   5.0   \n",
       "ALAMANCE035            995.0                   0.0                  14.0   \n",
       "ALAMANCE03C            679.0                   0.0                   5.0   \n",
       "ALAMANCE03N           1036.0                   0.0                  12.0   \n",
       "\n",
       "                                       \n",
       "contest_name                           \n",
       "candidate    Write-In (Miscellaneous)  \n",
       "county_pct                             \n",
       "ALAMANCE01                       15.0  \n",
       "ALAMANCE02                       19.0  \n",
       "ALAMANCE035                      13.0  \n",
       "ALAMANCE03C                      28.0  \n",
       "ALAMANCE03N                      23.0  "
      ]
     },
     "execution_count": 10,
     "metadata": {},
     "output_type": "execute_result"
    }
   ],
   "source": [
    "results_pivot.fillna(value=0, method=None, axis=None, inplace=True, limit=None, downcast=None)\n",
    "results_pivot.head()"
   ]
  },
  {
   "cell_type": "markdown",
   "metadata": {},
   "source": [
    "Now we add new columns that sum across contest_name"
   ]
  },
  {
   "cell_type": "code",
   "execution_count": 11,
   "metadata": {
    "collapsed": false
   },
   "outputs": [
    {
     "data": {
      "text/html": [
       "<div>\n",
       "<table border=\"1\" class=\"dataframe\">\n",
       "  <thead>\n",
       "    <tr>\n",
       "      <th></th>\n",
       "      <th colspan=\"8\" halign=\"left\">total_votes</th>\n",
       "      <th>contest_total_ag</th>\n",
       "      <th>contest_total_president</th>\n",
       "    </tr>\n",
       "    <tr>\n",
       "      <th>contest_name</th>\n",
       "      <th colspan=\"2\" halign=\"left\">NC ATTORNEY GENERAL</th>\n",
       "      <th colspan=\"6\" halign=\"left\">US PRESIDENT</th>\n",
       "      <th></th>\n",
       "      <th></th>\n",
       "    </tr>\n",
       "    <tr>\n",
       "      <th>candidate</th>\n",
       "      <th>Buck Newton</th>\n",
       "      <th>Josh Stein</th>\n",
       "      <th>Donald J. Trump</th>\n",
       "      <th>Gary Johnson</th>\n",
       "      <th>Hillary Clinton</th>\n",
       "      <th>JIll Stein (Write-In)</th>\n",
       "      <th>Jill Stein (Write-In)</th>\n",
       "      <th>Write-In (Miscellaneous)</th>\n",
       "      <th></th>\n",
       "      <th></th>\n",
       "    </tr>\n",
       "    <tr>\n",
       "      <th>county_pct</th>\n",
       "      <th></th>\n",
       "      <th></th>\n",
       "      <th></th>\n",
       "      <th></th>\n",
       "      <th></th>\n",
       "      <th></th>\n",
       "      <th></th>\n",
       "      <th></th>\n",
       "      <th></th>\n",
       "      <th></th>\n",
       "    </tr>\n",
       "  </thead>\n",
       "  <tbody>\n",
       "    <tr>\n",
       "      <th>ALAMANCE01</th>\n",
       "      <td>1784.0</td>\n",
       "      <td>519.0</td>\n",
       "      <td>1865.0</td>\n",
       "      <td>50.0</td>\n",
       "      <td>411.0</td>\n",
       "      <td>0.0</td>\n",
       "      <td>10.0</td>\n",
       "      <td>15.0</td>\n",
       "      <td>2303.0</td>\n",
       "      <td>2351.0</td>\n",
       "    </tr>\n",
       "    <tr>\n",
       "      <th>ALAMANCE02</th>\n",
       "      <td>1909.0</td>\n",
       "      <td>497.0</td>\n",
       "      <td>2004.0</td>\n",
       "      <td>40.0</td>\n",
       "      <td>403.0</td>\n",
       "      <td>0.0</td>\n",
       "      <td>5.0</td>\n",
       "      <td>19.0</td>\n",
       "      <td>2406.0</td>\n",
       "      <td>2471.0</td>\n",
       "    </tr>\n",
       "    <tr>\n",
       "      <th>ALAMANCE035</th>\n",
       "      <td>1442.0</td>\n",
       "      <td>1042.0</td>\n",
       "      <td>1485.0</td>\n",
       "      <td>77.0</td>\n",
       "      <td>995.0</td>\n",
       "      <td>0.0</td>\n",
       "      <td>14.0</td>\n",
       "      <td>13.0</td>\n",
       "      <td>2484.0</td>\n",
       "      <td>2584.0</td>\n",
       "    </tr>\n",
       "    <tr>\n",
       "      <th>ALAMANCE03C</th>\n",
       "      <td>1094.0</td>\n",
       "      <td>720.0</td>\n",
       "      <td>1059.0</td>\n",
       "      <td>64.0</td>\n",
       "      <td>679.0</td>\n",
       "      <td>0.0</td>\n",
       "      <td>5.0</td>\n",
       "      <td>28.0</td>\n",
       "      <td>1814.0</td>\n",
       "      <td>1835.0</td>\n",
       "    </tr>\n",
       "    <tr>\n",
       "      <th>ALAMANCE03N</th>\n",
       "      <td>1198.0</td>\n",
       "      <td>1008.0</td>\n",
       "      <td>1160.0</td>\n",
       "      <td>66.0</td>\n",
       "      <td>1036.0</td>\n",
       "      <td>0.0</td>\n",
       "      <td>12.0</td>\n",
       "      <td>23.0</td>\n",
       "      <td>2206.0</td>\n",
       "      <td>2297.0</td>\n",
       "    </tr>\n",
       "  </tbody>\n",
       "</table>\n",
       "</div>"
      ],
      "text/plain": [
       "                     total_votes                                          \\\n",
       "contest_name NC ATTORNEY GENERAL               US PRESIDENT                \n",
       "candidate            Buck Newton Josh Stein Donald J. Trump Gary Johnson   \n",
       "county_pct                                                                 \n",
       "ALAMANCE01                1784.0      519.0          1865.0         50.0   \n",
       "ALAMANCE02                1909.0      497.0          2004.0         40.0   \n",
       "ALAMANCE035               1442.0     1042.0          1485.0         77.0   \n",
       "ALAMANCE03C               1094.0      720.0          1059.0         64.0   \n",
       "ALAMANCE03N               1198.0     1008.0          1160.0         66.0   \n",
       "\n",
       "                                                                          \\\n",
       "contest_name                                                               \n",
       "candidate    Hillary Clinton JIll Stein (Write-In) Jill Stein (Write-In)   \n",
       "county_pct                                                                 \n",
       "ALAMANCE01             411.0                   0.0                  10.0   \n",
       "ALAMANCE02             403.0                   0.0                   5.0   \n",
       "ALAMANCE035            995.0                   0.0                  14.0   \n",
       "ALAMANCE03C            679.0                   0.0                   5.0   \n",
       "ALAMANCE03N           1036.0                   0.0                  12.0   \n",
       "\n",
       "                                      contest_total_ag contest_total_president  \n",
       "contest_name                                                                    \n",
       "candidate    Write-In (Miscellaneous)                                           \n",
       "county_pct                                                                      \n",
       "ALAMANCE01                       15.0           2303.0                  2351.0  \n",
       "ALAMANCE02                       19.0           2406.0                  2471.0  \n",
       "ALAMANCE035                      13.0           2484.0                  2584.0  \n",
       "ALAMANCE03C                      28.0           1814.0                  1835.0  \n",
       "ALAMANCE03N                      23.0           2206.0                  2297.0  "
      ]
     },
     "execution_count": 11,
     "metadata": {},
     "output_type": "execute_result"
    }
   ],
   "source": [
    "results_pivot[['contest_total_ag', 'contest_total_president']] = results_pivot['total_votes'].sum(axis=1, level=0)\n",
    "results_pivot.head()"
   ]
  },
  {
   "cell_type": "code",
   "execution_count": 12,
   "metadata": {
    "collapsed": false
   },
   "outputs": [],
   "source": [
    "results_pivot['fraction_newton'] = results_pivot['total_votes', 'NC ATTORNEY GENERAL','Buck Newton']/results_pivot['contest_total_ag']\n",
    "results_pivot['fraction_trump'] = results_pivot['total_votes', 'US PRESIDENT','Donald J. Trump']/results_pivot['contest_total_president']"
   ]
  },
  {
   "cell_type": "markdown",
   "metadata": {
    "collapsed": false
   },
   "source": [
    "Subset the dataframe to keep only the needed columns"
   ]
  },
  {
   "cell_type": "code",
   "execution_count": 13,
   "metadata": {
    "collapsed": false
   },
   "outputs": [
    {
     "data": {
      "text/html": [
       "<div>\n",
       "<table border=\"1\" class=\"dataframe\">\n",
       "  <thead>\n",
       "    <tr>\n",
       "      <th></th>\n",
       "      <th colspan=\"8\" halign=\"left\">total_votes</th>\n",
       "      <th>contest_total_ag</th>\n",
       "      <th>contest_total_president</th>\n",
       "      <th>fraction_newton</th>\n",
       "      <th>fraction_trump</th>\n",
       "    </tr>\n",
       "    <tr>\n",
       "      <th>contest_name</th>\n",
       "      <th colspan=\"2\" halign=\"left\">NC ATTORNEY GENERAL</th>\n",
       "      <th colspan=\"6\" halign=\"left\">US PRESIDENT</th>\n",
       "      <th></th>\n",
       "      <th></th>\n",
       "      <th></th>\n",
       "      <th></th>\n",
       "    </tr>\n",
       "    <tr>\n",
       "      <th>candidate</th>\n",
       "      <th>Buck Newton</th>\n",
       "      <th>Josh Stein</th>\n",
       "      <th>Donald J. Trump</th>\n",
       "      <th>Gary Johnson</th>\n",
       "      <th>Hillary Clinton</th>\n",
       "      <th>JIll Stein (Write-In)</th>\n",
       "      <th>Jill Stein (Write-In)</th>\n",
       "      <th>Write-In (Miscellaneous)</th>\n",
       "      <th></th>\n",
       "      <th></th>\n",
       "      <th></th>\n",
       "      <th></th>\n",
       "    </tr>\n",
       "    <tr>\n",
       "      <th>county_pct</th>\n",
       "      <th></th>\n",
       "      <th></th>\n",
       "      <th></th>\n",
       "      <th></th>\n",
       "      <th></th>\n",
       "      <th></th>\n",
       "      <th></th>\n",
       "      <th></th>\n",
       "      <th></th>\n",
       "      <th></th>\n",
       "      <th></th>\n",
       "      <th></th>\n",
       "    </tr>\n",
       "  </thead>\n",
       "  <tbody>\n",
       "    <tr>\n",
       "      <th>ALAMANCE01</th>\n",
       "      <td>1784.0</td>\n",
       "      <td>519.0</td>\n",
       "      <td>1865.0</td>\n",
       "      <td>50.0</td>\n",
       "      <td>411.0</td>\n",
       "      <td>0.0</td>\n",
       "      <td>10.0</td>\n",
       "      <td>15.0</td>\n",
       "      <td>2303.0</td>\n",
       "      <td>2351.0</td>\n",
       "      <td>0.774642</td>\n",
       "      <td>0.793279</td>\n",
       "    </tr>\n",
       "    <tr>\n",
       "      <th>ALAMANCE02</th>\n",
       "      <td>1909.0</td>\n",
       "      <td>497.0</td>\n",
       "      <td>2004.0</td>\n",
       "      <td>40.0</td>\n",
       "      <td>403.0</td>\n",
       "      <td>0.0</td>\n",
       "      <td>5.0</td>\n",
       "      <td>19.0</td>\n",
       "      <td>2406.0</td>\n",
       "      <td>2471.0</td>\n",
       "      <td>0.793433</td>\n",
       "      <td>0.811008</td>\n",
       "    </tr>\n",
       "    <tr>\n",
       "      <th>ALAMANCE035</th>\n",
       "      <td>1442.0</td>\n",
       "      <td>1042.0</td>\n",
       "      <td>1485.0</td>\n",
       "      <td>77.0</td>\n",
       "      <td>995.0</td>\n",
       "      <td>0.0</td>\n",
       "      <td>14.0</td>\n",
       "      <td>13.0</td>\n",
       "      <td>2484.0</td>\n",
       "      <td>2584.0</td>\n",
       "      <td>0.580515</td>\n",
       "      <td>0.574690</td>\n",
       "    </tr>\n",
       "    <tr>\n",
       "      <th>ALAMANCE03C</th>\n",
       "      <td>1094.0</td>\n",
       "      <td>720.0</td>\n",
       "      <td>1059.0</td>\n",
       "      <td>64.0</td>\n",
       "      <td>679.0</td>\n",
       "      <td>0.0</td>\n",
       "      <td>5.0</td>\n",
       "      <td>28.0</td>\n",
       "      <td>1814.0</td>\n",
       "      <td>1835.0</td>\n",
       "      <td>0.603087</td>\n",
       "      <td>0.577112</td>\n",
       "    </tr>\n",
       "    <tr>\n",
       "      <th>ALAMANCE03N</th>\n",
       "      <td>1198.0</td>\n",
       "      <td>1008.0</td>\n",
       "      <td>1160.0</td>\n",
       "      <td>66.0</td>\n",
       "      <td>1036.0</td>\n",
       "      <td>0.0</td>\n",
       "      <td>12.0</td>\n",
       "      <td>23.0</td>\n",
       "      <td>2206.0</td>\n",
       "      <td>2297.0</td>\n",
       "      <td>0.543064</td>\n",
       "      <td>0.505007</td>\n",
       "    </tr>\n",
       "  </tbody>\n",
       "</table>\n",
       "</div>"
      ],
      "text/plain": [
       "                     total_votes                                          \\\n",
       "contest_name NC ATTORNEY GENERAL               US PRESIDENT                \n",
       "candidate            Buck Newton Josh Stein Donald J. Trump Gary Johnson   \n",
       "county_pct                                                                 \n",
       "ALAMANCE01                1784.0      519.0          1865.0         50.0   \n",
       "ALAMANCE02                1909.0      497.0          2004.0         40.0   \n",
       "ALAMANCE035               1442.0     1042.0          1485.0         77.0   \n",
       "ALAMANCE03C               1094.0      720.0          1059.0         64.0   \n",
       "ALAMANCE03N               1198.0     1008.0          1160.0         66.0   \n",
       "\n",
       "                                                                          \\\n",
       "contest_name                                                               \n",
       "candidate    Hillary Clinton JIll Stein (Write-In) Jill Stein (Write-In)   \n",
       "county_pct                                                                 \n",
       "ALAMANCE01             411.0                   0.0                  10.0   \n",
       "ALAMANCE02             403.0                   0.0                   5.0   \n",
       "ALAMANCE035            995.0                   0.0                  14.0   \n",
       "ALAMANCE03C            679.0                   0.0                   5.0   \n",
       "ALAMANCE03N           1036.0                   0.0                  12.0   \n",
       "\n",
       "                                      contest_total_ag  \\\n",
       "contest_name                                             \n",
       "candidate    Write-In (Miscellaneous)                    \n",
       "county_pct                                               \n",
       "ALAMANCE01                       15.0           2303.0   \n",
       "ALAMANCE02                       19.0           2406.0   \n",
       "ALAMANCE035                      13.0           2484.0   \n",
       "ALAMANCE03C                      28.0           1814.0   \n",
       "ALAMANCE03N                      23.0           2206.0   \n",
       "\n",
       "             contest_total_president fraction_newton fraction_trump  \n",
       "contest_name                                                         \n",
       "candidate                                                            \n",
       "county_pct                                                           \n",
       "ALAMANCE01                    2351.0        0.774642       0.793279  \n",
       "ALAMANCE02                    2471.0        0.793433       0.811008  \n",
       "ALAMANCE035                   2584.0        0.580515       0.574690  \n",
       "ALAMANCE03C                   1835.0        0.603087       0.577112  \n",
       "ALAMANCE03N                   2297.0        0.543064       0.505007  "
      ]
     },
     "execution_count": 13,
     "metadata": {},
     "output_type": "execute_result"
    }
   ],
   "source": [
    "results_pivot.head()"
   ]
  },
  {
   "cell_type": "markdown",
   "metadata": {},
   "source": [
    "Create clean dataframe to convert to csv"
   ]
  },
  {
   "cell_type": "code",
   "execution_count": 14,
   "metadata": {
    "collapsed": false
   },
   "outputs": [],
   "source": [
    "results_pivot['county_pct'] = results_pivot.index\n",
    "results_df = results_pivot[['county_pct','fraction_newton','fraction_trump']]\n",
    "results_df.to_csv('results.csv')\n"
   ]
  },
  {
   "cell_type": "code",
   "execution_count": 15,
   "metadata": {
    "collapsed": false
   },
   "outputs": [
    {
     "name": "stdout",
     "output_type": "stream",
     "text": [
      "               county_pct fraction_newton fraction_trump\n",
      "contest_name                                            \n",
      "candidate                                               \n",
      "county_pct                                              \n",
      "ALAMANCE01     ALAMANCE01        0.774642       0.793279\n",
      "ALAMANCE02     ALAMANCE02        0.793433       0.811008\n",
      "ALAMANCE035   ALAMANCE035        0.580515       0.574690\n",
      "ALAMANCE03C   ALAMANCE03C        0.603087       0.577112\n",
      "ALAMANCE03N   ALAMANCE03N        0.543064       0.505007\n"
     ]
    }
   ],
   "source": [
    "print results_df.head()"
   ]
  }
 ],
 "metadata": {
  "celltoolbar": "Raw Cell Format",
  "kernelspec": {
   "display_name": "Python 2",
   "language": "python",
   "name": "python2"
  },
  "language_info": {
   "codemirror_mode": {
    "name": "ipython",
    "version": 2
   },
   "file_extension": ".py",
   "mimetype": "text/x-python",
   "name": "python",
   "nbconvert_exporter": "python",
   "pygments_lexer": "ipython2",
   "version": "2.7.13"
  }
 },
 "nbformat": 4,
 "nbformat_minor": 0
}
