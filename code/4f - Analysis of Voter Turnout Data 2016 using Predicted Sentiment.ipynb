{
 "cells": [
  {
   "cell_type": "markdown",
   "metadata": {},
   "source": [
    "##  We're now going to read the turnout data, make predictions, and analyze turnout by precinct for 2016 based upon voter peferences"
   ]
  },
  {
   "cell_type": "code",
   "execution_count": 1,
   "metadata": {
    "collapsed": false
   },
   "outputs": [],
   "source": [
    "#First set everthing up\n",
    "import pyodbc\n",
    "import graphlab as gl\n",
    "import pandas as pd\n",
    "import matplotlib.pyplot as plt\n",
    "import numpy as np\n",
    "import datetime\n",
    "import local #server information and credentials\n",
    "from pullODBC import pullODBC\n",
    "from pullODBCall import pullODBCall\n",
    "from matplotlib.backends.backend_pdf import PdfPages\n",
    "from __future__ import division # convert integer division to floating point\n",
    "%matplotlib inline\n",
    "plt.style.use('seaborn-white')\n",
    "plt.rcParams['font.size'] = 7\n",
    "plt.tight_layout;\n",
    "plt.rc('xtick', labelsize=7) \n",
    "plt.rc('ytick', labelsize=7) "
   ]
  },
  {
   "cell_type": "markdown",
   "metadata": {},
   "source": [
    "### Section A: Analyzing Turnout by Precinct for Voters Affiliated with a Party"
   ]
  },
  {
   "cell_type": "markdown",
   "metadata": {},
   "source": [
    "Read in the csv for the combined data: county, precinct, party code, and 2106 turnout"
   ]
  },
  {
   "cell_type": "code",
   "execution_count": 2,
   "metadata": {
    "collapsed": false
   },
   "outputs": [
    {
     "name": "stderr",
     "output_type": "stream",
     "text": [
      "C:\\Users\\Scott\\Anaconda2\\envs\\gl-env\\lib\\site-packages\\IPython\\core\\interactiveshell.py:2723: DtypeWarning: Columns (13) have mixed types. Specify dtype option on import or set low_memory=False.\n",
      "  interactivity=interactivity, compiler=compiler, result=result)\n"
     ]
    }
   ],
   "source": [
    "combined = pd.read_csv('C:/voter/combined.csv', low_memory=True) # use the latest dataset so we can predict"
   ]
  },
  {
   "cell_type": "code",
   "execution_count": 3,
   "metadata": {
    "collapsed": false
   },
   "outputs": [
    {
     "name": "stdout",
     "output_type": "stream",
     "text": [
      "6759456\n"
     ]
    }
   ],
   "source": [
    "print len(combined)"
   ]
  },
  {
   "cell_type": "code",
   "execution_count": 4,
   "metadata": {
    "collapsed": false
   },
   "outputs": [
    {
     "name": "stdout",
     "output_type": "stream",
     "text": [
      "4736106.0\n"
     ]
    }
   ],
   "source": [
    "print combined['2016'].sum()"
   ]
  },
  {
   "cell_type": "markdown",
   "metadata": {},
   "source": [
    "Print out the columns of this dataframe"
   ]
  },
  {
   "cell_type": "code",
   "execution_count": 5,
   "metadata": {
    "collapsed": false
   },
   "outputs": [
    {
     "name": "stdout",
     "output_type": "stream",
     "text": [
      "Index([u'Unnamed: 0', u'birth_age', u'gender_code', u'race_code',\n",
      "       u'ethnic_code', u'party_cd', u'status_cd', u'zip_code', u'birth_state',\n",
      "       u'drivers_lic', u'county_desc', u'registr_dt', u'ncid',\n",
      "       u'precinct_abbrv', u'Unnamed: 0.1', u'2007', u'2008', u'2009', u'2010',\n",
      "       u'2011', u'2012', u'2013', u'2014', u'2015', u'2016', u'2018'],\n",
      "      dtype='object')\n"
     ]
    }
   ],
   "source": [
    "print combined.columns"
   ]
  },
  {
   "cell_type": "markdown",
   "metadata": {},
   "source": [
    "Let's get rid of two of the columns added during the merge: 'Unnamed: 0' and 'Unnamed: 0.1'"
   ]
  },
  {
   "cell_type": "code",
   "execution_count": 6,
   "metadata": {
    "collapsed": true
   },
   "outputs": [],
   "source": [
    "combined.drop(['Unnamed: 0.1', 'Unnamed: 0'], axis=1, level=None, inplace=True, errors='raise')"
   ]
  },
  {
   "cell_type": "markdown",
   "metadata": {},
   "source": [
    "Let's count the rows and put the number into raw_len"
   ]
  },
  {
   "cell_type": "code",
   "execution_count": 7,
   "metadata": {
    "collapsed": true
   },
   "outputs": [],
   "source": [
    "raw_len = len(combined)"
   ]
  },
  {
   "cell_type": "markdown",
   "metadata": {},
   "source": [
    "We need to predict sentiment and add columns to reflect this.  Let's create a function to help calculate years since registered."
   ]
  },
  {
   "cell_type": "code",
   "execution_count": 8,
   "metadata": {
    "collapsed": false
   },
   "outputs": [],
   "source": [
    "def convert_to_float(x): # function to convert a timedelta object to a float of years\n",
    "    return x.total_seconds()/(60*60*24*365.2422)"
   ]
  },
  {
   "cell_type": "code",
   "execution_count": 9,
   "metadata": {
    "collapsed": false
   },
   "outputs": [],
   "source": [
    "combined['birth_age'] = combined['birth_age'].astype('float64')\n",
    "combined['registr_dt'] = pd.to_datetime(combined['registr_dt'])"
   ]
  },
  {
   "cell_type": "markdown",
   "metadata": {},
   "source": [
    "Now, we create the interaction variables"
   ]
  },
  {
   "cell_type": "code",
   "execution_count": 10,
   "metadata": {
    "collapsed": false
   },
   "outputs": [],
   "source": [
    "combined['race_gender'] = combined['race_code'] + combined ['gender_code']\n",
    "combined['race_ethnicity'] = combined['race_code'] + combined['ethnic_code']\n",
    "combined['gender_ethnicity'] = combined['gender_code'] + combined ['ethnic_code']\n",
    "combined['age_squared'] = (combined['birth_age'])**2\n",
    "combined['age_cubed'] = (combined['birth_age'])**3\n",
    "now = pd.to_datetime('today') # get today's data\n",
    "combined['years_since_registration'] = now - combined['registr_dt'] # get days since registration as a timedelta object\n",
    "combined['years_since_registration'] = combined['years_since_registration'].apply(convert_to_float) # convert to float\n",
    "combined['years_squared'] = (combined['years_since_registration'])**2\n",
    "combined['years_cubed'] = (combined['years_since_registration'])**3\n",
    "combined = combined.drop(['race_code', 'gender_code', 'ethnic_code'], 1) # We no longer need these"
   ]
  },
  {
   "cell_type": "markdown",
   "metadata": {},
   "source": [
    "Next, remove the rows with invalid ages and registration dates"
   ]
  },
  {
   "cell_type": "code",
   "execution_count": 11,
   "metadata": {
    "collapsed": true
   },
   "outputs": [],
   "source": [
    "combined = combined[(combined['birth_age'] <= 99) & (combined['years_since_registration'] <= 61)]"
   ]
  },
  {
   "cell_type": "markdown",
   "metadata": {},
   "source": [
    "Now, we need to change values in all 'year' fields to numeric.  We start by using pd.to_numeric for each column, coercing all non-convertable columns to NaN"
   ]
  },
  {
   "cell_type": "code",
   "execution_count": 12,
   "metadata": {
    "collapsed": true
   },
   "outputs": [],
   "source": [
    "for col in ['2007', '2008', '2009', '2010', '2011', '2012', '2013', '2014', '2015', '2016','2018']:\n",
    "    combined[col] = pd.to_numeric(combined[col], errors='coerce')"
   ]
  },
  {
   "cell_type": "markdown",
   "metadata": {},
   "source": [
    "We now have NaN values in some of the 'year' columns.  We now need to change these all to 0."
   ]
  },
  {
   "cell_type": "code",
   "execution_count": 13,
   "metadata": {
    "collapsed": true
   },
   "outputs": [],
   "source": [
    "def clean_NaN(x):\n",
    "    if pd.isnull(x):\n",
    "        return 0\n",
    "    else:\n",
    "        return x"
   ]
  },
  {
   "cell_type": "code",
   "execution_count": 14,
   "metadata": {
    "collapsed": false
   },
   "outputs": [],
   "source": [
    "for col in ['2007', '2008', '2009', '2010', '2011', '2012', '2013', '2014', '2015', '2016','2018']:\n",
    "    combined[col] = combined[col].apply(clean_NaN)"
   ]
  },
  {
   "cell_type": "markdown",
   "metadata": {},
   "source": [
    "Convert precinct_desc to a string"
   ]
  },
  {
   "cell_type": "code",
   "execution_count": 16,
   "metadata": {
    "collapsed": false
   },
   "outputs": [],
   "source": [
    "combined['precinct_abbrv']= combined['precinct_abbrv'].astype('str')"
   ]
  },
  {
   "cell_type": "code",
   "execution_count": 17,
   "metadata": {
    "collapsed": false
   },
   "outputs": [
    {
     "name": "stdout",
     "output_type": "stream",
     "text": [
      "This non-commercial license of GraphLab Create for academic use is assigned to scottsmi@live.unc.edu and will expire on May 15, 2018.\n"
     ]
    },
    {
     "name": "stderr",
     "output_type": "stream",
     "text": [
      "[INFO] graphlab.cython.cy_server: GraphLab Create v2.1 started. Logging: C:\\Users\\Scott\\AppData\\Local\\Temp\\graphlab_server_1500990486.log.0\n"
     ]
    }
   ],
   "source": [
    "# For prediction, we need to convert our data into a GraphLab SFrame\n",
    "combinedS=gl.SFrame(combined)"
   ]
  },
  {
   "cell_type": "markdown",
   "metadata": {},
   "source": [
    "Load model file for predictions"
   ]
  },
  {
   "cell_type": "code",
   "execution_count": 18,
   "metadata": {
    "collapsed": true
   },
   "outputs": [],
   "source": [
    "model = gl.load_model('party_model_file')"
   ]
  },
  {
   "cell_type": "markdown",
   "metadata": {
    "collapsed": true
   },
   "source": [
    "Let's create two new functions to make predictions based upon a specific threshold (our new decision boundary)"
   ]
  },
  {
   "cell_type": "code",
   "execution_count": 19,
   "metadata": {
    "collapsed": true
   },
   "outputs": [],
   "source": [
    "def return_actual_or_predicted_party(x): # This function returns the party if affiliated, if not returns the predicted party\n",
    "    if x['party_cd'] == \"DEM\":\n",
    "        return\"DEM\"\n",
    "    elif x['party_cd'] == \"REP\":\n",
    "        return \"REP\"\n",
    "    elif x['predict_positive'] == True:\n",
    "        return \"REP\"\n",
    "    else:\n",
    "        return \"DEM\"\n",
    "    \n",
    "\n",
    "def get_model_predictions(model, sframe, threshold):\n",
    "    sframe['percent'] = model.predict(sframe, output_type='probability') # add a column with the model generated probabilities\n",
    "    sframe['predict_positive'] = sframe['percent'] >= threshold # add a column that contains 'true' if a positive is predicted, a false otherwise\n",
    "    sframe['actual_or_predicted']= sframe.apply(return_actual_or_predicted_party)# add this column to contain the actual or predicted party preference\n",
    "    return sframe"
   ]
  },
  {
   "cell_type": "markdown",
   "metadata": {},
   "source": [
    "Let's make predictions for the entire state of North Carolina"
   ]
  },
  {
   "cell_type": "code",
   "execution_count": 20,
   "metadata": {
    "collapsed": false
   },
   "outputs": [],
   "source": [
    "new_sframe = get_model_predictions(model, combinedS, 0.56)"
   ]
  },
  {
   "cell_type": "markdown",
   "metadata": {},
   "source": [
    "Now convert back to a pandas dataframe"
   ]
  },
  {
   "cell_type": "code",
   "execution_count": 21,
   "metadata": {
    "collapsed": true
   },
   "outputs": [],
   "source": [
    "combined = new_sframe.to_dataframe()"
   ]
  },
  {
   "cell_type": "markdown",
   "metadata": {},
   "source": [
    "Creat a custom aggfunc to count the percentage of rows with '1' in column '2016'"
   ]
  },
  {
   "cell_type": "code",
   "execution_count": 22,
   "metadata": {
    "collapsed": true
   },
   "outputs": [],
   "source": [
    "def percent_non_zero(x):\n",
    "    frac = np.sum(x)/np.size(x)\n",
    "    return(frac)"
   ]
  },
  {
   "cell_type": "markdown",
   "metadata": {},
   "source": [
    "Create a Pivot Table with index of county, precinct and columns party_cd and aggregation 2016"
   ]
  },
  {
   "cell_type": "code",
   "execution_count": 23,
   "metadata": {
    "collapsed": false
   },
   "outputs": [],
   "source": [
    "registered_by_precinct = pd.pivot_table(combined, index=['county_desc','precinct_abbrv'], values=['2016'],  \n",
    "                                 aggfunc=percent_non_zero, columns=['actual_or_predicted'], margins = False) \n"
   ]
  },
  {
   "cell_type": "code",
   "execution_count": 24,
   "metadata": {
    "collapsed": false
   },
   "outputs": [
    {
     "data": {
      "text/plain": [
       "Index([u'county_desc', u'precinct_abbrv', u'('2016', 'DEM')',\n",
       "       u'('2016', 'REP')'],\n",
       "      dtype='object')"
      ]
     },
     "execution_count": 24,
     "metadata": {},
     "output_type": "execute_result"
    }
   ],
   "source": [
    "pd.options.display.float_format = '{:.1%}'.format #display as percentages\n",
    "new_dataframe = pd.DataFrame.from_records(registered_by_precinct.to_records())\n",
    "new_dataframe.columns\n",
    "\n",
    "\n"
   ]
  },
  {
   "cell_type": "code",
   "execution_count": 25,
   "metadata": {
    "collapsed": false
   },
   "outputs": [],
   "source": [
    "new_dataframe.to_csv('C:/voter/turnout_predicted.csv')"
   ]
  },
  {
   "cell_type": "code",
   "execution_count": 29,
   "metadata": {
    "collapsed": false
   },
   "outputs": [
    {
     "name": "stdout",
     "output_type": "stream",
     "text": [
      "Index([u'county_desc', u'precinct_abbrv', u'('2016', 'DEM')',\n",
      "       u'('2016', 'REP')'],\n",
      "      dtype='object')\n"
     ]
    }
   ],
   "source": [
    "print new_dataframe.columns"
   ]
  },
  {
   "cell_type": "code",
   "execution_count": 31,
   "metadata": {
    "collapsed": false
   },
   "outputs": [],
   "source": [
    "new_dataframe = new_dataframe.groupby(['county_desc', 'precinct_abbrv'])[\"('2016', 'REP')\", \"('2016', 'DEM')\"].mean()"
   ]
  },
  {
   "cell_type": "code",
   "execution_count": 33,
   "metadata": {
    "collapsed": false
   },
   "outputs": [],
   "source": [
    "new_dataframe = new_dataframe.rename(columns = {\"('2016', 'DEM')\" : \"DEM\", \n",
    "                                                \"('2016', 'REP')\" : \"REP\"\n",
    "                                                })"
   ]
  },
  {
   "cell_type": "code",
   "execution_count": 37,
   "metadata": {
    "collapsed": false
   },
   "outputs": [],
   "source": [
    "by_republican = new_dataframe.sort_values('REP', axis=0, ascending=False, inplace=False, kind='quicksort', na_position='last')\n",
    "by_democrat = new_dataframe.sort_values('DEM', axis=0, ascending=False, inplace=False, kind='quicksort', na_position='last')"
   ]
  },
  {
   "cell_type": "code",
   "execution_count": 39,
   "metadata": {
    "collapsed": false
   },
   "outputs": [
    {
     "name": "stdout",
     "output_type": "stream",
     "text": [
      "Writing 'by_democrat' (DataFrame) to file 'precinct_turnout_prediction_sorted_democrat.txt'.\n",
      "Writing 'by_republican' (DataFrame) to file 'precinct_turnout_prediction_sorted_republican.txt'.\n"
     ]
    }
   ],
   "source": [
    "pd.set_option('max_rows', 2000)\n",
    "%store by_democrat > precinct_turnout_prediction_sorted_democrat.txt\n",
    "%store by_republican > precinct_turnout_prediction_sorted_republican.txt"
   ]
  },
  {
   "cell_type": "code",
   "execution_count": null,
   "metadata": {
    "collapsed": true
   },
   "outputs": [],
   "source": []
  }
 ],
 "metadata": {
  "celltoolbar": "Raw Cell Format",
  "kernelspec": {
   "display_name": "Python 2",
   "language": "python",
   "name": "python2"
  },
  "language_info": {
   "codemirror_mode": {
    "name": "ipython",
    "version": 2
   },
   "file_extension": ".py",
   "mimetype": "text/x-python",
   "name": "python",
   "nbconvert_exporter": "python",
   "pygments_lexer": "ipython2",
   "version": "2.7.13"
  }
 },
 "nbformat": 4,
 "nbformat_minor": 0
}
