{
 "cells": [
  {
   "cell_type": "markdown",
   "metadata": {},
   "source": [
    "##  We're now going to read the turnout data and analyze turnout by precinct for only 2012"
   ]
  },
  {
   "cell_type": "code",
   "execution_count": 1,
   "metadata": {
    "collapsed": false
   },
   "outputs": [],
   "source": [
    "#First set everthing up\n",
    "import pyodbc\n",
    "import graphlab as gl\n",
    "import pandas as pd\n",
    "import matplotlib.pyplot as plt\n",
    "import numpy as np\n",
    "import datetime\n",
    "import local #server information and credentials\n",
    "from pullODBC import pullODBC\n",
    "from pullODBCall import pullODBCall\n",
    "from matplotlib.backends.backend_pdf import PdfPages\n",
    "from __future__ import division # convert integer division to floating point\n",
    "%matplotlib inline\n",
    "plt.style.use('seaborn-white')\n",
    "plt.rcParams['font.size'] = 7\n",
    "plt.tight_layout;\n",
    "plt.rc('xtick', labelsize=7) \n",
    "plt.rc('ytick', labelsize=7) "
   ]
  },
  {
   "cell_type": "markdown",
   "metadata": {},
   "source": [
    "### Section A: Analyzing Turnout by Precinct for Voters Affiliated with a Party"
   ]
  },
  {
   "cell_type": "markdown",
   "metadata": {},
   "source": [
    "Read in the csv for the combined data: county, precinct, party code, and 2106 turnout"
   ]
  },
  {
   "cell_type": "code",
   "execution_count": 2,
   "metadata": {
    "collapsed": false
   },
   "outputs": [
    {
     "name": "stderr",
     "output_type": "stream",
     "text": [
      "C:\\Users\\Scott\\Anaconda2\\envs\\gl-env\\lib\\site-packages\\IPython\\core\\interactiveshell.py:2723: DtypeWarning: Columns (7,12) have mixed types. Specify dtype option on import or set low_memory=False.\n",
      "  interactivity=interactivity, compiler=compiler, result=result)\n"
     ]
    }
   ],
   "source": [
    "combined = pd.read_csv('C:/voter/combined2012.csv', low_memory=True)"
   ]
  },
  {
   "cell_type": "code",
   "execution_count": 3,
   "metadata": {
    "collapsed": false
   },
   "outputs": [
    {
     "name": "stdout",
     "output_type": "stream",
     "text": [
      "6649071\n"
     ]
    }
   ],
   "source": [
    "print len(combined)"
   ]
  },
  {
   "cell_type": "code",
   "execution_count": 4,
   "metadata": {
    "collapsed": false
   },
   "outputs": [
    {
     "name": "stdout",
     "output_type": "stream",
     "text": [
      "4520555.0\n"
     ]
    }
   ],
   "source": [
    "print combined['2012'].sum()"
   ]
  },
  {
   "cell_type": "markdown",
   "metadata": {},
   "source": [
    "Print out the columns of this dataframe"
   ]
  },
  {
   "cell_type": "code",
   "execution_count": 5,
   "metadata": {
    "collapsed": false
   },
   "outputs": [
    {
     "name": "stdout",
     "output_type": "stream",
     "text": [
      "Index([u'Unnamed: 0', u'birth_age', u'gender_code', u'race_code',\n",
      "       u'ethnic_code', u'party_cd', u'status_cd', u'zip_code', u'birth_state',\n",
      "       u'county_desc', u'registr_dt', u'ncid', u'precinct_abbrv',\n",
      "       u'Unnamed: 0.1', u'2007', u'2008', u'2009', u'2010', u'2011', u'2012',\n",
      "       u'2013', u'2014', u'2015', u'2016', u'2018'],\n",
      "      dtype='object')\n"
     ]
    }
   ],
   "source": [
    "print combined.columns"
   ]
  },
  {
   "cell_type": "code",
   "execution_count": 6,
   "metadata": {
    "collapsed": false
   },
   "outputs": [
    {
     "name": "stdout",
     "output_type": "stream",
     "text": [
      "   Unnamed: 0  birth_age gender_code race_code ethnic_code party_cd status_cd  \\\n",
      "0           0       84.0           F       W           NL       DEM        A    \n",
      "1           1       43.0           M       W           NL       REP        A    \n",
      "2           2       51.0           F       W           NL       REP        A    \n",
      "3           3       57.0           M       W           NL       UNA        A    \n",
      "4           4       46.0           F       W           NL       REP        A    \n",
      "\n",
      "  zip_code                     birth_state county_desc  ...  2008 2009 2010  \\\n",
      "0    27215  NC                                ALAMANCE  ...   NaN  NaN  NaN   \n",
      "1    27258  NC                                ALAMANCE  ...   1.0  0.0  1.0   \n",
      "2    27258  TN                                ALAMANCE  ...   1.0  0.0  0.0   \n",
      "3    27217  NC                                ALAMANCE  ...   NaN  NaN  NaN   \n",
      "4    27215  NC                                ALAMANCE  ...   1.0  0.0  1.0   \n",
      "\n",
      "   2011  2012  2013  2014  2015  2016  2018  \n",
      "0   NaN   NaN   NaN   NaN   NaN   NaN   NaN  \n",
      "1   0.0   1.0   0.0   1.0   0.0   0.0   0.0  \n",
      "2   0.0   1.0   0.0   0.0   0.0   1.0   0.0  \n",
      "3   NaN   NaN   NaN   NaN   NaN   NaN   NaN  \n",
      "4   0.0   1.0   0.0   1.0   0.0   1.0   0.0  \n",
      "\n",
      "[5 rows x 25 columns]\n"
     ]
    }
   ],
   "source": [
    "print combined.head()"
   ]
  },
  {
   "cell_type": "markdown",
   "metadata": {},
   "source": [
    "Subset the dataframe to leave only the relevent columns "
   ]
  },
  {
   "cell_type": "code",
   "execution_count": 7,
   "metadata": {
    "collapsed": false
   },
   "outputs": [],
   "source": [
    "turnout = combined.ix[:,['county_desc', 'party_cd', 'precinct_abbrv', '2012']]\n",
    "del combined"
   ]
  },
  {
   "cell_type": "code",
   "execution_count": 8,
   "metadata": {
    "collapsed": false
   },
   "outputs": [
    {
     "name": "stdout",
     "output_type": "stream",
     "text": [
      "  county_desc party_cd precinct_abbrv  2012\n",
      "0    ALAMANCE      DEM         124      NaN\n",
      "1    ALAMANCE      REP         13       1.0\n",
      "2    ALAMANCE      REP         09N      1.0\n",
      "3    ALAMANCE      UNA         04       NaN\n",
      "4    ALAMANCE      REP         02       1.0\n"
     ]
    }
   ],
   "source": [
    "print turnout.head()"
   ]
  },
  {
   "cell_type": "markdown",
   "metadata": {},
   "source": [
    "Creat a custom aggfunc to count the percentage of rows with '1' in column '2016'"
   ]
  },
  {
   "cell_type": "code",
   "execution_count": 9,
   "metadata": {
    "collapsed": true
   },
   "outputs": [],
   "source": [
    "def percent_non_zero(x):\n",
    "    frac = np.sum(x)/np.size(x)\n",
    "    return(frac)"
   ]
  },
  {
   "cell_type": "markdown",
   "metadata": {},
   "source": [
    "Create a Pivot Table with index of county, precinct and columns party_cd and aggregation 2016"
   ]
  },
  {
   "cell_type": "code",
   "execution_count": 10,
   "metadata": {
    "collapsed": false
   },
   "outputs": [],
   "source": [
    "registered_by_precinct = pd.pivot_table(turnout, index=['county_desc','precinct_abbrv'], values=['2012'],  \n",
    "                                 aggfunc=percent_non_zero, columns=['party_cd'], margins = False) \n"
   ]
  },
  {
   "cell_type": "code",
   "execution_count": 15,
   "metadata": {
    "collapsed": false
   },
   "outputs": [
    {
     "name": "stdout",
     "output_type": "stream",
     "text": [
      "  county_desc precinct_abbrv  ('2012', 'DEM')  ('2012', 'LIB')  \\\n",
      "1    ALAMANCE         01                68.3%            90.0%   \n",
      "2    ALAMANCE         02                72.8%            62.5%   \n",
      "3    ALAMANCE         035               60.1%            44.4%   \n",
      "4    ALAMANCE         03C               78.6%           100.0%   \n",
      "5    ALAMANCE         03N               69.5%            66.7%   \n",
      "\n",
      "   ('2012', 'REP')  ('2012', 'UNA')  \n",
      "1            77.0%            59.7%  \n",
      "2            81.3%            66.2%  \n",
      "3            69.4%            49.5%  \n",
      "4            84.2%            71.3%  \n",
      "5            76.8%            60.3%  \n"
     ]
    }
   ],
   "source": [
    "pd.options.display.float_format = '{:.1%}'.format #display as percentages\n",
    "new_dataframe = pd.DataFrame.from_records(registered_by_precinct.to_records())\n",
    "new_dataframe = new_dataframe.iloc[1:]\n",
    "print new_dataframe.head()\n",
    "\n",
    "\n"
   ]
  },
  {
   "cell_type": "code",
   "execution_count": 16,
   "metadata": {
    "collapsed": false
   },
   "outputs": [],
   "source": [
    "new_dataframe.to_csv('C:/voter/turnout2012.csv')"
   ]
  },
  {
   "cell_type": "code",
   "execution_count": 17,
   "metadata": {
    "collapsed": false
   },
   "outputs": [
    {
     "name": "stdout",
     "output_type": "stream",
     "text": [
      "  county_desc precinct_abbrv  ('2012', 'DEM')  ('2012', 'LIB')  \\\n",
      "1    ALAMANCE         01                68.3%            90.0%   \n",
      "2    ALAMANCE         02                72.8%            62.5%   \n",
      "3    ALAMANCE         035               60.1%            44.4%   \n",
      "4    ALAMANCE         03C               78.6%           100.0%   \n",
      "5    ALAMANCE         03N               69.5%            66.7%   \n",
      "\n",
      "   ('2012', 'REP')  ('2012', 'UNA')  \n",
      "1            77.0%            59.7%  \n",
      "2            81.3%            66.2%  \n",
      "3            69.4%            49.5%  \n",
      "4            84.2%            71.3%  \n",
      "5            76.8%            60.3%  \n"
     ]
    }
   ],
   "source": [
    "print new_dataframe.head()"
   ]
  },
  {
   "cell_type": "code",
   "execution_count": null,
   "metadata": {
    "collapsed": true
   },
   "outputs": [],
   "source": []
  }
 ],
 "metadata": {
  "celltoolbar": "Raw Cell Format",
  "kernelspec": {
   "display_name": "Python 2",
   "language": "python",
   "name": "python2"
  },
  "language_info": {
   "codemirror_mode": {
    "name": "ipython",
    "version": 2
   },
   "file_extension": ".py",
   "mimetype": "text/x-python",
   "name": "python",
   "nbconvert_exporter": "python",
   "pygments_lexer": "ipython2",
   "version": "2.7.13"
  }
 },
 "nbformat": 4,
 "nbformat_minor": 0
}
