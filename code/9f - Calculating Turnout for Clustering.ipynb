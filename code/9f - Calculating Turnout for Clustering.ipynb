{
 "cells": [
  {
   "cell_type": "markdown",
   "metadata": {},
   "source": [
    "##  We're going calculate turnout by county/precinct combination to use as 3 dimensions for our clustering work"
   ]
  },
  {
   "cell_type": "code",
   "execution_count": 1,
   "metadata": {
    "collapsed": false
   },
   "outputs": [],
   "source": [
    "#First set everthing up\n",
    "import pyodbc\n",
    "import graphlab as gl\n",
    "import pandas as pd\n",
    "import matplotlib.pyplot as plt\n",
    "import numpy as np\n",
    "import datetime\n",
    "import local #server information and credentials\n",
    "from pullODBC import pullODBC\n",
    "from pullODBCall import pullODBCall\n",
    "from matplotlib.backends.backend_pdf import PdfPages\n",
    "from __future__ import division # convert integer division to floating point\n",
    "%matplotlib inline\n",
    "plt.style.use('seaborn-white')\n",
    "plt.rcParams['font.size'] = 7\n",
    "plt.tight_layout;\n",
    "plt.rc('xtick', labelsize=7) \n",
    "plt.rc('ytick', labelsize=7) "
   ]
  },
  {
   "cell_type": "markdown",
   "metadata": {},
   "source": [
    "Read in the full voter history"
   ]
  },
  {
   "cell_type": "code",
   "execution_count": 2,
   "metadata": {
    "collapsed": false
   },
   "outputs": [],
   "source": [
    "elections_flattened = pd.read_csv('elections_flattened.csv')"
   ]
  },
  {
   "cell_type": "code",
   "execution_count": 3,
   "metadata": {
    "collapsed": false
   },
   "outputs": [
    {
     "name": "stdout",
     "output_type": "stream",
     "text": [
      "6490208\n",
      "   Unnamed: 0  2007  2008  2009  2010  2011  2012  2013  2014  2015  2016  \\\n",
      "0           0   0.0   1.0   0.0   1.0   1.0   1.0   0.0   1.0   0.0   1.0   \n",
      "1           1   1.0   1.0   1.0   1.0   1.0   1.0   0.0   1.0   0.0   0.0   \n",
      "2           2   0.0   1.0   1.0   0.0   0.0   1.0   0.0   0.0   0.0   0.0   \n",
      "3           3   0.0   1.0   0.0   1.0   0.0   1.0   1.0   1.0   1.0   1.0   \n",
      "4           4   0.0   1.0   0.0   1.0   0.0   1.0   1.0   1.0   1.0   1.0   \n",
      "\n",
      "       ncid  \n",
      "0  AA100007  \n",
      "1   AA10001  \n",
      "2  AA100023  \n",
      "3  AA100062  \n",
      "4  AA100074  \n",
      "Index([u'Unnamed: 0', u'2007', u'2008', u'2009', u'2010', u'2011', u'2012',\n",
      "       u'2013', u'2014', u'2015', u'2016', u'ncid'],\n",
      "      dtype='object')\n"
     ]
    }
   ],
   "source": [
    "print len(elections_flattened)\n",
    "print elections_flattened.head()\n",
    "print elections_flattened.columns"
   ]
  },
  {
   "cell_type": "markdown",
   "metadata": {},
   "source": [
    "Since we know that muliple voting records are present in some elections, we need to see if any number is > 1.  Note that we already eliminated these for odd years, so we should only see these for even years"
   ]
  },
  {
   "cell_type": "code",
   "execution_count": 4,
   "metadata": {
    "collapsed": false
   },
   "outputs": [
    {
     "name": "stdout",
     "output_type": "stream",
     "text": [
      "For 2007 the number of voters that had more than one voting record is 0\n",
      "For 2008 the number of voters that had more than one voting record is 521\n",
      "For 2009 the number of voters that had more than one voting record is 0\n",
      "For 2010 the number of voters that had more than one voting record is 142\n",
      "For 2011 the number of voters that had more than one voting record is 0\n",
      "For 2012 the number of voters that had more than one voting record is 239\n",
      "For 2013 the number of voters that had more than one voting record is 0\n",
      "For 2015 the number of voters that had more than one voting record is 0\n",
      "For 2015 the number of voters that had more than one voting record is 0\n",
      "For 2016 the number of voters that had more than one voting record is 67\n"
     ]
    }
   ],
   "source": [
    "### First we set up a list of column names for the years\n",
    "year_columns = ['2007', '2008', '2009', '2010', '2011', '2012', '2013', '2015', '2015', '2016']\n",
    "### Next, we iterate over all the columns to find any numbers > 1\n",
    "for col in year_columns:\n",
    "    bool_vector = elections_flattened[col] > 1\n",
    "    print('For ' + str(col) + ' the number of voters that had more than one voting record is ' + str(sum(bool_vector)))"
   ]
  },
  {
   "cell_type": "markdown",
   "metadata": {},
   "source": [
    "First, let's count how many votes were cast in each year counting multiple votes"
   ]
  },
  {
   "cell_type": "code",
   "execution_count": 5,
   "metadata": {
    "collapsed": false
   },
   "outputs": [
    {
     "name": "stdout",
     "output_type": "stream",
     "text": [
      "For 2007 the number of votes cast were 721800\n",
      "For 2008 the number of votes cast were 4348017\n",
      "For 2009 the number of votes cast were 593535\n",
      "For 2010 the number of votes cast were 2699178\n",
      "For 2011 the number of votes cast were 599494\n",
      "For 2012 the number of votes cast were 4540926\n",
      "For 2013 the number of votes cast were 620519\n",
      "For 2015 the number of votes cast were 487360\n",
      "For 2015 the number of votes cast were 487360\n",
      "For 2016 the number of votes cast were 4768149\n"
     ]
    }
   ],
   "source": [
    "for col in year_columns:\n",
    "    print('For ' + str(col) + ' the number of votes cast were ' + str(int(sum(elections_flattened[col]))))"
   ]
  },
  {
   "cell_type": "markdown",
   "metadata": {},
   "source": [
    "Now we need to change all of these numbers > 1 to 1"
   ]
  },
  {
   "cell_type": "code",
   "execution_count": 6,
   "metadata": {
    "collapsed": true
   },
   "outputs": [],
   "source": [
    "for col in year_columns:\n",
    "    elections_flattened[col] = elections_flattened[col] >= 1"
   ]
  },
  {
   "cell_type": "markdown",
   "metadata": {},
   "source": [
    "Let's once again look at how many votes were cast.  Odd years should be the same as before, and even years should be less."
   ]
  },
  {
   "cell_type": "code",
   "execution_count": 7,
   "metadata": {
    "collapsed": false
   },
   "outputs": [
    {
     "name": "stdout",
     "output_type": "stream",
     "text": [
      "For 2007 the number of votes cast were 721800\n",
      "For 2008 the number of votes cast were 4347492\n",
      "For 2009 the number of votes cast were 593535\n",
      "For 2010 the number of votes cast were 2699036\n",
      "For 2011 the number of votes cast were 599494\n",
      "For 2012 the number of votes cast were 4540687\n",
      "For 2013 the number of votes cast were 620519\n",
      "For 2015 the number of votes cast were 487360\n",
      "For 2015 the number of votes cast were 487360\n",
      "For 2016 the number of votes cast were 4768082\n"
     ]
    }
   ],
   "source": [
    "for col in year_columns:\n",
    "    print('For ' + str(col) + ' the number of votes cast were ' + str(int(sum(elections_flattened[col]))))"
   ]
  },
  {
   "cell_type": "markdown",
   "metadata": {},
   "source": [
    "Now we need to pull in the demographics files for 2016, 2015, and 2015 to calculate turnout for each of these years\n",
    "\n",
    "## First we do 2014"
   ]
  },
  {
   "cell_type": "code",
   "execution_count": 8,
   "metadata": {
    "collapsed": true
   },
   "outputs": [],
   "source": [
    "local.database = 'registration2014'\n",
    "local.table = 'VR_Snapshot_20141104'"
   ]
  },
  {
   "cell_type": "markdown",
   "metadata": {},
   "source": [
    "I want all rows with status codes 'A' and 'I'"
   ]
  },
  {
   "cell_type": "code",
   "execution_count": 9,
   "metadata": {
    "collapsed": false
   },
   "outputs": [
    {
     "name": "stdout",
     "output_type": "stream",
     "text": [
      "([status_cd] = 'A' OR [status_cd] = 'I')\n"
     ]
    }
   ],
   "source": [
    "condition1 = \"[status_cd] = 'A'\"\n",
    "condition2 = \"[status_cd] = 'I'\"\n",
    "condition = \"(\" + condition1 + \" OR \" + condition2 + \")\"  \n",
    "print condition"
   ]
  },
  {
   "cell_type": "code",
   "execution_count": 10,
   "metadata": {
    "collapsed": false
   },
   "outputs": [
    {
     "name": "stdout",
     "output_type": "stream",
     "text": [
      "[county_desc],[ncid],[precinct_abbrv]\n"
     ]
    }
   ],
   "source": [
    "#Set up the fields that I need to pull from the database \n",
    "fields = '[county_desc],[ncid],[precinct_abbrv]'\n",
    "print fields"
   ]
  },
  {
   "cell_type": "code",
   "execution_count": 11,
   "metadata": {
    "collapsed": false
   },
   "outputs": [],
   "source": [
    "#Pull the data from the database\n",
    "demographics=pullODBC(local.driver,\n",
    "                      local.server,\n",
    "                      local.database,\n",
    "                      local.username,\n",
    "                      local.password,\n",
    "                      local.table,\n",
    "                      fields,\n",
    "                      condition)"
   ]
  },
  {
   "cell_type": "code",
   "execution_count": 12,
   "metadata": {
    "collapsed": false
   },
   "outputs": [
    {
     "name": "stdout",
     "output_type": "stream",
     "text": [
      "6627320\n",
      "        county_desc     ncid precinct_abbrv\n",
      "6627305      WILSON  EP87415           PRWR\n",
      "6627306      WILSON  EP87416           PRTO\n",
      "6627307      WILSON  EP87417           PRTA\n",
      "6627308      WILSON  EP87418           PRWL\n",
      "6627309      WILSON  EP87419           PRWJ\n",
      "6627310      WILSON  EP87420           PRTO\n",
      "6627311      WILSON  EP87421           PRWE\n",
      "6627312      WILSON  EP87422           PRCR\n",
      "6627313      WILSON  EP87423           PRGA\n",
      "6627314      WILSON  EP87424           PRTO\n",
      "6627315      WILSON  EP87425           PRTA\n",
      "6627316      WILSON  EP87427           PRWL\n",
      "6627317      WILSON  EP87428           PRSP\n",
      "6627318      WILSON  EP87429           PROL\n",
      "6627319      WILSON  EP87430           PRWL\n"
     ]
    }
   ],
   "source": [
    "print(len(demographics))\n",
    "print demographics.tail(n=15)\n",
    "raw_len = len(demographics)# Save the number of rows"
   ]
  },
  {
   "cell_type": "markdown",
   "metadata": {},
   "source": [
    "We now need to delete any rows with blank county_desc, ncid, or precinct_abbrv.  We do that by first changing blans to NaNs, and the deleting any rows with NaNs"
   ]
  },
  {
   "cell_type": "code",
   "execution_count": 13,
   "metadata": {
    "collapsed": true
   },
   "outputs": [],
   "source": [
    "def fix_blanks_NaN(x):\n",
    "    if x == \"\":\n",
    "        return np.nan\n",
    "    elif x == \" \":\n",
    "        return np.nan\n",
    "    else:\n",
    "        return x"
   ]
  },
  {
   "cell_type": "code",
   "execution_count": 14,
   "metadata": {
    "collapsed": false
   },
   "outputs": [
    {
     "name": "stdout",
     "output_type": "stream",
     "text": [
      "The number of rows I have dropped is 6316\n",
      "The number of rows remaining in the database is 6621004\n",
      "The precentage of rows that I have dropped is: 0.095%\n"
     ]
    }
   ],
   "source": [
    "#Change blank fields to Nan\n",
    "fields = demographics.columns\n",
    "for col in fields:\n",
    "    demographics[col] = demographics[col].apply(fix_blanks_NaN)\n",
    "#Next, delete any rows with NaN and disply counts\n",
    "demographics.dropna(inplace=True, how='any') #drop all rows with NaN\n",
    "clean_len=len(demographics) #how many rows to I have left?\n",
    "difference = raw_len - clean_len #how many rows have I dropped?\n",
    "fraction = float(difference)/float(raw_len) #what fraction of rows have I dropped?\n",
    "print \"The number of rows I have dropped is \" + str(difference) \n",
    "print \"The number of rows remaining in the database is \" + str(clean_len)\n",
    "print \"The precentage of rows that I have dropped is: \" + str('{:.3%}'.format(fraction))"
   ]
  },
  {
   "cell_type": "markdown",
   "metadata": {},
   "source": [
    "Now we do a left join of elections_flattened to demographics since we use the 2014 registration data as our denominator for 2014 turnout"
   ]
  },
  {
   "cell_type": "code",
   "execution_count": 15,
   "metadata": {
    "collapsed": false
   },
   "outputs": [
    {
     "name": "stdout",
     "output_type": "stream",
     "text": [
      "(6621004, 6621004, 6490208)\n"
     ]
    }
   ],
   "source": [
    "combined_2014 = pd.merge(demographics, elections_flattened, how='left', on='ncid')\n",
    "print(len(combined_2014), len(demographics), len(elections_flattened))# combined should have the same number of rows as demographics"
   ]
  },
  {
   "cell_type": "markdown",
   "metadata": {},
   "source": [
    "Let's take a look at combined_2014"
   ]
  },
  {
   "cell_type": "code",
   "execution_count": 16,
   "metadata": {
    "collapsed": false
   },
   "outputs": [
    {
     "name": "stdout",
     "output_type": "stream",
     "text": [
      "        county_desc     ncid precinct_abbrv  Unnamed: 0   2007   2008   2009  \\\n",
      "6620989      WILSON  EP87415           PRWR         NaN    NaN    NaN    NaN   \n",
      "6620990      WILSON  EP87416           PRTO   6449374.0  False  False  False   \n",
      "6620991      WILSON  EP87417           PRTA   6449375.0  False  False  False   \n",
      "6620992      WILSON  EP87418           PRWL   6449376.0  False  False  False   \n",
      "6620993      WILSON  EP87419           PRWJ   6449377.0  False  False  False   \n",
      "6620994      WILSON  EP87420           PRTO   6449378.0  False  False  False   \n",
      "6620995      WILSON  EP87421           PRWE         NaN    NaN    NaN    NaN   \n",
      "6620996      WILSON  EP87422           PRCR         NaN    NaN    NaN    NaN   \n",
      "6620997      WILSON  EP87423           PRGA   6449379.0  False  False  False   \n",
      "6620998      WILSON  EP87424           PRTO   6449380.0  False  False  False   \n",
      "6620999      WILSON  EP87425           PRTA   6449381.0  False  False  False   \n",
      "6621000      WILSON  EP87427           PRWL   6449383.0  False  False  False   \n",
      "6621001      WILSON  EP87428           PRSP   6449384.0  False  False  False   \n",
      "6621002      WILSON  EP87429           PROL   6449385.0  False  False  False   \n",
      "6621003      WILSON  EP87430           PRWL   6449386.0  False  False  False   \n",
      "\n",
      "          2010   2011   2012   2013  2014   2015   2016  \n",
      "6620989    NaN    NaN    NaN    NaN   NaN    NaN    NaN  \n",
      "6620990  False  False   True  False   1.0  False   True  \n",
      "6620991  False  False   True  False   0.0  False   True  \n",
      "6620992  False  False   True  False   0.0  False  False  \n",
      "6620993  False  False   True  False   0.0  False  False  \n",
      "6620994  False  False  False  False   0.0  False   True  \n",
      "6620995    NaN    NaN    NaN    NaN   NaN    NaN    NaN  \n",
      "6620996    NaN    NaN    NaN    NaN   NaN    NaN    NaN  \n",
      "6620997  False  False   True  False   0.0  False  False  \n",
      "6620998  False  False   True  False   1.0  False   True  \n",
      "6620999  False  False   True  False   0.0  False   True  \n",
      "6621000  False  False  False  False   0.0  False   True  \n",
      "6621001  False  False   True  False   0.0  False   True  \n",
      "6621002  False  False  False  False   0.0  False   True  \n",
      "6621003  False  False   True  False   0.0  False   True  \n"
     ]
    }
   ],
   "source": [
    "print(combined_2014.tail(n=15))"
   ]
  },
  {
   "cell_type": "markdown",
   "metadata": {},
   "source": [
    "We now need to fill all the NaNs with False.  The only NaNs are for registered voters without voting records that were created by the left join"
   ]
  },
  {
   "cell_type": "code",
   "execution_count": 17,
   "metadata": {
    "collapsed": true
   },
   "outputs": [],
   "source": [
    "combined_2014.fillna(value=False, method=None, axis=None, inplace=True, limit=None, downcast=None)"
   ]
  },
  {
   "cell_type": "code",
   "execution_count": 18,
   "metadata": {
    "collapsed": false
   },
   "outputs": [
    {
     "name": "stdout",
     "output_type": "stream",
     "text": [
      "        county_desc     ncid precinct_abbrv  Unnamed: 0   2007   2008   2009  \\\n",
      "6620989      WILSON  EP87415           PRWR         0.0  False  False  False   \n",
      "6620990      WILSON  EP87416           PRTO   6449374.0  False  False  False   \n",
      "6620991      WILSON  EP87417           PRTA   6449375.0  False  False  False   \n",
      "6620992      WILSON  EP87418           PRWL   6449376.0  False  False  False   \n",
      "6620993      WILSON  EP87419           PRWJ   6449377.0  False  False  False   \n",
      "6620994      WILSON  EP87420           PRTO   6449378.0  False  False  False   \n",
      "6620995      WILSON  EP87421           PRWE         0.0  False  False  False   \n",
      "6620996      WILSON  EP87422           PRCR         0.0  False  False  False   \n",
      "6620997      WILSON  EP87423           PRGA   6449379.0  False  False  False   \n",
      "6620998      WILSON  EP87424           PRTO   6449380.0  False  False  False   \n",
      "6620999      WILSON  EP87425           PRTA   6449381.0  False  False  False   \n",
      "6621000      WILSON  EP87427           PRWL   6449383.0  False  False  False   \n",
      "6621001      WILSON  EP87428           PRSP   6449384.0  False  False  False   \n",
      "6621002      WILSON  EP87429           PROL   6449385.0  False  False  False   \n",
      "6621003      WILSON  EP87430           PRWL   6449386.0  False  False  False   \n",
      "\n",
      "          2010   2011   2012   2013  2014   2015   2016  \n",
      "6620989  False  False  False  False   0.0  False  False  \n",
      "6620990  False  False   True  False   1.0  False   True  \n",
      "6620991  False  False   True  False   0.0  False   True  \n",
      "6620992  False  False   True  False   0.0  False  False  \n",
      "6620993  False  False   True  False   0.0  False  False  \n",
      "6620994  False  False  False  False   0.0  False   True  \n",
      "6620995  False  False  False  False   0.0  False  False  \n",
      "6620996  False  False  False  False   0.0  False  False  \n",
      "6620997  False  False   True  False   0.0  False  False  \n",
      "6620998  False  False   True  False   1.0  False   True  \n",
      "6620999  False  False   True  False   0.0  False   True  \n",
      "6621000  False  False  False  False   0.0  False   True  \n",
      "6621001  False  False   True  False   0.0  False   True  \n",
      "6621002  False  False  False  False   0.0  False   True  \n",
      "6621003  False  False   True  False   0.0  False   True  \n"
     ]
    }
   ],
   "source": [
    "print(combined_2014.tail(n=15))"
   ]
  },
  {
   "cell_type": "markdown",
   "metadata": {},
   "source": [
    "Next, we create a new field that combines county_desc with precinct_abbrv"
   ]
  },
  {
   "cell_type": "code",
   "execution_count": 19,
   "metadata": {
    "collapsed": true
   },
   "outputs": [],
   "source": [
    "combined_2014['county_pct'] = combined_2014['county_desc']+combined_2014['precinct_abbrv']"
   ]
  },
  {
   "cell_type": "code",
   "execution_count": 20,
   "metadata": {
    "collapsed": false
   },
   "outputs": [
    {
     "name": "stdout",
     "output_type": "stream",
     "text": [
      "   county_desc    ncid precinct_abbrv  Unnamed: 0   2007   2008   2009   2010  \\\n",
      "0       YANCEY  ES4286         06 JAC   6487514.0  False  False  False  False   \n",
      "1       YANCEY  ES4299         06 JAC   6487521.0  False   True  False   True   \n",
      "2       YANCEY  ES4231         06 JAC   6487477.0  False   True  False   True   \n",
      "3       YANCEY  ES4244         06 JAC   6487486.0  False   True  False   True   \n",
      "4       YANCEY  ES7365         06 JAC   6489106.0  False  False  False  False   \n",
      "5       YANCEY  ES7352         02 CAN   6489096.0  False   True  False   True   \n",
      "6       YANCEY  ES7322         02 CAN   6489080.0  False   True  False  False   \n",
      "7       YANCEY  ES7323         02 CAN   6489081.0  False   True  False  False   \n",
      "8       YANCEY  ES7294         11 PRI   6489067.0  False   True  False   True   \n",
      "9       YANCEY  ES7167         01 BUR   6489008.0  False   True  False  False   \n",
      "10      YANCEY  ES6891         09 SOU   6488861.0  False   True  False   True   \n",
      "11      YANCEY  ES7153         11 PRI   6489001.0  False   True  False   True   \n",
      "12      YANCEY  ES7154         11 PRI   6489002.0  False   True  False   True   \n",
      "13      YANCEY  ES7168         02 CAN   6489009.0  False   True  False   True   \n",
      "14      YANCEY  ES7125         10 PEN   6488992.0  False   True  False   True   \n",
      "\n",
      "     2011   2012   2013  2014   2015   2016    county_pct  \n",
      "0   False  False  False   0.0  False   True  YANCEY06 JAC  \n",
      "1   False   True  False   1.0  False   True  YANCEY06 JAC  \n",
      "2   False   True  False   0.0  False   True  YANCEY06 JAC  \n",
      "3   False   True  False   1.0  False   True  YANCEY06 JAC  \n",
      "4   False  False  False   1.0  False   True  YANCEY06 JAC  \n",
      "5   False   True  False   1.0  False  False  YANCEY02 CAN  \n",
      "6   False   True  False   1.0  False   True  YANCEY02 CAN  \n",
      "7   False  False  False   0.0  False  False  YANCEY02 CAN  \n",
      "8   False   True  False   1.0  False   True  YANCEY11 PRI  \n",
      "9   False  False  False   1.0  False   True  YANCEY01 BUR  \n",
      "10  False   True  False   1.0  False   True  YANCEY09 SOU  \n",
      "11  False   True  False   1.0  False  False  YANCEY11 PRI  \n",
      "12  False  False  False   1.0  False   True  YANCEY11 PRI  \n",
      "13  False   True  False   0.0  False   True  YANCEY02 CAN  \n",
      "14  False  False  False   1.0  False  False  YANCEY10 PEN  \n"
     ]
    }
   ],
   "source": [
    "print(combined_2014.head(n=15))"
   ]
  },
  {
   "cell_type": "markdown",
   "metadata": {
    "collapsed": false
   },
   "source": [
    "Subset the dataframe to keep only the needed columns"
   ]
  },
  {
   "cell_type": "code",
   "execution_count": 21,
   "metadata": {
    "collapsed": false
   },
   "outputs": [],
   "source": [
    "turnout = combined_2014.ix[:,['county_desc',  'county_pct', '2014']]"
   ]
  },
  {
   "cell_type": "markdown",
   "metadata": {},
   "source": [
    "Convert '2014' to 1s and 0s"
   ]
  },
  {
   "cell_type": "code",
   "execution_count": 22,
   "metadata": {
    "collapsed": true
   },
   "outputs": [],
   "source": [
    "turnout['2014'] = turnout['2014'].astype(int)"
   ]
  },
  {
   "cell_type": "code",
   "execution_count": 23,
   "metadata": {
    "collapsed": false
   },
   "outputs": [
    {
     "name": "stdout",
     "output_type": "stream",
     "text": [
      "  county_desc    county_pct  2014\n",
      "0      YANCEY  YANCEY06 JAC     0\n",
      "1      YANCEY  YANCEY06 JAC     1\n",
      "2      YANCEY  YANCEY06 JAC     0\n",
      "3      YANCEY  YANCEY06 JAC     1\n",
      "4      YANCEY  YANCEY06 JAC     1\n"
     ]
    }
   ],
   "source": [
    "print(turnout.head())"
   ]
  },
  {
   "cell_type": "markdown",
   "metadata": {},
   "source": [
    "Strip out blanks in 'county_pct'"
   ]
  },
  {
   "cell_type": "code",
   "execution_count": 24,
   "metadata": {
    "collapsed": false
   },
   "outputs": [
    {
     "name": "stdout",
     "output_type": "stream",
     "text": [
      "  county_desc   county_pct  2014\n",
      "0      YANCEY  YANCEY06JAC     0\n",
      "1      YANCEY  YANCEY06JAC     1\n",
      "2      YANCEY  YANCEY06JAC     0\n",
      "3      YANCEY  YANCEY06JAC     1\n",
      "4      YANCEY  YANCEY06JAC     1\n"
     ]
    }
   ],
   "source": [
    "turnout['county_pct'] = turnout['county_pct'].map(lambda x: x.replace(\" \", \"\"))\n",
    "print(turnout.head())"
   ]
  },
  {
   "cell_type": "markdown",
   "metadata": {},
   "source": [
    "Use pandas pivot table functionality to create a table with turnout by count_precinct combination\n",
    "\n",
    "First, we create a custome aggfunc to yield the fraction voted"
   ]
  },
  {
   "cell_type": "code",
   "execution_count": 25,
   "metadata": {
    "collapsed": true
   },
   "outputs": [],
   "source": [
    "def fraction_one(x):\n",
    "    frac = np.sum(x)/np.size(x)\n",
    "    return(frac)"
   ]
  },
  {
   "cell_type": "markdown",
   "metadata": {
    "collapsed": false
   },
   "source": [
    "Create a Pivot Table with index of county_precinct and column and aggregation '2014'"
   ]
  },
  {
   "cell_type": "code",
   "execution_count": 26,
   "metadata": {
    "collapsed": false
   },
   "outputs": [],
   "source": [
    "turnout_2014 = pd.pivot_table(turnout, index=['county_pct'], values=['2014'],  \n",
    "                                 aggfunc=fraction_one,  margins = False) "
   ]
  },
  {
   "cell_type": "code",
   "execution_count": 27,
   "metadata": {
    "collapsed": false
   },
   "outputs": [
    {
     "name": "stdout",
     "output_type": "stream",
     "text": [
      "2726\n",
      "                 2014\n",
      "county_pct           \n",
      "ALAMANCE01   0.475307\n",
      "ALAMANCE02   0.523978\n",
      "ALAMANCE035  0.369405\n",
      "ALAMANCE03C  0.631670\n",
      "ALAMANCE03N  0.471780\n"
     ]
    }
   ],
   "source": [
    "print len(turnout_2014)\n",
    "print(turnout_2014.head())"
   ]
  },
  {
   "cell_type": "markdown",
   "metadata": {
    "collapsed": false
   },
   "source": [
    "Convert to a dataframe"
   ]
  },
  {
   "cell_type": "code",
   "execution_count": 28,
   "metadata": {
    "collapsed": false
   },
   "outputs": [
    {
     "name": "stdout",
     "output_type": "stream",
     "text": [
      "    county_pct      2014\n",
      "0   ALAMANCE01  0.475307\n",
      "1   ALAMANCE02  0.523978\n",
      "2  ALAMANCE035  0.369405\n",
      "3  ALAMANCE03C  0.631670\n",
      "4  ALAMANCE03N  0.471780\n"
     ]
    }
   ],
   "source": [
    "turnout_2014 = pd.DataFrame.from_records(turnout_2014.to_records())\n",
    "print turnout_2014.head()"
   ]
  },
  {
   "cell_type": "markdown",
   "metadata": {},
   "source": [
    "## Now we do the same thing for 2015"
   ]
  },
  {
   "cell_type": "code",
   "execution_count": 29,
   "metadata": {
    "collapsed": true
   },
   "outputs": [],
   "source": [
    "local.database = 'registration2015'\n",
    "local.table = 'VR_Snapshot_20151103'"
   ]
  },
  {
   "cell_type": "markdown",
   "metadata": {},
   "source": [
    "I want all rows with status codes 'A' and 'I'"
   ]
  },
  {
   "cell_type": "code",
   "execution_count": 30,
   "metadata": {
    "collapsed": false
   },
   "outputs": [
    {
     "name": "stdout",
     "output_type": "stream",
     "text": [
      "([status_cd] = 'A' OR [status_cd] = 'I')\n"
     ]
    }
   ],
   "source": [
    "condition1 = \"[status_cd] = 'A'\"\n",
    "condition2 = \"[status_cd] = 'I'\"\n",
    "condition = \"(\" + condition1 + \" OR \" + condition2 + \")\"  \n",
    "print condition"
   ]
  },
  {
   "cell_type": "code",
   "execution_count": 31,
   "metadata": {
    "collapsed": false
   },
   "outputs": [
    {
     "name": "stdout",
     "output_type": "stream",
     "text": [
      "[county_desc],[ncid],[precinct_abbrv]\n"
     ]
    }
   ],
   "source": [
    "#Set up the fields that I need to pull from the database \n",
    "fields = '[county_desc],[ncid],[precinct_abbrv]'\n",
    "print fields"
   ]
  },
  {
   "cell_type": "code",
   "execution_count": 32,
   "metadata": {
    "collapsed": false
   },
   "outputs": [],
   "source": [
    "#Pull the data from the database\n",
    "demographics=pullODBC(local.driver,\n",
    "                      local.server,\n",
    "                      local.database,\n",
    "                      local.username,\n",
    "                      local.password,\n",
    "                      local.table,\n",
    "                      fields,\n",
    "                      condition)"
   ]
  },
  {
   "cell_type": "code",
   "execution_count": 33,
   "metadata": {
    "collapsed": false
   },
   "outputs": [
    {
     "name": "stdout",
     "output_type": "stream",
     "text": [
      "6404860\n",
      "        county_desc    ncid precinct_abbrv\n",
      "6404845      WILSON  EP6063           PRWQ\n",
      "6404846      WILSON  EP6048           PRGA\n",
      "6404847      WILSON  EP4667           PRWJ\n",
      "6404848      WILSON  EP5979           PRTA\n",
      "6404849      WILSON  EP5989           PRWB\n",
      "6404850      WILSON  EP7455           PRWM\n",
      "6404851      WILSON  EP7569           PRWB\n",
      "6404852      WILSON  EP7556           PRWE\n",
      "6404853      WILSON  EP7557           PRWN\n",
      "6404854      WILSON  EP7465           PRTA\n",
      "6404855      WILSON  EP7599           PRBL\n",
      "6404856      WILSON  EP7392           PRWM\n",
      "6404857      WILSON  EP7420           PROL\n",
      "6404858      WILSON  EP7104           PRWC\n",
      "6404859      WILSON  EP7263           PRWK\n"
     ]
    }
   ],
   "source": [
    "print(len(demographics))\n",
    "print demographics.tail(n=15)\n",
    "raw_len = len(demographics)# Save the number of rows"
   ]
  },
  {
   "cell_type": "markdown",
   "metadata": {},
   "source": [
    "We now need to delete any rows with blank county_desc, ncid, or precinct_abbrv.  We do that by first changing blans to NaNs, and the deleting any rows with NaNs"
   ]
  },
  {
   "cell_type": "code",
   "execution_count": 34,
   "metadata": {
    "collapsed": true
   },
   "outputs": [],
   "source": [
    "def fix_blanks_NaN(x):\n",
    "    if x == \"\":\n",
    "        return np.nan\n",
    "    elif x == \" \":\n",
    "        return np.nan\n",
    "    else:\n",
    "        return x"
   ]
  },
  {
   "cell_type": "code",
   "execution_count": 35,
   "metadata": {
    "collapsed": false
   },
   "outputs": [
    {
     "name": "stdout",
     "output_type": "stream",
     "text": [
      "The number of rows I have dropped is 4690\n",
      "The number of rows remaining in the database is 6400170\n",
      "The precentage of rows that I have dropped is: 0.073%\n"
     ]
    }
   ],
   "source": [
    "#Change blank fields to Nan\n",
    "fields = demographics.columns\n",
    "for col in fields:\n",
    "    demographics[col] = demographics[col].apply(fix_blanks_NaN)\n",
    "#Next, delete any rows with NaN and disply counts\n",
    "demographics.dropna(inplace=True, how='any') #drop all rows with NaN\n",
    "clean_len=len(demographics) #how many rows to I have left?\n",
    "difference = raw_len - clean_len #how many rows have I dropped?\n",
    "fraction = float(difference)/float(raw_len) #what fraction of rows have I dropped?\n",
    "print \"The number of rows I have dropped is \" + str(difference) \n",
    "print \"The number of rows remaining in the database is \" + str(clean_len)\n",
    "print \"The precentage of rows that I have dropped is: \" + str('{:.3%}'.format(fraction))"
   ]
  },
  {
   "cell_type": "markdown",
   "metadata": {},
   "source": [
    "Now we do a left join of elections_flattened to demographics since we use the 2015 registration data as our denominator for 2015 turnout"
   ]
  },
  {
   "cell_type": "code",
   "execution_count": 36,
   "metadata": {
    "collapsed": false
   },
   "outputs": [
    {
     "name": "stdout",
     "output_type": "stream",
     "text": [
      "(6400170, 6400170, 6490208)\n"
     ]
    }
   ],
   "source": [
    "combined_2015 = pd.merge(demographics, elections_flattened, how='left', on='ncid')\n",
    "print(len(combined_2015), len(demographics), len(elections_flattened))# combined should have the same number of rows as demographics"
   ]
  },
  {
   "cell_type": "markdown",
   "metadata": {},
   "source": [
    "Let's take a look at combined_2015"
   ]
  },
  {
   "cell_type": "code",
   "execution_count": 37,
   "metadata": {
    "collapsed": false
   },
   "outputs": [
    {
     "name": "stdout",
     "output_type": "stream",
     "text": [
      "        county_desc    ncid precinct_abbrv  Unnamed: 0   2007  2008   2009  \\\n",
      "6400155      WILSON  EP6063           PRWQ   1447440.0  False  True  False   \n",
      "6400156      WILSON  EP6048           PRGA   6432558.0  False  True  False   \n",
      "6400157      WILSON  EP4667           PRWJ   1445871.0   True  True  False   \n",
      "6400158      WILSON  EP5979           PRTA   6432263.0  False  True  False   \n",
      "6400159      WILSON  EP5989           PRWB   1447350.0   True  True  False   \n",
      "6400160      WILSON  EP7455           PRWM   1449191.0  False  True  False   \n",
      "6400161      WILSON  EP7569           PRWB   1449329.0   True  True   True   \n",
      "6400162      WILSON  EP7556           PRWE   1449311.0   True  True  False   \n",
      "6400163      WILSON  EP7557           PRWN   1449312.0   True  True  False   \n",
      "6400164      WILSON  EP7465           PRTA   6440465.0  False  True  False   \n",
      "6400165      WILSON  EP7599           PRBL   6441291.0  False  True  False   \n",
      "6400166      WILSON  EP7392           PRWM         NaN    NaN   NaN    NaN   \n",
      "6400167      WILSON  EP7420           PROL   6440196.0  False  True  False   \n",
      "6400168      WILSON  EP7104           PRWC   6438327.0  False  True  False   \n",
      "6400169      WILSON  EP7263           PRWK   6439255.0  False  True  False   \n",
      "\n",
      "          2010   2011  2012   2013  2014   2015   2016  \n",
      "6400155   True  False  True   True   1.0   True   True  \n",
      "6400156  False  False  True  False   1.0  False   True  \n",
      "6400157   True  False  True  False   1.0   True   True  \n",
      "6400158   True  False  True  False   1.0  False   True  \n",
      "6400159   True  False  True  False   1.0   True   True  \n",
      "6400160   True  False  True  False   1.0   True   True  \n",
      "6400161   True  False  True  False   1.0   True   True  \n",
      "6400162   True  False  True  False   1.0   True   True  \n",
      "6400163   True  False  True  False   1.0   True   True  \n",
      "6400164   True  False  True  False   1.0  False   True  \n",
      "6400165   True  False  True  False   1.0  False   True  \n",
      "6400166    NaN    NaN   NaN    NaN   NaN    NaN    NaN  \n",
      "6400167   True  False  True  False   0.0  False  False  \n",
      "6400168  False  False  True  False   1.0  False  False  \n",
      "6400169  False  False  True  False   1.0  False   True  \n"
     ]
    }
   ],
   "source": [
    "print(combined_2015.tail(n=15))"
   ]
  },
  {
   "cell_type": "markdown",
   "metadata": {},
   "source": [
    "We now need to fill all the NaNs with False.  The only NaNs are for registered voters without voting records that were created by the left join"
   ]
  },
  {
   "cell_type": "code",
   "execution_count": 38,
   "metadata": {
    "collapsed": true
   },
   "outputs": [],
   "source": [
    "combined_2015.fillna(value=False, method=None, axis=None, inplace=True, limit=None, downcast=None)"
   ]
  },
  {
   "cell_type": "code",
   "execution_count": 39,
   "metadata": {
    "collapsed": false
   },
   "outputs": [
    {
     "name": "stdout",
     "output_type": "stream",
     "text": [
      "        county_desc    ncid precinct_abbrv  Unnamed: 0   2007   2008   2009  \\\n",
      "6400155      WILSON  EP6063           PRWQ   1447440.0  False   True  False   \n",
      "6400156      WILSON  EP6048           PRGA   6432558.0  False   True  False   \n",
      "6400157      WILSON  EP4667           PRWJ   1445871.0   True   True  False   \n",
      "6400158      WILSON  EP5979           PRTA   6432263.0  False   True  False   \n",
      "6400159      WILSON  EP5989           PRWB   1447350.0   True   True  False   \n",
      "6400160      WILSON  EP7455           PRWM   1449191.0  False   True  False   \n",
      "6400161      WILSON  EP7569           PRWB   1449329.0   True   True   True   \n",
      "6400162      WILSON  EP7556           PRWE   1449311.0   True   True  False   \n",
      "6400163      WILSON  EP7557           PRWN   1449312.0   True   True  False   \n",
      "6400164      WILSON  EP7465           PRTA   6440465.0  False   True  False   \n",
      "6400165      WILSON  EP7599           PRBL   6441291.0  False   True  False   \n",
      "6400166      WILSON  EP7392           PRWM         0.0  False  False  False   \n",
      "6400167      WILSON  EP7420           PROL   6440196.0  False   True  False   \n",
      "6400168      WILSON  EP7104           PRWC   6438327.0  False   True  False   \n",
      "6400169      WILSON  EP7263           PRWK   6439255.0  False   True  False   \n",
      "\n",
      "          2010   2011   2012   2013  2014   2015   2016  \n",
      "6400155   True  False   True   True   1.0   True   True  \n",
      "6400156  False  False   True  False   1.0  False   True  \n",
      "6400157   True  False   True  False   1.0   True   True  \n",
      "6400158   True  False   True  False   1.0  False   True  \n",
      "6400159   True  False   True  False   1.0   True   True  \n",
      "6400160   True  False   True  False   1.0   True   True  \n",
      "6400161   True  False   True  False   1.0   True   True  \n",
      "6400162   True  False   True  False   1.0   True   True  \n",
      "6400163   True  False   True  False   1.0   True   True  \n",
      "6400164   True  False   True  False   1.0  False   True  \n",
      "6400165   True  False   True  False   1.0  False   True  \n",
      "6400166  False  False  False  False   0.0  False  False  \n",
      "6400167   True  False   True  False   0.0  False  False  \n",
      "6400168  False  False   True  False   1.0  False  False  \n",
      "6400169  False  False   True  False   1.0  False   True  \n"
     ]
    }
   ],
   "source": [
    "print(combined_2015.tail(n=15))"
   ]
  },
  {
   "cell_type": "markdown",
   "metadata": {},
   "source": [
    "Next, we create a new field that combines county_desc with precinct_abbrv"
   ]
  },
  {
   "cell_type": "code",
   "execution_count": 40,
   "metadata": {
    "collapsed": true
   },
   "outputs": [],
   "source": [
    "combined_2015['county_pct'] = combined_2015['county_desc']+combined_2015['precinct_abbrv']"
   ]
  },
  {
   "cell_type": "code",
   "execution_count": 41,
   "metadata": {
    "collapsed": false
   },
   "outputs": [
    {
     "name": "stdout",
     "output_type": "stream",
     "text": [
      "   county_desc      ncid precinct_abbrv  Unnamed: 0   2007   2008   2009  \\\n",
      "0     ALAMANCE  AA108595            063       686.0  False   True  False   \n",
      "1     ALAMANCE  AA108596             13   1458376.0  False   True  False   \n",
      "2     ALAMANCE  AA108599           1210   1458377.0  False   True  False   \n",
      "3     ALAMANCE  AA108604            09S         0.0  False  False  False   \n",
      "4     ALAMANCE  AA108605            08N   1458379.0  False  False  False   \n",
      "5     ALAMANCE  AA108607            09S   1458380.0  False   True  False   \n",
      "6     ALAMANCE  AA108610            10N   1458381.0  False   True  False   \n",
      "7     ALAMANCE  AA108611            126   1458382.0  False   True  False   \n",
      "8     ALAMANCE  AA108612            10N   1458383.0  False   True  False   \n",
      "9     ALAMANCE  AA108613            10N   1458384.0  False   True  False   \n",
      "10    ALAMANCE  AA108616           03N2       687.0   True   True  False   \n",
      "11    ALAMANCE  AA108619             07   1458387.0  False   True  False   \n",
      "12    ALAMANCE  AA108620            08S   1458388.0  False   True  False   \n",
      "13    ALAMANCE  AA108621            12W         0.0  False  False  False   \n",
      "14    ALAMANCE  AA109046            09S   1458547.0  False   True  False   \n",
      "\n",
      "     2010   2011   2012   2013  2014   2015   2016    county_pct  \n",
      "0    True  False   True   True   1.0  False  False   ALAMANCE063  \n",
      "1   False  False   True  False   1.0  False   True    ALAMANCE13  \n",
      "2   False  False   True  False   1.0  False   True  ALAMANCE1210  \n",
      "3   False  False  False  False   0.0  False  False   ALAMANCE09S  \n",
      "4    True  False   True  False   1.0  False   True   ALAMANCE08N  \n",
      "5   False  False  False  False   0.0  False  False   ALAMANCE09S  \n",
      "6    True  False   True  False   1.0  False  False   ALAMANCE10N  \n",
      "7   False  False  False  False   0.0  False  False   ALAMANCE126  \n",
      "8    True  False   True  False   1.0  False   True   ALAMANCE10N  \n",
      "9    True  False   True  False   1.0  False   True   ALAMANCE10N  \n",
      "10   True  False   True  False   1.0  False   True  ALAMANCE03N2  \n",
      "11  False  False   True  False   0.0  False   True    ALAMANCE07  \n",
      "12   True  False   True  False   1.0  False   True   ALAMANCE08S  \n",
      "13  False  False  False  False   0.0  False  False   ALAMANCE12W  \n",
      "14   True  False   True  False   1.0  False   True   ALAMANCE09S  \n"
     ]
    }
   ],
   "source": [
    "print(combined_2015.head(n=15))"
   ]
  },
  {
   "cell_type": "markdown",
   "metadata": {
    "collapsed": false
   },
   "source": [
    "Subset the dataframe to keep only the needed columns"
   ]
  },
  {
   "cell_type": "code",
   "execution_count": 42,
   "metadata": {
    "collapsed": false
   },
   "outputs": [],
   "source": [
    "turnout = combined_2015.ix[:,['county_desc',  'county_pct', '2015']]"
   ]
  },
  {
   "cell_type": "markdown",
   "metadata": {},
   "source": [
    "Convert '2015' to 1s and 0s"
   ]
  },
  {
   "cell_type": "code",
   "execution_count": 43,
   "metadata": {
    "collapsed": true
   },
   "outputs": [],
   "source": [
    "turnout['2015'] = turnout['2015'].astype(int)"
   ]
  },
  {
   "cell_type": "code",
   "execution_count": 44,
   "metadata": {
    "collapsed": false
   },
   "outputs": [
    {
     "name": "stdout",
     "output_type": "stream",
     "text": [
      "  county_desc    county_pct  2015\n",
      "0    ALAMANCE   ALAMANCE063     0\n",
      "1    ALAMANCE    ALAMANCE13     0\n",
      "2    ALAMANCE  ALAMANCE1210     0\n",
      "3    ALAMANCE   ALAMANCE09S     0\n",
      "4    ALAMANCE   ALAMANCE08N     0\n"
     ]
    }
   ],
   "source": [
    "print(turnout.head())"
   ]
  },
  {
   "cell_type": "markdown",
   "metadata": {},
   "source": [
    "Strip out blanks in 'county_pct'"
   ]
  },
  {
   "cell_type": "code",
   "execution_count": 45,
   "metadata": {
    "collapsed": false
   },
   "outputs": [
    {
     "name": "stdout",
     "output_type": "stream",
     "text": [
      "  county_desc    county_pct  2015\n",
      "0    ALAMANCE   ALAMANCE063     0\n",
      "1    ALAMANCE    ALAMANCE13     0\n",
      "2    ALAMANCE  ALAMANCE1210     0\n",
      "3    ALAMANCE   ALAMANCE09S     0\n",
      "4    ALAMANCE   ALAMANCE08N     0\n"
     ]
    }
   ],
   "source": [
    "turnout['county_pct'] = turnout['county_pct'].map(lambda x: x.replace(\" \", \"\"))\n",
    "print(turnout.head())"
   ]
  },
  {
   "cell_type": "markdown",
   "metadata": {},
   "source": [
    "Use pandas pivot table functionality to create a table with turnout by count_precinct combination"
   ]
  },
  {
   "cell_type": "markdown",
   "metadata": {
    "collapsed": false
   },
   "source": [
    "Create a Pivot Table with index of county_precinct and column and aggregation '2015'"
   ]
  },
  {
   "cell_type": "code",
   "execution_count": 46,
   "metadata": {
    "collapsed": false
   },
   "outputs": [],
   "source": [
    "turnout_2015 = pd.pivot_table(turnout, index=['county_pct'], values=['2015'],  \n",
    "                                 aggfunc=fraction_one,  margins = False) # Use the aggfunc created for 2014"
   ]
  },
  {
   "cell_type": "code",
   "execution_count": 47,
   "metadata": {
    "collapsed": false
   },
   "outputs": [
    {
     "name": "stdout",
     "output_type": "stream",
     "text": [
      "2710\n",
      "                 2015\n",
      "county_pct           \n",
      "ALAMANCE01   0.000000\n",
      "ALAMANCE02   0.009596\n",
      "ALAMANCE035  0.010371\n",
      "ALAMANCE03C  0.279386\n",
      "ALAMANCE03N  0.098882\n"
     ]
    }
   ],
   "source": [
    "print len(turnout_2015)\n",
    "print(turnout_2015.head())"
   ]
  },
  {
   "cell_type": "markdown",
   "metadata": {
    "collapsed": false
   },
   "source": [
    "Convert to a dataframe"
   ]
  },
  {
   "cell_type": "code",
   "execution_count": 48,
   "metadata": {
    "collapsed": false
   },
   "outputs": [
    {
     "name": "stdout",
     "output_type": "stream",
     "text": [
      "    county_pct      2015\n",
      "0   ALAMANCE01  0.000000\n",
      "1   ALAMANCE02  0.009596\n",
      "2  ALAMANCE035  0.010371\n",
      "3  ALAMANCE03C  0.279386\n",
      "4  ALAMANCE03N  0.098882\n"
     ]
    }
   ],
   "source": [
    "turnout_2015 = pd.DataFrame.from_records(turnout_2015.to_records())\n",
    "print turnout_2015.head()"
   ]
  },
  {
   "cell_type": "markdown",
   "metadata": {},
   "source": [
    "## Now we do the same thing for 2016"
   ]
  },
  {
   "cell_type": "code",
   "execution_count": 49,
   "metadata": {
    "collapsed": true
   },
   "outputs": [],
   "source": [
    "local.database = 'registration2016'\n",
    "local.table = 'VR_Snapshot_20161108'"
   ]
  },
  {
   "cell_type": "markdown",
   "metadata": {},
   "source": [
    "I want all rows with status codes 'A' and 'I'"
   ]
  },
  {
   "cell_type": "code",
   "execution_count": 50,
   "metadata": {
    "collapsed": false
   },
   "outputs": [
    {
     "name": "stdout",
     "output_type": "stream",
     "text": [
      "([status_cd] = 'A' OR [status_cd] = 'I')\n"
     ]
    }
   ],
   "source": [
    "condition1 = \"[status_cd] = 'A'\"\n",
    "condition2 = \"[status_cd] = 'I'\"\n",
    "condition = \"(\" + condition1 + \" OR \" + condition2 + \")\"  \n",
    "print condition"
   ]
  },
  {
   "cell_type": "code",
   "execution_count": 51,
   "metadata": {
    "collapsed": false
   },
   "outputs": [
    {
     "name": "stdout",
     "output_type": "stream",
     "text": [
      "[county_desc],[ncid],[precinct_abbrv]\n"
     ]
    }
   ],
   "source": [
    "#Set up the fields that I need to pull from the database \n",
    "fields = '[county_desc],[ncid],[precinct_abbrv]'\n",
    "print fields"
   ]
  },
  {
   "cell_type": "code",
   "execution_count": 52,
   "metadata": {
    "collapsed": false
   },
   "outputs": [],
   "source": [
    "#Pull the data from the database\n",
    "demographics=pullODBC(local.driver,\n",
    "                      local.server,\n",
    "                      local.database,\n",
    "                      local.username,\n",
    "                      local.password,\n",
    "                      local.table,\n",
    "                      fields,\n",
    "                      condition)"
   ]
  },
  {
   "cell_type": "code",
   "execution_count": 53,
   "metadata": {
    "collapsed": false
   },
   "outputs": [
    {
     "name": "stdout",
     "output_type": "stream",
     "text": [
      "6918379\n",
      "        county_desc     ncid precinct_abbrv\n",
      "6918364      YADKIN  ER28291           EBND\n",
      "6918365      YADKIN  ER28351           NLIB\n",
      "6918366      YADKIN  ER28436           NKNB\n",
      "6918367      YADKIN  ER28439           BNVL\n",
      "6918368      YADKIN  ER28378           EBND\n",
      "6918369      YADKIN  ER28380           NLIB\n",
      "6918370      YADKIN  ER28408           NKNB\n",
      "6918371      YADKIN  ER28409           EBND\n",
      "6918372      YADKIN  ER28615           EBND\n",
      "6918373      YADKIN  ER28616           FBSH\n",
      "6918374      YADKIN  ER28587           SLIB\n",
      "6918375      YADKIN  ER28614           DCRK\n",
      "6918376      YADKIN  ER28644           BNVL\n",
      "6918377      YADKIN  ER28646           NLIB\n",
      "6918378      YADKIN  ER28647           EBND\n"
     ]
    }
   ],
   "source": [
    "print(len(demographics))\n",
    "print demographics.tail(n=15)\n",
    "raw_len = len(demographics)# Save the number of rows"
   ]
  },
  {
   "cell_type": "markdown",
   "metadata": {},
   "source": [
    "We now need to delete any rows with blank county_desc, ncid, or precinct_abbrv.  We do that by first changing blans to NaNs, and the deleting any rows with NaNs"
   ]
  },
  {
   "cell_type": "code",
   "execution_count": 54,
   "metadata": {
    "collapsed": true
   },
   "outputs": [],
   "source": [
    "def fix_blanks_NaN(x):\n",
    "    if x == \"\":\n",
    "        return np.nan\n",
    "    elif x == \" \":\n",
    "        return np.nan\n",
    "    else:\n",
    "        return x"
   ]
  },
  {
   "cell_type": "code",
   "execution_count": 55,
   "metadata": {
    "collapsed": false
   },
   "outputs": [
    {
     "name": "stdout",
     "output_type": "stream",
     "text": [
      "The number of rows I have dropped is 3896\n",
      "The number of rows remaining in the database is 6914483\n",
      "The precentage of rows that I have dropped is: 0.056%\n"
     ]
    }
   ],
   "source": [
    "#Change blank fields to Nan\n",
    "fields = demographics.columns\n",
    "for col in fields:\n",
    "    demographics[col] = demographics[col].apply(fix_blanks_NaN)\n",
    "#Next, delete any rows with NaN and disply counts\n",
    "demographics.dropna(inplace=True, how='any') #drop all rows with NaN\n",
    "clean_len=len(demographics) #how many rows to I have left?\n",
    "difference = raw_len - clean_len #how many rows have I dropped?\n",
    "fraction = float(difference)/float(raw_len) #what fraction of rows have I dropped?\n",
    "print \"The number of rows I have dropped is \" + str(difference) \n",
    "print \"The number of rows remaining in the database is \" + str(clean_len)\n",
    "print \"The precentage of rows that I have dropped is: \" + str('{:.3%}'.format(fraction))"
   ]
  },
  {
   "cell_type": "markdown",
   "metadata": {},
   "source": [
    "Now we do a left join of elections_flattened to demographics since we use the 2016 registration data as our denominator for 2016 turnout"
   ]
  },
  {
   "cell_type": "code",
   "execution_count": 56,
   "metadata": {
    "collapsed": false
   },
   "outputs": [
    {
     "name": "stdout",
     "output_type": "stream",
     "text": [
      "(6914483, 6914483, 6490208)\n"
     ]
    }
   ],
   "source": [
    "combined_2016 = pd.merge(demographics, elections_flattened, how='left', on='ncid')\n",
    "print(len(combined_2016), len(demographics), len(elections_flattened))# combined should have the same number of rows as demographics"
   ]
  },
  {
   "cell_type": "markdown",
   "metadata": {},
   "source": [
    "Let's take a look at combined_2016"
   ]
  },
  {
   "cell_type": "code",
   "execution_count": 57,
   "metadata": {
    "collapsed": false
   },
   "outputs": [
    {
     "name": "stdout",
     "output_type": "stream",
     "text": [
      "        county_desc     ncid precinct_abbrv  Unnamed: 0   2007   2008   2009  \\\n",
      "6914468      YADKIN  ER28291           EBND   6464824.0  False   True  False   \n",
      "6914469      YADKIN  ER28351           NLIB   6464851.0  False   True  False   \n",
      "6914470      YADKIN  ER28436           NKNB         NaN    NaN    NaN    NaN   \n",
      "6914471      YADKIN  ER28439           BNVL   6464894.0  False   True  False   \n",
      "6914472      YADKIN  ER28378           EBND   6464864.0  False   True  False   \n",
      "6914473      YADKIN  ER28380           NLIB   6464865.0  False   True  False   \n",
      "6914474      YADKIN  ER28408           NKNB         NaN    NaN    NaN    NaN   \n",
      "6914475      YADKIN  ER28409           EBND         NaN    NaN    NaN    NaN   \n",
      "6914476      YADKIN  ER28615           EBND   6464970.0  False   True  False   \n",
      "6914477      YADKIN  ER28616           FBSH   6464971.0  False   True  False   \n",
      "6914478      YADKIN  ER28587           SLIB   6464954.0  False  False  False   \n",
      "6914479      YADKIN  ER28614           DCRK   6464969.0  False   True  False   \n",
      "6914480      YADKIN  ER28644           BNVL   6464985.0  False  False  False   \n",
      "6914481      YADKIN  ER28646           NLIB   6464987.0  False   True  False   \n",
      "6914482      YADKIN  ER28647           EBND   6464988.0  False   True  False   \n",
      "\n",
      "          2010   2011   2012   2013  2014   2015   2016  \n",
      "6914468   True  False   True  False   1.0  False   True  \n",
      "6914469  False  False  False  False   0.0  False   True  \n",
      "6914470    NaN    NaN    NaN    NaN   NaN    NaN    NaN  \n",
      "6914471  False  False   True  False   1.0  False   True  \n",
      "6914472  False  False   True  False   1.0  False   True  \n",
      "6914473  False  False  False  False   0.0  False  False  \n",
      "6914474    NaN    NaN    NaN    NaN   NaN    NaN    NaN  \n",
      "6914475    NaN    NaN    NaN    NaN   NaN    NaN    NaN  \n",
      "6914476   True  False   True  False   1.0  False   True  \n",
      "6914477  False  False   True  False   1.0  False   True  \n",
      "6914478  False  False   True  False   0.0  False  False  \n",
      "6914479   True  False   True  False   1.0  False   True  \n",
      "6914480  False  False   True  False   1.0  False   True  \n",
      "6914481  False  False   True  False   1.0  False   True  \n",
      "6914482   True  False   True  False   0.0  False   True  \n"
     ]
    }
   ],
   "source": [
    "print(combined_2016.tail(n=15))"
   ]
  },
  {
   "cell_type": "markdown",
   "metadata": {},
   "source": [
    "We now need to fill all the NaNs with False.  The only NaNs are for registered voters without voting records that were created by the left join"
   ]
  },
  {
   "cell_type": "code",
   "execution_count": 58,
   "metadata": {
    "collapsed": true
   },
   "outputs": [],
   "source": [
    "combined_2016.fillna(value=False, method=None, axis=None, inplace=True, limit=None, downcast=None)"
   ]
  },
  {
   "cell_type": "code",
   "execution_count": 59,
   "metadata": {
    "collapsed": false
   },
   "outputs": [
    {
     "name": "stdout",
     "output_type": "stream",
     "text": [
      "        county_desc     ncid precinct_abbrv  Unnamed: 0   2007   2008   2009  \\\n",
      "6914468      YADKIN  ER28291           EBND   6464824.0  False   True  False   \n",
      "6914469      YADKIN  ER28351           NLIB   6464851.0  False   True  False   \n",
      "6914470      YADKIN  ER28436           NKNB         0.0  False  False  False   \n",
      "6914471      YADKIN  ER28439           BNVL   6464894.0  False   True  False   \n",
      "6914472      YADKIN  ER28378           EBND   6464864.0  False   True  False   \n",
      "6914473      YADKIN  ER28380           NLIB   6464865.0  False   True  False   \n",
      "6914474      YADKIN  ER28408           NKNB         0.0  False  False  False   \n",
      "6914475      YADKIN  ER28409           EBND         0.0  False  False  False   \n",
      "6914476      YADKIN  ER28615           EBND   6464970.0  False   True  False   \n",
      "6914477      YADKIN  ER28616           FBSH   6464971.0  False   True  False   \n",
      "6914478      YADKIN  ER28587           SLIB   6464954.0  False  False  False   \n",
      "6914479      YADKIN  ER28614           DCRK   6464969.0  False   True  False   \n",
      "6914480      YADKIN  ER28644           BNVL   6464985.0  False  False  False   \n",
      "6914481      YADKIN  ER28646           NLIB   6464987.0  False   True  False   \n",
      "6914482      YADKIN  ER28647           EBND   6464988.0  False   True  False   \n",
      "\n",
      "          2010   2011   2012   2013  2014   2015   2016  \n",
      "6914468   True  False   True  False   1.0  False   True  \n",
      "6914469  False  False  False  False   0.0  False   True  \n",
      "6914470  False  False  False  False   0.0  False  False  \n",
      "6914471  False  False   True  False   1.0  False   True  \n",
      "6914472  False  False   True  False   1.0  False   True  \n",
      "6914473  False  False  False  False   0.0  False  False  \n",
      "6914474  False  False  False  False   0.0  False  False  \n",
      "6914475  False  False  False  False   0.0  False  False  \n",
      "6914476   True  False   True  False   1.0  False   True  \n",
      "6914477  False  False   True  False   1.0  False   True  \n",
      "6914478  False  False   True  False   0.0  False  False  \n",
      "6914479   True  False   True  False   1.0  False   True  \n",
      "6914480  False  False   True  False   1.0  False   True  \n",
      "6914481  False  False   True  False   1.0  False   True  \n",
      "6914482   True  False   True  False   0.0  False   True  \n"
     ]
    }
   ],
   "source": [
    "print(combined_2016.tail(n=15))"
   ]
  },
  {
   "cell_type": "markdown",
   "metadata": {},
   "source": [
    "Next, we create a new field that combines county_desc with precinct_abbrv"
   ]
  },
  {
   "cell_type": "code",
   "execution_count": 60,
   "metadata": {
    "collapsed": true
   },
   "outputs": [],
   "source": [
    "combined_2016['county_pct'] = combined_2016['county_desc']+combined_2016['precinct_abbrv']"
   ]
  },
  {
   "cell_type": "code",
   "execution_count": 61,
   "metadata": {
    "collapsed": false
   },
   "outputs": [
    {
     "name": "stdout",
     "output_type": "stream",
     "text": [
      "   county_desc     ncid precinct_abbrv  Unnamed: 0   2007   2008   2009  \\\n",
      "0     ALAMANCE  AA95530            063     14867.0   True   True   True   \n",
      "1     ALAMANCE  AA95533            06N         0.0  False  False  False   \n",
      "2     ALAMANCE  AA95534            03C     14868.0  False   True   True   \n",
      "3     ALAMANCE  AA95538             01   1531195.0  False   True  False   \n",
      "4     ALAMANCE  AA95549            03W   1531197.0  False   True  False   \n",
      "5     ALAMANCE  AA95553            10S   1531198.0  False   True  False   \n",
      "6     ALAMANCE  AA95972            127   1531344.0  False   True  False   \n",
      "7     ALAMANCE  AA95980            063   1531346.0  False   True  False   \n",
      "8     ALAMANCE  AA95981            063   1531347.0  False   True  False   \n",
      "9     ALAMANCE  AA95982             11   1531348.0  False   True  False   \n",
      "10    ALAMANCE  AA95983            063     14906.0  False   True  False   \n",
      "11    ALAMANCE  AA95985            127   1531349.0  False   True  False   \n",
      "12    ALAMANCE  AA95987            12S   1531350.0  False   True  False   \n",
      "13    ALAMANCE  AA95988            03N   1531351.0  False   True  False   \n",
      "14    ALAMANCE  AA95989            03N   1531352.0  False   True  False   \n",
      "\n",
      "     2010   2011   2012   2013  2014   2015   2016   county_pct  \n",
      "0    True   True   True   True   1.0   True   True  ALAMANCE063  \n",
      "1   False  False  False  False   0.0  False  False  ALAMANCE06N  \n",
      "2    True  False   True   True   1.0   True   True  ALAMANCE03C  \n",
      "3    True  False   True  False   1.0  False   True   ALAMANCE01  \n",
      "4    True  False   True  False   1.0  False   True  ALAMANCE03W  \n",
      "5   False  False   True  False   0.0  False   True  ALAMANCE10S  \n",
      "6    True  False   True  False   1.0  False   True  ALAMANCE127  \n",
      "7    True  False   True  False   1.0  False   True  ALAMANCE063  \n",
      "8    True  False   True  False   1.0  False   True  ALAMANCE063  \n",
      "9    True  False   True  False   1.0  False   True   ALAMANCE11  \n",
      "10   True   True   True  False   1.0   True   True  ALAMANCE063  \n",
      "11   True  False   True  False   1.0  False  False  ALAMANCE127  \n",
      "12  False  False   True  False   0.0  False   True  ALAMANCE12S  \n",
      "13   True  False   True  False   1.0  False   True  ALAMANCE03N  \n",
      "14  False  False   True  False   0.0  False   True  ALAMANCE03N  \n"
     ]
    }
   ],
   "source": [
    "print(combined_2016.head(n=15))"
   ]
  },
  {
   "cell_type": "markdown",
   "metadata": {
    "collapsed": false
   },
   "source": [
    "Subset the dataframe to keep only the needed columns"
   ]
  },
  {
   "cell_type": "code",
   "execution_count": 62,
   "metadata": {
    "collapsed": false
   },
   "outputs": [],
   "source": [
    "turnout = combined_2016.ix[:,['county_desc',  'county_pct', '2016']]"
   ]
  },
  {
   "cell_type": "markdown",
   "metadata": {},
   "source": [
    "Convert '2016' to 1s and 0s"
   ]
  },
  {
   "cell_type": "code",
   "execution_count": 63,
   "metadata": {
    "collapsed": true
   },
   "outputs": [],
   "source": [
    "turnout['2016'] = turnout['2016'].astype(int)"
   ]
  },
  {
   "cell_type": "code",
   "execution_count": 64,
   "metadata": {
    "collapsed": false
   },
   "outputs": [
    {
     "name": "stdout",
     "output_type": "stream",
     "text": [
      "  county_desc   county_pct  2016\n",
      "0    ALAMANCE  ALAMANCE063     1\n",
      "1    ALAMANCE  ALAMANCE06N     0\n",
      "2    ALAMANCE  ALAMANCE03C     1\n",
      "3    ALAMANCE   ALAMANCE01     1\n",
      "4    ALAMANCE  ALAMANCE03W     1\n"
     ]
    }
   ],
   "source": [
    "print(turnout.head())"
   ]
  },
  {
   "cell_type": "markdown",
   "metadata": {},
   "source": [
    "Strip out blanks in 'county_pct'"
   ]
  },
  {
   "cell_type": "code",
   "execution_count": 65,
   "metadata": {
    "collapsed": false
   },
   "outputs": [
    {
     "name": "stdout",
     "output_type": "stream",
     "text": [
      "  county_desc   county_pct  2016\n",
      "0    ALAMANCE  ALAMANCE063     1\n",
      "1    ALAMANCE  ALAMANCE06N     0\n",
      "2    ALAMANCE  ALAMANCE03C     1\n",
      "3    ALAMANCE   ALAMANCE01     1\n",
      "4    ALAMANCE  ALAMANCE03W     1\n"
     ]
    }
   ],
   "source": [
    "turnout['county_pct'] = turnout['county_pct'].map(lambda x: x.replace(\" \", \"\"))\n",
    "print(turnout.head())"
   ]
  },
  {
   "cell_type": "markdown",
   "metadata": {},
   "source": [
    "Use pandas pivot table functionality to create a table with turnout by count_precinct combination"
   ]
  },
  {
   "cell_type": "markdown",
   "metadata": {
    "collapsed": false
   },
   "source": [
    "Create a Pivot Table with index of county_precinct and column and aggregation '2016'"
   ]
  },
  {
   "cell_type": "code",
   "execution_count": 66,
   "metadata": {
    "collapsed": false
   },
   "outputs": [],
   "source": [
    "turnout_2016 = pd.pivot_table(turnout, index=['county_pct'], values=['2016'],  \n",
    "                                 aggfunc=fraction_one,  margins = False) # Use the aggfunc created for 2014"
   ]
  },
  {
   "cell_type": "code",
   "execution_count": 67,
   "metadata": {
    "collapsed": false
   },
   "outputs": [
    {
     "name": "stdout",
     "output_type": "stream",
     "text": [
      "2704\n",
      "                 2016\n",
      "county_pct           \n",
      "ALAMANCE01   0.733687\n",
      "ALAMANCE02   0.764010\n",
      "ALAMANCE035  0.599120\n",
      "ALAMANCE03C  0.804057\n",
      "ALAMANCE03N  0.685009\n"
     ]
    }
   ],
   "source": [
    "print len(turnout_2016)\n",
    "print(turnout_2016.head())"
   ]
  },
  {
   "cell_type": "markdown",
   "metadata": {
    "collapsed": false
   },
   "source": [
    "Convert to a dataframe"
   ]
  },
  {
   "cell_type": "code",
   "execution_count": 68,
   "metadata": {
    "collapsed": false
   },
   "outputs": [
    {
     "name": "stdout",
     "output_type": "stream",
     "text": [
      "    county_pct      2016\n",
      "0   ALAMANCE01  0.733687\n",
      "1   ALAMANCE02  0.764010\n",
      "2  ALAMANCE035  0.599120\n",
      "3  ALAMANCE03C  0.804057\n",
      "4  ALAMANCE03N  0.685009\n"
     ]
    }
   ],
   "source": [
    "turnout_2016 = pd.DataFrame.from_records(turnout_2016.to_records())\n",
    "print turnout_2016.head()"
   ]
  },
  {
   "cell_type": "markdown",
   "metadata": {},
   "source": [
    "## Now we will use outer joins to combine the 3 dataframes"
   ]
  },
  {
   "cell_type": "code",
   "execution_count": 69,
   "metadata": {
    "collapsed": false
   },
   "outputs": [
    {
     "name": "stdout",
     "output_type": "stream",
     "text": [
      "(2718, 2704, 2710)\n",
      "(2777, 2726)\n"
     ]
    }
   ],
   "source": [
    "turnout_all = pd.merge(turnout_2016, turnout_2015, how='outer', on='county_pct')\n",
    "print(len(turnout_all), len(turnout_2016), len(turnout_2015))# turnout_all  should have more rows than 2016 and 2015\n",
    "turnout_all = pd.merge(turnout_all, turnout_2014, how='outer', on='county_pct')\n",
    "print(len(turnout_all), len(turnout_2014))# the new turnout_all should have more rows than the old one and 2014"
   ]
  },
  {
   "cell_type": "markdown",
   "metadata": {},
   "source": [
    "Now we write this to a csv for analysis and inclusion as 3 dimensions in precinct clustering"
   ]
  },
  {
   "cell_type": "code",
   "execution_count": 70,
   "metadata": {
    "collapsed": true
   },
   "outputs": [],
   "source": [
    "turnout_all.to_csv('turnout_all.csv')"
   ]
  }
 ],
 "metadata": {
  "celltoolbar": "Raw Cell Format",
  "kernelspec": {
   "display_name": "Python 2",
   "language": "python",
   "name": "python2"
  },
  "language_info": {
   "codemirror_mode": {
    "name": "ipython",
    "version": 2
   },
   "file_extension": ".py",
   "mimetype": "text/x-python",
   "name": "python",
   "nbconvert_exporter": "python",
   "pygments_lexer": "ipython2",
   "version": "2.7.13"
  }
 },
 "nbformat": 4,
 "nbformat_minor": 0
}
