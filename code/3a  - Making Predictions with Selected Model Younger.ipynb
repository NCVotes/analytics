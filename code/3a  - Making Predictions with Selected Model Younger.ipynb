{
 "cells": [
  {
   "cell_type": "markdown",
   "metadata": {},
   "source": [
    "##  Characterizing the entire North Carolina registered voting population.  If our model is accurate, the state should lean very close to 50% Democratic, 50% Republican based upon 2016 election results for  Attorney General.  In this file, we drop voters > 99 years of age and those that have been registered > 61 years\n",
    "### Overview\n",
    " \n",
    "In the previous activity, we finalized our model, determined the most important demographic predictors, and described  the range of 'probabilities' of having Republican sentiment.\n",
    "\n",
    "In this section, we will use this model to predict the sentiment  of Libertarian and Unaffiliated voters\n",
    "\n",
    "In creating our model, we maximized 'accuracy' defined as the probability that using specific model features, we would correctly classify a voter of unknown sentiment as either leaning Republican or Democratic.  This is very useful if a randomly selected voter is queried about their demographics and we need to predict their sentiment.  However, the model has a serious flaw; it over-predicts republicans in order to achieve this accuracy.  Consider the following table, known as a 'confusion matrix'\n",
    "\n",
    "<img src="files/confusion_matrix.jpg">\n",
    " \n",
    " Even though accuracy is 75%, there are a lower percentage of democrats correctly predicted as democrats (known as 'specificity': 69%) than republicans predicted as republican (known as 'recall' or 'sensitivity': 83%).  Therefore, if we used this raw model to make predictions on a large population, it would over-predict republicans. \n",
    " \n",
    "To correct this, we need to balance out the number of correctly predicted republicans and democrats.  This will come at the cost of some accuracy, but it will enhance our ability to make predictions on large groups.\n",
    "\n",
    "The way we will do this is by changing the threshold of 'probability' Republican sentiment necessary in order to classify a voter as Republican.  By default, this threshold is set at .50;  If 'probability' Republican sentiment is between 0 and .499999999, a person is classified as having Democratic sentiment.  If this value is between .50 and 1, the person is classified as having Republican sentiment.  What we will do is to gradually move this threshold higher until the difference between 'specificity' and 'sensitivity' is minimized.   We will then re-calculate the 'accuracy' to see how much this has been reduced."
   ]
  },
  {
   "cell_type": "markdown",
   "metadata": {},
   "source": [
    "### Section A: Preparation, Pulling Data from the Database, and Cleaning the Data"
   ]
  },
  {
   "cell_type": "code",
   "execution_count": 1,
   "metadata": {
    "collapsed": false
   },
   "outputs": [],
   "source": [
    "#First set everthing up\n",
    "import pyodbc\n",
    "import graphlab as gl\n",
    "import pandas as pd\n",
    "import matplotlib.pyplot as plt\n",
    "import numpy as np\n",
    "import datetime\n",
    "import local #server information and credentials\n",
    "from pullODBC import pullODBC \n",
    "from matplotlib.backends.backend_pdf import PdfPages\n",
    "from __future__ import division # convert integer division to floating point\n",
    "%matplotlib inline\n",
    "plt.style.use('seaborn-white')\n",
    "plt.rcParams['font.size'] = 7\n",
    "plt.tight_layout;\n",
    "plt.rc('xtick', labelsize=7) \n",
    "plt.rc('ytick', labelsize=7) "
   ]
  },
  {
   "cell_type": "markdown",
   "metadata": {},
   "source": [
    "Display everything in full screen"
   ]
  },
  {
   "cell_type": "code",
   "execution_count": 2,
   "metadata": {
    "collapsed": false
   },
   "outputs": [
    {
     "data": {
      "text/html": [
       "<style>.container { width:100% !important; }</style>"
      ],
      "text/plain": [
       "<IPython.core.display.HTML object>"
      ]
     },
     "metadata": {},
     "output_type": "display_data"
    }
   ],
   "source": [
    "from IPython.core.display import display, HTML\n",
    "display(HTML(\"<style>.container { width:100% !important; }</style>\"))"
   ]
  },
  {
   "cell_type": "markdown",
   "metadata": {},
   "source": [
    "Set up the fields that I need to pull from the database.  This is only those necessary for the final model"
   ]
  },
  {
   "cell_type": "code",
   "execution_count": 3,
   "metadata": {
    "collapsed": false
   },
   "outputs": [
    {
     "name": "stdout",
     "output_type": "stream",
     "text": [
      "[\"birth_age\"], [\"gender_code\"], [\"race_code\"], [\"ethnic_code\"],[\"party_cd\"], [\"status_cd\"], [\"zip_code\"], [\"birth_state\"], [\"drivers_lic\"], [\"county_desc\"], [\"registr_dt\"]\n"
     ]
    }
   ],
   "source": [
    "#Set up the fields that I need to pull from the database \n",
    "fields = '[\"birth_age\"], [\"gender_code\"], [\"race_code\"], [\"ethnic_code\"],[\"party_cd\"], [\"status_cd\"], [\"zip_code\"], [\"birth_state\"], [\"drivers_lic\"], [\"county_desc\"], [\"registr_dt\"]'\n",
    "print fields"
   ]
  },
  {
   "cell_type": "markdown",
   "metadata": {},
   "source": [
    "Only registered, active and inactive voters affiliated as democratic or republican will be pulled for this analysis.   Below I set up my filtering condition to reflect this.  "
   ]
  },
  {
   "cell_type": "code",
   "execution_count": 4,
   "metadata": {
    "collapsed": false
   },
   "outputs": [
    {
     "name": "stdout",
     "output_type": "stream",
     "text": [
      "([\"status_cd\"] = '\"A\"' OR [\"status_cd\"] = '\"I\"') AND ([\"party_cd\"] = '\"DEM\"' OR [\"party_cd\"] = '\"REP\"')\n"
     ]
    }
   ],
   "source": [
    "condition1 = '[\"status_cd\"] = ' + local.single_double_quote + 'A' + local.double_single_quote\n",
    "condition2 = '[\"status_cd\"] = ' + local.single_double_quote + 'I' + local.double_single_quote\n",
    "condition3 = '[\"county_desc\"] = ' + local.single_double_quote + 'Wake' + local.double_single_quote\n",
    "condition4 = '[\"party_cd\"] = ' + local.single_double_quote + 'DEM' + local.double_single_quote\n",
    "condition5 = '[\"party_cd\"] = ' + local.single_double_quote + 'REP' + local.double_single_quote\n",
    "condition = \"(\" + condition1 + \" OR \" + condition2 + \")\" + \" AND \"  + \"(\" + condition4 + \" OR \" + condition5 + \")\" # This line will be run on Azure\n",
    "#condition = \"(\" + condition1 + \" OR \" + condition2 + \")\" + \" AND \"  + \"(\" + condition4 + \" OR \" + condition5 + \")\" + \" AND \" + condition3# This line will be run on local\n",
    "\n",
    "\n",
    "\n",
    "print condition"
   ]
  },
  {
   "cell_type": "markdown",
   "metadata": {},
   "source": [
    "Pull the data from my local database"
   ]
  },
  {
   "cell_type": "code",
   "execution_count": 5,
   "metadata": {
    "collapsed": false
   },
   "outputs": [],
   "source": [
    "demographics=pullODBC(local.driver,\n",
    "                      local.server,\n",
    "                      local.database,\n",
    "                      local.username,\n",
    "                      local.password,\n",
    "                      local.table,\n",
    "                      fields,\n",
    "                      condition)"
   ]
  },
  {
   "cell_type": "markdown",
   "metadata": {},
   "source": [
    "Get rid of all the double quotes from the dataframe"
   ]
  },
  {
   "cell_type": "code",
   "execution_count": 6,
   "metadata": {
    "collapsed": false
   },
   "outputs": [
    {
     "name": "stdout",
     "output_type": "stream",
     "text": [
      "  birth_age gender_code race_code ethnic_code party_cd status_cd zip_code  \\\n",
      "0        93           F         W          NL      DEM         A    27215   \n",
      "1        59           M         W          NL      REP         A    27253   \n",
      "2        68           F         W          NL      REP         A    27217   \n",
      "3        76           M         W          UN      REP         A    27217   \n",
      "4        28           M         W          NL      DEM         A    27302   \n",
      "\n",
      "  birth_state drivers_lic county_desc  registr_dt  \n",
      "0          SC           Y    ALAMANCE  07/02/1998  \n",
      "1          WV           Y    ALAMANCE  05/13/2014  \n",
      "2          PA           Y    ALAMANCE  08/14/2001  \n",
      "3          IA           Y    ALAMANCE  10/23/2001  \n",
      "4          IN           N    ALAMANCE  06/09/2015  \n"
     ]
    }
   ],
   "source": [
    "demographics.columns = demographics.columns.str.strip('\"')\n",
    "for i, col in enumerate(demographics.columns):\n",
    "    demographics.iloc[:, i] = demographics.iloc[:, i].str.replace('\"', '')\n",
    "print demographics.head()"
   ]
  },
  {
   "cell_type": "markdown",
   "metadata": {},
   "source": [
    "Save the total number of active, democratic and republican voters to raw-len and print. We will use this later after cleaning to calculate how many rows we have deleted"
   ]
  },
  {
   "cell_type": "code",
   "execution_count": 7,
   "metadata": {
    "collapsed": false
   },
   "outputs": [
    {
     "name": "stdout",
     "output_type": "stream",
     "text": [
      "The number of rows pulled from the database is 4692494\n"
     ]
    }
   ],
   "source": [
    "raw_len=len(demographics)\n",
    "print \"The number of rows pulled from the database is \" + str(raw_len)"
   ]
  },
  {
   "cell_type": "markdown",
   "metadata": {},
   "source": [
    "Create a generic function to change blank fields to NaN for all categorical fields except birth_state and municipality_abbrv"
   ]
  },
  {
   "cell_type": "code",
   "execution_count": 8,
   "metadata": {
    "collapsed": true
   },
   "outputs": [],
   "source": [
    "def fix_blanks_NaN(x):\n",
    "    if x == \"\":\n",
    "        return np.nan\n",
    "    elif x == \" \":\n",
    "        return np.nan\n",
    "    else:\n",
    "        return x"
   ]
  },
  {
   "cell_type": "markdown",
   "metadata": {},
   "source": [
    "Create a generic function to change blank fields to None for birth_state and municipality_abbrv"
   ]
  },
  {
   "cell_type": "code",
   "execution_count": 9,
   "metadata": {
    "collapsed": true
   },
   "outputs": [],
   "source": [
    "def fix_blanks(x):\n",
    "    if x == \"\":\n",
    "        return \"None\"\n",
    "    elif x == \" \":\n",
    "        return \"None\"\n",
    "    else:\n",
    "        return x"
   ]
  },
  {
   "cell_type": "code",
   "execution_count": 10,
   "metadata": {
    "collapsed": false
   },
   "outputs": [],
   "source": [
    "demographics['birth_state'] = demographics['birth_state'].apply(fix_blanks) # change blanks to \"None\" in birth_state\n",
    "demographics['gender_code'] = demographics['gender_code'].apply(fix_blanks_NaN) # change blanks to NaN in gender_code\n",
    "demographics['race_code'] = demographics['race_code'].apply(fix_blanks_NaN) # etc.\n",
    "demographics['ethnic_code'] = demographics['ethnic_code'].apply(fix_blanks_NaN) \n",
    "demographics['zip_code'] = demographics['zip_code'].apply(fix_blanks_NaN)\n",
    "demographics['birth_state'] = demographics['birth_state'].apply(fix_blanks_NaN) \n",
    "demographics['drivers_lic'] = demographics['drivers_lic'].apply(fix_blanks_NaN) \n",
    "demographics['county_desc'] = demographics['county_desc'].apply(fix_blanks_NaN) \n",
    "demographics['registr_dt'] = demographics['registr_dt'].apply(fix_blanks_NaN)"
   ]
  },
  {
   "cell_type": "markdown",
   "metadata": {},
   "source": [
    "Clean the data by dropping rows with missing data and print a summary"
   ]
  },
  {
   "cell_type": "code",
   "execution_count": 11,
   "metadata": {
    "collapsed": false
   },
   "outputs": [
    {
     "name": "stdout",
     "output_type": "stream",
     "text": [
      "The number of rows I have dropped is 142\n",
      "The number of rows remaining in the database is 4692352\n",
      "The precentage of rows that I have dropped is: 0.003%\n"
     ]
    }
   ],
   "source": [
    "demographics.dropna(inplace=True, how='any') #drop all rows with NaN\n",
    "clean_len=len(demographics) #how many rows to I have left?\n",
    "difference = raw_len - clean_len #how many rows have I dropped?\n",
    "fraction = float(difference)/float(raw_len) #what fraction of rows have I dropped?\n",
    "print \"The number of rows I have dropped is \" + str(difference) \n",
    "print \"The number of rows remaining in the database is \" + str(clean_len)\n",
    "print \"The precentage of rows that I have dropped is: \" + str('{:.3%}'.format(fraction))"
   ]
  },
  {
   "cell_type": "markdown",
   "metadata": {},
   "source": [
    "convert birth_age to a float and registr_dt to datetime"
   ]
  },
  {
   "cell_type": "code",
   "execution_count": 12,
   "metadata": {
    "collapsed": false
   },
   "outputs": [],
   "source": [
    "demographics['birth_age'] = demographics['birth_age'].astype('float64')\n",
    "demographics['registr_dt'] = pd.to_datetime(demographics['registr_dt'])"
   ]
  },
  {
   "cell_type": "markdown",
   "metadata": {},
   "source": [
    "### Section B:  Modeling"
   ]
  },
  {
   "cell_type": "markdown",
   "metadata": {},
   "source": [
    "We need to determine the \"Majority Classifier\".  This is the percentage of the entire measured population that is a member of the majority class (either democratic or republican).  This is the baseline for measuring our model performance using \"accuracy\" since it is the performance we would achieve if we predicted every member of the population to be in the majority class"
   ]
  },
  {
   "cell_type": "code",
   "execution_count": 13,
   "metadata": {
    "collapsed": false
   },
   "outputs": [
    {
     "name": "stdout",
     "output_type": "stream",
     "text": [
      "party_cd\n",
      "DEM    0.562467\n",
      "REP    0.437533\n",
      "Name: party_cd, dtype: float64\n"
     ]
    }
   ],
   "source": [
    "majority = demographics.groupby(['party_cd'])['party_cd'].count()/demographics.groupby(['party_cd'])['party_cd'].count().sum()\n",
    "print majority"
   ]
  },
  {
   "cell_type": "markdown",
   "metadata": {},
   "source": [
    "###### The majority class with all voters is \"democratic\" and the accuracy of the \"Majority Classifier\" is 56.2%.  This will be our baseline for measuring model accuracy.\n"
   ]
  },
  {
   "cell_type": "markdown",
   "metadata": {},
   "source": [
    "\n",
    "Use years since registered rather than days to make coefficient interpretation clearer\n"
   ]
  },
  {
   "cell_type": "code",
   "execution_count": 14,
   "metadata": {
    "collapsed": true
   },
   "outputs": [],
   "source": [
    "def convert_to_float(x): # function to convert a timedelta object to a float of years\n",
    "    return x.total_seconds()/(60*60*24*365.2422)"
   ]
  },
  {
   "cell_type": "markdown",
   "metadata": {},
   "source": [
    "Create all the interaction features and get rid of everything not needed for the model "
   ]
  },
  {
   "cell_type": "code",
   "execution_count": 15,
   "metadata": {
    "collapsed": false
   },
   "outputs": [],
   "source": [
    "demographics['race_gender'] = demographics['race_code'] + demographics ['gender_code']\n",
    "demographics['race_ethnicity'] = demographics['race_code'] + demographics['ethnic_code']\n",
    "demographics['gender_ethnicity'] = demographics['gender_code'] + demographics ['ethnic_code']\n",
    "demographics['age_squared'] = (demographics['birth_age'])**2\n",
    "demographics['age_cubed'] = (demographics['birth_age'])**3\n",
    "now = pd.to_datetime('today') # get today's data\n",
    "demographics['years_since_registration'] = now - demographics['registr_dt'] # get days since registration as a timedelta object\n",
    "demographics['years_since_registration'] = demographics['years_since_registration'].apply(convert_to_float) # convert to float\n",
    "demographics['years_squared'] = (demographics['years_since_registration'])**2\n",
    "demographics['years_cubed'] = (demographics['years_since_registration'])**3\n",
    "demographics = demographics.drop(['registr_dt', 'race_code', 'gender_code', 'ethnic_code', 'county_desc', 'status_cd'], 1) # We no longer need these\n"
   ]
  },
  {
   "cell_type": "markdown",
   "metadata": {},
   "source": [
    "Remove all rows with age > 99 or years since registration > 61 ---- these are probaly errors, and even if not, they are outliers."
   ]
  },
  {
   "cell_type": "code",
   "execution_count": 16,
   "metadata": {
    "collapsed": true
   },
   "outputs": [],
   "source": [
    "demographics = demographics[(demographics['birth_age'] <= 99) & (demographics['years_since_registration'] <= 61)]"
   ]
  },
  {
   "cell_type": "markdown",
   "metadata": {},
   "source": [
    "##### Features\n",
    "I select the features from the simple model"
   ]
  },
  {
   "cell_type": "code",
   "execution_count": 17,
   "metadata": {
    "collapsed": false
   },
   "outputs": [],
   "source": [
    "initial_features = ['birth_age', \n",
    "                    'zip_code', \n",
    "                    'birth_state', \n",
    "                    'drivers_lic', \n",
    "                    'race_gender', \n",
    "                    'race_ethnicity', \n",
    "                    'gender_ethnicity',\n",
    "                    'age_squared', \n",
    "                    'age_cubed',\n",
    "                    'years_since_registration',\n",
    "                    'years_squared',\n",
    "                    'years_cubed'\n",
    "                    ] "
   ]
  },
  {
   "cell_type": "markdown",
   "metadata": {},
   "source": [
    "##### Deleted code that removed \"outliers\", since we are no longer going to examine the coefficients, but instead want accurate predictions"
   ]
  },
  {
   "cell_type": "code",
   "execution_count": 18,
   "metadata": {
    "collapsed": false
   },
   "outputs": [
    {
     "name": "stdout",
     "output_type": "stream",
     "text": [
      "This non-commercial license of GraphLab Create for academic use is assigned to scottsmi@live.unc.edu and will expire on May 15, 2018.\n"
     ]
    },
    {
     "name": "stderr",
     "output_type": "stream",
     "text": [
      "[INFO] graphlab.cython.cy_server: GraphLab Create v2.1 started. Logging: C:\\Windows\\SERVIC~2\\LOCALS~1\\AppData\\Local\\Temp\\graphlab_server_1500047861.log.0\n"
     ]
    }
   ],
   "source": [
    "# For scalability, we need to convert our data into a GraphLab SFrame\n",
    "demographicsS=gl.SFrame(demographics)"
   ]
  },
  {
   "cell_type": "markdown",
   "metadata": {},
   "source": [
    "Split the data into training data (80%) and test data (20%)"
   ]
  },
  {
   "cell_type": "code",
   "execution_count": 19,
   "metadata": {
    "collapsed": false
   },
   "outputs": [],
   "source": [
    "training, test = demographicsS.random_split(.8)# split 80/20"
   ]
  },
  {
   "cell_type": "markdown",
   "metadata": {
    "collapsed": false
   },
   "source": [
    "Now we will run logistic regression using a 0.00 L1 Penalty keeping all the variables.  We also use a small L2 penalty of 0.01 for numerical stability."
   ]
  },
  {
   "cell_type": "code",
   "execution_count": 20,
   "metadata": {
    "collapsed": false
   },
   "outputs": [],
   "source": [
    "model = gl.logistic_classifier.create(training, target='party_cd', features=initial_features, \n",
    "                                              validation_set=None, l1_penalty=0, l2_penalty=.01, \n",
    "                                              verbose=False, max_iterations=10000, class_weights=None)"
   ]
  },
  {
   "cell_type": "markdown",
   "metadata": {},
   "source": [
    "Save the model and coefficients for later use"
   ]
  },
  {
   "cell_type": "code",
   "execution_count": 22,
   "metadata": {
    "collapsed": false
   },
   "outputs": [],
   "source": [
    "coefficients_sf = model.get('coefficients')\n",
    "coefficients_df = coefficients_sf.to_dataframe()\n",
    "coefficients_df.to_pickle('coefficients_df')# Save the model coefficients to a pickle file"
   ]
  },
  {
   "cell_type": "markdown",
   "metadata": {},
   "source": [
    "Let's explore the model"
   ]
  },
  {
   "cell_type": "code",
   "execution_count": 23,
   "metadata": {
    "collapsed": false
   },
   "outputs": [
    {
     "data": {
      "text/plain": [
       "{'accuracy': 0.7515486656865867,\n",
       " 'auc': 0.8296485296328243,\n",
       " 'confusion_matrix': Columns:\n",
       " \ttarget_label\tstr\n",
       " \tpredicted_label\tstr\n",
       " \tcount\tint\n",
       " \n",
       " Rows: 4\n",
       " \n",
       " Data:\n",
       " +--------------+-----------------+--------+\n",
       " | target_label | predicted_label | count  |\n",
       " +--------------+-----------------+--------+\n",
       " |     REP      |       DEM       | 68161  |\n",
       " |     DEM      |       DEM       | 360623 |\n",
       " |     REP      |       REP       | 340254 |\n",
       " |     DEM      |       REP       | 163539 |\n",
       " +--------------+-----------------+--------+\n",
       " [4 rows x 3 columns],\n",
       " 'f1_score': 0.7460009120726853,\n",
       " 'log_loss': 0.4826130764002776,\n",
       " 'precision': 0.675384532933169,\n",
       " 'recall': 0.8331084803447474,\n",
       " 'roc_curve': Columns:\n",
       " \tthreshold\tfloat\n",
       " \tfpr\tfloat\n",
       " \ttpr\tfloat\n",
       " \tp\tint\n",
       " \tn\tint\n",
       " \n",
       " Rows: 100001\n",
       " \n",
       " Data:\n",
       " +-----------+---------------+---------------+--------+--------+\n",
       " | threshold |      fpr      |      tpr      |   p    |   n    |\n",
       " +-----------+---------------+---------------+--------+--------+\n",
       " |    0.0    |      1.0      |      1.0      | 408415 | 524162 |\n",
       " |   1e-05   | 0.99998664535 | 0.99999755151 | 408415 | 524162 |\n",
       " |   2e-05   | 0.99998664535 | 0.99999755151 | 408415 | 524162 |\n",
       " |   3e-05   | 0.99998664535 | 0.99999755151 | 408415 | 524162 |\n",
       " |   4e-05   | 0.99998664535 | 0.99999510302 | 408415 | 524162 |\n",
       " |   5e-05   | 0.99998664535 | 0.99999510302 | 408415 | 524162 |\n",
       " |   6e-05   | 0.99998664535 | 0.99999510302 | 408415 | 524162 |\n",
       " |   7e-05   | 0.99998664535 | 0.99999510302 | 408415 | 524162 |\n",
       " |   8e-05   | 0.99998664535 | 0.99999510302 | 408415 | 524162 |\n",
       " |   9e-05   | 0.99998664535 | 0.99999510302 | 408415 | 524162 |\n",
       " +-----------+---------------+---------------+--------+--------+\n",
       " [100001 rows x 5 columns]\n",
       " Note: Only the head of the SFrame is printed.\n",
       " You can use print_rows(num_rows=m, num_columns=n) to print more rows and columns.}"
      ]
     },
     "execution_count": 23,
     "metadata": {},
     "output_type": "execute_result"
    }
   ],
   "source": [
    "model.evaluate(test)"
   ]
  },
  {
   "cell_type": "markdown",
   "metadata": {},
   "source": [
    "### Section C: Tuning the Model"
   ]
  },
  {
   "cell_type": "markdown",
   "metadata": {},
   "source": [
    "### Although the accuracy of the model is very good at 75% and sensitivity (% of republicans correctly predicted as republicans) is excellent at 83%, specificity (% of democrats correctly predicted as democrats) is less than desired at 69%.  We now need to create a function that manually calculate accuracy, sensitivity and specificity.\n",
    "\n",
    "The function below (get_model_performance) takes as input a classification model, an SFrame used by this model to make predictions, and a threshold for making predictions such that any probability above this threshold yields s 'positive' or 'republican' classification while any probability below this threshold yields a 'negative' or 'democratic' classification. It also takes as input the column in the SFrame containing the classification target and the value of this column that represents a 'positive'.  As a reminder, we are considering 'republican' sentiment as a positive and 'democratic' sentiment as a negative.\n",
    "\n",
    "This function returns a 3-tuple:  accuracy, sensitivity, selectivity"
   ]
  },
  {
   "cell_type": "code",
   "execution_count": 24,
   "metadata": {
    "collapsed": false
   },
   "outputs": [],
   "source": [
    "from __future__ import division # convert integer division to floating point\n",
    "def get_model_performance(model, sframe, threshold, target_feature, positive_value):\n",
    "    sframe['percent'] = model.predict(sframe, output_type='probability') # add a column with the model generated probabilities\n",
    "    sframe['predict_postive'] = sframe['percent'] >= threshold # add a column that contains 'true' if a potivite is predicted\n",
    "    sframe['predict_negative'] = sframe['percent'] < threshold # add a column that contains 'true' if a negative is predicted\n",
    "    sframe['true_postive'] = sframe[target_feature] == positive_value # add a column that contains 'true' if the row is a true postive\n",
    "    sframe['true_negative'] = sframe[target_feature] != positive_value # add a column that contains 'true' if the row is a true negative\n",
    "    \n",
    "    num_observations = len(sframe) # total number of observations\n",
    "    true_positives = sframe['true_postive'].sum() # number of true postives\n",
    "    true_negatives = sframe['true_negative'].sum() # number of true negatives\n",
    "    correct_positives = ((sframe['true_postive'] == 1) & (sframe['predict_postive'] == 1)).sum() # number of correct positive predictions\n",
    "    correct_negatives = ((sframe['true_negative'] == 1) & (sframe['predict_negative'] == 1)).sum() # number of correct negative predictions\n",
    "    sensitivity = correct_positives/true_positives # calculate sensitivity: correctly predicted postives / total positives\n",
    "    specificity = correct_negatives/true_negatives  # calculate specificity: correclty predicted negatives / total negatives\n",
    "    accuracy = (correct_positives + correct_negatives)/num_observations # calculate accuracy:  correct predictions / total observations\n",
    "    return accuracy, sensitivity, specificity # return the 3-tuple\n",
    "    \n",
    "\n"
   ]
  },
  {
   "cell_type": "markdown",
   "metadata": {},
   "source": [
    "Let's test the function using the 'test' data set"
   ]
  },
  {
   "cell_type": "code",
   "execution_count": 25,
   "metadata": {
    "collapsed": false
   },
   "outputs": [
    {
     "name": "stdout",
     "output_type": "stream",
     "text": [
      "(0.7515486656865867, 0.8331084803447474, 0.6879991300399495)\n"
     ]
    }
   ],
   "source": [
    "print get_model_performance(model, test, .5, 'party_cd', 'REP')"
   ]
  },
  {
   "cell_type": "markdown",
   "metadata": {},
   "source": [
    "###### Now, let's move the threshold from .50 to .60 in .001 increments using the training data and find the best threshold value"
   ]
  },
  {
   "cell_type": "code",
   "execution_count": 26,
   "metadata": {
    "collapsed": false
   },
   "outputs": [
    {
     "name": "stdout",
     "output_type": "stream",
     "text": [
      "The best threshold value for predicting positives is 0.563636363636\n",
      "This yields accuracy of 0.746543938012 sensitivity of 0.746065865082 and specificity of 0.746917402413\n"
     ]
    }
   ],
   "source": [
    "min_difference = 1\n",
    "best_threshold = 1\n",
    "best_result = 0.0,0.0,0.0\n",
    "for thresh in np.linspace(.5, .60, num=100):\n",
    "    output =  get_model_performance(model, training, thresh, 'party_cd', 'REP')\n",
    "    difference = output[1]-output[2]\n",
    "    if abs(difference) < min_difference:\n",
    "        min_difference = abs(difference)\n",
    "        best_threshold = thresh\n",
    "        best_result = output\n",
    "print \"The best threshold value for predicting positives is \" + str(best_threshold)  \n",
    "print \"This yields accuracy of \" + str(best_result[0]) + \" sensitivity of \" + str(best_result[1]) + \" and specificity of \" + str(best_result[2])\n",
    "threshold_to_use = best_threshold  "
   ]
  },
  {
   "cell_type": "markdown",
   "metadata": {},
   "source": [
    "Let's validate this threshold value with the 'test' dataset"
   ]
  },
  {
   "cell_type": "code",
   "execution_count": 27,
   "metadata": {
    "collapsed": false
   },
   "outputs": [
    {
     "name": "stdout",
     "output_type": "stream",
     "text": [
      "The best threshold value for predicting positives is 0.563636363636\n",
      "This yields accuracy of 0.747285210765 sensitivity of 0.747281564095 and specificity of 0.747288052167\n"
     ]
    }
   ],
   "source": [
    "min_difference = 1\n",
    "best_threshold = 1\n",
    "best_result = 0.0,0.0,0.0\n",
    "for thresh in np.linspace(.5, .60, num=100):\n",
    "    output =  get_model_performance(model, test, thresh, 'party_cd', 'REP')\n",
    "    difference = output[1]-output[2]\n",
    "    if abs(difference) < min_difference:\n",
    "        min_difference = abs(difference)\n",
    "        best_threshold = thresh\n",
    "        best_result = output\n",
    "print \"The best threshold value for predicting positives is \" + str(best_threshold)  \n",
    "print \"This yields accuracy of \" + str(best_result[0]) + \" sensitivity of \" + str(best_result[1]) + \" and specificity of \" + str(best_result[2])\n",
    "    "
   ]
  },
  {
   "cell_type": "markdown",
   "metadata": {},
   "source": [
    "It looks like this is 0.56 is the threshold that balances sensitivity and specificity, and maintains a high level of accuracy.  We can use this for our predictions"
   ]
  },
  {
   "cell_type": "markdown",
   "metadata": {},
   "source": [
    "### Section D: Making Predictions"
   ]
  },
  {
   "cell_type": "markdown",
   "metadata": {},
   "source": [
    "Now we pull in all the active and inactive registered voters"
   ]
  },
  {
   "cell_type": "code",
   "execution_count": 28,
   "metadata": {
    "collapsed": false
   },
   "outputs": [
    {
     "name": "stdout",
     "output_type": "stream",
     "text": [
      "([\"status_cd\"] = '\"A\"' OR [\"status_cd\"] = '\"I\"')\n"
     ]
    }
   ],
   "source": [
    "condition1 = '[\"status_cd\"] = ' + local.single_double_quote + 'A' + local.double_single_quote\n",
    "condition2 = '[\"status_cd\"] = ' + local.single_double_quote + 'I' + local.double_single_quote\n",
    "condition3 = '[\"county_desc\"] = ' + local.single_double_quote + 'Wake' + local.double_single_quote\n",
    "#condition4 = '[\"party_cd\"] = ' + local.single_double_quote + 'DEM' + local.double_single_quote\n",
    "#condition5 = '[\"party_cd\"] = ' + local.single_double_quote + 'REP' + local.double_single_quote\n",
    "#condition = \"(\" + condition1 + \" OR \" + condition2 + \")\" + \" AND \"  + \"(\" + condition4 + \" OR \" + condition5 + \")\" # This line will be run on Azure\n",
    "#condition = \"(\" + condition1 + \" OR \" + condition2 + \")\"  + \" AND \" + condition3 # This line will be run on local\n",
    "condition = \"(\" + condition1 + \" OR \" + condition2 + \")\" # This line will be run on azure\n",
    "\n",
    "\n",
    "\n",
    "print condition"
   ]
  },
  {
   "cell_type": "code",
   "execution_count": 29,
   "metadata": {
    "collapsed": false
   },
   "outputs": [
    {
     "name": "stdout",
     "output_type": "stream",
     "text": [
      "[\"birth_age\"], [\"gender_code\"], [\"race_code\"], [\"ethnic_code\"],[\"party_cd\"], [\"status_cd\"], [\"zip_code\"], [\"birth_state\"], [\"drivers_lic\"], [\"county_desc\"], [\"registr_dt\"],[\"precinct_abbrv\"] \n"
     ]
    }
   ],
   "source": [
    "#Set up the fields that I need to pull from the database \n",
    "fields = '[\"birth_age\"], [\"gender_code\"], [\"race_code\"], [\"ethnic_code\"],[\"party_cd\"], [\"status_cd\"], [\"zip_code\"], [\"birth_state\"], [\"drivers_lic\"], [\"county_desc\"], [\"registr_dt\"],[\"precinct_abbrv\"] '\n",
    "print fields"
   ]
  },
  {
   "cell_type": "markdown",
   "metadata": {},
   "source": [
    "Now, pull all the data from the database"
   ]
  },
  {
   "cell_type": "code",
   "execution_count": 30,
   "metadata": {
    "collapsed": false
   },
   "outputs": [],
   "source": [
    "demographics=pullODBC(local.driver,\n",
    "                      local.server,\n",
    "                      local.database,\n",
    "                      local.username,\n",
    "                      local.password,\n",
    "                      local.table,\n",
    "                      fields,\n",
    "                      condition)"
   ]
  },
  {
   "cell_type": "markdown",
   "metadata": {},
   "source": [
    "Get rid of all the double quotes from the dataframe"
   ]
  },
  {
   "cell_type": "code",
   "execution_count": 31,
   "metadata": {
    "collapsed": false
   },
   "outputs": [
    {
     "name": "stdout",
     "output_type": "stream",
     "text": [
      "  birth_age gender_code race_code ethnic_code party_cd status_cd zip_code  \\\n",
      "0        93           F         W          NL      DEM         A    27215   \n",
      "1        51           F         W          NL      UNA         A    27253   \n",
      "2        59           M         W          NL      REP         A    27253   \n",
      "3        68           F         W          NL      REP         A    27217   \n",
      "4        76           M         W          UN      REP         A    27217   \n",
      "\n",
      "  birth_state drivers_lic county_desc  registr_dt precinct_abbrv  \n",
      "0          SC           Y    ALAMANCE  07/02/1998           03N2  \n",
      "1          PA           Y    ALAMANCE  05/12/2014            103  \n",
      "2          WV           Y    ALAMANCE  05/13/2014            103  \n",
      "3          PA           Y    ALAMANCE  08/14/2001             13  \n",
      "4          IA           Y    ALAMANCE  10/23/2001             13  \n"
     ]
    }
   ],
   "source": [
    "demographics.columns = demographics.columns.str.strip('\"')\n",
    "for i, col in enumerate(demographics.columns):\n",
    "    demographics.iloc[:, i] = demographics.iloc[:, i].str.replace('\"', '')\n",
    "print demographics.head()"
   ]
  },
  {
   "cell_type": "markdown",
   "metadata": {},
   "source": [
    "Save the total number of active and inactive voters to raw-len and print. We will use this later after cleaning to calculate how many rows we have deleted"
   ]
  },
  {
   "cell_type": "code",
   "execution_count": 32,
   "metadata": {
    "collapsed": false
   },
   "outputs": [
    {
     "name": "stdout",
     "output_type": "stream",
     "text": [
      "The number of rows pulled from the database is 6762419\n"
     ]
    }
   ],
   "source": [
    "raw_len=len(demographics)\n",
    "print \"The number of rows pulled from the database is \" + str(raw_len)"
   ]
  },
  {
   "cell_type": "markdown",
   "metadata": {},
   "source": [
    "Fill birth_state with \"None\" if empty.  Al other empty fields should have NaN"
   ]
  },
  {
   "cell_type": "code",
   "execution_count": 33,
   "metadata": {
    "collapsed": false
   },
   "outputs": [],
   "source": [
    "demographics['birth_state'] = demographics['birth_state'].apply(fix_blanks) # change blanks to \"None\" in birth_state\n",
    "demographics['gender_code'] = demographics['gender_code'].apply(fix_blanks_NaN) # change blanks to NaN in gender_code\n",
    "demographics['race_code'] = demographics['race_code'].apply(fix_blanks_NaN) # etc.\n",
    "demographics['ethnic_code'] = demographics['ethnic_code'].apply(fix_blanks_NaN) \n",
    "demographics['zip_code'] = demographics['zip_code'].apply(fix_blanks_NaN)\n",
    "demographics['birth_state'] = demographics['birth_state'].apply(fix_blanks_NaN) \n",
    "demographics['drivers_lic'] = demographics['drivers_lic'].apply(fix_blanks_NaN) \n",
    "demographics['county_desc'] = demographics['county_desc'].apply(fix_blanks_NaN) \n",
    "demographics['registr_dt'] = demographics['registr_dt'].apply(fix_blanks_NaN)\n",
    "demographics['precinct_abbrv'] = demographics['precinct_abbrv'].apply(fix_blanks_NaN)"
   ]
  },
  {
   "cell_type": "markdown",
   "metadata": {},
   "source": [
    "Clean the data by dropping rows with missing data and print a summary"
   ]
  },
  {
   "cell_type": "code",
   "execution_count": 34,
   "metadata": {
    "collapsed": false
   },
   "outputs": [
    {
     "name": "stdout",
     "output_type": "stream",
     "text": [
      "The number of rows I have dropped is 2963\n",
      "The number of rows remaining in the database is 6759456\n",
      "The precentage of rows that I have dropped is: 0.044%\n"
     ]
    }
   ],
   "source": [
    "demographics.dropna(inplace=True, how='any') #drop all rows with NaN\n",
    "clean_len=len(demographics) #how many rows to I have left?\n",
    "difference = raw_len - clean_len #how many rows have I dropped?\n",
    "fraction = float(difference)/float(raw_len) #what fraction of rows have I dropped?\n",
    "print \"The number of rows I have dropped is \" + str(difference) \n",
    "print \"The number of rows remaining in the database is \" + str(clean_len)\n",
    "print \"The precentage of rows that I have dropped is: \" + str('{:.3%}'.format(fraction))"
   ]
  },
  {
   "cell_type": "markdown",
   "metadata": {},
   "source": [
    "Convert birth_age to float and register_dt to datetime"
   ]
  },
  {
   "cell_type": "code",
   "execution_count": 35,
   "metadata": {
    "collapsed": false
   },
   "outputs": [],
   "source": [
    "demographics['birth_age'] = demographics['birth_age'].astype('float64')\n",
    "demographics['registr_dt'] = pd.to_datetime(demographics['registr_dt'])"
   ]
  },
  {
   "cell_type": "markdown",
   "metadata": {},
   "source": [
    "\n",
    "Use years since registered \n"
   ]
  },
  {
   "cell_type": "code",
   "execution_count": 36,
   "metadata": {
    "collapsed": true
   },
   "outputs": [],
   "source": [
    "def convert_to_float(x): # function to convert a timedelta object to a float of years\n",
    "    return x.total_seconds()/(60*60*24*365.2422)"
   ]
  },
  {
   "cell_type": "markdown",
   "metadata": {},
   "source": [
    "Create all the interaction features and get rid of everything not needed for the model "
   ]
  },
  {
   "cell_type": "code",
   "execution_count": 37,
   "metadata": {
    "collapsed": false
   },
   "outputs": [],
   "source": [
    "demographics['race_gender'] = demographics['race_code'] + demographics ['gender_code']\n",
    "demographics['race_ethnicity'] = demographics['race_code'] + demographics['ethnic_code']\n",
    "demographics['gender_ethnicity'] = demographics['gender_code'] + demographics ['ethnic_code']\n",
    "demographics['age_squared'] = (demographics['birth_age'])**2\n",
    "demographics['age_cubed'] = (demographics['birth_age'])**3\n",
    "now = pd.to_datetime('today') # get today's data\n",
    "demographics['years_since_registration'] = now - demographics['registr_dt'] # get days since registration as a timedelta object\n",
    "demographics['years_since_registration'] = demographics['years_since_registration'].apply(convert_to_float) # convert to float\n",
    "demographics['years_squared'] = (demographics['years_since_registration'])**2\n",
    "demographics['years_cubed'] = (demographics['years_since_registration'])**3\n",
    "demographics = demographics.drop(['registr_dt', 'race_code', 'gender_code', 'ethnic_code'], 1) # We no longer need these\n"
   ]
  },
  {
   "cell_type": "markdown",
   "metadata": {},
   "source": [
    "Remove all rows with age > 99 or years since registration > 61 ---- these are probaly errors, and even if not, they are outliers."
   ]
  },
  {
   "cell_type": "code",
   "execution_count": 38,
   "metadata": {
    "collapsed": true
   },
   "outputs": [],
   "source": [
    "demographics = demographics[(demographics['birth_age'] <= 99) & (demographics['years_since_registration'] <= 61)]"
   ]
  },
  {
   "cell_type": "code",
   "execution_count": 39,
   "metadata": {
    "collapsed": false
   },
   "outputs": [],
   "source": [
    "# For scalability, we need to convert our data into a GraphLab SFrame\n",
    "demographicsS=gl.SFrame(demographics)"
   ]
  },
  {
   "cell_type": "markdown",
   "metadata": {},
   "source": [
    "Let's create two new functions to make predictions based upon a specific threshold (our new decision boundary)"
   ]
  },
  {
   "cell_type": "code",
   "execution_count": 40,
   "metadata": {
    "collapsed": false
   },
   "outputs": [],
   "source": [
    "def return_actual_or_predicted_party(x): # This function returns the party if affiliated, if not returns the predicted party\n",
    "    if x['party_cd'] == \"DEM\":\n",
    "        return\"DEM\"\n",
    "    elif x['party_cd'] == \"REP\":\n",
    "        return \"REP\"\n",
    "    elif x['predict_positive'] == True:\n",
    "        return \"REP\"\n",
    "    else:\n",
    "        return \"DEM\"\n",
    "    \n",
    "\n",
    "def get_model_predictions(model, sframe, threshold):\n",
    "    sframe['percent'] = model.predict(sframe, output_type='probability') # add a column with the model generated probabilities\n",
    "    sframe['predict_positive'] = sframe['percent'] >= threshold # add a column that contains 'true' if a positive is predicted, a false otherwise\n",
    "    sframe['actual_or_predicted']= sframe.apply(return_actual_or_predicted_party)# add this column to contain the actual or predicted party preference\n",
    "    return sframe\n",
    "   "
   ]
  },
  {
   "cell_type": "markdown",
   "metadata": {},
   "source": [
    "Let's get predictions for the entire state of North Carolina"
   ]
  },
  {
   "cell_type": "code",
   "execution_count": 41,
   "metadata": {
    "collapsed": false
   },
   "outputs": [],
   "source": [
    "new_sframe = get_model_predictions(model, demographicsS, threshold_to_use)"
   ]
  },
  {
   "cell_type": "markdown",
   "metadata": {},
   "source": [
    "Let's save this as a dataframe for future use"
   ]
  },
  {
   "cell_type": "code",
   "execution_count": 42,
   "metadata": {
    "collapsed": true
   },
   "outputs": [],
   "source": [
    "demographics_df = demographicsS.to_dataframe()\n",
    "demographics_df.to_pickle('demographics_df') # save the demographics for later use in a pickle file"
   ]
  },
  {
   "cell_type": "markdown",
   "metadata": {},
   "source": [
    "Let's look at the results"
   ]
  },
  {
   "cell_type": "code",
   "execution_count": 43,
   "metadata": {
    "collapsed": false
   },
   "outputs": [
    {
     "name": "stdout",
     "output_type": "stream",
     "text": [
      "actual_or_predicted\n",
      "DEM    0.521546\n",
      "REP    0.478454\n",
      "Name: actual_or_predicted, dtype: float64\n"
     ]
    }
   ],
   "source": [
    "new_dataframe = new_sframe.to_dataframe()\n",
    "analysis = new_dataframe.groupby(['actual_or_predicted'])['actual_or_predicted'].count()/new_dataframe.groupby(['actual_or_predicted'])['actual_or_predicted'].count().sum()\n",
    "print analysis"
   ]
  },
  {
   "cell_type": "markdown",
   "metadata": {},
   "source": [
    "Lastly, let's create a chart that estimates voter preferences by precinct"
   ]
  },
  {
   "cell_type": "code",
   "execution_count": 44,
   "metadata": {
    "collapsed": false
   },
   "outputs": [
    {
     "name": "stdout",
     "output_type": "stream",
     "text": [
      "Writing 'out' (DataFrame) to file 'predicted_party_by_pctl.txt'.\n"
     ]
    }
   ],
   "source": [
    "party_by_pct = pd.pivot_table(new_dataframe[['county_desc','precinct_abbrv','actual_or_predicted']], index=['county_desc','precinct_abbrv','actual_or_predicted'],  \n",
    "                                 aggfunc=len, columns=None, margins = True)# group by county then precinct\n",
    "party_by_pct = party_by_pct.unstack()# change the pivot table into a dataframe\n",
    "party_by_pct = party_by_pct.drop('All', axis=0, level=None, inplace=False)# drop the margin row 'All'\n",
    "party_by_pct = party_by_pct.fillna(value=0, method=None, axis=0, inplace=False, limit=None, downcast=None)# fill empty cells with 0\n",
    "party_by_pct = party_by_pct.rename(index=str, columns={\"REP\": \"Republican Leaning\", \"DEM\": \"Democratic Leaning\"})\n",
    "party_by_pct['Total']=party_by_pct.sum(axis=1, skipna=None, level=None, numeric_only=None)# sum across columns\n",
    "# change columns to percentage\n",
    "for col in party_by_pct.columns:\n",
    "    party_by_pct[col] = party_by_pct[col]/party_by_pct['Total']# first convert to precentage\n",
    "\n",
    "pd.options.display.float_format = '{:.1%}'.format #display as percentages\n",
    "pd.set_option('max_rows', 10000)\n",
    "party_by_pct = party_by_pct.drop('Total', axis=1, level=None, inplace=False)# drop the 'Total' column\n",
    "party_by_pct = party_by_pct.drop('', axis=1, level=None, inplace=False)# drop the blank column\n",
    "\n",
    "out = party_by_pct.sort_values(['Democratic Leaning'],axis=0, ascending=False, inplace=False, kind='quicksort', na_position='last')\n",
    "%store out > predicted_party_by_pctl.txt\n"
   ]
  },
  {
   "cell_type": "code",
   "execution_count": 45,
   "metadata": {
    "collapsed": false
   },
   "outputs": [
    {
     "name": "stdout",
     "output_type": "stream",
     "text": [
      "0.563636363636\n"
     ]
    }
   ],
   "source": [
    "print threshold_to_use"
   ]
  },
  {
   "cell_type": "markdown",
   "metadata": {},
   "source": [
    "Just for fun, let's make predictions assuming a decision threshold of 0.5"
   ]
  },
  {
   "cell_type": "code",
   "execution_count": 46,
   "metadata": {
    "collapsed": false
   },
   "outputs": [],
   "source": [
    "new_sframe = get_model_predictions(model, demographicsS, 0.5)"
   ]
  },
  {
   "cell_type": "markdown",
   "metadata": {},
   "source": [
    "Let's look at the results"
   ]
  },
  {
   "cell_type": "code",
   "execution_count": 47,
   "metadata": {
    "collapsed": false
   },
   "outputs": [
    {
     "name": "stdout",
     "output_type": "stream",
     "text": [
      "actual_or_predicted\n",
      "DEM   49.8%\n",
      "REP   50.2%\n",
      "Name: actual_or_predicted, dtype: float64\n"
     ]
    }
   ],
   "source": [
    "new_dataframe = new_sframe.to_dataframe()\n",
    "analysis = new_dataframe.groupby(['actual_or_predicted'])['actual_or_predicted'].count()/new_dataframe.groupby(['actual_or_predicted'])['actual_or_predicted'].count().sum()\n",
    "print analysis"
   ]
  },
  {
   "cell_type": "markdown",
   "metadata": {},
   "source": [
    "Let's save the model for use later"
   ]
  },
  {
   "cell_type": "code",
   "execution_count": 48,
   "metadata": {
    "collapsed": false
   },
   "outputs": [],
   "source": [
    "model.save('party_model_file')"
   ]
  },
  {
   "cell_type": "markdown",
   "metadata": {},
   "source": [
    "### Section E: Making Predictions using only active voters"
   ]
  },
  {
   "cell_type": "markdown",
   "metadata": {},
   "source": [
    "Now we pull in only the active registered voters"
   ]
  },
  {
   "cell_type": "code",
   "execution_count": 49,
   "metadata": {
    "collapsed": false
   },
   "outputs": [
    {
     "name": "stdout",
     "output_type": "stream",
     "text": [
      "[\"status_cd\"] = '\"A\"'\n"
     ]
    }
   ],
   "source": [
    "condition1 = '[\"status_cd\"] = ' + local.single_double_quote + 'A' + local.double_single_quote\n",
    "condition2 = '[\"status_cd\"] = ' + local.single_double_quote + 'I' + local.double_single_quote\n",
    "condition3 = '[\"county_desc\"] = ' + local.single_double_quote + 'Wake' + local.double_single_quote\n",
    "#condition4 = '[\"party_cd\"] = ' + local.single_double_quote + 'DEM' + local.double_single_quote\n",
    "#condition5 = '[\"party_cd\"] = ' + local.single_double_quote + 'REP' + local.double_single_quote\n",
    "#condition = \"(\" + condition1 + \" OR \" + condition2 + \")\" + \" AND \"  + \"(\" + condition4 + \" OR \" + condition5 + \")\" # This line will be run on Azure\n",
    "#condition = \"(\" + condition1 + \" OR \" + condition2 + \")\"  + \" AND \" + condition3 # This line will be run on local\n",
    "condition = condition1 # This line will be run on azure\n",
    "\n",
    "\n",
    "\n",
    "print condition"
   ]
  },
  {
   "cell_type": "code",
   "execution_count": 50,
   "metadata": {
    "collapsed": false
   },
   "outputs": [
    {
     "name": "stdout",
     "output_type": "stream",
     "text": [
      "[\"birth_age\"], [\"gender_code\"], [\"race_code\"], [\"ethnic_code\"],[\"party_cd\"], [\"status_cd\"], [\"zip_code\"], [\"birth_state\"], [\"drivers_lic\"], [\"county_desc\"], [\"registr_dt\"],[\"precinct_abbrv\"] \n"
     ]
    }
   ],
   "source": [
    "#Set up the fields that I need to pull from the database \n",
    "fields = '[\"birth_age\"], [\"gender_code\"], [\"race_code\"], [\"ethnic_code\"],[\"party_cd\"], [\"status_cd\"], [\"zip_code\"], [\"birth_state\"], [\"drivers_lic\"], [\"county_desc\"], [\"registr_dt\"],[\"precinct_abbrv\"] '\n",
    "print fields"
   ]
  },
  {
   "cell_type": "markdown",
   "metadata": {},
   "source": [
    "Now, pull all the data from the database"
   ]
  },
  {
   "cell_type": "code",
   "execution_count": 51,
   "metadata": {
    "collapsed": false
   },
   "outputs": [],
   "source": [
    "demographics=pullODBC(local.driver,\n",
    "                      local.server,\n",
    "                      local.database,\n",
    "                      local.username,\n",
    "                      local.password,\n",
    "                      local.table,\n",
    "                      fields,\n",
    "                      condition)"
   ]
  },
  {
   "cell_type": "markdown",
   "metadata": {},
   "source": [
    "Get rid of all the double quotes from the dataframe"
   ]
  },
  {
   "cell_type": "code",
   "execution_count": 52,
   "metadata": {
    "collapsed": false
   },
   "outputs": [
    {
     "name": "stdout",
     "output_type": "stream",
     "text": [
      "  birth_age gender_code race_code ethnic_code party_cd status_cd zip_code  \\\n",
      "0        93           F         W          NL      DEM         A    27215   \n",
      "1        51           F         W          NL      UNA         A    27253   \n",
      "2        59           M         W          NL      REP         A    27253   \n",
      "3        68           F         W          NL      REP         A    27217   \n",
      "4        76           M         W          UN      REP         A    27217   \n",
      "\n",
      "  birth_state drivers_lic county_desc  registr_dt precinct_abbrv  \n",
      "0          SC           Y    ALAMANCE  07/02/1998           03N2  \n",
      "1          PA           Y    ALAMANCE  05/12/2014            103  \n",
      "2          WV           Y    ALAMANCE  05/13/2014            103  \n",
      "3          PA           Y    ALAMANCE  08/14/2001             13  \n",
      "4          IA           Y    ALAMANCE  10/23/2001             13  \n"
     ]
    }
   ],
   "source": [
    "demographics.columns = demographics.columns.str.strip('\"')\n",
    "for i, col in enumerate(demographics.columns):\n",
    "    demographics.iloc[:, i] = demographics.iloc[:, i].str.replace('\"', '')\n",
    "print demographics.head()"
   ]
  },
  {
   "cell_type": "markdown",
   "metadata": {},
   "source": [
    "Save the total number of active voters to raw-len and print. We will use this later after cleaning to calculate how many rows we have deleted"
   ]
  },
  {
   "cell_type": "code",
   "execution_count": 53,
   "metadata": {
    "collapsed": false
   },
   "outputs": [
    {
     "name": "stdout",
     "output_type": "stream",
     "text": [
      "The number of rows pulled from the database is 5561288\n"
     ]
    }
   ],
   "source": [
    "raw_len=len(demographics)\n",
    "print \"The number of rows pulled from the database is \" + str(raw_len)"
   ]
  },
  {
   "cell_type": "markdown",
   "metadata": {},
   "source": [
    "Fill birth_state with \"None\" if empty.  Al other empty fields should have NaN"
   ]
  },
  {
   "cell_type": "code",
   "execution_count": 54,
   "metadata": {
    "collapsed": false
   },
   "outputs": [],
   "source": [
    "demographics['birth_state'] = demographics['birth_state'].apply(fix_blanks) # change blanks to \"None\" in birth_state\n",
    "demographics['gender_code'] = demographics['gender_code'].apply(fix_blanks_NaN) # change blanks to NaN in gender_code\n",
    "demographics['race_code'] = demographics['race_code'].apply(fix_blanks_NaN) # etc.\n",
    "demographics['ethnic_code'] = demographics['ethnic_code'].apply(fix_blanks_NaN) \n",
    "demographics['zip_code'] = demographics['zip_code'].apply(fix_blanks_NaN)\n",
    "demographics['birth_state'] = demographics['birth_state'].apply(fix_blanks_NaN) \n",
    "demographics['drivers_lic'] = demographics['drivers_lic'].apply(fix_blanks_NaN) \n",
    "demographics['county_desc'] = demographics['county_desc'].apply(fix_blanks_NaN) \n",
    "demographics['registr_dt'] = demographics['registr_dt'].apply(fix_blanks_NaN)\n",
    "demographics['precinct_abbrv'] = demographics['precinct_abbrv'].apply(fix_blanks_NaN)"
   ]
  },
  {
   "cell_type": "markdown",
   "metadata": {},
   "source": [
    "Clean the data by dropping rows with missing data and print a summary"
   ]
  },
  {
   "cell_type": "code",
   "execution_count": 55,
   "metadata": {
    "collapsed": false
   },
   "outputs": [
    {
     "name": "stdout",
     "output_type": "stream",
     "text": [
      "The number of rows I have dropped is 675\n",
      "The number of rows remaining in the database is 5560613\n",
      "The precentage of rows that I have dropped is: 0.012%\n"
     ]
    }
   ],
   "source": [
    "demographics.dropna(inplace=True, how='any') #drop all rows with NaN\n",
    "clean_len=len(demographics) #how many rows to I have left?\n",
    "difference = raw_len - clean_len #how many rows have I dropped?\n",
    "fraction = float(difference)/float(raw_len) #what fraction of rows have I dropped?\n",
    "print \"The number of rows I have dropped is \" + str(difference) \n",
    "print \"The number of rows remaining in the database is \" + str(clean_len)\n",
    "print \"The precentage of rows that I have dropped is: \" + str('{:.3%}'.format(fraction))"
   ]
  },
  {
   "cell_type": "markdown",
   "metadata": {},
   "source": [
    "Convert birth_age to float and register_dt to datetime"
   ]
  },
  {
   "cell_type": "code",
   "execution_count": 56,
   "metadata": {
    "collapsed": false
   },
   "outputs": [],
   "source": [
    "demographics['birth_age'] = demographics['birth_age'].astype('float64')\n",
    "demographics['registr_dt'] = pd.to_datetime(demographics['registr_dt'])"
   ]
  },
  {
   "cell_type": "markdown",
   "metadata": {},
   "source": [
    "\n",
    "Use years since registered \n"
   ]
  },
  {
   "cell_type": "code",
   "execution_count": 57,
   "metadata": {
    "collapsed": true
   },
   "outputs": [],
   "source": [
    "def convert_to_float(x): # function to convert a timedelta object to a float of years\n",
    "    return x.total_seconds()/(60*60*24*365.2422)"
   ]
  },
  {
   "cell_type": "markdown",
   "metadata": {},
   "source": [
    "Create all the interaction features and get rid of everything not needed for the model "
   ]
  },
  {
   "cell_type": "code",
   "execution_count": 58,
   "metadata": {
    "collapsed": false
   },
   "outputs": [],
   "source": [
    "demographics['race_gender'] = demographics['race_code'] + demographics ['gender_code']\n",
    "demographics['race_ethnicity'] = demographics['race_code'] + demographics['ethnic_code']\n",
    "demographics['gender_ethnicity'] = demographics['gender_code'] + demographics ['ethnic_code']\n",
    "demographics['age_squared'] = (demographics['birth_age'])**2\n",
    "demographics['age_cubed'] = (demographics['birth_age'])**3\n",
    "now = pd.to_datetime('today') # get today's data\n",
    "demographics['years_since_registration'] = now - demographics['registr_dt'] # get days since registration as a timedelta object\n",
    "demographics['years_since_registration'] = demographics['years_since_registration'].apply(convert_to_float) # convert to float\n",
    "demographics['years_squared'] = (demographics['years_since_registration'])**2\n",
    "demographics['years_cubed'] = (demographics['years_since_registration'])**3\n",
    "demographics = demographics.drop(['registr_dt', 'race_code', 'gender_code', 'ethnic_code', 'status_cd'], 1) # We no longer need these"
   ]
  },
  {
   "cell_type": "markdown",
   "metadata": {},
   "source": [
    "Remove all rows with age > 99 or years since registration > 61 ---- these are probaly errors, and even if not, they are outliers."
   ]
  },
  {
   "cell_type": "code",
   "execution_count": 59,
   "metadata": {
    "collapsed": true
   },
   "outputs": [],
   "source": [
    "demographics = demographics[(demographics['birth_age'] <= 99) & (demographics['years_since_registration'] <= 61)]"
   ]
  },
  {
   "cell_type": "code",
   "execution_count": 60,
   "metadata": {
    "collapsed": false
   },
   "outputs": [],
   "source": [
    "# For scalability, we need to convert our data into a GraphLab SFrame\n",
    "demographicsS=gl.SFrame(demographics)"
   ]
  },
  {
   "cell_type": "markdown",
   "metadata": {},
   "source": [
    "Let's get predictions for the entire state of North Carolina"
   ]
  },
  {
   "cell_type": "code",
   "execution_count": 61,
   "metadata": {
    "collapsed": false
   },
   "outputs": [],
   "source": [
    "new_sframe = get_model_predictions(model, demographicsS, threshold_to_use)"
   ]
  },
  {
   "cell_type": "markdown",
   "metadata": {},
   "source": [
    "Let's look at the results"
   ]
  },
  {
   "cell_type": "code",
   "execution_count": 62,
   "metadata": {
    "collapsed": false
   },
   "outputs": [
    {
     "name": "stdout",
     "output_type": "stream",
     "text": [
      "actual_or_predicted\n",
      "DEM   51.3%\n",
      "REP   48.7%\n",
      "Name: actual_or_predicted, dtype: float64\n"
     ]
    }
   ],
   "source": [
    "new_dataframe = new_sframe.to_dataframe()\n",
    "analysis = new_dataframe.groupby(['actual_or_predicted'])['actual_or_predicted'].count()/new_dataframe.groupby(['actual_or_predicted'])['actual_or_predicted'].count().sum()\n",
    "print analysis"
   ]
  },
  {
   "cell_type": "markdown",
   "metadata": {},
   "source": [
    "<img src=\"files/nc_ag_20016.jpg\">"
   ]
  },
  {
   "cell_type": "markdown",
   "metadata": {},
   "source": [
    "Lastly, let's create a chart that estimates voter preferences by precinct"
   ]
  },
  {
   "cell_type": "code",
   "execution_count": 63,
   "metadata": {
    "collapsed": false
   },
   "outputs": [
    {
     "name": "stdout",
     "output_type": "stream",
     "text": [
      "Writing 'out' (DataFrame) to file 'predicted_party_by_pctl_active.txt'.\n"
     ]
    }
   ],
   "source": [
    "party_by_pct = pd.pivot_table(new_dataframe[['county_desc','precinct_abbrv','actual_or_predicted']], index=['county_desc','precinct_abbrv','actual_or_predicted'],  \n",
    "                                 aggfunc=len, columns=None, margins = True)# group by county then precinct\n",
    "party_by_pct = party_by_pct.unstack()# change the pivot table into a dataframe\n",
    "party_by_pct = party_by_pct.drop('All', axis=0, level=None, inplace=False)# drop the margin row 'All'\n",
    "party_by_pct = party_by_pct.fillna(value=0, method=None, axis=0, inplace=False, limit=None, downcast=None)# fill empty cells with 0\n",
    "party_by_pct = party_by_pct.rename(index=str, columns={\"REP\": \"Republican Leaning\", \"DEM\": \"Democratic Leaning\"})\n",
    "party_by_pct['Total']=party_by_pct.sum(axis=1, skipna=None, level=None, numeric_only=None)# sum across columns\n",
    "# change columns to percentage\n",
    "for col in party_by_pct.columns:\n",
    "    party_by_pct[col] = party_by_pct[col]/party_by_pct['Total']# first convert to precentage\n",
    "\n",
    "pd.options.display.float_format = '{:.1%}'.format #display as percentages\n",
    "pd.set_option('max_rows', 10000)\n",
    "party_by_pct = party_by_pct.drop('Total', axis=1, level=None, inplace=False)# drop the 'Total' column\n",
    "party_by_pct = party_by_pct.drop('', axis=1, level=None, inplace=False)# drop the blank column\n",
    "\n",
    "out = party_by_pct.sort_values(['Democratic Leaning'],axis=0, ascending=False, inplace=False, kind='quicksort', na_position='last')\n",
    "%store out > predicted_party_by_pctl_active.txt\n"
   ]
  },
  {
   "cell_type": "code",
   "execution_count": 64,
   "metadata": {
    "collapsed": false
   },
   "outputs": [
    {
     "name": "stdout",
     "output_type": "stream",
     "text": [
      "0.563636363636\n"
     ]
    }
   ],
   "source": [
    "print threshold_to_use"
   ]
  },
  {
   "cell_type": "markdown",
   "metadata": {},
   "source": [
    "Just for fun, let's make predictions assuming a decision threshold of 0.5"
   ]
  },
  {
   "cell_type": "code",
   "execution_count": 65,
   "metadata": {
    "collapsed": false
   },
   "outputs": [],
   "source": [
    "new_sframe = get_model_predictions(model, demographicsS, 0.5)"
   ]
  },
  {
   "cell_type": "markdown",
   "metadata": {},
   "source": [
    "Let's look at the results"
   ]
  },
  {
   "cell_type": "code",
   "execution_count": 66,
   "metadata": {
    "collapsed": false
   },
   "outputs": [
    {
     "name": "stdout",
     "output_type": "stream",
     "text": [
      "actual_or_predicted\n",
      "DEM   48.9%\n",
      "REP   51.1%\n",
      "Name: actual_or_predicted, dtype: float64\n"
     ]
    }
   ],
   "source": [
    "new_dataframe = new_sframe.to_dataframe()\n",
    "analysis = new_dataframe.groupby(['actual_or_predicted'])['actual_or_predicted'].count()/new_dataframe.groupby(['actual_or_predicted'])['actual_or_predicted'].count().sum()\n",
    "print analysis"
   ]
  },
  {
   "cell_type": "code",
   "execution_count": null,
   "metadata": {
    "collapsed": true
   },
   "outputs": [],
   "source": [
    "model.save('model_gl')"
   ]
  }
 ],
 "metadata": {
  "celltoolbar": "Raw Cell Format",
  "kernelspec": {
   "display_name": "Python [conda env:gl-env]",
   "language": "python",
   "name": "conda-env-gl-env-py"
  },
  "language_info": {
   "codemirror_mode": {
    "name": "ipython",
    "version": 2
   },
   "file_extension": ".py",
   "mimetype": "text/x-python",
   "name": "python",
   "nbconvert_exporter": "python",
   "pygments_lexer": "ipython2",
   "version": "2.7.13"
  }
 },
 "nbformat": 4,
 "nbformat_minor": 0
}
