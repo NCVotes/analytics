{
 "cells": [
  {
   "cell_type": "markdown",
   "metadata": {},
   "source": [
    "##  We're going collect and clean all the data to create a final Data Frame for Clustering"
   ]
  },
  {
   "cell_type": "code",
   "execution_count": 1,
   "metadata": {
    "collapsed": false
   },
   "outputs": [],
   "source": [
    "#First set everthing up\n",
    "import pyodbc\n",
    "import graphlab as gl\n",
    "import pandas as pd\n",
    "import matplotlib.pyplot as plt\n",
    "import numpy as np\n",
    "import datetime\n",
    "import config #server information and credentials\n",
    "from pullODBC import pullODBC\n",
    "from pullODBCall import pullODBCall\n",
    "from matplotlib.backends.backend_pdf import PdfPages\n",
    "from __future__ import division # convert integer division to floating point\n",
    "%matplotlib inline\n",
    "plt.style.use('seaborn-white')\n",
    "plt.rcParams['font.size'] = 7\n",
    "plt.tight_layout;\n",
    "plt.rc('xtick', labelsize=7) \n",
    "plt.rc('ytick', labelsize=7) "
   ]
  },
  {
   "cell_type": "markdown",
   "metadata": {},
   "source": [
    "We create a utility function that will standardize all columns except the first one (which should contain a key) to mean 0 and standard deviation of 1"
   ]
  },
  {
   "cell_type": "code",
   "execution_count": 2,
   "metadata": {
    "collapsed": false
   },
   "outputs": [],
   "source": [
    "def standardize(df):\n",
    "    means = df.mean()\n",
    "    std = df.std()\n",
    "    size = len(df.columns)\n",
    "    df.iloc[:,1:size] = (df.iloc[:,1:size]- means)/std\n",
    "    return df\n",
    "    "
   ]
  },
  {
   "cell_type": "markdown",
   "metadata": {},
   "source": [
    "Next, we read the file containing election results by county/precinct combination, add a column 'trump_premium' that contains the fraction voted for Trump minus fraction voted for Newton, standardize this, and inspect the resulting data frame to ensure correctness."
   ]
  },
  {
   "cell_type": "code",
   "execution_count": 3,
   "metadata": {
    "collapsed": false
   },
   "outputs": [],
   "source": [
    "results = pd.read_csv('results_V3.csv')\n",
    "#results = results.iloc[:, 0:4]\n",
    "results['trump_premium'] = results['fraction_trump'] - results['fraction_newton']\n",
    "results = standardize(results)"
   ]
  },
  {
   "cell_type": "code",
   "execution_count": 4,
   "metadata": {
    "collapsed": false
   },
   "outputs": [
    {
     "data": {
      "text/html": [
       "<div>\n",
       "<table border=\"1\" class=\"dataframe\">\n",
       "  <thead>\n",
       "    <tr style=\"text-align: right;\">\n",
       "      <th></th>\n",
       "      <th>county_pct</th>\n",
       "      <th>fraction_newton</th>\n",
       "      <th>fraction_trump</th>\n",
       "      <th>trump_premium</th>\n",
       "    </tr>\n",
       "  </thead>\n",
       "  <tbody>\n",
       "    <tr>\n",
       "      <th>0</th>\n",
       "      <td>ALAMANCE01</td>\n",
       "      <td>1.288102</td>\n",
       "      <td>1.260423</td>\n",
       "      <td>0.344500</td>\n",
       "    </tr>\n",
       "    <tr>\n",
       "      <th>1</th>\n",
       "      <td>ALAMANCE02</td>\n",
       "      <td>1.381115</td>\n",
       "      <td>1.342200</td>\n",
       "      <td>0.316352</td>\n",
       "    </tr>\n",
       "    <tr>\n",
       "      <th>2</th>\n",
       "      <td>ALAMANCE035</td>\n",
       "      <td>0.327215</td>\n",
       "      <td>0.252114</td>\n",
       "      <td>-0.303210</td>\n",
       "    </tr>\n",
       "    <tr>\n",
       "      <th>3</th>\n",
       "      <td>ALAMANCE03C</td>\n",
       "      <td>0.438941</td>\n",
       "      <td>0.263283</td>\n",
       "      <td>-0.836746</td>\n",
       "    </tr>\n",
       "    <tr>\n",
       "      <th>4</th>\n",
       "      <td>ALAMANCE03N</td>\n",
       "      <td>0.141841</td>\n",
       "      <td>-0.069324</td>\n",
       "      <td>-1.156660</td>\n",
       "    </tr>\n",
       "  </tbody>\n",
       "</table>\n",
       "</div>"
      ],
      "text/plain": [
       "    county_pct  fraction_newton  fraction_trump  trump_premium\n",
       "0   ALAMANCE01         1.288102        1.260423       0.344500\n",
       "1   ALAMANCE02         1.381115        1.342200       0.316352\n",
       "2  ALAMANCE035         0.327215        0.252114      -0.303210\n",
       "3  ALAMANCE03C         0.438941        0.263283      -0.836746\n",
       "4  ALAMANCE03N         0.141841       -0.069324      -1.156660"
      ]
     },
     "execution_count": 4,
     "metadata": {},
     "output_type": "execute_result"
    }
   ],
   "source": [
    "results.head()"
   ]
  },
  {
   "cell_type": "code",
   "execution_count": 5,
   "metadata": {
    "collapsed": false
   },
   "outputs": [
    {
     "data": {
      "text/plain": [
       "3209"
      ]
     },
     "execution_count": 5,
     "metadata": {},
     "output_type": "execute_result"
    }
   ],
   "source": [
    "len(results)"
   ]
  },
  {
   "cell_type": "code",
   "execution_count": 6,
   "metadata": {
    "collapsed": false
   },
   "outputs": [
    {
     "name": "stdout",
     "output_type": "stream",
     "text": [
      "The means are fraction_newton   -1.781761e-15\n",
      "fraction_trump     4.073754e-15\n",
      "trump_premium      5.252155e-16\n",
      "dtype: float64\n",
      "The standard deviations are fraction_newton    1.0\n",
      "fraction_trump     1.0\n",
      "trump_premium      1.0\n",
      "dtype: float64\n"
     ]
    }
   ],
   "source": [
    "print ('The means are ' + str(results.mean()))\n",
    "print ('The standard deviations are ' + str(results.std()))"
   ]
  },
  {
   "cell_type": "markdown",
   "metadata": {},
   "source": [
    "Next, we read the file precinct demographics by county/precinct combination, standardize this, and inspect the resulting data frame to ensure correctness."
   ]
  },
  {
   "cell_type": "code",
   "execution_count": 7,
   "metadata": {
    "collapsed": false
   },
   "outputs": [],
   "source": [
    "demographics = pd.read_csv('precinct_demographics_nov2.csv')\n",
    "#demographics = demographics.iloc[:, 0:]\n",
    "demographics = standardize(demographics)"
   ]
  },
  {
   "cell_type": "code",
   "execution_count": 8,
   "metadata": {
    "collapsed": false
   },
   "outputs": [
    {
     "data": {
      "text/html": [
       "<div>\n",
       "<table border=\"1\" class=\"dataframe\">\n",
       "  <thead>\n",
       "    <tr style=\"text-align: right;\">\n",
       "      <th></th>\n",
       "      <th>county_pct</th>\n",
       "      <th>population</th>\n",
       "      <th>asian</th>\n",
       "      <th>black</th>\n",
       "      <th>indian</th>\n",
       "      <th>mixed</th>\n",
       "      <th>other_race</th>\n",
       "      <th>white</th>\n",
       "      <th>DEM</th>\n",
       "      <th>LIB</th>\n",
       "      <th>REP</th>\n",
       "      <th>hispanic_latino</th>\n",
       "      <th>not_latino</th>\n",
       "      <th>female</th>\n",
       "      <th>male</th>\n",
       "      <th>has_license</th>\n",
       "      <th>NC_born</th>\n",
       "      <th>No_birth_state</th>\n",
       "      <th>registr_post_2000</th>\n",
       "      <th>median_age</th>\n",
       "    </tr>\n",
       "  </thead>\n",
       "  <tbody>\n",
       "    <tr>\n",
       "      <th>0</th>\n",
       "      <td>ALAMANCE01</td>\n",
       "      <td>0.467571</td>\n",
       "      <td>-0.533549</td>\n",
       "      <td>-0.669621</td>\n",
       "      <td>-0.137957</td>\n",
       "      <td>-0.429933</td>\n",
       "      <td>-0.924418</td>\n",
       "      <td>0.784178</td>\n",
       "      <td>-0.987228</td>\n",
       "      <td>-0.401748</td>\n",
       "      <td>1.256634</td>\n",
       "      <td>-0.487041</td>\n",
       "      <td>0.452812</td>\n",
       "      <td>-0.828705</td>\n",
       "      <td>0.958648</td>\n",
       "      <td>-0.026753</td>\n",
       "      <td>1.274739</td>\n",
       "      <td>-0.831857</td>\n",
       "      <td>-0.523867</td>\n",
       "      <td>0.204141</td>\n",
       "    </tr>\n",
       "    <tr>\n",
       "      <th>1</th>\n",
       "      <td>ALAMANCE02</td>\n",
       "      <td>0.461559</td>\n",
       "      <td>-0.492953</td>\n",
       "      <td>-0.850421</td>\n",
       "      <td>-0.111205</td>\n",
       "      <td>-0.686231</td>\n",
       "      <td>-1.035001</td>\n",
       "      <td>0.957634</td>\n",
       "      <td>-1.149127</td>\n",
       "      <td>-0.634491</td>\n",
       "      <td>1.596286</td>\n",
       "      <td>-0.877865</td>\n",
       "      <td>0.589629</td>\n",
       "      <td>-0.858605</td>\n",
       "      <td>1.074886</td>\n",
       "      <td>-0.363345</td>\n",
       "      <td>1.306023</td>\n",
       "      <td>-0.926017</td>\n",
       "      <td>-1.203044</td>\n",
       "      <td>0.204141</td>\n",
       "    </tr>\n",
       "    <tr>\n",
       "      <th>2</th>\n",
       "      <td>ALAMANCE035</td>\n",
       "      <td>0.678631</td>\n",
       "      <td>-0.208847</td>\n",
       "      <td>-0.523804</td>\n",
       "      <td>-0.135987</td>\n",
       "      <td>0.673398</td>\n",
       "      <td>-0.618577</td>\n",
       "      <td>0.438694</td>\n",
       "      <td>-0.535720</td>\n",
       "      <td>0.125270</td>\n",
       "      <td>0.434837</td>\n",
       "      <td>-0.098868</td>\n",
       "      <td>-0.210479</td>\n",
       "      <td>-0.119470</td>\n",
       "      <td>-1.027064</td>\n",
       "      <td>-1.429859</td>\n",
       "      <td>0.319688</td>\n",
       "      <td>-0.111455</td>\n",
       "      <td>0.137051</td>\n",
       "      <td>-0.906541</td>\n",
       "    </tr>\n",
       "    <tr>\n",
       "      <th>3</th>\n",
       "      <td>ALAMANCE03C</td>\n",
       "      <td>-0.164274</td>\n",
       "      <td>0.293179</td>\n",
       "      <td>-0.656287</td>\n",
       "      <td>-0.147208</td>\n",
       "      <td>-0.196617</td>\n",
       "      <td>-0.091742</td>\n",
       "      <td>0.671241</td>\n",
       "      <td>-0.605625</td>\n",
       "      <td>-0.861391</td>\n",
       "      <td>0.984857</td>\n",
       "      <td>-0.636771</td>\n",
       "      <td>0.544773</td>\n",
       "      <td>-0.485154</td>\n",
       "      <td>0.885192</td>\n",
       "      <td>1.193507</td>\n",
       "      <td>0.619407</td>\n",
       "      <td>-0.900591</td>\n",
       "      <td>-1.570889</td>\n",
       "      <td>0.838816</td>\n",
       "    </tr>\n",
       "    <tr>\n",
       "      <th>4</th>\n",
       "      <td>ALAMANCE03N</td>\n",
       "      <td>0.554399</td>\n",
       "      <td>0.296825</td>\n",
       "      <td>-0.563337</td>\n",
       "      <td>-0.149422</td>\n",
       "      <td>0.406754</td>\n",
       "      <td>-0.296681</td>\n",
       "      <td>0.375567</td>\n",
       "      <td>-0.535883</td>\n",
       "      <td>0.566979</td>\n",
       "      <td>0.374761</td>\n",
       "      <td>-0.276754</td>\n",
       "      <td>-0.438950</td>\n",
       "      <td>-1.242591</td>\n",
       "      <td>-0.437430</td>\n",
       "      <td>-2.364532</td>\n",
       "      <td>-0.313338</td>\n",
       "      <td>0.177579</td>\n",
       "      <td>-0.093403</td>\n",
       "      <td>-0.589203</td>\n",
       "    </tr>\n",
       "  </tbody>\n",
       "</table>\n",
       "</div>"
      ],
      "text/plain": [
       "    county_pct  population     asian     black    indian     mixed  \\\n",
       "0   ALAMANCE01    0.467571 -0.533549 -0.669621 -0.137957 -0.429933   \n",
       "1   ALAMANCE02    0.461559 -0.492953 -0.850421 -0.111205 -0.686231   \n",
       "2  ALAMANCE035    0.678631 -0.208847 -0.523804 -0.135987  0.673398   \n",
       "3  ALAMANCE03C   -0.164274  0.293179 -0.656287 -0.147208 -0.196617   \n",
       "4  ALAMANCE03N    0.554399  0.296825 -0.563337 -0.149422  0.406754   \n",
       "\n",
       "   other_race     white       DEM       LIB       REP  hispanic_latino  \\\n",
       "0   -0.924418  0.784178 -0.987228 -0.401748  1.256634        -0.487041   \n",
       "1   -1.035001  0.957634 -1.149127 -0.634491  1.596286        -0.877865   \n",
       "2   -0.618577  0.438694 -0.535720  0.125270  0.434837        -0.098868   \n",
       "3   -0.091742  0.671241 -0.605625 -0.861391  0.984857        -0.636771   \n",
       "4   -0.296681  0.375567 -0.535883  0.566979  0.374761        -0.276754   \n",
       "\n",
       "   not_latino    female      male  has_license   NC_born  No_birth_state  \\\n",
       "0    0.452812 -0.828705  0.958648    -0.026753  1.274739       -0.831857   \n",
       "1    0.589629 -0.858605  1.074886    -0.363345  1.306023       -0.926017   \n",
       "2   -0.210479 -0.119470 -1.027064    -1.429859  0.319688       -0.111455   \n",
       "3    0.544773 -0.485154  0.885192     1.193507  0.619407       -0.900591   \n",
       "4   -0.438950 -1.242591 -0.437430    -2.364532 -0.313338        0.177579   \n",
       "\n",
       "   registr_post_2000  median_age  \n",
       "0          -0.523867    0.204141  \n",
       "1          -1.203044    0.204141  \n",
       "2           0.137051   -0.906541  \n",
       "3          -1.570889    0.838816  \n",
       "4          -0.093403   -0.589203  "
      ]
     },
     "execution_count": 8,
     "metadata": {},
     "output_type": "execute_result"
    }
   ],
   "source": [
    "demographics.head()"
   ]
  },
  {
   "cell_type": "code",
   "execution_count": 9,
   "metadata": {
    "collapsed": false
   },
   "outputs": [
    {
     "data": {
      "text/plain": [
       "2706"
      ]
     },
     "execution_count": 9,
     "metadata": {},
     "output_type": "execute_result"
    }
   ],
   "source": [
    "len(demographics)"
   ]
  },
  {
   "cell_type": "code",
   "execution_count": 10,
   "metadata": {
    "collapsed": false
   },
   "outputs": [
    {
     "name": "stdout",
     "output_type": "stream",
     "text": [
      "The means are population          -1.136891e-16\n",
      "asian               -3.406571e-16\n",
      "black               -1.518905e-15\n",
      "indian              -1.632512e-16\n",
      "mixed               -1.832648e-15\n",
      "other_race          -3.142760e-17\n",
      "white               -1.405380e-15\n",
      "DEM                  2.177202e-15\n",
      "LIB                 -8.522069e-16\n",
      "REP                 -2.895032e-15\n",
      "hispanic_latino     -2.098264e-15\n",
      "not_latino          -7.210172e-15\n",
      "female               4.888058e-15\n",
      "male                -2.534771e-14\n",
      "has_license          1.537815e-14\n",
      "NC_born              5.051310e-15\n",
      "No_birth_state      -1.203193e-15\n",
      "registr_post_2000    1.503733e-14\n",
      "median_age           1.228630e-15\n",
      "dtype: float64\n",
      "The standard deviations are population           1.0\n",
      "asian                1.0\n",
      "black                1.0\n",
      "indian               1.0\n",
      "mixed                1.0\n",
      "other_race           1.0\n",
      "white                1.0\n",
      "DEM                  1.0\n",
      "LIB                  1.0\n",
      "REP                  1.0\n",
      "hispanic_latino      1.0\n",
      "not_latino           1.0\n",
      "female               1.0\n",
      "male                 1.0\n",
      "has_license          1.0\n",
      "NC_born              1.0\n",
      "No_birth_state       1.0\n",
      "registr_post_2000    1.0\n",
      "median_age           1.0\n",
      "dtype: float64\n"
     ]
    }
   ],
   "source": [
    "print ('The means are ' + str(demographics.mean()))\n",
    "print ('The standard deviations are ' + str(demographics.std()))"
   ]
  },
  {
   "cell_type": "markdown",
   "metadata": {},
   "source": [
    "Now we do an outer join and write to csv to find errors"
   ]
  },
  {
   "cell_type": "code",
   "execution_count": 11,
   "metadata": {
    "collapsed": false
   },
   "outputs": [],
   "source": [
    "combined_pct = pd.merge(demographics, results, how='outer')\n",
    "combined_pct.to_csv('combined_pct.csv')"
   ]
  },
  {
   "cell_type": "markdown",
   "metadata": {},
   "source": [
    "After observing and fixing errors, we now do a left join with demographic on the left and save this in a csv"
   ]
  },
  {
   "cell_type": "code",
   "execution_count": 12,
   "metadata": {
    "collapsed": true
   },
   "outputs": [],
   "source": [
    "combined_pct = pd.merge(demographics, results, how='left')\n",
    "combined_pct.to_csv('combined_pct.csv')"
   ]
  },
  {
   "cell_type": "markdown",
   "metadata": {},
   "source": [
    "Next, we read the file containing election turnout by county/precinct combination, standardize this, and inspect the resulting data frame to ensure correctness."
   ]
  },
  {
   "cell_type": "code",
   "execution_count": 13,
   "metadata": {
    "collapsed": false
   },
   "outputs": [],
   "source": [
    "turnout = pd.read_csv('turnout_allV3.csv')\n",
    "#turnout = turnout.iloc[:, 0:]\n",
    "turnout = standardize(turnout)"
   ]
  },
  {
   "cell_type": "code",
   "execution_count": 14,
   "metadata": {
    "collapsed": false
   },
   "outputs": [
    {
     "data": {
      "text/html": [
       "<div>\n",
       "<table border=\"1\" class=\"dataframe\">\n",
       "  <thead>\n",
       "    <tr style=\"text-align: right;\">\n",
       "      <th></th>\n",
       "      <th>county_pct</th>\n",
       "      <th>2016</th>\n",
       "      <th>2015</th>\n",
       "      <th>2014</th>\n",
       "    </tr>\n",
       "  </thead>\n",
       "  <tbody>\n",
       "    <tr>\n",
       "      <th>0</th>\n",
       "      <td>ALAMANCE01</td>\n",
       "      <td>0.599096</td>\n",
       "      <td>-0.812651</td>\n",
       "      <td>0.249069</td>\n",
       "    </tr>\n",
       "    <tr>\n",
       "      <th>1</th>\n",
       "      <td>ALAMANCE02</td>\n",
       "      <td>0.999924</td>\n",
       "      <td>-0.705549</td>\n",
       "      <td>0.802573</td>\n",
       "    </tr>\n",
       "    <tr>\n",
       "      <th>2</th>\n",
       "      <td>ALAMANCE035</td>\n",
       "      <td>-1.179707</td>\n",
       "      <td>-0.696900</td>\n",
       "      <td>-0.955271</td>\n",
       "    </tr>\n",
       "    <tr>\n",
       "      <th>3</th>\n",
       "      <td>ALAMANCE03C</td>\n",
       "      <td>1.529294</td>\n",
       "      <td>2.305511</td>\n",
       "      <td>2.027266</td>\n",
       "    </tr>\n",
       "    <tr>\n",
       "      <th>4</th>\n",
       "      <td>ALAMANCE03N</td>\n",
       "      <td>-0.044367</td>\n",
       "      <td>0.290954</td>\n",
       "      <td>0.208969</td>\n",
       "    </tr>\n",
       "  </tbody>\n",
       "</table>\n",
       "</div>"
      ],
      "text/plain": [
       "    county_pct      2016      2015      2014\n",
       "0   ALAMANCE01  0.599096 -0.812651  0.249069\n",
       "1   ALAMANCE02  0.999924 -0.705549  0.802573\n",
       "2  ALAMANCE035 -1.179707 -0.696900 -0.955271\n",
       "3  ALAMANCE03C  1.529294  2.305511  2.027266\n",
       "4  ALAMANCE03N -0.044367  0.290954  0.208969"
      ]
     },
     "execution_count": 14,
     "metadata": {},
     "output_type": "execute_result"
    }
   ],
   "source": [
    "turnout.head()"
   ]
  },
  {
   "cell_type": "code",
   "execution_count": 15,
   "metadata": {
    "collapsed": false
   },
   "outputs": [
    {
     "data": {
      "text/plain": [
       "2777"
      ]
     },
     "execution_count": 15,
     "metadata": {},
     "output_type": "execute_result"
    }
   ],
   "source": [
    "len(turnout)"
   ]
  },
  {
   "cell_type": "code",
   "execution_count": 16,
   "metadata": {
    "collapsed": false
   },
   "outputs": [
    {
     "name": "stdout",
     "output_type": "stream",
     "text": [
      "The means are 2016    1.840490e-15\n",
      "2015   -1.922284e-15\n",
      "2014    2.904042e-15\n",
      "dtype: float64\n",
      "The standard deviations are 2016    1.0\n",
      "2015    1.0\n",
      "2014    1.0\n",
      "dtype: float64\n"
     ]
    }
   ],
   "source": [
    "print ('The means are ' + str(turnout.mean()))\n",
    "print ('The standard deviations are ' + str(turnout.std()))"
   ]
  },
  {
   "cell_type": "markdown",
   "metadata": {},
   "source": [
    "We need to strip out all the blanks in column 'county_pct'"
   ]
  },
  {
   "cell_type": "code",
   "execution_count": 17,
   "metadata": {
    "collapsed": true
   },
   "outputs": [],
   "source": [
    "turnout['county_pct'] = turnout['county_pct'].map(lambda x: x.strip())\n",
    "combined_pct['county_pct'] = combined_pct['county_pct'].map(lambda x: x.strip())"
   ]
  },
  {
   "cell_type": "markdown",
   "metadata": {},
   "source": [
    "Now we do an outer join and write to csv to find errors"
   ]
  },
  {
   "cell_type": "code",
   "execution_count": 18,
   "metadata": {
    "collapsed": false
   },
   "outputs": [],
   "source": [
    "combined_pct_test = pd.merge(combined_pct, turnout, how='outer')\n",
    "combined_pct_test.to_csv('combined_pct_test.csv')"
   ]
  },
  {
   "cell_type": "markdown",
   "metadata": {},
   "source": [
    "After observing and fixing errors, we now replace all NaNs with 0 (mean) and do a left join with demographic on the left and save this in a csv"
   ]
  },
  {
   "cell_type": "code",
   "execution_count": 19,
   "metadata": {
    "collapsed": false
   },
   "outputs": [],
   "source": [
    "combined_pct_final = pd.merge(combined_pct, turnout, how='left')\n",
    "combined_pct_final.fillna(value=0, inplace=True)\n",
    "combined_pct_final.to_csv('combined_pct_final.csv')"
   ]
  }
 ],
 "metadata": {
  "celltoolbar": "Raw Cell Format",
  "kernelspec": {
   "display_name": "Python 2",
   "language": "python",
   "name": "python2"
  },
  "language_info": {
   "codemirror_mode": {
    "name": "ipython",
    "version": 2
   },
   "file_extension": ".py",
   "mimetype": "text/x-python",
   "name": "python",
   "nbconvert_exporter": "python",
   "pygments_lexer": "ipython2",
   "version": "2.7.13"
  }
 },
 "nbformat": 4,
 "nbformat_minor": 0
}
