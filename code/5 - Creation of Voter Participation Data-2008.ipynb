{
 "cells": [
  {
   "cell_type": "markdown",
   "metadata": {},
   "source": [
    "##  We're going to load the turnout data, flatten it, and add it to key demographic data to create a comprehensive database table for query and predictions"
   ]
  },
  {
   "cell_type": "code",
   "execution_count": 1,
   "metadata": {
    "collapsed": false
   },
   "outputs": [],
   "source": [
    "#First set everthing up\n",
    "import pyodbc\n",
    "import graphlab as gl\n",
    "import pandas as pd\n",
    "import matplotlib.pyplot as plt\n",
    "import numpy as np\n",
    "import datetime\n",
    "import local #server information and credentials\n",
    "from pullODBC import pullODBC\n",
    "from pullODBCall import pullODBCall\n",
    "from matplotlib.backends.backend_pdf import PdfPages\n",
    "from __future__ import division # convert integer division to floating point\n",
    "%matplotlib inline\n",
    "plt.style.use('seaborn-white')\n",
    "plt.rcParams['font.size'] = 7\n",
    "plt.tight_layout;\n",
    "plt.rc('xtick', labelsize=7) \n",
    "plt.rc('ytick', labelsize=7) "
   ]
  },
  {
   "cell_type": "markdown",
   "metadata": {},
   "source": [
    "### 0.1.1 Section A: Extracting Voter History Data for each Registered Voter\n",
    "\n",
    "This is now in a static csv, so we don't need to pull this from the database any more."
   ]
  },
  {
   "cell_type": "markdown",
   "metadata": {},
   "source": [
    "## 0.1.2 Section B: Extracting Voter Demographics (2008)"
   ]
  },
  {
   "cell_type": "markdown",
   "metadata": {
    "collapsed": false
   },
   "source": [
    "First change the database and table names back to get registration data"
   ]
  },
  {
   "cell_type": "code",
   "execution_count": 2,
   "metadata": {
    "collapsed": false
   },
   "outputs": [],
   "source": [
    "local.database = 'registration2008'\n",
    "local.table = 'ncvoter_Statewide'"
   ]
  },
  {
   "cell_type": "markdown",
   "metadata": {
    "collapsed": false
   },
   "source": [
    "We now do the standard extraction and cleaning.  I've excluded comments since task has been done many times"
   ]
  },
  {
   "cell_type": "code",
   "execution_count": 3,
   "metadata": {
    "collapsed": false
   },
   "outputs": [
    {
     "name": "stdout",
     "output_type": "stream",
     "text": [
      "birth_age, gender_code, race_code, ethnic_code, party_cd, status_cd, zip_code, birth_state, county_desc, registr_dt, ncid, precinct_abbrv\n"
     ]
    }
   ],
   "source": [
    "#Set up the fields that I need to pull from the database \n",
    "fields = \"birth_age, \" + \"gender_code, \" + \"race_code, \" + \"ethnic_code, \" + \"party_cd, \" + \"status_cd, \" + \"zip_code, \" + \"birth_state, \" + \"county_desc, \" + \"registr_dt, \" + \"ncid, \" + \"precinct_abbrv\"\n",
    "print fields"
   ]
  },
  {
   "cell_type": "code",
   "execution_count": 4,
   "metadata": {
    "collapsed": false
   },
   "outputs": [
    {
     "name": "stdout",
     "output_type": "stream",
     "text": [
      "(status_cd = 'A' OR status_cd = 'I')\n"
     ]
    }
   ],
   "source": [
    "condition1 = \"status_cd = \" + \"'A'\"\n",
    "condition2 = \"status_cd = \" + \"'I'\" \n",
    "condition3 = \"county_desc = \" + \"'Chatham'\"\n",
    "condition = \"(\" + condition1 + \" OR \" + condition2 + \")\"  # This line will be run on Azure\n",
    "#condition = \"(\" + condition1 + \" OR \" + condition2 + \")\" + \" AND \" + condition3# This line will be run on local\n",
    "print condition"
   ]
  },
  {
   "cell_type": "code",
   "execution_count": 5,
   "metadata": {
    "collapsed": false
   },
   "outputs": [],
   "source": [
    "demographics=pullODBC(local.driver,\n",
    "                      local.server,\n",
    "                      local.database,\n",
    "                      local.username,\n",
    "                      local.password,\n",
    "                      local.table,\n",
    "                      fields,\n",
    "                      condition)"
   ]
  },
  {
   "cell_type": "markdown",
   "metadata": {},
   "source": [
    "Get rid of all the double quotes from the dataframe"
   ]
  },
  {
   "cell_type": "code",
   "execution_count": 6,
   "metadata": {
    "collapsed": false
   },
   "outputs": [
    {
     "name": "stdout",
     "output_type": "stream",
     "text": [
      "  birth_age gender_code race_code ethnic_code party_cd status_cd zip_code  \\\n",
      "0        74           M       B           NL       DEM        A     27207   \n",
      "1        70           F       W           NL       DEM        A     28086   \n",
      "2        64           F       W           NL       DEM        A     28472   \n",
      "3        52           M       W           NL       DEM        A     28586   \n",
      "4        50           F       W           NL       REP        A     28348   \n",
      "\n",
      "                      birth_state county_desc           registr_dt    ncid  \\\n",
      "0                                     CHATHAM  1969-09-15 00:00:00  AX2144   \n",
      "1  NC                               CLEVELAND  1964-10-17 00:00:00  BB2130   \n",
      "2  NC                                COLUMBUS  1978-03-30 00:00:00  BC2200   \n",
      "3  NC                                  CRAVEN  1984-04-09 00:00:00  BD2222   \n",
      "4  MI                              CUMBERLAND  1993-03-11 00:00:00  BE2235   \n",
      "\n",
      "  precinct_abbrv  \n",
      "0         45      \n",
      "1         KM 2    \n",
      "2         P01A    \n",
      "3         14      \n",
      "4         G9A     \n"
     ]
    }
   ],
   "source": [
    "demographics.columns = demographics.columns.str.strip('\"')\n",
    "for i, col in enumerate(demographics.columns):\n",
    "    demographics.iloc[:, i] = demographics.iloc[:, i].str.replace('\"', '')\n",
    "print demographics.head()"
   ]
  },
  {
   "cell_type": "code",
   "execution_count": 7,
   "metadata": {
    "collapsed": false
   },
   "outputs": [
    {
     "name": "stdout",
     "output_type": "stream",
     "text": [
      "The number of rows pulled from the database is 6264730\n"
     ]
    }
   ],
   "source": [
    "#Save the total number of rows to raw_len and print. \n",
    "raw_len=len(demographics)\n",
    "print \"The number of rows pulled from the database is \" + str(raw_len)"
   ]
  },
  {
   "cell_type": "markdown",
   "metadata": {},
   "source": [
    "Create a generic function to change blank fields to NaN for all categorical fields "
   ]
  },
  {
   "cell_type": "code",
   "execution_count": 8,
   "metadata": {
    "collapsed": true
   },
   "outputs": [],
   "source": [
    "def fix_blanks_NaN(x):\n",
    "    if x == \"\":\n",
    "        return np.nan\n",
    "    elif x == \" \":\n",
    "        return np.nan\n",
    "    else:\n",
    "        return x"
   ]
  },
  {
   "cell_type": "code",
   "execution_count": 9,
   "metadata": {
    "collapsed": true
   },
   "outputs": [],
   "source": [
    "def fix_blanks(x):\n",
    "    if x == \"\":\n",
    "        return \"None\"\n",
    "    elif x == \" \":\n",
    "        return \"None\"\n",
    "    else:\n",
    "        return x"
   ]
  },
  {
   "cell_type": "code",
   "execution_count": 10,
   "metadata": {
    "collapsed": false
   },
   "outputs": [],
   "source": [
    "demographics['birth_state'] = demographics['birth_state'].apply(fix_blanks) # change blanks to \"None\" in birth_state\n",
    "demographics['gender_code'] = demographics['gender_code'].apply(fix_blanks_NaN) # change blanks to NaN in gender_code\n",
    "demographics['race_code'] = demographics['race_code'].apply(fix_blanks_NaN) # etc.\n",
    "demographics['ethnic_code'] = demographics['ethnic_code'].apply(fix_blanks_NaN) \n",
    "demographics['zip_code'] = demographics['zip_code'].apply(fix_blanks_NaN)\n",
    "demographics['birth_state'] = demographics['birth_state'].apply(fix_blanks_NaN) \n",
    "demographics['county_desc'] = demographics['county_desc'].apply(fix_blanks_NaN) \n",
    "demographics['registr_dt'] = demographics['registr_dt'].apply(fix_blanks_NaN)\n",
    "demographics['ncid'] = demographics['ncid'].apply(fix_blanks_NaN)\n",
    "demographics['precinct_abbrv'] = demographics['precinct_abbrv'].apply(fix_blanks_NaN)"
   ]
  },
  {
   "cell_type": "code",
   "execution_count": 11,
   "metadata": {
    "collapsed": false
   },
   "outputs": [
    {
     "name": "stdout",
     "output_type": "stream",
     "text": [
      "The number of rows I have dropped is 103\n",
      "The number of rows remaining in the database is 6264627\n",
      "The precentage of rows that I have dropped is: 0.002%\n"
     ]
    }
   ],
   "source": [
    "demographics.dropna(inplace=True, how='any') #drop all rows with NaN\n",
    "clean_len=len(demographics) #how many rows to I have left?\n",
    "difference = raw_len - clean_len #how many rows have I dropped?\n",
    "fraction = float(difference)/float(raw_len) #what fraction of rows have I dropped?\n",
    "print \"The number of rows I have dropped is \" + str(difference) \n",
    "print \"The number of rows remaining in the database is \" + str(clean_len)\n",
    "print \"The precentage of rows that I have dropped is: \" + str('{:.3%}'.format(fraction))"
   ]
  },
  {
   "cell_type": "code",
   "execution_count": 12,
   "metadata": {
    "collapsed": false
   },
   "outputs": [],
   "source": [
    "demographics['birth_age'] = demographics['birth_age'].astype('float64')\n",
    "demographics['registr_dt'] = pd.to_datetime(demographics['registr_dt'],yearfirst=True, errors='ignore')"
   ]
  },
  {
   "cell_type": "code",
   "execution_count": 13,
   "metadata": {
    "collapsed": false
   },
   "outputs": [],
   "source": [
    "elections_flattened = pd.read_csv('elections_flattened.csv')"
   ]
  },
  {
   "cell_type": "code",
   "execution_count": 14,
   "metadata": {
    "collapsed": true
   },
   "outputs": [],
   "source": [
    "combined = pd.merge(demographics, elections_flattened, how='left', on='ncid')"
   ]
  },
  {
   "cell_type": "code",
   "execution_count": 15,
   "metadata": {
    "collapsed": false
   },
   "outputs": [
    {
     "name": "stdout",
     "output_type": "stream",
     "text": [
      "6264627 6264627 6485857\n"
     ]
    }
   ],
   "source": [
    "print len(combined), len(demographics), len(elections_flattened)"
   ]
  },
  {
   "cell_type": "markdown",
   "metadata": {
    "collapsed": true
   },
   "source": [
    "Now save the dataframe 'combined' in a .csv"
   ]
  },
  {
   "cell_type": "code",
   "execution_count": 16,
   "metadata": {
    "collapsed": true
   },
   "outputs": [],
   "source": [
    "combined.to_csv('combined2008.csv')"
   ]
  }
 ],
 "metadata": {
  "celltoolbar": "Raw Cell Format",
  "kernelspec": {
   "display_name": "Python [conda env:gl-env]",
   "language": "python",
   "name": "conda-env-gl-env-py"
  },
  "language_info": {
   "codemirror_mode": {
    "name": "ipython",
    "version": 2
   },
   "file_extension": ".py",
   "mimetype": "text/x-python",
   "name": "python",
   "nbconvert_exporter": "python",
   "pygments_lexer": "ipython2",
   "version": "2.7.13"
  }
 },
 "nbformat": 4,
 "nbformat_minor": 0
}
