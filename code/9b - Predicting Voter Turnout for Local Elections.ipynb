{
 "cells": [
  {
   "cell_type": "markdown",
   "metadata": {
    "collapsed": true
   },
   "source": [
    "We're going to load the combined demographic and turnout data, and  predict turnout for the 2017 local elections - More Data"
   ]
  },
  {
   "cell_type": "code",
   "execution_count": 1,
   "metadata": {
    "collapsed": false
   },
   "outputs": [],
   "source": [
    "#First set everthing up\n",
    "import pyodbc\n",
    "import graphlab as gl\n",
    "import pandas as pd\n",
    "import matplotlib.pyplot as plt\n",
    "import numpy as np\n",
    "import datetime\n",
    "import local #server information and credentials\n",
    "from pullODBC import pullODBC\n",
    "from pullODBCall import pullODBCall\n",
    "from matplotlib.backends.backend_pdf import PdfPages\n",
    "from __future__ import division # convert integer division to floating point\n",
    "%matplotlib inline\n",
    "plt.style.use('seaborn-white')\n",
    "plt.rcParams['font.size'] = 7\n",
    "plt.tight_layout;\n",
    "plt.rc('xtick', labelsize=7) \n",
    "plt.rc('ytick', labelsize=7) "
   ]
  },
  {
   "cell_type": "markdown",
   "metadata": {},
   "source": [
    "Read in combined demographic and participation data from the June 2017 snapshots"
   ]
  },
  {
   "cell_type": "code",
   "execution_count": 2,
   "metadata": {
    "collapsed": false
   },
   "outputs": [
    {
     "name": "stderr",
     "output_type": "stream",
     "text": [
      "C:\\Users\\scott\\Anaconda2\\envs\\gl-env\\lib\\site-packages\\IPython\\core\\interactiveshell.py:2723: DtypeWarning: Columns (14) have mixed types. Specify dtype option on import or set low_memory=False.\n",
      "  interactivity=interactivity, compiler=compiler, result=result)\n"
     ]
    }
   ],
   "source": [
    "combined_df = pd.read_csv('combined_updated.csv')"
   ]
  },
  {
   "cell_type": "code",
   "execution_count": 3,
   "metadata": {
    "collapsed": false
   },
   "outputs": [
    {
     "name": "stdout",
     "output_type": "stream",
     "text": [
      "6771263\n",
      "   Unnamed: 0  Unnamed: 0.1  birth_age gender_code race_code ethnic_code  \\\n",
      "0           0             0         79           M         W          NL   \n",
      "1           1             1         60           M         W          NL   \n",
      "2           2             2         43           M         W          NL   \n",
      "3           3             3         55           M         W          NL   \n",
      "4           4             4         58           F         W          NL   \n",
      "\n",
      "  party_cd status_cd  zip_code birth_state  ...  2007 2008 2009 2010 2011  \\\n",
      "0      DEM         A     27253          NC  ...   0.0  1.0  0.0  1.0  0.0   \n",
      "1      REP         A     27215          NC  ...   0.0  1.0  0.0  1.0  0.0   \n",
      "2      REP         A     27302          NC  ...   0.0  1.0  1.0  1.0  0.0   \n",
      "3      REP         A     27215          NC  ...   0.0  1.0  0.0  1.0  0.0   \n",
      "4      DEM         I     27258          NC  ...   NaN  NaN  NaN  NaN  NaN   \n",
      "\n",
      "  2012 2013 2014  2015  2016  \n",
      "0  1.0  0.0  1.0   0.0   1.0  \n",
      "1  1.0  0.0  1.0   0.0   1.0  \n",
      "2  1.0  1.0  1.0   0.0   1.0  \n",
      "3  1.0  0.0  1.0   0.0   1.0  \n",
      "4  NaN  NaN  NaN   NaN   NaN  \n",
      "\n",
      "[5 rows x 28 columns]\n",
      "Index([u'Unnamed: 0', u'Unnamed: 0.1', u'birth_age', u'gender_code',\n",
      "       u'race_code', u'ethnic_code', u'party_cd', u'status_cd', u'zip_code',\n",
      "       u'birth_state', u'drivers_lic', u'county_desc', u'registr_dt', u'ncid',\n",
      "       u'precinct_abbrv', u'municipality_abbrv', u'last_name', u'first_name',\n",
      "       u'2007', u'2008', u'2009', u'2010', u'2011', u'2012', u'2013', u'2014',\n",
      "       u'2015', u'2016'],\n",
      "      dtype='object')\n"
     ]
    }
   ],
   "source": [
    "print len(combined_df)\n",
    "print combined_df.head()\n",
    "print combined_df.columns"
   ]
  },
  {
   "cell_type": "markdown",
   "metadata": {},
   "source": [
    "Change all the NaN's to 0"
   ]
  },
  {
   "cell_type": "code",
   "execution_count": 4,
   "metadata": {
    "collapsed": true
   },
   "outputs": [],
   "source": [
    "combined_df.fillna(value=0.0, method=None, axis=None, inplace=True, limit=None, downcast=None)"
   ]
  },
  {
   "cell_type": "code",
   "execution_count": 5,
   "metadata": {
    "collapsed": false
   },
   "outputs": [],
   "source": [
    "pd.set_option('max_columns',100)"
   ]
  },
  {
   "cell_type": "markdown",
   "metadata": {},
   "source": [
    "Get rid of junk columns"
   ]
  },
  {
   "cell_type": "code",
   "execution_count": 6,
   "metadata": {
    "collapsed": true
   },
   "outputs": [],
   "source": [
    "del combined_df['Unnamed: 0']\n",
    "del combined_df['Unnamed: 0.1']"
   ]
  },
  {
   "cell_type": "markdown",
   "metadata": {
    "collapsed": false
   },
   "source": [
    "Change all particpation columns to integer"
   ]
  },
  {
   "cell_type": "code",
   "execution_count": 7,
   "metadata": {
    "collapsed": false
   },
   "outputs": [],
   "source": [
    "years = ['2007', '2008', '2009', '2010', '2011', '2012', '2013', '2014', '2015', '2016']\n",
    "for year in years:\n",
    "    combined_df[year] = combined_df[year].apply(int)"
   ]
  },
  {
   "cell_type": "code",
   "execution_count": 8,
   "metadata": {
    "collapsed": false
   },
   "outputs": [
    {
     "name": "stdout",
     "output_type": "stream",
     "text": [
      "   birth_age gender_code race_code ethnic_code party_cd status_cd  zip_code  \\\n",
      "0         79           M         W          NL      DEM         A     27253   \n",
      "1         60           M         W          NL      REP         A     27215   \n",
      "2         43           M         W          NL      REP         A     27302   \n",
      "3         55           M         W          NL      REP         A     27215   \n",
      "4         58           F         W          NL      DEM         I     27258   \n",
      "\n",
      "  birth_state drivers_lic county_desc  registr_dt      ncid precinct_abbrv  \\\n",
      "0          NC           N    ALAMANCE  01/19/1959   AA34771             07   \n",
      "1          NC           Y    ALAMANCE  04/09/1984   AA53687            12W   \n",
      "2          NC           Y    ALAMANCE  04/02/1992   AA80986            10S   \n",
      "3          NC           Y    ALAMANCE  09/15/2003  AA131587            03S   \n",
      "4          NC           Y    ALAMANCE  05/19/2006  AA146650             13   \n",
      "\n",
      "  municipality_abbrv last_name first_name  2007  2008  2009  2010  2011  2012  \\\n",
      "0               None     PAYNE      JERRY     0     1     0     1     0     1   \n",
      "1                BUR     PAYNE      JERRY     0     1     0     1     0     1   \n",
      "2                MEB     PAYNE      JERRY     0     1     1     1     0     1   \n",
      "3                BUR     PAYNE      JERRY     0     1     0     1     0     1   \n",
      "4                HAW     PAYNE         JO     0     0     0     0     0     0   \n",
      "\n",
      "   2013  2014  2015  2016  \n",
      "0     0     1     0     1  \n",
      "1     0     1     0     1  \n",
      "2     1     1     0     1  \n",
      "3     0     1     0     1  \n",
      "4     0     0     0     0  \n"
     ]
    }
   ],
   "source": [
    "print combined_df.head()"
   ]
  },
  {
   "cell_type": "markdown",
   "metadata": {},
   "source": [
    "Change registr_dt to datetime and birth_age to float"
   ]
  },
  {
   "cell_type": "code",
   "execution_count": 9,
   "metadata": {
    "collapsed": true
   },
   "outputs": [],
   "source": [
    "combined_df['birth_age'] = combined_df['birth_age'].apply(float)"
   ]
  },
  {
   "cell_type": "code",
   "execution_count": 10,
   "metadata": {
    "collapsed": false
   },
   "outputs": [
    {
     "name": "stdout",
     "output_type": "stream",
     "text": [
      "   birth_age gender_code race_code ethnic_code party_cd status_cd  zip_code  \\\n",
      "0       79.0           M         W          NL      DEM         A     27253   \n",
      "1       60.0           M         W          NL      REP         A     27215   \n",
      "2       43.0           M         W          NL      REP         A     27302   \n",
      "3       55.0           M         W          NL      REP         A     27215   \n",
      "4       58.0           F         W          NL      DEM         I     27258   \n",
      "\n",
      "  birth_state drivers_lic county_desc registr_dt      ncid precinct_abbrv  \\\n",
      "0          NC           N    ALAMANCE 1959-01-19   AA34771             07   \n",
      "1          NC           Y    ALAMANCE 1984-04-09   AA53687            12W   \n",
      "2          NC           Y    ALAMANCE 1992-04-02   AA80986            10S   \n",
      "3          NC           Y    ALAMANCE 2003-09-15  AA131587            03S   \n",
      "4          NC           Y    ALAMANCE 2006-05-19  AA146650             13   \n",
      "\n",
      "  municipality_abbrv last_name first_name  2007  2008  2009  2010  2011  2012  \\\n",
      "0               None     PAYNE      JERRY     0     1     0     1     0     1   \n",
      "1                BUR     PAYNE      JERRY     0     1     0     1     0     1   \n",
      "2                MEB     PAYNE      JERRY     0     1     1     1     0     1   \n",
      "3                BUR     PAYNE      JERRY     0     1     0     1     0     1   \n",
      "4                HAW     PAYNE         JO     0     0     0     0     0     0   \n",
      "\n",
      "   2013  2014  2015  2016  \n",
      "0     0     1     0     1  \n",
      "1     0     1     0     1  \n",
      "2     1     1     0     1  \n",
      "3     0     1     0     1  \n",
      "4     0     0     0     0  \n"
     ]
    }
   ],
   "source": [
    "combined_df['registr_dt']=pd.to_datetime(combined_df.registr_dt, format='%m/%d/%Y')\n",
    "print combined_df.head()"
   ]
  },
  {
   "cell_type": "markdown",
   "metadata": {},
   "source": [
    "Create datetime objects for the four election days to be used in prediction"
   ]
  },
  {
   "cell_type": "code",
   "execution_count": 11,
   "metadata": {
    "collapsed": false
   },
   "outputs": [],
   "source": [
    "election_day_2016 = pd.to_datetime('11/8/2016', dayfirst=False, yearfirst=False)\n",
    "election_day_2015 = pd.to_datetime('11/3/2015', dayfirst=False, yearfirst=False)\n",
    "election_day_2014 = pd.to_datetime('11/4/2014', dayfirst=False, yearfirst=False) "
   ]
  },
  {
   "cell_type": "markdown",
   "metadata": {},
   "source": [
    "Create a set of functions to set new columns to 'Y' (voted) 'N' (registered but did not vote) and 'U' (not registered)"
   ]
  },
  {
   "cell_type": "code",
   "execution_count": 12,
   "metadata": {
    "collapsed": true
   },
   "outputs": [],
   "source": [
    "def calc_voted_2016(x):\n",
    "    if x['2016'] == 1:\n",
    "        return 'Y'\n",
    "    elif x['registr_dt'] <= election_day_2016:\n",
    "        return 'N'\n",
    "    else:\n",
    "        return 'U'"
   ]
  },
  {
   "cell_type": "code",
   "execution_count": 13,
   "metadata": {
    "collapsed": true
   },
   "outputs": [],
   "source": [
    "def calc_voted_2015(x):\n",
    "    if x['2015'] == 1:\n",
    "        return 'Y'\n",
    "    elif x['registr_dt'] <= election_day_2015:\n",
    "        return 'N'\n",
    "    else:\n",
    "        return 'U'"
   ]
  },
  {
   "cell_type": "code",
   "execution_count": 14,
   "metadata": {
    "collapsed": true
   },
   "outputs": [],
   "source": [
    "def calc_voted_2014(x):\n",
    "    if x['2014'] == 1:\n",
    "        return 'Y'\n",
    "    elif x['registr_dt'] <= election_day_2014:\n",
    "        return 'N'\n",
    "    else:\n",
    "        return 'U'"
   ]
  },
  {
   "cell_type": "code",
   "execution_count": 15,
   "metadata": {
    "collapsed": false
   },
   "outputs": [
    {
     "name": "stdout",
     "output_type": "stream",
     "text": [
      "created congressional column\n",
      "created local column\n",
      "created presiendial column\n"
     ]
    }
   ],
   "source": [
    "combined_df['congressional']= combined_df.apply(calc_voted_2014, axis=1)\n",
    "print \"created congressional column\"\n",
    "combined_df['local']= combined_df.apply(calc_voted_2015, axis=1)\n",
    "print \"created local column\"\n",
    "combined_df['presidential']= combined_df.apply(calc_voted_2016, axis=1)\n",
    "print \"created presiendial column\""
   ]
  },
  {
   "cell_type": "markdown",
   "metadata": {},
   "source": [
    "Print the first 10 rows and examine for correctness"
   ]
  },
  {
   "cell_type": "code",
   "execution_count": 16,
   "metadata": {
    "collapsed": false
   },
   "outputs": [
    {
     "name": "stdout",
     "output_type": "stream",
     "text": [
      "   birth_age gender_code race_code ethnic_code party_cd status_cd  zip_code  \\\n",
      "0       79.0           M         W          NL      DEM         A     27253   \n",
      "1       60.0           M         W          NL      REP         A     27215   \n",
      "2       43.0           M         W          NL      REP         A     27302   \n",
      "3       55.0           M         W          NL      REP         A     27215   \n",
      "4       58.0           F         W          NL      DEM         I     27258   \n",
      "5       50.0           M         W          UN      REP         A     27302   \n",
      "6       82.0           M         W          NL      REP         A     27302   \n",
      "7       48.0           M         W          UN      UNA         A     27253   \n",
      "8       62.0           F         W          NL      REP         A     27217   \n",
      "9       30.0           F         W          NL      UNA         A     27253   \n",
      "\n",
      "  birth_state drivers_lic county_desc registr_dt      ncid precinct_abbrv  \\\n",
      "0          NC           N    ALAMANCE 1959-01-19   AA34771             07   \n",
      "1          NC           Y    ALAMANCE 1984-04-09   AA53687            12W   \n",
      "2          NC           Y    ALAMANCE 1992-04-02   AA80986            10S   \n",
      "3          NC           Y    ALAMANCE 2003-09-15  AA131587            03S   \n",
      "4          NC           Y    ALAMANCE 2006-05-19  AA146650             13   \n",
      "5          NC           Y    ALAMANCE 1998-10-07  AA111988            103   \n",
      "6          NC           Y    ALAMANCE 1995-11-08   AA96254            10S   \n",
      "7          WV           Y    ALAMANCE 2016-10-14  AA192965            08S   \n",
      "8          NC           Y    ALAMANCE 1988-02-05   AA63841             04   \n",
      "9          VA           Y    ALAMANCE 2016-12-09  AA194945            06S   \n",
      "\n",
      "  municipality_abbrv last_name first_name  2007  2008  2009  2010  2011  2012  \\\n",
      "0               None     PAYNE      JERRY     0     1     0     1     0     1   \n",
      "1                BUR     PAYNE      JERRY     0     1     0     1     0     1   \n",
      "2                MEB     PAYNE      JERRY     0     1     1     1     0     1   \n",
      "3                BUR     PAYNE      JERRY     0     1     0     1     0     1   \n",
      "4                HAW     PAYNE         JO     0     0     0     0     0     0   \n",
      "5               None     PAYNE       JOHN     0     1     0     1     0     1   \n",
      "6                MEB     PAYNE       JOHN     0     1     0     1     0     1   \n",
      "7               None     PAYNE     JOSEPH     0     0     0     0     0     0   \n",
      "8               None     PAYNE      JOYCE     0     1     0     1     0     1   \n",
      "9                GRA     PAYNE     JUDITH     0     0     0     0     0     0   \n",
      "\n",
      "   2013  2014  2015  2016 congressional local presidential  \n",
      "0     0     1     0     1             Y     N            Y  \n",
      "1     0     1     0     1             Y     N            Y  \n",
      "2     1     1     0     1             Y     N            Y  \n",
      "3     0     1     0     1             Y     N            Y  \n",
      "4     0     0     0     0             N     N            N  \n",
      "5     0     0     0     1             N     N            Y  \n",
      "6     0     0     0     1             N     N            Y  \n",
      "7     0     0     0     1             U     U            Y  \n",
      "8     0     1     0     1             Y     N            Y  \n",
      "9     0     0     0     0             U     U            U  \n"
     ]
    }
   ],
   "source": [
    "pd.set_option('max_columns', 30)\n",
    "print combined_df.head(n=10)"
   ]
  },
  {
   "cell_type": "markdown",
   "metadata": {},
   "source": [
    "Before predicting, need to make sure the columns are of the correct type and that all folks with invalid ages and years registered are removed.  SFrames, which will be used for predicting, do not accept mixed types in columns, so we need to be very sure that all column types are the same."
   ]
  },
  {
   "cell_type": "code",
   "execution_count": 17,
   "metadata": {
    "collapsed": false
   },
   "outputs": [],
   "source": [
    "string_columns = ['ncid', 'gender_code',  'race_code',  'ethnic_code', 'party_cd', 'status_cd', \n",
    "                'zip_code', 'birth_state', 'drivers_lic', 'county_desc', 'precinct_abbrv',\n",
    "                 'congressional', 'local', 'presidential', 'municipality_abbrv', 'last_name' , 'first_name']"
   ]
  },
  {
   "cell_type": "code",
   "execution_count": 18,
   "metadata": {
    "collapsed": false
   },
   "outputs": [],
   "source": [
    "for col in string_columns: #convert all the string_columns to 'string'\n",
    "    combined_df[col] = combined_df[col].apply(str)"
   ]
  },
  {
   "cell_type": "markdown",
   "metadata": {
    "collapsed": true
   },
   "source": [
    "Create interaction variables"
   ]
  },
  {
   "cell_type": "code",
   "execution_count": 19,
   "metadata": {
    "collapsed": true
   },
   "outputs": [],
   "source": [
    "def convert_to_years(x): # function to convert a timedelta object to a float of years\n",
    "    return x.total_seconds()/(60*60*24*365.2422)"
   ]
  },
  {
   "cell_type": "code",
   "execution_count": 21,
   "metadata": {
    "collapsed": false
   },
   "outputs": [],
   "source": [
    "combined_df['race_gender'] = combined_df['race_code'] + combined_df ['gender_code']\n",
    "combined_df['race_ethnicity'] = combined_df['race_code'] + combined_df['ethnic_code']\n",
    "combined_df['gender_ethnicity'] = combined_df['gender_code'] + combined_df ['ethnic_code']\n",
    "combined_df['age_squared'] = (combined_df['birth_age'])**2\n",
    "combined_df['age_cubed'] = (combined_df['birth_age'])**3\n",
    "now = pd.to_datetime('today') # get today's data\n",
    "combined_df['years_since_registration'] = now - combined_df['registr_dt'] # get days since registration as a timedelta object\n",
    "combined_df['years_since_registration'] = combined_df['years_since_registration'].apply(convert_to_years) # convert to years\n",
    "combined_df['years_squared'] = (combined_df['years_since_registration'])**2\n",
    "combined_df['years_cubed'] = (combined_df['years_since_registration'])**3\n",
    "combined_df['county_prec'] = combined_df['county_desc'] + combined_df['precinct_abbrv']"
   ]
  },
  {
   "cell_type": "code",
   "execution_count": 22,
   "metadata": {
    "collapsed": false
   },
   "outputs": [
    {
     "name": "stdout",
     "output_type": "stream",
     "text": [
      "   birth_age gender_code race_code ethnic_code party_cd status_cd zip_code  \\\n",
      "0       79.0           M         W          NL      DEM         A    27253   \n",
      "1       60.0           M         W          NL      REP         A    27215   \n",
      "2       43.0           M         W          NL      REP         A    27302   \n",
      "3       55.0           M         W          NL      REP         A    27215   \n",
      "4       58.0           F         W          NL      DEM         I    27258   \n",
      "\n",
      "  birth_state drivers_lic county_desc registr_dt      ncid precinct_abbrv  \\\n",
      "0          NC           N    ALAMANCE 1959-01-19   AA34771             07   \n",
      "1          NC           Y    ALAMANCE 1984-04-09   AA53687            12W   \n",
      "2          NC           Y    ALAMANCE 1992-04-02   AA80986            10S   \n",
      "3          NC           Y    ALAMANCE 2003-09-15  AA131587            03S   \n",
      "4          NC           Y    ALAMANCE 2006-05-19  AA146650             13   \n",
      "\n",
      "  municipality_abbrv last_name     ...      2014  2015  2016  congressional  \\\n",
      "0               None     PAYNE     ...         1     0     1              Y   \n",
      "1                BUR     PAYNE     ...         1     0     1              Y   \n",
      "2                MEB     PAYNE     ...         1     0     1              Y   \n",
      "3                BUR     PAYNE     ...         1     0     1              Y   \n",
      "4                HAW     PAYNE     ...         0     0     0              N   \n",
      "\n",
      "   local  presidential  race_gender  race_ethnicity  gender_ethnicity  \\\n",
      "0      N             Y           WM             WNL               MNL   \n",
      "1      N             Y           WM             WNL               MNL   \n",
      "2      N             Y           WM             WNL               MNL   \n",
      "3      N             Y           WM             WNL               MNL   \n",
      "4      N             N           WF             WNL               FNL   \n",
      "\n",
      "   age_squared  age_cubed years_since_registration years_squared  \\\n",
      "0       6241.0   493039.0                58.593996   3433.256365   \n",
      "1       3600.0   216000.0                33.372376   1113.715475   \n",
      "2       1849.0    79507.0                25.391370    644.721693   \n",
      "3       3025.0   166375.0                13.938696    194.287247   \n",
      "4       3364.0   195112.0                11.263759    126.872260   \n",
      "\n",
      "     years_cubed  county_prec  \n",
      "0  201168.209685   ALAMANCE07  \n",
      "1   37167.331482  ALAMANCE12W  \n",
      "2   16370.367330  ALAMANCE10S  \n",
      "3    2708.110874  ALAMANCE03S  \n",
      "4    1429.058515   ALAMANCE13  \n",
      "\n",
      "[5 rows x 38 columns]\n"
     ]
    }
   ],
   "source": [
    "print combined_df.head()"
   ]
  },
  {
   "cell_type": "markdown",
   "metadata": {},
   "source": [
    "By definition of status_cd = 'I', and municipality_abbrv = 'None' voters that have either of these attributes should be predicted as not voting in the next local election.  Therefore, the logical thing for our model to do is to predict all voters with status_cd = 'I' or municpality_abbrv = 'None' will not vote in the next local election. Our model only modeled the voters with status_cd = 'A'. We now combine everything in our final classification model to predict whether a voter will vote in the next municipal election:\n",
    "\n",
    "    if status_cd == 'I' then predict 'No'\n",
    "    \n",
    "        else if municipality_abbrv == 'None' then predict 'No'\n",
    "\n",
    "        else if model_prediction == 'N' then predict 'No'\n",
    "    \n",
    "        else predict 'Yes'"
   ]
  },
  {
   "cell_type": "markdown",
   "metadata": {
    "collapsed": false
   },
   "source": [
    "Now we convert combined_df to an SFrame for prediction."
   ]
  },
  {
   "cell_type": "code",
   "execution_count": 23,
   "metadata": {
    "collapsed": false
   },
   "outputs": [
    {
     "name": "stderr",
     "output_type": "stream",
     "text": [
      "[INFO] graphlab.cython.cy_server: GraphLab Create v2.1 started. Logging: C:\\Users\\scott\\AppData\\Local\\Temp\\graphlab_server_1503508458.log.0\n"
     ]
    },
    {
     "name": "stdout",
     "output_type": "stream",
     "text": [
      "This non-commercial license of GraphLab Create for academic use is assigned to scottsmi@live.unc.edu and will expire on May 15, 2018.\n"
     ]
    }
   ],
   "source": [
    "combined_sf = gl.SFrame(combined_df)"
   ]
  },
  {
   "cell_type": "markdown",
   "metadata": {},
   "source": [
    "Let's read in the models for predicting turnout and sentiment"
   ]
  },
  {
   "cell_type": "code",
   "execution_count": 24,
   "metadata": {
    "collapsed": false
   },
   "outputs": [],
   "source": [
    "turnout_model = gl.load_model('enhanced_turnout_model')\n",
    "sentiment_model = gl.load_model('full_party_model_file.mdl')"
   ]
  },
  {
   "cell_type": "markdown",
   "metadata": {
    "collapsed": false
   },
   "source": [
    "Let's first predict sentiment"
   ]
  },
  {
   "cell_type": "code",
   "execution_count": 25,
   "metadata": {
    "collapsed": false
   },
   "outputs": [],
   "source": [
    "def return_actual_or_predicted_party(x): # This function returns the party if affiliated, if not returns the predicted party\n",
    "    if x['party_cd'] == \"DEM\":\n",
    "        return\"DEM\"\n",
    "    elif x['party_cd'] == \"REP\":\n",
    "        return \"REP\"\n",
    "    elif x['predict_positive'] == True:\n",
    "        return \"REP\"\n",
    "    else:\n",
    "        return \"DEM\"\n",
    "    \n",
    "\n",
    "def get_model_sentiment_predictions(model, sframe, threshold):\n",
    "    sframe['percent_republican'] = model.predict(sframe, output_type='probability') # add a column with the model generated probabilities\n",
    "    sframe['predict_positive'] = sframe['percent_republican'] >= threshold # add a column that contains 'true' if a positive is predicted, a false otherwise\n",
    "    sframe['actual_or_predicted_party']= sframe.apply(return_actual_or_predicted_party)# add this column to contain the actual or predicted party preference\n",
    "    return sframe            "
   ]
  },
  {
   "cell_type": "code",
   "execution_count": 26,
   "metadata": {
    "collapsed": false
   },
   "outputs": [],
   "source": [
    "prediction_sf= get_model_sentiment_predictions(sentiment_model, combined_sf, 0.56)"
   ]
  },
  {
   "cell_type": "code",
   "execution_count": 27,
   "metadata": {
    "collapsed": false
   },
   "outputs": [
    {
     "name": "stdout",
     "output_type": "stream",
     "text": [
      "+-----------+-------------+-----------+-------------+----------+-----------+\n",
      "| birth_age | gender_code | race_code | ethnic_code | party_cd | status_cd |\n",
      "+-----------+-------------+-----------+-------------+----------+-----------+\n",
      "|    79.0   |      M      |     W     |      NL     |   DEM    |     A     |\n",
      "|    60.0   |      M      |     W     |      NL     |   REP    |     A     |\n",
      "|    43.0   |      M      |     W     |      NL     |   REP    |     A     |\n",
      "|    55.0   |      M      |     W     |      NL     |   REP    |     A     |\n",
      "|    58.0   |      F      |     W     |      NL     |   DEM    |     I     |\n",
      "|    50.0   |      M      |     W     |      UN     |   REP    |     A     |\n",
      "|    82.0   |      M      |     W     |      NL     |   REP    |     A     |\n",
      "|    48.0   |      M      |     W     |      UN     |   UNA    |     A     |\n",
      "|    62.0   |      F      |     W     |      NL     |   REP    |     A     |\n",
      "|    30.0   |      F      |     W     |      NL     |   UNA    |     A     |\n",
      "+-----------+-------------+-----------+-------------+----------+-----------+\n",
      "+----------+-------------+-------------+-------------+---------------------------+\n",
      "| zip_code | birth_state | drivers_lic | county_desc |         registr_dt        |\n",
      "+----------+-------------+-------------+-------------+---------------------------+\n",
      "|  27253   |      NC     |      N      |   ALAMANCE  | 1959-01-19 00:00:00+00:00 |\n",
      "|  27215   |      NC     |      Y      |   ALAMANCE  | 1984-04-09 00:00:00+00:00 |\n",
      "|  27302   |      NC     |      Y      |   ALAMANCE  | 1992-04-02 00:00:00+00:00 |\n",
      "|  27215   |      NC     |      Y      |   ALAMANCE  | 2003-09-15 00:00:00+00:00 |\n",
      "|  27258   |      NC     |      Y      |   ALAMANCE  | 2006-05-19 00:00:00+00:00 |\n",
      "|  27302   |      NC     |      Y      |   ALAMANCE  | 1998-10-07 00:00:00+00:00 |\n",
      "|  27302   |      NC     |      Y      |   ALAMANCE  | 1995-11-08 00:00:00+00:00 |\n",
      "|  27253   |      WV     |      Y      |   ALAMANCE  | 2016-10-14 00:00:00+00:00 |\n",
      "|  27217   |      NC     |      Y      |   ALAMANCE  | 1988-02-05 00:00:00+00:00 |\n",
      "|  27253   |      VA     |      Y      |   ALAMANCE  | 2016-12-09 00:00:00+00:00 |\n",
      "+----------+-------------+-------------+-------------+---------------------------+\n",
      "+----------+----------------+--------------------+-----------+------------+------+\n",
      "|   ncid   | precinct_abbrv | municipality_abbrv | last_name | first_name | 2007 |\n",
      "+----------+----------------+--------------------+-----------+------------+------+\n",
      "| AA34771  |       07       |        None        |   PAYNE   |   JERRY    |  0   |\n",
      "| AA53687  |      12W       |        BUR         |   PAYNE   |   JERRY    |  0   |\n",
      "| AA80986  |      10S       |        MEB         |   PAYNE   |   JERRY    |  0   |\n",
      "| AA131587 |      03S       |        BUR         |   PAYNE   |   JERRY    |  0   |\n",
      "| AA146650 |       13       |        HAW         |   PAYNE   |     JO     |  0   |\n",
      "| AA111988 |      103       |        None        |   PAYNE   |    JOHN    |  0   |\n",
      "| AA96254  |      10S       |        MEB         |   PAYNE   |    JOHN    |  0   |\n",
      "| AA192965 |      08S       |        None        |   PAYNE   |   JOSEPH   |  0   |\n",
      "| AA63841  |       04       |        None        |   PAYNE   |   JOYCE    |  0   |\n",
      "| AA194945 |      06S       |        GRA         |   PAYNE   |   JUDITH   |  0   |\n",
      "+----------+----------------+--------------------+-----------+------------+------+\n",
      "+------+------+------+------+------+------+------+------+------+---------------+\n",
      "| 2008 | 2009 | 2010 | 2011 | 2012 | 2013 | 2014 | 2015 | 2016 | congressional |\n",
      "+------+------+------+------+------+------+------+------+------+---------------+\n",
      "|  1   |  0   |  1   |  0   |  1   |  0   |  1   |  0   |  1   |       Y       |\n",
      "|  1   |  0   |  1   |  0   |  1   |  0   |  1   |  0   |  1   |       Y       |\n",
      "|  1   |  1   |  1   |  0   |  1   |  1   |  1   |  0   |  1   |       Y       |\n",
      "|  1   |  0   |  1   |  0   |  1   |  0   |  1   |  0   |  1   |       Y       |\n",
      "|  0   |  0   |  0   |  0   |  0   |  0   |  0   |  0   |  0   |       N       |\n",
      "|  1   |  0   |  1   |  0   |  1   |  0   |  0   |  0   |  1   |       N       |\n",
      "|  1   |  0   |  1   |  0   |  1   |  0   |  0   |  0   |  1   |       N       |\n",
      "|  0   |  0   |  0   |  0   |  0   |  0   |  0   |  0   |  1   |       U       |\n",
      "|  1   |  0   |  1   |  0   |  1   |  0   |  1   |  0   |  1   |       Y       |\n",
      "|  0   |  0   |  0   |  0   |  0   |  0   |  0   |  0   |  0   |       U       |\n",
      "+------+------+------+------+------+------+------+------+------+---------------+\n",
      "+-------+--------------+-------------+----------------+------------------+\n",
      "| local | presidential | race_gender | race_ethnicity | gender_ethnicity |\n",
      "+-------+--------------+-------------+----------------+------------------+\n",
      "|   N   |      Y       |      WM     |      WNL       |       MNL        |\n",
      "|   N   |      Y       |      WM     |      WNL       |       MNL        |\n",
      "|   N   |      Y       |      WM     |      WNL       |       MNL        |\n",
      "|   N   |      Y       |      WM     |      WNL       |       MNL        |\n",
      "|   N   |      N       |      WF     |      WNL       |       FNL        |\n",
      "|   N   |      Y       |      WM     |      WUN       |       MUN        |\n",
      "|   N   |      Y       |      WM     |      WNL       |       MNL        |\n",
      "|   U   |      Y       |      WM     |      WUN       |       MUN        |\n",
      "|   N   |      Y       |      WF     |      WNL       |       FNL        |\n",
      "|   U   |      U       |      WF     |      WNL       |       FNL        |\n",
      "+-------+--------------+-------------+----------------+------------------+\n",
      "+-------------+-----------+--------------------------+----------------+\n",
      "| age_squared | age_cubed | years_since_registration | years_squared  |\n",
      "+-------------+-----------+--------------------------+----------------+\n",
      "|    6241.0   |  493039.0 |       58.593995984       | 3433.25636538  |\n",
      "|    3600.0   |  216000.0 |      33.3723759193       |  1113.7154745  |\n",
      "|    1849.0   |  79507.0  |      25.3913704386       | 644.721692749  |\n",
      "|    3025.0   |  166375.0 |      13.9386960214       | 194.287246778  |\n",
      "|    3364.0   |  195112.0 |      11.2637586785       | 126.872259567  |\n",
      "|    2500.0   |  125000.0 |       18.877884319       |  356.37451636  |\n",
      "|    6724.0   |  551368.0 |      21.7910197672       | 474.848542493  |\n",
      "|    2304.0   |  110592.0 |      0.856965597075      | 0.73439003457  |\n",
      "|    3844.0   |  238328.0 |      29.5475166889       | 873.055742482  |\n",
      "|    900.0    |  27000.0  |      0.703642678749      | 0.495113019356 |\n",
      "+-------------+-----------+--------------------------+----------------+\n",
      "+----------------+-------------+--------------------+------------------+---------------------------+\n",
      "|  years_cubed   | county_prec | percent_republican | predict_positive | actual_or_predicted_party |\n",
      "+----------------+-------------+--------------------+------------------+---------------------------+\n",
      "| 201168.209685  |  ALAMANCE07 |   0.35151517819    |        0         |            DEM            |\n",
      "| 37167.3314822  | ALAMANCE12W |   0.665425447674   |        1         |            REP            |\n",
      "| 16370.3673304  | ALAMANCE10S |   0.677635264446   |        1         |            REP            |\n",
      "| 2708.11087368  | ALAMANCE03S |   0.718958499876   |        1         |            REP            |\n",
      "| 1429.05851476  |  ALAMANCE13 |   0.640451156979   |        1         |            DEM            |\n",
      "| 6727.59689406  | ALAMANCE103 |   0.700073402529   |        1         |            REP            |\n",
      "| 10347.4339759  | ALAMANCE10S |   0.614082355214   |        1         |            REP            |\n",
      "| 0.629346994461 | ALAMANCE08S |   0.685663540072   |        1         |            REP            |\n",
      "| 25796.6291214  |  ALAMANCE04 |   0.568884175584   |        1         |            REP            |\n",
      "| 0.348382651223 | ALAMANCE06S |   0.686081515217   |        1         |            REP            |\n",
      "+----------------+-------------+--------------------+------------------+---------------------------+\n",
      "[6771263 rows x 41 columns]\n",
      "\n"
     ]
    }
   ],
   "source": [
    "prediction_sf.print_rows(num_rows=10, num_columns=50, max_column_width=30, max_row_width=80, output_file=None)"
   ]
  },
  {
   "cell_type": "markdown",
   "metadata": {
    "collapsed": false
   },
   "source": [
    "Let's now predict participation in 2017"
   ]
  },
  {
   "cell_type": "code",
   "execution_count": 28,
   "metadata": {
    "collapsed": false
   },
   "outputs": [],
   "source": [
    "def return_predicted_participation(x): # This function returns 'N' if status_cd = 'I', if not returns the predicted participation\n",
    "    if x['status_cd'] == \"I\":\n",
    "        return 'N'\n",
    "    elif x['municipality_abbrv'] == \"None\":\n",
    "        return 'N'\n",
    "    elif x['predict_participate'] == False:\n",
    "        return 'N'\n",
    "    else:\n",
    "        return 'Y'\n",
    "    \n",
    "\n",
    "def get_predicted_participation(model, sframe, threshold):\n",
    "    sframe['percent_participation'] = model.predict(sframe, output_type='probability') # add a column with the model generated probabilities\n",
    "    sframe['predict_participate'] = sframe['percent_participation'] >= threshold # add a column that contains 'true' if a positive is predicted, a false otherwise\n",
    "    sframe['predicted_participation']= sframe.apply(return_predicted_participation)# add this column to contains the predicted participation\n",
    "    return sframe            "
   ]
  },
  {
   "cell_type": "code",
   "execution_count": 29,
   "metadata": {
    "collapsed": false,
    "scrolled": true
   },
   "outputs": [],
   "source": [
    "prediction_sf = get_predicted_participation(turnout_model, prediction_sf, 0.49)"
   ]
  },
  {
   "cell_type": "code",
   "execution_count": 31,
   "metadata": {
    "collapsed": false
   },
   "outputs": [
    {
     "name": "stdout",
     "output_type": "stream",
     "text": [
      "+-----------+-------------+-----------+-------------+----------+-----------+\n",
      "| birth_age | gender_code | race_code | ethnic_code | party_cd | status_cd |\n",
      "+-----------+-------------+-----------+-------------+----------+-----------+\n",
      "|    79.0   |      M      |     W     |      NL     |   DEM    |     A     |\n",
      "|    60.0   |      M      |     W     |      NL     |   REP    |     A     |\n",
      "|    43.0   |      M      |     W     |      NL     |   REP    |     A     |\n",
      "|    55.0   |      M      |     W     |      NL     |   REP    |     A     |\n",
      "|    58.0   |      F      |     W     |      NL     |   DEM    |     I     |\n",
      "|    50.0   |      M      |     W     |      UN     |   REP    |     A     |\n",
      "|    82.0   |      M      |     W     |      NL     |   REP    |     A     |\n",
      "|    48.0   |      M      |     W     |      UN     |   UNA    |     A     |\n",
      "|    62.0   |      F      |     W     |      NL     |   REP    |     A     |\n",
      "|    30.0   |      F      |     W     |      NL     |   UNA    |     A     |\n",
      "+-----------+-------------+-----------+-------------+----------+-----------+\n",
      "+----------+-------------+-------------+-------------+---------------------------+\n",
      "| zip_code | birth_state | drivers_lic | county_desc |         registr_dt        |\n",
      "+----------+-------------+-------------+-------------+---------------------------+\n",
      "|  27253   |      NC     |      N      |   ALAMANCE  | 1959-01-19 00:00:00+00:00 |\n",
      "|  27215   |      NC     |      Y      |   ALAMANCE  | 1984-04-09 00:00:00+00:00 |\n",
      "|  27302   |      NC     |      Y      |   ALAMANCE  | 1992-04-02 00:00:00+00:00 |\n",
      "|  27215   |      NC     |      Y      |   ALAMANCE  | 2003-09-15 00:00:00+00:00 |\n",
      "|  27258   |      NC     |      Y      |   ALAMANCE  | 2006-05-19 00:00:00+00:00 |\n",
      "|  27302   |      NC     |      Y      |   ALAMANCE  | 1998-10-07 00:00:00+00:00 |\n",
      "|  27302   |      NC     |      Y      |   ALAMANCE  | 1995-11-08 00:00:00+00:00 |\n",
      "|  27253   |      WV     |      Y      |   ALAMANCE  | 2016-10-14 00:00:00+00:00 |\n",
      "|  27217   |      NC     |      Y      |   ALAMANCE  | 1988-02-05 00:00:00+00:00 |\n",
      "|  27253   |      VA     |      Y      |   ALAMANCE  | 2016-12-09 00:00:00+00:00 |\n",
      "+----------+-------------+-------------+-------------+---------------------------+\n",
      "+----------+----------------+--------------------+-----------+------------+------+\n",
      "|   ncid   | precinct_abbrv | municipality_abbrv | last_name | first_name | 2007 |\n",
      "+----------+----------------+--------------------+-----------+------------+------+\n",
      "| AA34771  |       07       |        None        |   PAYNE   |   JERRY    |  0   |\n",
      "| AA53687  |      12W       |        BUR         |   PAYNE   |   JERRY    |  0   |\n",
      "| AA80986  |      10S       |        MEB         |   PAYNE   |   JERRY    |  0   |\n",
      "| AA131587 |      03S       |        BUR         |   PAYNE   |   JERRY    |  0   |\n",
      "| AA146650 |       13       |        HAW         |   PAYNE   |     JO     |  0   |\n",
      "| AA111988 |      103       |        None        |   PAYNE   |    JOHN    |  0   |\n",
      "| AA96254  |      10S       |        MEB         |   PAYNE   |    JOHN    |  0   |\n",
      "| AA192965 |      08S       |        None        |   PAYNE   |   JOSEPH   |  0   |\n",
      "| AA63841  |       04       |        None        |   PAYNE   |   JOYCE    |  0   |\n",
      "| AA194945 |      06S       |        GRA         |   PAYNE   |   JUDITH   |  0   |\n",
      "+----------+----------------+--------------------+-----------+------------+------+\n",
      "+------+------+------+------+------+------+------+------+------+---------------+\n",
      "| 2008 | 2009 | 2010 | 2011 | 2012 | 2013 | 2014 | 2015 | 2016 | congressional |\n",
      "+------+------+------+------+------+------+------+------+------+---------------+\n",
      "|  1   |  0   |  1   |  0   |  1   |  0   |  1   |  0   |  1   |       Y       |\n",
      "|  1   |  0   |  1   |  0   |  1   |  0   |  1   |  0   |  1   |       Y       |\n",
      "|  1   |  1   |  1   |  0   |  1   |  1   |  1   |  0   |  1   |       Y       |\n",
      "|  1   |  0   |  1   |  0   |  1   |  0   |  1   |  0   |  1   |       Y       |\n",
      "|  0   |  0   |  0   |  0   |  0   |  0   |  0   |  0   |  0   |       N       |\n",
      "|  1   |  0   |  1   |  0   |  1   |  0   |  0   |  0   |  1   |       N       |\n",
      "|  1   |  0   |  1   |  0   |  1   |  0   |  0   |  0   |  1   |       N       |\n",
      "|  0   |  0   |  0   |  0   |  0   |  0   |  0   |  0   |  1   |       U       |\n",
      "|  1   |  0   |  1   |  0   |  1   |  0   |  1   |  0   |  1   |       Y       |\n",
      "|  0   |  0   |  0   |  0   |  0   |  0   |  0   |  0   |  0   |       U       |\n",
      "+------+------+------+------+------+------+------+------+------+---------------+\n",
      "+-------+--------------+-------------+----------------+------------------+\n",
      "| local | presidential | race_gender | race_ethnicity | gender_ethnicity |\n",
      "+-------+--------------+-------------+----------------+------------------+\n",
      "|   N   |      Y       |      WM     |      WNL       |       MNL        |\n",
      "|   N   |      Y       |      WM     |      WNL       |       MNL        |\n",
      "|   N   |      Y       |      WM     |      WNL       |       MNL        |\n",
      "|   N   |      Y       |      WM     |      WNL       |       MNL        |\n",
      "|   N   |      N       |      WF     |      WNL       |       FNL        |\n",
      "|   N   |      Y       |      WM     |      WUN       |       MUN        |\n",
      "|   N   |      Y       |      WM     |      WNL       |       MNL        |\n",
      "|   U   |      Y       |      WM     |      WUN       |       MUN        |\n",
      "|   N   |      Y       |      WF     |      WNL       |       FNL        |\n",
      "|   U   |      U       |      WF     |      WNL       |       FNL        |\n",
      "+-------+--------------+-------------+----------------+------------------+\n",
      "+-------------+-----------+--------------------------+----------------+\n",
      "| age_squared | age_cubed | years_since_registration | years_squared  |\n",
      "+-------------+-----------+--------------------------+----------------+\n",
      "|    6241.0   |  493039.0 |       58.593995984       | 3433.25636538  |\n",
      "|    3600.0   |  216000.0 |      33.3723759193       |  1113.7154745  |\n",
      "|    1849.0   |  79507.0  |      25.3913704386       | 644.721692749  |\n",
      "|    3025.0   |  166375.0 |      13.9386960214       | 194.287246778  |\n",
      "|    3364.0   |  195112.0 |      11.2637586785       | 126.872259567  |\n",
      "|    2500.0   |  125000.0 |       18.877884319       |  356.37451636  |\n",
      "|    6724.0   |  551368.0 |      21.7910197672       | 474.848542493  |\n",
      "|    2304.0   |  110592.0 |      0.856965597075      | 0.73439003457  |\n",
      "|    3844.0   |  238328.0 |      29.5475166889       | 873.055742482  |\n",
      "|    900.0    |  27000.0  |      0.703642678749      | 0.495113019356 |\n",
      "+-------------+-----------+--------------------------+----------------+\n",
      "+----------------+-------------+--------------------+------------------+---------------------------+\n",
      "|  years_cubed   | county_prec | percent_republican | predict_positive | actual_or_predicted_party |\n",
      "+----------------+-------------+--------------------+------------------+---------------------------+\n",
      "| 201168.209685  |  ALAMANCE07 |   0.35151517819    |        0         |            DEM            |\n",
      "| 37167.3314822  | ALAMANCE12W |   0.665425447674   |        1         |            REP            |\n",
      "| 16370.3673304  | ALAMANCE10S |   0.677635264446   |        1         |            REP            |\n",
      "| 2708.11087368  | ALAMANCE03S |   0.718958499876   |        1         |            REP            |\n",
      "| 1429.05851476  |  ALAMANCE13 |   0.640451156979   |        1         |            DEM            |\n",
      "| 6727.59689406  | ALAMANCE103 |   0.700073402529   |        1         |            REP            |\n",
      "| 10347.4339759  | ALAMANCE10S |   0.614082355214   |        1         |            REP            |\n",
      "| 0.629346994461 | ALAMANCE08S |   0.685663540072   |        1         |            REP            |\n",
      "| 25796.6291214  |  ALAMANCE04 |   0.568884175584   |        1         |            REP            |\n",
      "| 0.348382651223 | ALAMANCE06S |   0.686081515217   |        1         |            REP            |\n",
      "+----------------+-------------+--------------------+------------------+---------------------------+\n",
      "+-----------------------+---------------------+-------------------------+\n",
      "| percent_participation | predict_participate | predicted_participation |\n",
      "+-----------------------+---------------------+-------------------------+\n",
      "|     0.154281245325    |          0          |            N            |\n",
      "|     0.539314713709    |          1          |            Y            |\n",
      "|     0.248062522246    |          0          |            N            |\n",
      "|     0.473059668236    |          0          |            N            |\n",
      "|     0.110296160982    |          0          |            N            |\n",
      "|    0.0453745992148    |          0          |            N            |\n",
      "|    0.0534758617985    |          0          |            N            |\n",
      "|     0.106922506818    |          0          |            N            |\n",
      "|     0.622147651229    |          1          |            N            |\n",
      "|     0.214880937991    |          0          |            N            |\n",
      "+-----------------------+---------------------+-------------------------+\n",
      "[6771263 rows x 44 columns]\n",
      "\n"
     ]
    }
   ],
   "source": [
    "prediction_sf.print_rows(num_rows=10, num_columns=50, max_column_width=30, max_row_width=80, output_file=None)"
   ]
  },
  {
   "cell_type": "code",
   "execution_count": 32,
   "metadata": {
    "collapsed": true
   },
   "outputs": [],
   "source": [
    "prediction_sf.export_csv('prediction_sf.csv')"
   ]
  },
  {
   "cell_type": "markdown",
   "metadata": {
    "collapsed": false
   },
   "source": [
    "Let's look at some data to see if predictions make sense"
   ]
  },
  {
   "cell_type": "code",
   "execution_count": 33,
   "metadata": {
    "collapsed": false
   },
   "outputs": [
    {
     "name": "stdout",
     "output_type": "stream",
     "text": [
      "actual_or_predicted_party\n",
      "DEM    0.520806\n",
      "REP    0.479194\n",
      "Name: actual_or_predicted_party, dtype: float64\n",
      "predicted_participation\n",
      "N    0.878872\n",
      "Y    0.121128\n",
      "Name: predicted_participation, dtype: float64\n"
     ]
    }
   ],
   "source": [
    "prediction_df = prediction_sf.to_dataframe()\n",
    "majority = prediction_df.groupby(['actual_or_predicted_party'])['actual_or_predicted_party'].count()/prediction_df.groupby(['actual_or_predicted_party'])['actual_or_predicted_party'].count().sum()\n",
    "print majority\n",
    "majority = prediction_df.groupby(['predicted_participation'])['predicted_participation'].count()/prediction_df.groupby(['predicted_participation'])['predicted_participation'].count().sum()\n",
    "print majority"
   ]
  },
  {
   "cell_type": "markdown",
   "metadata": {},
   "source": [
    "The party prediction is consistent with previous work.  Let's work on turnout.  First, let's calculate turnout for the 2015 local election"
   ]
  },
  {
   "cell_type": "code",
   "execution_count": 34,
   "metadata": {
    "collapsed": false
   },
   "outputs": [
    {
     "name": "stdout",
     "output_type": "stream",
     "text": [
      "2015\n",
      "0    0.929566\n",
      "1    0.070434\n",
      "Name: 2015, dtype: float64\n"
     ]
    }
   ],
   "source": [
    "majority = prediction_df.groupby(['2015'])['2015'].count()/prediction_df.groupby(['2015'])['2015'].count().sum()\n",
    "print majority"
   ]
  },
  {
   "cell_type": "markdown",
   "metadata": {},
   "source": [
    "Prediction is higher than actual 2015 turnout, which may indicate that some additional tuning is necessary for the model (e.g. moving the threshold a little higher)\n",
    "\n",
    "Let's look at only voters in muncipalities"
   ]
  },
  {
   "cell_type": "code",
   "execution_count": 35,
   "metadata": {
    "collapsed": true
   },
   "outputs": [],
   "source": [
    "temp_df = prediction_df[prediction_df['municipality_abbrv']!= 'None']"
   ]
  },
  {
   "cell_type": "code",
   "execution_count": 36,
   "metadata": {
    "collapsed": false
   },
   "outputs": [
    {
     "name": "stdout",
     "output_type": "stream",
     "text": [
      "predicted_participation\n",
      "N    0.800476\n",
      "Y    0.199524\n",
      "Name: predicted_participation, dtype: float64\n"
     ]
    }
   ],
   "source": [
    "majority = temp_df.groupby(['predicted_participation'])['predicted_participation'].count()/temp_df.groupby(['predicted_participation'])['predicted_participation'].count().sum()\n",
    "print majority"
   ]
  },
  {
   "cell_type": "code",
   "execution_count": 37,
   "metadata": {
    "collapsed": false
   },
   "outputs": [
    {
     "name": "stdout",
     "output_type": "stream",
     "text": [
      "2015\n",
      "0    0.887298\n",
      "1    0.112702\n",
      "Name: 2015, dtype: float64\n"
     ]
    }
   ],
   "source": [
    "majority = temp_df.groupby(['2015'])['2015'].count()/temp_df.groupby(['2015'])['2015'].count().sum()\n",
    "print majority"
   ]
  },
  {
   "cell_type": "markdown",
   "metadata": {},
   "source": [
    "Predicted particpation is signficantly higher than 2015 participation.  Now let's remove inactive voters."
   ]
  },
  {
   "cell_type": "code",
   "execution_count": 38,
   "metadata": {
    "collapsed": true
   },
   "outputs": [],
   "source": [
    "temp_df = temp_df[temp_df['status_cd']== 'A']"
   ]
  },
  {
   "cell_type": "code",
   "execution_count": 39,
   "metadata": {
    "collapsed": false
   },
   "outputs": [
    {
     "name": "stdout",
     "output_type": "stream",
     "text": [
      "predicted_participation\n",
      "N    0.7588\n",
      "Y    0.2412\n",
      "Name: predicted_participation, dtype: float64\n"
     ]
    }
   ],
   "source": [
    "majority = temp_df.groupby(['predicted_participation'])['predicted_participation'].count()/temp_df.groupby(['predicted_participation'])['predicted_participation'].count().sum()\n",
    "print majority"
   ]
  },
  {
   "cell_type": "code",
   "execution_count": 40,
   "metadata": {
    "collapsed": false
   },
   "outputs": [
    {
     "name": "stdout",
     "output_type": "stream",
     "text": [
      "2015\n",
      "0    0.864726\n",
      "1    0.135274\n",
      "Name: 2015, dtype: float64\n"
     ]
    }
   ],
   "source": [
    "majority = temp_df.groupby(['2015'])['2015'].count()/temp_df.groupby(['2015'])['2015'].count().sum()\n",
    "print majority"
   ]
  },
  {
   "cell_type": "markdown",
   "metadata": {},
   "source": [
    "Predicted particpation is almost double acual 2015.  In the future, we may want to further tune the model by increasing the threshold for predicting voter participation."
   ]
  },
  {
   "cell_type": "markdown",
   "metadata": {},
   "source": [
    "Lastly, let's look at voters that particpated in the 2016 presidential election."
   ]
  },
  {
   "cell_type": "code",
   "execution_count": 41,
   "metadata": {
    "collapsed": true
   },
   "outputs": [],
   "source": [
    "temp_df = prediction_df[prediction_df['2016'] == 1]"
   ]
  },
  {
   "cell_type": "code",
   "execution_count": 42,
   "metadata": {
    "collapsed": false
   },
   "outputs": [
    {
     "name": "stdout",
     "output_type": "stream",
     "text": [
      "actual_or_predicted_party\n",
      "DEM    0.507418\n",
      "REP    0.492582\n",
      "Name: actual_or_predicted_party, dtype: float64\n"
     ]
    }
   ],
   "source": [
    "majority = temp_df.groupby(['actual_or_predicted_party'])['actual_or_predicted_party'].count()/temp_df.groupby(['actual_or_predicted_party'])['actual_or_predicted_party'].count().sum()\n",
    "print majority"
   ]
  },
  {
   "cell_type": "markdown",
   "metadata": {},
   "source": [
    "<img src=\"files/nc_ag_20016.jpg\">"
   ]
  }
 ],
 "metadata": {
  "celltoolbar": "Raw Cell Format",
  "kernelspec": {
   "display_name": "Python 2",
   "language": "python",
   "name": "python2"
  },
  "language_info": {
   "codemirror_mode": {
    "name": "ipython",
    "version": 2
   },
   "file_extension": ".py",
   "mimetype": "text/x-python",
   "name": "python",
   "nbconvert_exporter": "python",
   "pygments_lexer": "ipython2",
   "version": "2.7.13"
  }
 },
 "nbformat": 4,
 "nbformat_minor": 0
}
