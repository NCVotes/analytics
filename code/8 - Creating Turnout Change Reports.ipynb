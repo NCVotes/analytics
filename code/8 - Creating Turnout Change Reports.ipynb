{
 "cells": [
  {
   "cell_type": "markdown",
   "metadata": {},
   "source": [
    "##  We're now going to analyze change in turnout by precinct"
   ]
  },
  {
   "cell_type": "code",
   "execution_count": 1,
   "metadata": {
    "collapsed": false
   },
   "outputs": [],
   "source": [
    "#First set everthing up\n",
    "import pyodbc\n",
    "import graphlab as gl\n",
    "import pandas as pd\n",
    "import matplotlib.pyplot as plt\n",
    "import numpy as np\n",
    "import datetime\n",
    "import local #server information and credentials\n",
    "from pullODBC import pullODBC\n",
    "from pullODBCall import pullODBCall\n",
    "from matplotlib.backends.backend_pdf import PdfPages\n",
    "from __future__ import division # convert integer division to floating point\n",
    "%matplotlib inline\n",
    "plt.style.use('seaborn-white')\n",
    "plt.rcParams['font.size'] = 7\n",
    "plt.tight_layout;\n",
    "plt.rc('xtick', labelsize=7) \n",
    "plt.rc('ytick', labelsize=7) "
   ]
  },
  {
   "cell_type": "markdown",
   "metadata": {},
   "source": [
    "First read the csv's with turnout for all three years"
   ]
  },
  {
   "cell_type": "code",
   "execution_count": 2,
   "metadata": {
    "collapsed": false
   },
   "outputs": [],
   "source": [
    "turnout2008 = pd.read_csv('C:/voter/turnout2008.csv')\n",
    "turnout2012 = pd.read_csv('C:/voter/turnout2012.csv')\n",
    "turnout2016 = pd.read_csv('C:/voter/turnout2016.csv')"
   ]
  },
  {
   "cell_type": "markdown",
   "metadata": {},
   "source": [
    "Next, we need to eliminate all blank spaces before and after all important fields so the joins will work correctly"
   ]
  },
  {
   "cell_type": "code",
   "execution_count": 3,
   "metadata": {
    "collapsed": true
   },
   "outputs": [],
   "source": [
    "def trim(x):\n",
    "    return str.strip(x)"
   ]
  },
  {
   "cell_type": "code",
   "execution_count": 4,
   "metadata": {
    "collapsed": true
   },
   "outputs": [],
   "source": [
    "turnout2008['county_desc']=turnout2008['county_desc'].apply(trim)\n",
    "turnout2012['county_desc']=turnout2012['county_desc'].apply(trim)\n",
    "turnout2016['county_desc']=turnout2016['county_desc'].apply(trim)\n",
    "turnout2008['precinct_abbrv']=turnout2008['precinct_abbrv'].apply(trim)\n",
    "turnout2012['precinct_abbrv']=turnout2012['precinct_abbrv'].apply(trim)\n",
    "turnout2016['precinct_abbrv']=turnout2016['precinct_abbrv'].apply(trim)"
   ]
  },
  {
   "cell_type": "markdown",
   "metadata": {},
   "source": [
    "Next, do an inner join to combine data for 2016 and 2012.  The key columns will be 'county_desc' and 'precinct_abbrv'.  Note that all joins are inner since we want only the subset of precincts that existed in 2008, 2012, and 2016"
   ]
  },
  {
   "cell_type": "code",
   "execution_count": 5,
   "metadata": {
    "collapsed": false
   },
   "outputs": [],
   "source": [
    "new_dataframe = pd.merge(turnout2016, turnout2012, how='inner', on=['county_desc', 'precinct_abbrv'])"
   ]
  },
  {
   "cell_type": "code",
   "execution_count": 6,
   "metadata": {
    "collapsed": false
   },
   "outputs": [
    {
     "name": "stdout",
     "output_type": "stream",
     "text": [
      "3012\n",
      "3064\n",
      "3007\n"
     ]
    }
   ],
   "source": [
    "print len(new_dataframe)\n",
    "print len(turnout2016)\n",
    "print len(turnout2012)"
   ]
  },
  {
   "cell_type": "markdown",
   "metadata": {},
   "source": [
    "We need to clean out some junk columns"
   ]
  },
  {
   "cell_type": "code",
   "execution_count": 7,
   "metadata": {
    "collapsed": false
   },
   "outputs": [],
   "source": [
    "del new_dataframe['Unnamed: 0_x']\n",
    "del new_dataframe['Unnamed: 0_y']"
   ]
  },
  {
   "cell_type": "markdown",
   "metadata": {},
   "source": [
    "Next, do an inner join to combine new_dataframe with data for 2008.  The key columns again will be 'county_desc' and 'precinct_abbrv'"
   ]
  },
  {
   "cell_type": "code",
   "execution_count": 8,
   "metadata": {
    "collapsed": true
   },
   "outputs": [],
   "source": [
    "new_dataframe = pd.merge(new_dataframe, turnout2008, how='inner', on=['county_desc', 'precinct_abbrv'])"
   ]
  },
  {
   "cell_type": "markdown",
   "metadata": {},
   "source": [
    "We need to clean out one more junk column"
   ]
  },
  {
   "cell_type": "code",
   "execution_count": 9,
   "metadata": {
    "collapsed": false
   },
   "outputs": [],
   "source": [
    "del new_dataframe['Unnamed: 0']"
   ]
  },
  {
   "cell_type": "markdown",
   "metadata": {
    "collapsed": true
   },
   "source": [
    "Reverse the order of each 2-tuple column name so that party will be at the top"
   ]
  },
  {
   "cell_type": "code",
   "execution_count": 10,
   "metadata": {
    "collapsed": false
   },
   "outputs": [],
   "source": [
    "new_dataframe = new_dataframe.rename(columns = {\"('2016', 'LIB')\" : \"('LIB', '2016')\", \n",
    "                                                \"('2016', 'REP')\" : \"('REP', '2016')\",\n",
    "                                                \"('2016', 'DEM')\" : \"('DEM', '2016')\",\n",
    "                                                \"('2016', 'UNA')\" : \"('UNA', '2016')\",\n",
    "                                                \"('2012', 'LIB')\" : \"('LIB', '2012')\", \n",
    "                                                \"('2012', 'REP')\" : \"('REP', '2012')\",\n",
    "                                                \"('2012', 'DEM')\" : \"('DEM', '2012')\",\n",
    "                                                \"('2012', 'UNA')\" : \"('UNA', '2012')\",\n",
    "                                                \"('2008', 'LIB')\" : \"('LIB', '2008')\", \n",
    "                                                \"('2008', 'REP')\" : \"('REP', '2008')\",\n",
    "                                                \"('2008', 'DEM')\" : \"('DEM', '2008')\",\n",
    "                                                \"('2008', 'UNA')\" : \"('UNA', '2008')\"})\n"
   ]
  },
  {
   "cell_type": "markdown",
   "metadata": {},
   "source": [
    "Create two new fields for each party, each containing the turnout ratio of 2016 to 2008 and 2012"
   ]
  },
  {
   "cell_type": "code",
   "execution_count": 11,
   "metadata": {
    "collapsed": false
   },
   "outputs": [],
   "source": [
    "new_dataframe[\"('DEM', 'COMP 2008')\"] = new_dataframe[\"('DEM', '2016')\"]/new_dataframe[\"('DEM', '2008')\"]\n",
    "new_dataframe[\"('DEM', 'COMP 2012')\"] = new_dataframe[\"('DEM', '2016')\"]/new_dataframe[\"('DEM', '2012')\"]\n",
    "new_dataframe[\"('REP', 'COMP 2008')\"] = new_dataframe[\"('REP', '2016')\"]/new_dataframe[\"('REP', '2008')\"]\n",
    "new_dataframe[\"('REP', 'COMP 2012')\"] = new_dataframe[\"('REP', '2016')\"]/new_dataframe[\"('REP', '2012')\"]\n",
    "new_dataframe[\"('UNA', 'COMP 2008')\"] = new_dataframe[\"('UNA', '2016')\"]/new_dataframe[\"('UNA', '2008')\"]\n",
    "new_dataframe[\"('UNA', 'COMP 2012')\"] = new_dataframe[\"('UNA', '2016')\"]/new_dataframe[\"('UNA', '2012')\"]\n",
    "new_dataframe[\"('LIB', 'COMP 2008')\"] = new_dataframe[\"('LIB', '2016')\"]/new_dataframe[\"('LIB', '2008')\"]\n",
    "new_dataframe[\"('LIB', 'COMP 2012')\"] = new_dataframe[\"('LIB', '2016')\"]/new_dataframe[\"('LIB', '2012')\"]\n"
   ]
  },
  {
   "cell_type": "markdown",
   "metadata": {},
   "source": [
    "Next, let's format the dataframe by grouping by county and precinct abbrv"
   ]
  },
  {
   "cell_type": "code",
   "execution_count": 12,
   "metadata": {
    "collapsed": false
   },
   "outputs": [],
   "source": [
    "new_dataframe = new_dataframe.groupby(['county_desc', 'precinct_abbrv'])[\"('REP', 'COMP 2012')\", \"('REP', 'COMP 2008')\", \"('REP', '2016')\", \"('REP', '2012')\", \"('REP', '2008')\",\n",
    "                                                        \"('DEM', 'COMP 2012')\", \"('DEM', 'COMP 2008')\",\"('DEM', '2016')\", \"('DEM', '2012')\", \"('DEM', '2008')\",\n",
    "                                                        \"('UNA', 'COMP 2012')\", \"('UNA', 'COMP 2008')\", \"('UNA', '2016')\", \"('UNA', '2012')\", \"('UNA', '2008')\",\n",
    "                                                        \"('LIB', 'COMP 2012')\", \"('LIB', 'COMP 2008')\", \"('LIB', '2016')\", \"('LIB', '2012')\", \"('LIB', '2008')\"].mean()"
   ]
  },
  {
   "cell_type": "markdown",
   "metadata": {},
   "source": [
    "Convert the column names from strings back to 2-tuples"
   ]
  },
  {
   "cell_type": "code",
   "execution_count": 13,
   "metadata": {
    "collapsed": false
   },
   "outputs": [],
   "source": [
    "new_dataframe.columns = [eval(t) for t in new_dataframe.columns]"
   ]
  },
  {
   "cell_type": "markdown",
   "metadata": {},
   "source": [
    "To make the report more readable, delete liberatarian columns"
   ]
  },
  {
   "cell_type": "code",
   "execution_count": 14,
   "metadata": {
    "collapsed": false
   },
   "outputs": [],
   "source": [
    "del new_dataframe[('LIB', 'COMP 2012')]\n",
    "del new_dataframe[('LIB', 'COMP 2008')]\n",
    "del new_dataframe[('LIB', '2016')]\n",
    "del new_dataframe[('LIB', '2012')]\n",
    "del new_dataframe[('LIB', '2008')]"
   ]
  },
  {
   "cell_type": "markdown",
   "metadata": {},
   "source": [
    "Next, rearrange the columns to have a Party be the top grouping, and the years as the bottom grouping"
   ]
  },
  {
   "cell_type": "code",
   "execution_count": 15,
   "metadata": {
    "collapsed": true
   },
   "outputs": [],
   "source": [
    "new_dataframe.columns = pd.MultiIndex.from_tuples(new_dataframe.columns, names=['Party','Year'])"
   ]
  },
  {
   "cell_type": "code",
   "execution_count": 16,
   "metadata": {
    "collapsed": false
   },
   "outputs": [
    {
     "name": "stdout",
     "output_type": "stream",
     "text": [
      "height has been deprecated.\n",
      "\n",
      "Writing 'by_republican' (DataFrame) to file 'turnout_improvement_sorted_republican.txt'.\n",
      "Writing 'by_democrat' (DataFrame) to file 'turnout_improvement_sorted_democrat.txt'.\n",
      "Writing 'by_unaffiliated' (DataFrame) to file 'turnout_improvement_sorted_unaffiliated.txt'.\n"
     ]
    }
   ],
   "source": [
    "pd.set_option('display.height', 1000)\n",
    "pd.set_option('display.max_rows', 2000)\n",
    "pd.set_option('display.max_columns', 500)\n",
    "pd.set_option('display.width', 1000)\n",
    "pd.options.display.float_format = '{:.1%}'.format #display as percentages\n",
    "by_republican = new_dataframe.sort_values(('REP', 'COMP 2012'), axis=0, ascending=False, inplace=False, kind='quicksort', na_position='last')\n",
    "%store by_republican > turnout_improvement_sorted_republican.txt\n",
    "by_democrat = new_dataframe.sort_values(('DEM', 'COMP 2012'), axis=0, ascending=False, inplace=False, kind='quicksort', na_position='last')\n",
    "%store by_democrat > turnout_improvement_sorted_democrat.txt\n",
    "by_unaffiliated = new_dataframe.sort_values(('UNA', 'COMP 2012'), axis=0, ascending=False, inplace=False, kind='quicksort', na_position='last')\n",
    "%store by_unaffiliated > turnout_improvement_sorted_unaffiliated.txt"
   ]
  },
  {
   "cell_type": "code",
   "execution_count": null,
   "metadata": {
    "collapsed": true
   },
   "outputs": [],
   "source": []
  }
 ],
 "metadata": {
  "celltoolbar": "Raw Cell Format",
  "kernelspec": {
   "display_name": "Python 2",
   "language": "python",
   "name": "python2"
  },
  "language_info": {
   "codemirror_mode": {
    "name": "ipython",
    "version": 2
   },
   "file_extension": ".py",
   "mimetype": "text/x-python",
   "name": "python",
   "nbconvert_exporter": "python",
   "pygments_lexer": "ipython2",
   "version": "2.7.13"
  }
 },
 "nbformat": 4,
 "nbformat_minor": 0
}
