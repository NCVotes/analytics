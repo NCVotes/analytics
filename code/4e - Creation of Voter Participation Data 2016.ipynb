{
 "cells": [
  {
   "cell_type": "markdown",
   "metadata": {},
   "source": [
    "##  We're going to load the turnout data, flatten it, and add it to key demographic data to create a comprehensive database table for query and predictions"
   ]
  },
  {
   "cell_type": "code",
   "execution_count": 1,
   "metadata": {
    "collapsed": false
   },
   "outputs": [],
   "source": [
    "#First set everthing up\n",
    "import pyodbc\n",
    "import graphlab as gl\n",
    "import pandas as pd\n",
    "import matplotlib.pyplot as plt\n",
    "import numpy as np\n",
    "import datetime\n",
    "import local #server information and credentials\n",
    "from pullODBC import pullODBC\n",
    "from pullODBCall import pullODBCall\n",
    "from matplotlib.backends.backend_pdf import PdfPages\n",
    "from __future__ import division # convert integer division to floating point\n",
    "%matplotlib inline\n",
    "plt.style.use('seaborn-white')\n",
    "plt.rcParams['font.size'] = 7\n",
    "plt.tight_layout;\n",
    "plt.rc('xtick', labelsize=7) \n",
    "plt.rc('ytick', labelsize=7) "
   ]
  },
  {
   "cell_type": "markdown",
   "metadata": {},
   "source": [
    "### 0.1.1 Section A: Extracting Voter History Data for each Registered Voter"
   ]
  },
  {
   "cell_type": "code",
   "execution_count": 2,
   "metadata": {
    "collapsed": false
   },
   "outputs": [
    {
     "name": "stdout",
     "output_type": "stream",
     "text": [
      "[\"ncid\"], [\"election_lbl\"], [\"county_desc\"]\n"
     ]
    }
   ],
   "source": [
    "#Set up the fields that I need to pull from the database \n",
    "fields = '[\"ncid\"], [\"election_lbl\"], [\"county_desc\"]'\n",
    "print fields"
   ]
  },
  {
   "cell_type": "markdown",
   "metadata": {},
   "source": [
    "Change the database to 'history' and the table to 'ncvhis_Statewide'"
   ]
  },
  {
   "cell_type": "code",
   "execution_count": 3,
   "metadata": {
    "collapsed": false
   },
   "outputs": [],
   "source": [
    "local.database = 'history'\n",
    "local.table = 'ncvhis_Statewide'"
   ]
  },
  {
   "cell_type": "code",
   "execution_count": 4,
   "metadata": {
    "collapsed": false
   },
   "outputs": [],
   "source": [
    "history=pullODBCall(local.driver,\n",
    "                      local.server,\n",
    "                      local.database,\n",
    "                      local.username,\n",
    "                      local.password,\n",
    "                      local.table,\n",
    "                      fields)"
   ]
  },
  {
   "cell_type": "markdown",
   "metadata": {},
   "source": [
    "Get rid of all the double quotes from the dataframe"
   ]
  },
  {
   "cell_type": "code",
   "execution_count": 5,
   "metadata": {
    "collapsed": false
   },
   "outputs": [
    {
     "name": "stdout",
     "output_type": "stream",
     "text": [
      "        ncid election_lbl county_desc\n",
      "0    AA10737   11/02/2010    ALAMANCE\n",
      "1    AA10737   11/08/2016    ALAMANCE\n",
      "2    AA10737   03/15/2016    ALAMANCE\n",
      "3    AA10737   05/06/2008    ALAMANCE\n",
      "4    AA10737   11/05/2013    ALAMANCE\n",
      "5    AA10737   11/04/2008    ALAMANCE\n",
      "6    AA10737   11/03/2015    ALAMANCE\n",
      "7   AA107373   11/06/2012    ALAMANCE\n",
      "8   AA107373   05/08/2012    ALAMANCE\n",
      "9   AA107373   05/06/2008    ALAMANCE\n",
      "10  AA107373   05/04/2010    ALAMANCE\n",
      "11  AA107373   07/17/2012    ALAMANCE\n",
      "12  AA107373   11/08/2016    ALAMANCE\n",
      "13  AA107373   03/15/2016    ALAMANCE\n",
      "14  AA107373   11/04/2014    ALAMANCE\n"
     ]
    }
   ],
   "source": [
    "history.columns = history.columns.str.strip('\"')\n",
    "for i, col in enumerate(history.columns):\n",
    "    history.iloc[:, i] = history.iloc[:, i].str.replace('\"', '')\n",
    "print history.head(n=15)"
   ]
  },
  {
   "cell_type": "code",
   "execution_count": 6,
   "metadata": {
    "collapsed": false
   },
   "outputs": [
    {
     "name": "stdout",
     "output_type": "stream",
     "text": [
      "The number of rows pulled from the database is 32482824\n"
     ]
    }
   ],
   "source": [
    "#Save the total number of rows to raw_len and print. \n",
    "raw_len=len(history)\n",
    "print \"The number of rows pulled from the database is \" + str(raw_len)"
   ]
  },
  {
   "cell_type": "markdown",
   "metadata": {},
   "source": [
    "Create a generic function to change blank fields to NaN for all categorical fields "
   ]
  },
  {
   "cell_type": "code",
   "execution_count": 7,
   "metadata": {
    "collapsed": true
   },
   "outputs": [],
   "source": [
    "def fix_blanks_NaN(x):\n",
    "    if x == \"\":\n",
    "        return np.nan\n",
    "    elif x == \" \":\n",
    "        return np.nan\n",
    "    else:\n",
    "        return x"
   ]
  },
  {
   "cell_type": "code",
   "execution_count": 8,
   "metadata": {
    "collapsed": false
   },
   "outputs": [],
   "source": [
    "history['election_lbl'] = history['election_lbl'].apply(fix_blanks_NaN) # change blanks to NaN\n",
    "history['ncid'] = history['ncid'].apply(fix_blanks_NaN) # etc.\n",
    "history['county_desc'] = history['county_desc'].apply(fix_blanks_NaN) # etc."
   ]
  },
  {
   "cell_type": "markdown",
   "metadata": {},
   "source": [
    "Clean the data by dropping rows with missing data and print a summary"
   ]
  },
  {
   "cell_type": "code",
   "execution_count": 9,
   "metadata": {
    "collapsed": false
   },
   "outputs": [
    {
     "name": "stdout",
     "output_type": "stream",
     "text": [
      "The number of rows I have dropped is 0\n",
      "The number of rows remaining in the database is 32482824\n",
      "The precentage of rows that I have dropped is: 0.000%\n"
     ]
    }
   ],
   "source": [
    "history.dropna(inplace=True, how='any') #drop all rows with NaN\n",
    "clean_len=len(history) #how many rows to I have left?\n",
    "difference = raw_len - clean_len #how many rows have I dropped?\n",
    "fraction = float(difference)/float(raw_len) #what fraction of rows have I dropped?\n",
    "print \"The number of rows I have dropped is \" + str(difference) \n",
    "print \"The number of rows remaining in the database is \" + str(clean_len)\n",
    "print \"The precentage of rows that I have dropped is: \" + str('{:.3%}'.format(fraction))"
   ]
  },
  {
   "cell_type": "markdown",
   "metadata": {},
   "source": [
    "Now we need to discard all elections not in November, since we only want to analyze general elections"
   ]
  },
  {
   "cell_type": "code",
   "execution_count": 10,
   "metadata": {
    "collapsed": false
   },
   "outputs": [],
   "source": [
    "history = history[history['election_lbl'].astype(str).str[0:2]=='11']"
   ]
  },
  {
   "cell_type": "markdown",
   "metadata": {},
   "source": [
    "We need to flatten the database to a single row per NCID and massage the data"
   ]
  },
  {
   "cell_type": "code",
   "execution_count": 11,
   "metadata": {
    "collapsed": false
   },
   "outputs": [
    {
     "name": "stdout",
     "output_type": "stream",
     "text": [
      "   2007  2008  2009  2010  2011  2012  2013  2014  2015  2016  2018      ncid\n",
      "0     0     1     0     0     0     0     0     0     0     1     0  AA100000\n",
      "1     0     1     0     1     0     1     0     1     0     1     0  AA100006\n",
      "2     0     1     0     1     1     1     0     1     0     1     0  AA100007\n",
      "3     0     1     0     0     0     1     0     0     0     0     0  AA100008\n",
      "4     0     1     0     1     0     1     0     1     0     1     0  AA100009\n"
     ]
    }
   ],
   "source": [
    "elections_by_ncid = pd.pivot_table(history[['ncid','election_lbl']], index=['ncid'],  \n",
    "                                 aggfunc=len, columns='election_lbl', margins = False) # create a pivot table\n",
    "elections_flattened = pd.DataFrame(elections_by_ncid.to_records()) # convert the pivot table to a dataframe\n",
    "cols = elections_flattened.columns # get an index object with all the column names\n",
    "cols = cols.delete(0) # remove the first column name 'ncid' since I don't want to rename this\n",
    "elections_flattened.fillna(value=0, method=None, axis=None, inplace=True, limit=None, downcast=None) # replace NaN with 0\n",
    "elections_flattened[cols] = elections_flattened[cols].astype(int)# convert values to integers\n",
    "for col in cols: # rename each election column to only the election year rather than the full date\n",
    "    elections_flattened.rename(index=str, inplace=True, columns={col : col[-4:]})\n",
    "elections_flattened = elections_flattened.reindex_axis(sorted(elections_flattened.columns), axis=1) # sort the columns by year\n",
    "\n",
    "print elections_flattened.head()"
   ]
  },
  {
   "cell_type": "code",
   "execution_count": 12,
   "metadata": {
    "collapsed": true
   },
   "outputs": [],
   "source": [
    "elections_flattened.to_csv('elections_flattened.csv')"
   ]
  },
  {
   "cell_type": "code",
   "execution_count": 13,
   "metadata": {
    "collapsed": true
   },
   "outputs": [],
   "source": [
    "del elections_flattened\n",
    "del elections_by_ncid"
   ]
  },
  {
   "cell_type": "code",
   "execution_count": 14,
   "metadata": {
    "collapsed": true
   },
   "outputs": [],
   "source": [
    "history.to_csv('history.csv')\n",
    "del history"
   ]
  },
  {
   "cell_type": "markdown",
   "metadata": {
    "collapsed": false
   },
   "source": [
    "We now have a flat dataframe with one row for each ncid and a column for each year.  The value in that column is 1 if the person with the ncid voted in the general election that year, 0 of they didn't vote"
   ]
  },
  {
   "cell_type": "markdown",
   "metadata": {},
   "source": [
    "### 0.1.2 Section B: Extracting Voter Demographics (we've done this many times)"
   ]
  },
  {
   "cell_type": "markdown",
   "metadata": {
    "collapsed": false
   },
   "source": [
    "First change the database and table names back to get registration data"
   ]
  },
  {
   "cell_type": "code",
   "execution_count": 15,
   "metadata": {
    "collapsed": false
   },
   "outputs": [],
   "source": [
    "local.database = 'registration'\n",
    "local.table = 'ncvoter_Statewide'"
   ]
  },
  {
   "cell_type": "markdown",
   "metadata": {
    "collapsed": false
   },
   "source": [
    "We now do the standard extraction and cleaning.  I've excluded comments since task has been done many times"
   ]
  },
  {
   "cell_type": "code",
   "execution_count": null,
   "metadata": {
    "collapsed": true
   },
   "outputs": [],
   "source": []
  },
  {
   "cell_type": "code",
   "execution_count": 16,
   "metadata": {
    "collapsed": false
   },
   "outputs": [
    {
     "name": "stdout",
     "output_type": "stream",
     "text": [
      "[\"birth_age\"], [\"gender_code\"], [\"race_code\"], [\"ethnic_code\"],[\"party_cd\"], [\"status_cd\"], [\"zip_code\"], [\"birth_state\"], [\"drivers_lic\"], [\"county_desc\"], [\"registr_dt\"],[\"ncid\"],[\"precinct_abbrv\"]\n"
     ]
    }
   ],
   "source": [
    "#Set up the fields that I need to pull from the database \n",
    "fields = '[\"birth_age\"], [\"gender_code\"], [\"race_code\"], [\"ethnic_code\"],[\"party_cd\"], [\"status_cd\"], [\"zip_code\"], [\"birth_state\"], [\"drivers_lic\"], [\"county_desc\"], [\"registr_dt\"],[\"ncid\"],[\"precinct_abbrv\"]'\n",
    "print fields"
   ]
  },
  {
   "cell_type": "code",
   "execution_count": 17,
   "metadata": {
    "collapsed": false
   },
   "outputs": [
    {
     "name": "stdout",
     "output_type": "stream",
     "text": [
      "([\"status_cd\"] = '\"A\"' OR [\"status_cd\"] = '\"I\"')\n"
     ]
    }
   ],
   "source": [
    "condition1 = '[\"status_cd\"] = ' + local.single_double_quote + 'A' + local.double_single_quote\n",
    "condition2 = '[\"status_cd\"] = ' + local.single_double_quote + 'I' + local.double_single_quote\n",
    "condition3 = '[\"county_desc\"] = ' + local.single_double_quote + 'Chatham' + local.double_single_quote\n",
    "condition = \"(\" + condition1 + \" OR \" + condition2 + \")\"  # This line will be run on Azure\n",
    "#condition = \"(\" + condition1 + \" OR \" + condition2 + \")\" + \" AND \" + condition3# This line will be run on local\n",
    "print condition"
   ]
  },
  {
   "cell_type": "code",
   "execution_count": 18,
   "metadata": {
    "collapsed": false
   },
   "outputs": [],
   "source": [
    "demographics=pullODBC(local.driver,\n",
    "                      local.server,\n",
    "                      local.database,\n",
    "                      local.username,\n",
    "                      local.password,\n",
    "                      local.table,\n",
    "                      fields,\n",
    "                      condition)"
   ]
  },
  {
   "cell_type": "markdown",
   "metadata": {},
   "source": [
    "Get rid of all the double quotes from the dataframe"
   ]
  },
  {
   "cell_type": "code",
   "execution_count": 19,
   "metadata": {
    "collapsed": false
   },
   "outputs": [
    {
     "name": "stdout",
     "output_type": "stream",
     "text": [
      "  birth_age gender_code race_code ethnic_code party_cd status_cd zip_code  \\\n",
      "0        93           F         W          NL      DEM         A    27215   \n",
      "1        51           F         W          NL      UNA         A    27253   \n",
      "2        59           M         W          NL      REP         A    27253   \n",
      "3        68           F         W          NL      REP         A    27217   \n",
      "4        76           M         W          UN      REP         A    27217   \n",
      "\n",
      "  birth_state drivers_lic county_desc  registr_dt      ncid precinct_abbrv  \n",
      "0          SC           Y    ALAMANCE  07/02/1998  AA110814           03N2  \n",
      "1          PA           Y    ALAMANCE  05/12/2014   DN40123            103  \n",
      "2          WV           Y    ALAMANCE  05/13/2014   DN37217            103  \n",
      "3          PA           Y    ALAMANCE  08/14/2001  AA124216             13  \n",
      "4          IA           Y    ALAMANCE  10/23/2001  AA125111             13  \n"
     ]
    }
   ],
   "source": [
    "demographics.columns = demographics.columns.str.strip('\"')\n",
    "for i, col in enumerate(demographics.columns):\n",
    "    demographics.iloc[:, i] = demographics.iloc[:, i].str.replace('\"', '')\n",
    "print demographics.head()"
   ]
  },
  {
   "cell_type": "code",
   "execution_count": 20,
   "metadata": {
    "collapsed": false
   },
   "outputs": [
    {
     "name": "stdout",
     "output_type": "stream",
     "text": [
      "The number of rows pulled from the database is 6762419\n"
     ]
    }
   ],
   "source": [
    "#Save the total number of rows to raw_len and print. \n",
    "raw_len=len(demographics)\n",
    "print \"The number of rows pulled from the database is \" + str(raw_len)"
   ]
  },
  {
   "cell_type": "markdown",
   "metadata": {},
   "source": [
    "Create a generic function to change blank fields to NaN for all categorical fields "
   ]
  },
  {
   "cell_type": "code",
   "execution_count": 21,
   "metadata": {
    "collapsed": true
   },
   "outputs": [],
   "source": [
    "def fix_blanks_NaN(x):\n",
    "    if x == \"\":\n",
    "        return np.nan\n",
    "    elif x == \" \":\n",
    "        return np.nan\n",
    "    else:\n",
    "        return x"
   ]
  },
  {
   "cell_type": "markdown",
   "metadata": {},
   "source": [
    "Create a generic function to change blank fields to NaN for all categorical fields "
   ]
  },
  {
   "cell_type": "code",
   "execution_count": 22,
   "metadata": {
    "collapsed": true
   },
   "outputs": [],
   "source": [
    "def fix_blanks_NaN(x):\n",
    "    if x == \"\":\n",
    "        return np.nan\n",
    "    elif x == \" \":\n",
    "        return np.nan\n",
    "    else:\n",
    "        return x"
   ]
  },
  {
   "cell_type": "code",
   "execution_count": 23,
   "metadata": {
    "collapsed": true
   },
   "outputs": [],
   "source": [
    "def fix_blanks(x):\n",
    "    if x == \"\":\n",
    "        return \"None\"\n",
    "    elif x == \" \":\n",
    "        return \"None\"\n",
    "    else:\n",
    "        return x"
   ]
  },
  {
   "cell_type": "code",
   "execution_count": 25,
   "metadata": {
    "collapsed": false
   },
   "outputs": [],
   "source": [
    "demographics['birth_state'] = demographics['birth_state'].apply(fix_blanks) # change blanks to \"None\" in birth_state\n",
    "demographics['gender_code'] = demographics['gender_code'].apply(fix_blanks_NaN) # change blanks to NaN in gender_code\n",
    "demographics['race_code'] = demographics['race_code'].apply(fix_blanks_NaN) # etc.\n",
    "demographics['ethnic_code'] = demographics['ethnic_code'].apply(fix_blanks_NaN) \n",
    "demographics['zip_code'] = demographics['zip_code'].apply(fix_blanks_NaN)\n",
    "demographics['birth_state'] = demographics['birth_state'].apply(fix_blanks_NaN) \n",
    "demographics['drivers_lic'] = demographics['drivers_lic'].apply(fix_blanks_NaN) \n",
    "demographics['county_desc'] = demographics['county_desc'].apply(fix_blanks_NaN) \n",
    "demographics['registr_dt'] = demographics['registr_dt'].apply(fix_blanks_NaN)\n",
    "demographics['ncid'] = demographics['ncid'].apply(fix_blanks_NaN)\n",
    "demographics['precinct_abbrv'] = demographics['precinct_abbrv'].apply(fix_blanks_NaN)"
   ]
  },
  {
   "cell_type": "code",
   "execution_count": 26,
   "metadata": {
    "collapsed": false
   },
   "outputs": [
    {
     "name": "stdout",
     "output_type": "stream",
     "text": [
      "The number of rows I have dropped is 2963\n",
      "The number of rows remaining in the database is 6759456\n",
      "The precentage of rows that I have dropped is: 0.044%\n"
     ]
    }
   ],
   "source": [
    "demographics.dropna(inplace=True, how='any') #drop all rows with NaN\n",
    "clean_len=len(demographics) #how many rows to I have left?\n",
    "difference = raw_len - clean_len #how many rows have I dropped?\n",
    "fraction = float(difference)/float(raw_len) #what fraction of rows have I dropped?\n",
    "print \"The number of rows I have dropped is \" + str(difference) \n",
    "print \"The number of rows remaining in the database is \" + str(clean_len)\n",
    "print \"The precentage of rows that I have dropped is: \" + str('{:.3%}'.format(fraction))"
   ]
  },
  {
   "cell_type": "code",
   "execution_count": 27,
   "metadata": {
    "collapsed": true
   },
   "outputs": [],
   "source": [
    "demographics['birth_age'] = demographics['birth_age'].astype('float64')\n",
    "demographics['registr_dt'] = pd.to_datetime(demographics['registr_dt'])"
   ]
  },
  {
   "cell_type": "code",
   "execution_count": 28,
   "metadata": {
    "collapsed": false
   },
   "outputs": [],
   "source": [
    "elections_flattened = pd.read_csv('elections_flattened.csv')"
   ]
  },
  {
   "cell_type": "code",
   "execution_count": 29,
   "metadata": {
    "collapsed": true
   },
   "outputs": [],
   "source": [
    "combined = pd.merge(demographics, elections_flattened, how='left', on='ncid')"
   ]
  },
  {
   "cell_type": "code",
   "execution_count": 30,
   "metadata": {
    "collapsed": false
   },
   "outputs": [
    {
     "name": "stdout",
     "output_type": "stream",
     "text": [
      "6759456 6759456 6485857\n"
     ]
    }
   ],
   "source": [
    "print len(combined), len(demographics), len(elections_flattened)"
   ]
  },
  {
   "cell_type": "markdown",
   "metadata": {
    "collapsed": true
   },
   "source": [
    "Now save the dataframe 'combined' in a .csv"
   ]
  },
  {
   "cell_type": "code",
   "execution_count": 31,
   "metadata": {
    "collapsed": true
   },
   "outputs": [],
   "source": [
    "combined.to_csv('combined.csv')"
   ]
  },
  {
   "cell_type": "code",
   "execution_count": 32,
   "metadata": {
    "collapsed": false
   },
   "outputs": [
    {
     "name": "stdout",
     "output_type": "stream",
     "text": [
      "   birth_age gender_code race_code ethnic_code party_cd status_cd zip_code  \\\n",
      "0       93.0           F         W          NL      DEM         A    27215   \n",
      "1       51.0           F         W          NL      UNA         A    27253   \n",
      "2       59.0           M         W          NL      REP         A    27253   \n",
      "3       68.0           F         W          NL      REP         A    27217   \n",
      "4       76.0           M         W          UN      REP         A    27217   \n",
      "\n",
      "  birth_state drivers_lic county_desc  ...  2008 2009 2010  2011  2012  2013  \\\n",
      "0          SC           Y    ALAMANCE  ...   1.0  0.0  1.0   1.0   1.0   0.0   \n",
      "1          PA           Y    ALAMANCE  ...   1.0  0.0  0.0   0.0   1.0   0.0   \n",
      "2          WV           Y    ALAMANCE  ...   1.0  0.0  1.0   0.0   1.0   0.0   \n",
      "3          PA           Y    ALAMANCE  ...   1.0  0.0  1.0   0.0   1.0   0.0   \n",
      "4          IA           Y    ALAMANCE  ...   1.0  0.0  1.0   0.0   1.0   0.0   \n",
      "\n",
      "   2014  2015  2016  2018  \n",
      "0   1.0   0.0   1.0   0.0  \n",
      "1   1.0   0.0   1.0   0.0  \n",
      "2   1.0   0.0   1.0   0.0  \n",
      "3   1.0   0.0   1.0   0.0  \n",
      "4   1.0   0.0   1.0   0.0  \n",
      "\n",
      "[5 rows x 25 columns]\n"
     ]
    }
   ],
   "source": [
    "print combined.head()"
   ]
  },
  {
   "cell_type": "code",
   "execution_count": null,
   "metadata": {
    "collapsed": true
   },
   "outputs": [],
   "source": []
  }
 ],
 "metadata": {
  "celltoolbar": "Raw Cell Format",
  "kernelspec": {
   "display_name": "Python (gl-env)",
   "language": "python",
   "name": "gl-env"
  },
  "language_info": {
   "codemirror_mode": {
    "name": "ipython",
    "version": 2
   },
   "file_extension": ".py",
   "mimetype": "text/x-python",
   "name": "python",
   "nbconvert_exporter": "python",
   "pygments_lexer": "ipython2",
   "version": "2.7.13"
  }
 },
 "nbformat": 4,
 "nbformat_minor": 0
}
