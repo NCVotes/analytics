{
 "cells": [
  {
   "cell_type": "markdown",
   "metadata": {},
   "source": [
    "##  We're going to load the combined demographic and turnout data, and build a model to predict turnout for the 2017 local elections - More Data - Do Not Change"
   ]
  },
  {
   "cell_type": "code",
   "execution_count": 1,
   "metadata": {
    "collapsed": false
   },
   "outputs": [],
   "source": [
    "#First set everthing up\n",
    "import pyodbc\n",
    "import graphlab as gl\n",
    "import pandas as pd\n",
    "import matplotlib.pyplot as plt\n",
    "import numpy as np\n",
    "import datetime\n",
    "import local #server information and credentials\n",
    "from pullODBC import pullODBC\n",
    "from pullODBCall import pullODBCall\n",
    "from matplotlib.backends.backend_pdf import PdfPages\n",
    "from __future__ import division # convert integer division to floating point\n",
    "%matplotlib inline\n",
    "plt.style.use('seaborn-white')\n",
    "plt.rcParams['font.size'] = 7\n",
    "plt.tight_layout;\n",
    "plt.rc('xtick', labelsize=7) \n",
    "plt.rc('ytick', labelsize=7) "
   ]
  },
  {
   "cell_type": "markdown",
   "metadata": {},
   "source": [
    "Read in combined demographic and participation data from the June 2017 snapshots"
   ]
  },
  {
   "cell_type": "code",
   "execution_count": 2,
   "metadata": {
    "collapsed": false
   },
   "outputs": [
    {
     "name": "stderr",
     "output_type": "stream",
     "text": [
      "C:\\Users\\scott\\Anaconda2\\envs\\gl-env\\lib\\site-packages\\IPython\\core\\interactiveshell.py:2723: DtypeWarning: Columns (14) have mixed types. Specify dtype option on import or set low_memory=False.\n",
      "  interactivity=interactivity, compiler=compiler, result=result)\n"
     ]
    }
   ],
   "source": [
    "combined_df = pd.read_csv('combined_updated.csv')"
   ]
  },
  {
   "cell_type": "code",
   "execution_count": 4,
   "metadata": {
    "collapsed": false
   },
   "outputs": [
    {
     "name": "stdout",
     "output_type": "stream",
     "text": [
      "6771263\n",
      "   Unnamed: 0  Unnamed: 0.1  birth_age gender_code race_code ethnic_code  \\\n",
      "0           0             0         79           M         W          NL   \n",
      "1           1             1         60           M         W          NL   \n",
      "2           2             2         43           M         W          NL   \n",
      "3           3             3         55           M         W          NL   \n",
      "4           4             4         58           F         W          NL   \n",
      "\n",
      "  party_cd status_cd  zip_code birth_state  ...  2007 2008 2009 2010 2011  \\\n",
      "0      DEM         A     27253          NC  ...   0.0  1.0  0.0  1.0  0.0   \n",
      "1      REP         A     27215          NC  ...   0.0  1.0  0.0  1.0  0.0   \n",
      "2      REP         A     27302          NC  ...   0.0  1.0  1.0  1.0  0.0   \n",
      "3      REP         A     27215          NC  ...   0.0  1.0  0.0  1.0  0.0   \n",
      "4      DEM         I     27258          NC  ...   NaN  NaN  NaN  NaN  NaN   \n",
      "\n",
      "  2012 2013 2014  2015  2016  \n",
      "0  1.0  0.0  1.0   0.0   1.0  \n",
      "1  1.0  0.0  1.0   0.0   1.0  \n",
      "2  1.0  1.0  1.0   0.0   1.0  \n",
      "3  1.0  0.0  1.0   0.0   1.0  \n",
      "4  NaN  NaN  NaN   NaN   NaN  \n",
      "\n",
      "[5 rows x 28 columns]\n",
      "Index([u'Unnamed: 0', u'Unnamed: 0.1', u'birth_age', u'gender_code',\n",
      "       u'race_code', u'ethnic_code', u'party_cd', u'status_cd', u'zip_code',\n",
      "       u'birth_state', u'drivers_lic', u'county_desc', u'registr_dt', u'ncid',\n",
      "       u'precinct_abbrv', u'municipality_abbrv', u'last_name', u'first_name',\n",
      "       u'2007', u'2008', u'2009', u'2010', u'2011', u'2012', u'2013', u'2014',\n",
      "       u'2015', u'2016'],\n",
      "      dtype='object')\n"
     ]
    }
   ],
   "source": [
    "print len(combined_df)\n",
    "print combined_df.head()\n",
    "print combined_df.columns"
   ]
  },
  {
   "cell_type": "markdown",
   "metadata": {},
   "source": [
    "Change all the NaN's to 0"
   ]
  },
  {
   "cell_type": "code",
   "execution_count": 5,
   "metadata": {
    "collapsed": true
   },
   "outputs": [],
   "source": [
    "combined_df.fillna(value=0.0, method=None, axis=None, inplace=True, limit=None, downcast=None)"
   ]
  },
  {
   "cell_type": "code",
   "execution_count": 6,
   "metadata": {
    "collapsed": false
   },
   "outputs": [],
   "source": [
    "pd.set_option('max_columns',100)"
   ]
  },
  {
   "cell_type": "markdown",
   "metadata": {},
   "source": [
    "Get rid of junk columns"
   ]
  },
  {
   "cell_type": "code",
   "execution_count": 7,
   "metadata": {
    "collapsed": true
   },
   "outputs": [],
   "source": [
    "del combined_df['Unnamed: 0']\n",
    "del combined_df['Unnamed: 0.1']"
   ]
  },
  {
   "cell_type": "markdown",
   "metadata": {
    "collapsed": false
   },
   "source": [
    "Change all particpation columns to integer"
   ]
  },
  {
   "cell_type": "code",
   "execution_count": 8,
   "metadata": {
    "collapsed": false
   },
   "outputs": [],
   "source": [
    "years = ['2007', '2008', '2009', '2010', '2011', '2012', '2013', '2014', '2015', '2016']\n",
    "for year in years:\n",
    "    combined_df[year] = combined_df[year].apply(int)"
   ]
  },
  {
   "cell_type": "code",
   "execution_count": 9,
   "metadata": {
    "collapsed": false
   },
   "outputs": [
    {
     "name": "stdout",
     "output_type": "stream",
     "text": [
      "   birth_age gender_code race_code ethnic_code party_cd status_cd  zip_code  \\\n",
      "0         79           M         W          NL      DEM         A     27253   \n",
      "1         60           M         W          NL      REP         A     27215   \n",
      "2         43           M         W          NL      REP         A     27302   \n",
      "3         55           M         W          NL      REP         A     27215   \n",
      "4         58           F         W          NL      DEM         I     27258   \n",
      "\n",
      "  birth_state drivers_lic county_desc  registr_dt      ncid precinct_abbrv  \\\n",
      "0          NC           N    ALAMANCE  01/19/1959   AA34771             07   \n",
      "1          NC           Y    ALAMANCE  04/09/1984   AA53687            12W   \n",
      "2          NC           Y    ALAMANCE  04/02/1992   AA80986            10S   \n",
      "3          NC           Y    ALAMANCE  09/15/2003  AA131587            03S   \n",
      "4          NC           Y    ALAMANCE  05/19/2006  AA146650             13   \n",
      "\n",
      "  municipality_abbrv last_name first_name  2007  2008  2009  2010  2011  2012  \\\n",
      "0               None     PAYNE      JERRY     0     1     0     1     0     1   \n",
      "1                BUR     PAYNE      JERRY     0     1     0     1     0     1   \n",
      "2                MEB     PAYNE      JERRY     0     1     1     1     0     1   \n",
      "3                BUR     PAYNE      JERRY     0     1     0     1     0     1   \n",
      "4                HAW     PAYNE         JO     0     0     0     0     0     0   \n",
      "\n",
      "   2013  2014  2015  2016  \n",
      "0     0     1     0     1  \n",
      "1     0     1     0     1  \n",
      "2     1     1     0     1  \n",
      "3     0     1     0     1  \n",
      "4     0     0     0     0  \n"
     ]
    }
   ],
   "source": [
    "print combined_df.head()"
   ]
  },
  {
   "cell_type": "markdown",
   "metadata": {},
   "source": [
    "We're only interested in municipal elections, so let's only keep rows where municiaplity is not equal to 'Blank\""
   ]
  },
  {
   "cell_type": "code",
   "execution_count": 10,
   "metadata": {
    "collapsed": false
   },
   "outputs": [
    {
     "name": "stdout",
     "output_type": "stream",
     "text": [
      "The total number of registered voters is 6771263\n",
      "The total number of registered voters living in municipalities is 4110733\n",
      "   birth_age gender_code race_code ethnic_code party_cd status_cd  zip_code  \\\n",
      "1         60           M         W          NL      REP         A     27215   \n",
      "2         43           M         W          NL      REP         A     27302   \n",
      "3         55           M         W          NL      REP         A     27215   \n",
      "4         58           F         W          NL      DEM         I     27258   \n",
      "6         82           M         W          NL      REP         A     27302   \n",
      "\n",
      "  birth_state drivers_lic county_desc  registr_dt      ncid precinct_abbrv  \\\n",
      "1          NC           Y    ALAMANCE  04/09/1984   AA53687            12W   \n",
      "2          NC           Y    ALAMANCE  04/02/1992   AA80986            10S   \n",
      "3          NC           Y    ALAMANCE  09/15/2003  AA131587            03S   \n",
      "4          NC           Y    ALAMANCE  05/19/2006  AA146650             13   \n",
      "6          NC           Y    ALAMANCE  11/08/1995   AA96254            10S   \n",
      "\n",
      "  municipality_abbrv last_name first_name  2007  2008  2009  2010  2011  2012  \\\n",
      "1                BUR     PAYNE      JERRY     0     1     0     1     0     1   \n",
      "2                MEB     PAYNE      JERRY     0     1     1     1     0     1   \n",
      "3                BUR     PAYNE      JERRY     0     1     0     1     0     1   \n",
      "4                HAW     PAYNE         JO     0     0     0     0     0     0   \n",
      "6                MEB     PAYNE       JOHN     0     1     0     1     0     1   \n",
      "\n",
      "   2013  2014  2015  2016  \n",
      "1     0     1     0     1  \n",
      "2     1     1     0     1  \n",
      "3     0     1     0     1  \n",
      "4     0     0     0     0  \n",
      "6     0     0     0     1  \n"
     ]
    }
   ],
   "source": [
    "print \"The total number of registered voters is \" + str(len(combined_df))\n",
    "combined_df = combined_df[combined_df['municipality_abbrv']!= 'None']\n",
    "print \"The total number of registered voters living in municipalities is \" +str(len(combined_df))\n",
    "print combined_df.head()"
   ]
  },
  {
   "cell_type": "markdown",
   "metadata": {},
   "source": [
    "Change registr_dt to datetime and birth_age to float"
   ]
  },
  {
   "cell_type": "code",
   "execution_count": 11,
   "metadata": {
    "collapsed": true
   },
   "outputs": [],
   "source": [
    "combined_df['birth_age'] = combined_df['birth_age'].apply(float)"
   ]
  },
  {
   "cell_type": "code",
   "execution_count": 13,
   "metadata": {
    "collapsed": false
   },
   "outputs": [
    {
     "name": "stdout",
     "output_type": "stream",
     "text": [
      "   birth_age gender_code race_code ethnic_code party_cd status_cd  zip_code  \\\n",
      "1       60.0           M         W          NL      REP         A     27215   \n",
      "2       43.0           M         W          NL      REP         A     27302   \n",
      "3       55.0           M         W          NL      REP         A     27215   \n",
      "4       58.0           F         W          NL      DEM         I     27258   \n",
      "6       82.0           M         W          NL      REP         A     27302   \n",
      "\n",
      "  birth_state drivers_lic county_desc registr_dt      ncid precinct_abbrv  \\\n",
      "1          NC           Y    ALAMANCE 1984-04-09   AA53687            12W   \n",
      "2          NC           Y    ALAMANCE 1992-04-02   AA80986            10S   \n",
      "3          NC           Y    ALAMANCE 2003-09-15  AA131587            03S   \n",
      "4          NC           Y    ALAMANCE 2006-05-19  AA146650             13   \n",
      "6          NC           Y    ALAMANCE 1995-11-08   AA96254            10S   \n",
      "\n",
      "  municipality_abbrv last_name first_name  2007  2008  2009  2010  2011  2012  \\\n",
      "1                BUR     PAYNE      JERRY     0     1     0     1     0     1   \n",
      "2                MEB     PAYNE      JERRY     0     1     1     1     0     1   \n",
      "3                BUR     PAYNE      JERRY     0     1     0     1     0     1   \n",
      "4                HAW     PAYNE         JO     0     0     0     0     0     0   \n",
      "6                MEB     PAYNE       JOHN     0     1     0     1     0     1   \n",
      "\n",
      "   2013  2014  2015  2016  \n",
      "1     0     1     0     1  \n",
      "2     1     1     0     1  \n",
      "3     0     1     0     1  \n",
      "4     0     0     0     0  \n",
      "6     0     0     0     1  \n"
     ]
    }
   ],
   "source": [
    "combined_df['registr_dt']=pd.to_datetime(combined_df.registr_dt, format='%m/%d/%Y')\n",
    "print combined_df.head()"
   ]
  },
  {
   "cell_type": "markdown",
   "metadata": {},
   "source": [
    "Create datetime objects for the four election days to be used in the model"
   ]
  },
  {
   "cell_type": "code",
   "execution_count": 14,
   "metadata": {
    "collapsed": false
   },
   "outputs": [],
   "source": [
    "election_day_2015 = pd.to_datetime('11/3/2015', dayfirst=False, yearfirst=False)\n",
    "election_day_2014 = pd.to_datetime('11/4/2014', dayfirst=False, yearfirst=False) \n",
    "election_day_2013 = pd.to_datetime('11/5/2013', dayfirst=False, yearfirst=False) \n",
    "election_day_2012 = pd.to_datetime('11/6/2012', dayfirst=False, yearfirst=False) "
   ]
  },
  {
   "cell_type": "markdown",
   "metadata": {},
   "source": [
    "Create a set of functions to set new columns to 'Y' (voted) 'N' (registered but did not vote) and 'U' (not registered)"
   ]
  },
  {
   "cell_type": "code",
   "execution_count": 15,
   "metadata": {
    "collapsed": true
   },
   "outputs": [],
   "source": [
    "def calc_voted_2015(x):\n",
    "    if x['2015'] == 1:\n",
    "        return 'Y'\n",
    "    elif x['registr_dt'] <= election_day_2015:\n",
    "        return 'N'\n",
    "    else:\n",
    "        return 'U'"
   ]
  },
  {
   "cell_type": "code",
   "execution_count": 16,
   "metadata": {
    "collapsed": true
   },
   "outputs": [],
   "source": [
    "def calc_voted_2014(x):\n",
    "    if x['2014'] == 1:\n",
    "        return 'Y'\n",
    "    elif x['registr_dt'] <= election_day_2014:\n",
    "        return 'N'\n",
    "    else:\n",
    "        return 'U'"
   ]
  },
  {
   "cell_type": "code",
   "execution_count": 17,
   "metadata": {
    "collapsed": true
   },
   "outputs": [],
   "source": [
    "def calc_voted_2013(x):\n",
    "    if x['2013'] == 1:\n",
    "        return 'Y'\n",
    "    elif x['registr_dt'] <= election_day_2013:\n",
    "        return 'N'\n",
    "    else:\n",
    "        return 'U'"
   ]
  },
  {
   "cell_type": "code",
   "execution_count": 18,
   "metadata": {
    "collapsed": true
   },
   "outputs": [],
   "source": [
    "def calc_voted_2012(x):\n",
    "    if x['2012'] == 1:\n",
    "        return 'Y'\n",
    "    elif x['registr_dt'] <= election_day_2012:\n",
    "        return 'N'\n",
    "    else:\n",
    "        return 'U'"
   ]
  },
  {
   "cell_type": "code",
   "execution_count": 19,
   "metadata": {
    "collapsed": false
   },
   "outputs": [
    {
     "name": "stdout",
     "output_type": "stream",
     "text": [
      "created target column\n",
      "created congressional column\n",
      "created local column\n",
      "created presiendial column\n"
     ]
    }
   ],
   "source": [
    "combined_df['target']= combined_df.apply(calc_voted_2015, axis=1)\n",
    "print \"created target column\"\n",
    "combined_df['congressional']= combined_df.apply(calc_voted_2014, axis=1)\n",
    "print \"created congressional column\"\n",
    "combined_df['local']= combined_df.apply(calc_voted_2013, axis=1)\n",
    "print \"created local column\"\n",
    "combined_df['presidential']= combined_df.apply(calc_voted_2012, axis=1)\n",
    "print \"created presiendial column\""
   ]
  },
  {
   "cell_type": "markdown",
   "metadata": {},
   "source": [
    "Print the first 10 rows and examine for correctness"
   ]
  },
  {
   "cell_type": "code",
   "execution_count": 20,
   "metadata": {
    "collapsed": false
   },
   "outputs": [
    {
     "name": "stdout",
     "output_type": "stream",
     "text": [
      "    birth_age gender_code race_code ethnic_code party_cd status_cd  zip_code  \\\n",
      "1        60.0           M         W          NL      REP         A     27215   \n",
      "2        43.0           M         W          NL      REP         A     27302   \n",
      "3        55.0           M         W          NL      REP         A     27215   \n",
      "4        58.0           F         W          NL      DEM         I     27258   \n",
      "6        82.0           M         W          NL      REP         A     27302   \n",
      "9        30.0           F         W          NL      UNA         A     27253   \n",
      "11       54.0           F         W          NL      REP         A     27215   \n",
      "12       26.0           F         W          NL      REP         A     27215   \n",
      "14       62.0           M         W          NL      UNA         A     27217   \n",
      "18       51.0           F         W          NL      UNA         A     27215   \n",
      "\n",
      "   birth_state drivers_lic county_desc registr_dt      ncid precinct_abbrv  \\\n",
      "1           NC           Y    ALAMANCE 1984-04-09   AA53687            12W   \n",
      "2           NC           Y    ALAMANCE 1992-04-02   AA80986            10S   \n",
      "3           NC           Y    ALAMANCE 2003-09-15  AA131587            03S   \n",
      "4           NC           Y    ALAMANCE 2006-05-19  AA146650             13   \n",
      "6           NC           Y    ALAMANCE 1995-11-08   AA96254            10S   \n",
      "9           VA           Y    ALAMANCE 2016-12-09  AA194945            06S   \n",
      "11        None           Y    ALAMANCE 2008-10-10  BY451961            03S   \n",
      "12          NC           Y    ALAMANCE 2008-09-15  AA157337            12W   \n",
      "14          VA           N    ALAMANCE 1996-02-23   AA97905            12S   \n",
      "18          VA           N    ALAMANCE 1995-05-30   AA94310            126   \n",
      "\n",
      "   municipality_abbrv last_name first_name  2007  2008  2009  2010  2011  \\\n",
      "1                 BUR     PAYNE      JERRY     0     1     0     1     0   \n",
      "2                 MEB     PAYNE      JERRY     0     1     1     1     0   \n",
      "3                 BUR     PAYNE      JERRY     0     1     0     1     0   \n",
      "4                 HAW     PAYNE         JO     0     0     0     0     0   \n",
      "6                 MEB     PAYNE       JOHN     0     1     0     1     0   \n",
      "9                 GRA     PAYNE     JUDITH     0     0     0     0     0   \n",
      "11                BUR     PAYNE      KARLA     0     1     0     1     0   \n",
      "12                BUR     PAYNE  KATHERINE     0     1     0     0     0   \n",
      "14                BUR     PAYNE        KEN     0     1     0     1     0   \n",
      "18                BUR     PAYNE      LEESA     0     1     0     1     0   \n",
      "\n",
      "    2012  2013  2014  2015  2016 target congressional local presidential  \n",
      "1      1     0     1     0     1      N             Y     N            Y  \n",
      "2      1     1     1     0     1      N             Y     Y            Y  \n",
      "3      1     0     1     0     1      N             Y     N            Y  \n",
      "4      0     0     0     0     0      N             N     N            N  \n",
      "6      1     0     0     0     1      N             N     N            Y  \n",
      "9      0     0     0     0     0      U             U     U            U  \n",
      "11     1     0     1     0     1      N             Y     N            Y  \n",
      "12     1     0     0     0     0      N             N     N            Y  \n",
      "14     1     0     1     0     1      N             Y     N            Y  \n",
      "18     1     0     1     0     1      N             Y     N            Y  \n"
     ]
    }
   ],
   "source": [
    "pd.set_option('max_columns', 30)\n",
    "print combined_df.head(n=10)"
   ]
  },
  {
   "cell_type": "markdown",
   "metadata": {
    "collapsed": false
   },
   "source": [
    "Let's clean up the dataframe by only keeping the columns that we need and print the top to inspect and delete the old dataframe that we no longer need"
   ]
  },
  {
   "cell_type": "code",
   "execution_count": 23,
   "metadata": {
    "collapsed": false
   },
   "outputs": [],
   "source": [
    "participation_df = combined_df[['ncid', 'birth_age', 'gender_code', 'race_code', 'ethnic_code', 'party_cd', \n",
    "                               'status_cd', 'zip_code','birth_state', 'drivers_lic', 'county_desc', 'registr_dt',\n",
    "                               'precinct_abbrv','target', 'congressional', 'local', 'presidential', 'municipality_abbrv']]\n",
    "\n",
    "del combined_df"
   ]
  },
  {
   "cell_type": "code",
   "execution_count": 24,
   "metadata": {
    "collapsed": false
   },
   "outputs": [
    {
     "name": "stdout",
     "output_type": "stream",
     "text": [
      "       ncid  birth_age gender_code race_code ethnic_code party_cd status_cd  \\\n",
      "1   AA53687       60.0           M         W          NL      REP         A   \n",
      "2   AA80986       43.0           M         W          NL      REP         A   \n",
      "3  AA131587       55.0           M         W          NL      REP         A   \n",
      "4  AA146650       58.0           F         W          NL      DEM         I   \n",
      "6   AA96254       82.0           M         W          NL      REP         A   \n",
      "\n",
      "   zip_code birth_state drivers_lic county_desc registr_dt precinct_abbrv  \\\n",
      "1     27215          NC           Y    ALAMANCE 1984-04-09            12W   \n",
      "2     27302          NC           Y    ALAMANCE 1992-04-02            10S   \n",
      "3     27215          NC           Y    ALAMANCE 2003-09-15            03S   \n",
      "4     27258          NC           Y    ALAMANCE 2006-05-19             13   \n",
      "6     27302          NC           Y    ALAMANCE 1995-11-08            10S   \n",
      "\n",
      "  target congressional local presidential municipality_abbrv  \n",
      "1      N             Y     N            Y                BUR  \n",
      "2      N             Y     Y            Y                MEB  \n",
      "3      N             Y     N            Y                BUR  \n",
      "4      N             N     N            N                HAW  \n",
      "6      N             N     N            Y                MEB  \n"
     ]
    }
   ],
   "source": [
    "print participation_df.head()"
   ]
  },
  {
   "cell_type": "markdown",
   "metadata": {},
   "source": [
    "Before modelling, need to make sure the columns are of the correct type and that all folks with invalid ages and years registered are removed.  SFrames, which will be used for modelling, do not accept mixed types in columns, so we need to be very sure that all column types are the same."
   ]
  },
  {
   "cell_type": "code",
   "execution_count": 25,
   "metadata": {
    "collapsed": false
   },
   "outputs": [],
   "source": [
    "string_columns = ['ncid', 'gender_code',  'race_code',  'ethnic_code', 'party_cd', 'status_cd', \n",
    "                'zip_code', 'birth_state', 'drivers_lic', 'county_desc', 'precinct_abbrv',\n",
    "                 'target', 'congressional', 'local', 'presidential', 'municipality_abbrv']"
   ]
  },
  {
   "cell_type": "code",
   "execution_count": 26,
   "metadata": {
    "collapsed": false
   },
   "outputs": [],
   "source": [
    "for col in string_columns: #convert all the string_columns to 'string'\n",
    "    participation_df[col] = participation_df[col].apply(str)"
   ]
  },
  {
   "cell_type": "markdown",
   "metadata": {
    "collapsed": true
   },
   "source": [
    "Create interaction variables"
   ]
  },
  {
   "cell_type": "code",
   "execution_count": 27,
   "metadata": {
    "collapsed": true
   },
   "outputs": [],
   "source": [
    "def convert_to_years(x): # function to convert a timedelta object to a float of years\n",
    "    return x.total_seconds()/(60*60*24*365.2422)"
   ]
  },
  {
   "cell_type": "code",
   "execution_count": 28,
   "metadata": {
    "collapsed": false
   },
   "outputs": [],
   "source": [
    "participation_df['race_gender'] = participation_df['race_code'] + participation_df ['gender_code']\n",
    "participation_df['race_ethnicity'] = participation_df['race_code'] + participation_df['ethnic_code']\n",
    "participation_df['gender_ethnicity'] = participation_df['gender_code'] + participation_df ['ethnic_code']\n",
    "participation_df['age_squared'] = (participation_df['birth_age'])**2\n",
    "participation_df['age_cubed'] = (participation_df['birth_age'])**3\n",
    "now = pd.to_datetime('today') # get today's data\n",
    "participation_df['years_since_registration'] = now - participation_df['registr_dt'] # get days since registration as a timedelta object\n",
    "participation_df['years_since_registration'] = participation_df['years_since_registration'].apply(convert_to_years) # convert to years\n",
    "participation_df['years_squared'] = (participation_df['years_since_registration'])**2\n",
    "participation_df['years_cubed'] = (participation_df['years_since_registration'])**3"
   ]
  },
  {
   "cell_type": "code",
   "execution_count": 29,
   "metadata": {
    "collapsed": false
   },
   "outputs": [
    {
     "name": "stdout",
     "output_type": "stream",
     "text": [
      "       ncid  birth_age gender_code race_code ethnic_code party_cd status_cd  \\\n",
      "1   AA53687       60.0           M         W          NL      REP         A   \n",
      "2   AA80986       43.0           M         W          NL      REP         A   \n",
      "3  AA131587       55.0           M         W          NL      REP         A   \n",
      "4  AA146650       58.0           F         W          NL      DEM         I   \n",
      "6   AA96254       82.0           M         W          NL      REP         A   \n",
      "\n",
      "  zip_code birth_state drivers_lic county_desc registr_dt precinct_abbrv  \\\n",
      "1    27215          NC           Y    ALAMANCE 1984-04-09            12W   \n",
      "2    27302          NC           Y    ALAMANCE 1992-04-02            10S   \n",
      "3    27215          NC           Y    ALAMANCE 2003-09-15            03S   \n",
      "4    27258          NC           Y    ALAMANCE 2006-05-19             13   \n",
      "6    27302          NC           Y    ALAMANCE 1995-11-08            10S   \n",
      "\n",
      "  target congressional local presidential municipality_abbrv race_gender  \\\n",
      "1      N             Y     N            Y                BUR          WM   \n",
      "2      N             Y     Y            Y                MEB          WM   \n",
      "3      N             Y     N            Y                BUR          WM   \n",
      "4      N             N     N            N                HAW          WF   \n",
      "6      N             N     N            Y                MEB          WM   \n",
      "\n",
      "  race_ethnicity gender_ethnicity  age_squared  age_cubed  \\\n",
      "1            WNL              MNL       3600.0   216000.0   \n",
      "2            WNL              MNL       1849.0    79507.0   \n",
      "3            WNL              MNL       3025.0   166375.0   \n",
      "4            WNL              FNL       3364.0   195112.0   \n",
      "6            WNL              MNL       6724.0   551368.0   \n",
      "\n",
      "   years_since_registration  years_squared   years_cubed  \n",
      "1                 33.347735    1112.071412  37085.062456  \n",
      "2                 25.366729     643.470953  16322.753451  \n",
      "3                 13.914055     193.600922   2693.773846  \n",
      "4                 11.239117     126.317762   1419.700170  \n",
      "6                 21.766379     473.775237  10312.371165  \n"
     ]
    }
   ],
   "source": [
    "print participation_df.head()"
   ]
  },
  {
   "cell_type": "markdown",
   "metadata": {},
   "source": [
    "Remove all of the voters with bad ages and registration dates"
   ]
  },
  {
   "cell_type": "code",
   "execution_count": 30,
   "metadata": {
    "collapsed": true
   },
   "outputs": [],
   "source": [
    "participation_df = participation_df[(participation_df['birth_age'] <= 99) & (participation_df['years_since_registration'] <= 61)]"
   ]
  },
  {
   "cell_type": "markdown",
   "metadata": {},
   "source": [
    "To create the model, we can only use voters that were registered in 2015.  So we need to remove all voters with code 'U' in the 'target' column.  "
   ]
  },
  {
   "cell_type": "code",
   "execution_count": 31,
   "metadata": {
    "collapsed": false
   },
   "outputs": [],
   "source": [
    "model_df = participation_df[(participation_df['target']!= 'U')]"
   ]
  },
  {
   "cell_type": "markdown",
   "metadata": {},
   "source": [
    "Let's figure out the majority classifier"
   ]
  },
  {
   "cell_type": "code",
   "execution_count": 32,
   "metadata": {
    "collapsed": false
   },
   "outputs": [
    {
     "name": "stdout",
     "output_type": "stream",
     "text": [
      "target\n",
      "N    0.864531\n",
      "Y    0.135469\n",
      "Name: target, dtype: float64\n",
      "3380621\n"
     ]
    }
   ],
   "source": [
    "majority = model_df.groupby(['target'])['target'].count()/model_df.groupby(['target'])['target'].count().sum()\n",
    "print majority\n",
    "size_all = len(model_df)\n",
    "print size_all"
   ]
  },
  {
   "cell_type": "markdown",
   "metadata": {},
   "source": [
    "By definition of status_cd = 'I', this implies that voters are inactive.  Therefore, the logical thing for our model to do is to predict all voters with status_cd = 'I' will not vote in the next local election.  So, we should model only the voters with status_cd = 'A'.  We can then combine everything in our final classification model to predict whether a voter will vote in the next municipal election:\n",
    "\n",
    "    if status_cd == 'I' then predict 'No'\n",
    "\n",
    "        else if model_prediction == 'Y' then predict 'Yes'\n",
    "    \n",
    "        else predict 'No'"
   ]
  },
  {
   "cell_type": "markdown",
   "metadata": {},
   "source": [
    "Let's remove all voters with status_cd = 'I' from the model dataframe"
   ]
  },
  {
   "cell_type": "code",
   "execution_count": 33,
   "metadata": {
    "collapsed": true
   },
   "outputs": [],
   "source": [
    "model_df = model_df[(model_df['status_cd']== 'A')]"
   ]
  },
  {
   "cell_type": "code",
   "execution_count": 34,
   "metadata": {
    "collapsed": false
   },
   "outputs": [
    {
     "name": "stdout",
     "output_type": "stream",
     "text": [
      "target\n",
      "N    0.831105\n",
      "Y    0.168895\n",
      "Name: target, dtype: float64\n",
      "The number of both active and inactive voters is 3380621\n",
      "The number of active voters is 2692158\n",
      "688463 voters are inactive.\n",
      "The fraction of voters that are inactive is 0.203649861963\n"
     ]
    }
   ],
   "source": [
    "majority = model_df.groupby(['target'])['target'].count()/model_df.groupby(['target'])['target'].count().sum()\n",
    "print majority\n",
    "size_active = len(model_df)\n",
    "print \"The number of both active and inactive voters is \" +str(size_all)\n",
    "print \"The number of active voters is \" + str(size_active)\n",
    "print str(size_all - size_active) + \" voters are inactive.\"\n",
    "print \"The fraction of voters that are inactive is \" +str((size_all-size_active)/size_all)"
   ]
  },
  {
   "cell_type": "markdown",
   "metadata": {},
   "source": [
    "Our majority classifier is 83.1%.  This could be our starting benchmark for accuracy, since if we guess that everyone registered for the 2015 election did not vote, we would guess correctly 83.1% of the time.  \n",
    "\n",
    "However, since the classes are imbalanced this is not a good benchmark.  What we're really trying to do is identify which voters are likely to vote in the next local election.  If we use the majority classifier, we would predict that no one would vote.\n",
    "\n",
    "Accuracy of correclty predicting voters that will vote: 0%\n",
    "\n",
    "Accuracy of correctly predicting voters that will not vote: 100%\n",
    "\n",
    "Therefore, we're going to try to balance accuracy of predicting both voters that will vote and voters that won't vote.  "
   ]
  },
  {
   "cell_type": "markdown",
   "metadata": {},
   "source": [
    "We can now explore 2015 turnout by county/muncipality for active voters only"
   ]
  },
  {
   "cell_type": "code",
   "execution_count": 35,
   "metadata": {
    "collapsed": false
   },
   "outputs": [],
   "source": [
    "table = pd.pivot_table(model_df[['county_desc', 'municipality_abbrv', 'target']], values=None, index=['county_desc','municipality_abbrv'], \n",
    "                                  columns='target', aggfunc=len, fill_value=None, margins=False, dropna=True, margins_name='All')\n",
    "table = pd.DataFrame(table.to_records()) # convert the pivot table to a dataframe\n",
    "table['turnout_active'] = table['Y']/(table['Y']+table['N'])"
   ]
  },
  {
   "cell_type": "code",
   "execution_count": 36,
   "metadata": {
    "collapsed": false
   },
   "outputs": [
    {
     "name": "stdout",
     "output_type": "stream",
     "text": [
      "    county_desc municipality_abbrv        N       Y  turnout_active\n",
      "0      ALAMANCE                ALA    469.0    29.0        0.058233\n",
      "1      ALAMANCE                BUR  16887.0  3978.0        0.190654\n",
      "2      ALAMANCE                ELO   2774.0   454.0        0.140644\n",
      "3      ALAMANCE                GIB   1604.0   253.0        0.136241\n",
      "4      ALAMANCE                GRA   4982.0   781.0        0.135520\n",
      "5      ALAMANCE                GRE    637.0   154.0        0.194690\n",
      "6      ALAMANCE                HAW    646.0   175.0        0.213155\n",
      "7      ALAMANCE                MEB   4555.0   464.0        0.092449\n",
      "8      ALAMANCE                OSS    176.0    45.0        0.203620\n",
      "9      ALAMANCE                SWE    766.0    55.0        0.066991\n",
      "10    ALEXANDER                  T    669.0   235.0        0.259956\n",
      "11    ALLEGHANY                 01    573.0   141.0        0.197479\n",
      "12        ANSON                ANS    226.0    64.0        0.220690\n",
      "13        ANSON               LILE    164.0    78.0        0.322314\n",
      "14        ANSON               MCFA     22.0    18.0        0.450000\n",
      "15        ANSON               MORV    171.0   100.0        0.369004\n",
      "16        ANSON               PEAC    155.0    45.0        0.225000\n",
      "17        ANSON               POLK    280.0    56.0        0.166667\n",
      "18        ANSON               WADE   2712.0   284.0        0.094793\n",
      "19         ASHE                 01    545.0    44.0        0.074703\n",
      "20         ASHE                 02     46.0    21.0        0.313433\n",
      "21         ASHE                 03    393.0   151.0        0.277574\n",
      "22        AVERY                 00      9.0     NaN             NaN\n",
      "23        AVERY                 01    266.0    38.0        0.125000\n",
      "24        AVERY                 02     51.0    44.0        0.463158\n",
      "25        AVERY                 03    187.0    55.0        0.227273\n",
      "26        AVERY                 04    113.0   300.0        0.726392\n",
      "27        AVERY                 05     88.0    63.0        0.417219\n",
      "28        AVERY                 06      8.0    21.0        0.724138\n",
      "29        AVERY                 07     13.0     8.0        0.380952\n",
      "..          ...                ...      ...     ...             ...\n",
      "571     WATAUGA               BEEC    116.0   167.0        0.590106\n",
      "572     WATAUGA               BLOW    450.0   429.0        0.488055\n",
      "573     WATAUGA               BOON   6361.0  1093.0        0.146633\n",
      "574     WATAUGA               SEVE     83.0    37.0        0.308333\n",
      "575     WATAUGA               WATA  17468.0    86.0        0.004899\n",
      "576       WAYNE                EUR     95.0    18.0        0.159292\n",
      "577       WAYNE                FRM    357.0   195.0        0.353261\n",
      "578       WAYNE                GBO  11577.0  2813.0        0.195483\n",
      "579       WAYNE                 MO   1335.0   320.0        0.193353\n",
      "580       WAYNE                PKV    259.0    46.0        0.150820\n",
      "581       WAYNE                SSP     19.0    19.0        0.500000\n",
      "582       WAYNE                WCR    529.0    96.0        0.153600\n",
      "583      WILKES                 01    131.0    86.0        0.396313\n",
      "584      WILKES                 02    952.0   484.0        0.337047\n",
      "585      WILKES                 03    956.0   588.0        0.380829\n",
      "586      WILKES                 04     27.0     1.0        0.035714\n",
      "587      WILSON               CIBL    309.0    45.0        0.127119\n",
      "588      WILSON               CIEC    554.0   116.0        0.173134\n",
      "589      WILSON               CIKE     47.0     2.0        0.040816\n",
      "590      WILSON               CILU    257.0   110.0        0.299728\n",
      "591      WILSON               CISA    165.0    24.0        0.126984\n",
      "592      WILSON               CISH    118.0    85.0        0.418719\n",
      "593      WILSON               CISI     88.0    66.0        0.428571\n",
      "594      WILSON               CIST    233.0   128.0        0.354571\n",
      "595      WILSON               CIWI  18120.0  4783.0        0.208837\n",
      "596      YADKIN               BNVL    513.0    58.0        0.101576\n",
      "597      YADKIN               EBND    256.0    63.0        0.197492\n",
      "598      YADKIN               JNVL    690.0   195.0        0.220339\n",
      "599      YADKIN               YADK    859.0    52.0        0.057080\n",
      "600      YANCEY                 01    525.0   363.0        0.408784\n",
      "\n",
      "[601 rows x 5 columns]\n"
     ]
    }
   ],
   "source": [
    "print table"
   ]
  },
  {
   "cell_type": "markdown",
   "metadata": {
    "collapsed": false
   },
   "source": [
    "Now we convert model_df to an SFrame for modelling."
   ]
  },
  {
   "cell_type": "code",
   "execution_count": 37,
   "metadata": {
    "collapsed": false
   },
   "outputs": [
    {
     "name": "stdout",
     "output_type": "stream",
     "text": [
      "This non-commercial license of GraphLab Create for academic use is assigned to scottsmi@live.unc.edu and will expire on May 15, 2018.\n"
     ]
    },
    {
     "name": "stderr",
     "output_type": "stream",
     "text": [
      "[INFO] graphlab.cython.cy_server: GraphLab Create v2.1 started. Logging: C:\\Users\\scott\\AppData\\Local\\Temp\\graphlab_server_1502721256.log.0\n"
     ]
    }
   ],
   "source": [
    "model_sf = gl.SFrame(model_df)"
   ]
  },
  {
   "cell_type": "code",
   "execution_count": 38,
   "metadata": {
    "collapsed": false
   },
   "outputs": [],
   "source": [
    "cols = model_sf.column_names()"
   ]
  },
  {
   "cell_type": "code",
   "execution_count": 39,
   "metadata": {
    "collapsed": false
   },
   "outputs": [
    {
     "name": "stdout",
     "output_type": "stream",
     "text": [
      "['ncid', 'birth_age', 'gender_code', 'race_code', 'ethnic_code', 'party_cd', 'status_cd', 'zip_code', 'birth_state', 'drivers_lic', 'county_desc', 'registr_dt', 'precinct_abbrv', 'target', 'congressional', 'local', 'presidential', 'municipality_abbrv', 'race_gender', 'race_ethnicity', 'gender_ethnicity', 'age_squared', 'age_cubed', 'years_since_registration', 'years_squared', 'years_cubed']\n"
     ]
    }
   ],
   "source": [
    "print cols"
   ]
  },
  {
   "cell_type": "markdown",
   "metadata": {},
   "source": [
    "Let's start out by using only past participation as our features"
   ]
  },
  {
   "cell_type": "code",
   "execution_count": 40,
   "metadata": {
    "collapsed": false
   },
   "outputs": [],
   "source": [
    "features = ['congressional', 'local', 'presidential']                "
   ]
  },
  {
   "cell_type": "code",
   "execution_count": 41,
   "metadata": {
    "collapsed": false
   },
   "outputs": [
    {
     "name": "stdout",
     "output_type": "stream",
     "text": [
      "['congressional', 'local', 'presidential']\n"
     ]
    }
   ],
   "source": [
    "print features"
   ]
  },
  {
   "cell_type": "markdown",
   "metadata": {},
   "source": [
    "We now reduce the data we will model to include only the features plus the column 'target'"
   ]
  },
  {
   "cell_type": "code",
   "execution_count": 42,
   "metadata": {
    "collapsed": false
   },
   "outputs": [],
   "source": [
    "model_reduced = model_sf[['congressional', 'local', 'presidential', 'target']]"
   ]
  },
  {
   "cell_type": "markdown",
   "metadata": {},
   "source": [
    "Split the model data into 80% trainng data and 20% test data"
   ]
  },
  {
   "cell_type": "code",
   "execution_count": 43,
   "metadata": {
    "collapsed": false
   },
   "outputs": [],
   "source": [
    "train_data,test_data = model_reduced.random_split(.8)"
   ]
  },
  {
   "cell_type": "markdown",
   "metadata": {},
   "source": [
    "In order to yeild meaningful coefficients, I need to insert a top row onto the SFrame with 'U' as values."
   ]
  },
  {
   "cell_type": "code",
   "execution_count": 44,
   "metadata": {
    "collapsed": false
   },
   "outputs": [
    {
     "name": "stdout",
     "output_type": "stream",
     "text": [
      "+---------------+-------+--------------+--------+\n",
      "| congressional | local | presidential | target |\n",
      "+---------------+-------+--------------+--------+\n",
      "|       U       |   U   |      U       |   N    |\n",
      "|       Y       |   N   |      Y       |   N    |\n",
      "|       Y       |   N   |      Y       |   N    |\n",
      "|       N       |   N   |      Y       |   N    |\n",
      "|       Y       |   N   |      Y       |   N    |\n",
      "|       N       |   N   |      Y       |   N    |\n",
      "|       Y       |   N   |      Y       |   N    |\n",
      "|       Y       |   N   |      Y       |   N    |\n",
      "|       N       |   N   |      Y       |   N    |\n",
      "|       Y       |   Y   |      Y       |   Y    |\n",
      "+---------------+-------+--------------+--------+\n",
      "[10 rows x 4 columns]\n",
      "\n"
     ]
    }
   ],
   "source": [
    "reference_sf = gl.SFrame({'local':'U', # create a new SFrame with 1 row and \"None\" for all categorical variables\n",
    "                    'target': 'N', \n",
    "                    'congressional': 'U', \n",
    "                    'presidential': 'U'})\n",
    "train_data = reference_sf.append(train_data) # append the full SFrame to the bottom of this 1 row SFrame \n",
    "print train_data.head()"
   ]
  },
  {
   "cell_type": "markdown",
   "metadata": {},
   "source": [
    "We will no train and test a logistic classifier model.  To improve performance, we will use a Fast Iterative Shrinkage-Thresholding Algorithm (FISTA).  This algorithm speeds up convergence by "
   ]
  },
  {
   "cell_type": "code",
   "execution_count": 45,
   "metadata": {
    "collapsed": false
   },
   "outputs": [
    {
     "data": {
      "text/html": [
       "<pre>Logistic regression:</pre>"
      ],
      "text/plain": [
       "Logistic regression:"
      ]
     },
     "metadata": {},
     "output_type": "display_data"
    },
    {
     "data": {
      "text/html": [
       "<pre>--------------------------------------------------------</pre>"
      ],
      "text/plain": [
       "--------------------------------------------------------"
      ]
     },
     "metadata": {},
     "output_type": "display_data"
    },
    {
     "data": {
      "text/html": [
       "<pre>Number of examples          : 2153252</pre>"
      ],
      "text/plain": [
       "Number of examples          : 2153252"
      ]
     },
     "metadata": {},
     "output_type": "display_data"
    },
    {
     "data": {
      "text/html": [
       "<pre>Number of classes           : 2</pre>"
      ],
      "text/plain": [
       "Number of classes           : 2"
      ]
     },
     "metadata": {},
     "output_type": "display_data"
    },
    {
     "data": {
      "text/html": [
       "<pre>Number of feature columns   : 3</pre>"
      ],
      "text/plain": [
       "Number of feature columns   : 3"
      ]
     },
     "metadata": {},
     "output_type": "display_data"
    },
    {
     "data": {
      "text/html": [
       "<pre>Number of unpacked features : 3</pre>"
      ],
      "text/plain": [
       "Number of unpacked features : 3"
      ]
     },
     "metadata": {},
     "output_type": "display_data"
    },
    {
     "data": {
      "text/html": [
       "<pre>Number of coefficients    : 7</pre>"
      ],
      "text/plain": [
       "Number of coefficients    : 7"
      ]
     },
     "metadata": {},
     "output_type": "display_data"
    },
    {
     "data": {
      "text/html": [
       "<pre>Starting Newton Method</pre>"
      ],
      "text/plain": [
       "Starting Newton Method"
      ]
     },
     "metadata": {},
     "output_type": "display_data"
    },
    {
     "data": {
      "text/html": [
       "<pre>--------------------------------------------------------</pre>"
      ],
      "text/plain": [
       "--------------------------------------------------------"
      ]
     },
     "metadata": {},
     "output_type": "display_data"
    },
    {
     "data": {
      "text/html": [
       "<pre>+-----------+----------+--------------+-------------------+---------------------+</pre>"
      ],
      "text/plain": [
       "+-----------+----------+--------------+-------------------+---------------------+"
      ]
     },
     "metadata": {},
     "output_type": "display_data"
    },
    {
     "data": {
      "text/html": [
       "<pre>| Iteration | Passes   | Elapsed Time | Training-accuracy | Validation-accuracy |</pre>"
      ],
      "text/plain": [
       "| Iteration | Passes   | Elapsed Time | Training-accuracy | Validation-accuracy |"
      ]
     },
     "metadata": {},
     "output_type": "display_data"
    },
    {
     "data": {
      "text/html": [
       "<pre>+-----------+----------+--------------+-------------------+---------------------+</pre>"
      ],
      "text/plain": [
       "+-----------+----------+--------------+-------------------+---------------------+"
      ]
     },
     "metadata": {},
     "output_type": "display_data"
    },
    {
     "data": {
      "text/html": [
       "<pre>| 1         | 2        | 8.587245     | 0.850514          | 0.850796            |</pre>"
      ],
      "text/plain": [
       "| 1         | 2        | 8.587245     | 0.850514          | 0.850796            |"
      ]
     },
     "metadata": {},
     "output_type": "display_data"
    },
    {
     "data": {
      "text/html": [
       "<pre>| 2         | 3        | 13.318342    | 0.850673          | 0.850902            |</pre>"
      ],
      "text/plain": [
       "| 2         | 3        | 13.318342    | 0.850673          | 0.850902            |"
      ]
     },
     "metadata": {},
     "output_type": "display_data"
    },
    {
     "data": {
      "text/html": [
       "<pre>| 3         | 4        | 18.071483    | 0.850964          | 0.851182            |</pre>"
      ],
      "text/plain": [
       "| 3         | 4        | 18.071483    | 0.850964          | 0.851182            |"
      ]
     },
     "metadata": {},
     "output_type": "display_data"
    },
    {
     "data": {
      "text/html": [
       "<pre>| 4         | 5        | 22.894984    | 0.850964          | 0.851182            |</pre>"
      ],
      "text/plain": [
       "| 4         | 5        | 22.894984    | 0.850964          | 0.851182            |"
      ]
     },
     "metadata": {},
     "output_type": "display_data"
    },
    {
     "data": {
      "text/html": [
       "<pre>| 5         | 6        | 27.719313    | 0.850964          | 0.851182            |</pre>"
      ],
      "text/plain": [
       "| 5         | 6        | 27.719313    | 0.850964          | 0.851182            |"
      ]
     },
     "metadata": {},
     "output_type": "display_data"
    },
    {
     "data": {
      "text/html": [
       "<pre>| 6         | 7        | 32.540635    | 0.850964          | 0.851182            |</pre>"
      ],
      "text/plain": [
       "| 6         | 7        | 32.540635    | 0.850964          | 0.851182            |"
      ]
     },
     "metadata": {},
     "output_type": "display_data"
    },
    {
     "data": {
      "text/html": [
       "<pre>+-----------+----------+--------------+-------------------+---------------------+</pre>"
      ],
      "text/plain": [
       "+-----------+----------+--------------+-------------------+---------------------+"
      ]
     },
     "metadata": {},
     "output_type": "display_data"
    },
    {
     "data": {
      "text/html": [
       "<pre>SUCCESS: Optimal solution found.</pre>"
      ],
      "text/plain": [
       "SUCCESS: Optimal solution found."
      ]
     },
     "metadata": {},
     "output_type": "display_data"
    },
    {
     "data": {
      "text/html": [
       "<pre></pre>"
      ],
      "text/plain": []
     },
     "metadata": {},
     "output_type": "display_data"
    }
   ],
   "source": [
    "turnout_model = gl.logistic_classifier.create(train_data, target='target',features= features,validation_set=test_data,\n",
    "                                                          verbose=True, solver='newton', class_weights=None, max_iterations=50)"
   ]
  },
  {
   "cell_type": "code",
   "execution_count": 46,
   "metadata": {
    "collapsed": false
   },
   "outputs": [
    {
     "data": {
      "text/plain": [
       "{'accuracy': 0.8511821149103649,\n",
       " 'auc': 0.8175871748470867,\n",
       " 'confusion_matrix': Columns:\n",
       " \ttarget_label\tstr\n",
       " \tpredicted_label\tstr\n",
       " \tcount\tint\n",
       " \n",
       " Rows: 4\n",
       " \n",
       " Data:\n",
       " +--------------+-----------------+--------+\n",
       " | target_label | predicted_label | count  |\n",
       " +--------------+-----------------+--------+\n",
       " |      Y       |        N        | 38839  |\n",
       " |      Y       |        Y        | 52775  |\n",
       " |      N       |        N        | 405933 |\n",
       " |      N       |        Y        | 41360  |\n",
       " +--------------+-----------------+--------+\n",
       " [4 rows x 3 columns],\n",
       " 'f1_score': 0.5682399366887574,\n",
       " 'log_loss': 0.3444555124075587,\n",
       " 'precision': 0.5606310086577787,\n",
       " 'recall': 0.5760582443731307,\n",
       " 'roc_curve': Columns:\n",
       " \tthreshold\tfloat\n",
       " \tfpr\tfloat\n",
       " \ttpr\tfloat\n",
       " \tp\tint\n",
       " \tn\tint\n",
       " \n",
       " Rows: 100001\n",
       " \n",
       " Data:\n",
       " +-----------+-----+-----+-------+--------+\n",
       " | threshold | fpr | tpr |   p   |   n    |\n",
       " +-----------+-----+-----+-------+--------+\n",
       " |    0.0    | 1.0 | 1.0 | 91614 | 447293 |\n",
       " |   1e-05   | 1.0 | 1.0 | 91614 | 447293 |\n",
       " |   2e-05   | 1.0 | 1.0 | 91614 | 447293 |\n",
       " |   3e-05   | 1.0 | 1.0 | 91614 | 447293 |\n",
       " |   4e-05   | 1.0 | 1.0 | 91614 | 447293 |\n",
       " |   5e-05   | 1.0 | 1.0 | 91614 | 447293 |\n",
       " |   6e-05   | 1.0 | 1.0 | 91614 | 447293 |\n",
       " |   7e-05   | 1.0 | 1.0 | 91614 | 447293 |\n",
       " |   8e-05   | 1.0 | 1.0 | 91614 | 447293 |\n",
       " |   9e-05   | 1.0 | 1.0 | 91614 | 447293 |\n",
       " +-----------+-----+-----+-------+--------+\n",
       " [100001 rows x 5 columns]\n",
       " Note: Only the head of the SFrame is printed.\n",
       " You can use print_rows(num_rows=m, num_columns=n) to print more rows and columns.}"
      ]
     },
     "execution_count": 46,
     "metadata": {},
     "output_type": "execute_result"
    }
   ],
   "source": [
    "turnout_model.evaluate(test_data)"
   ]
  },
  {
   "cell_type": "markdown",
   "metadata": {},
   "source": [
    "Accuracy is 85.1% for using only previous turnout as features vs. 83.1% for the majority classifier, only a small improvement.   However, this does not tell the whole story.  Recall that the majority classifier performed as fullows:\n",
    "\n",
    "Accuracy of correclty predicting voters that will vote: 0%\n",
    "\n",
    "Accuracy of correctly predicting voters that will not vote: 100%\n",
    "\n",
    "\n",
    "The classifier model we've just created performs as follows:\n",
    "\n",
    "Accuracy of correclty predicting voters that will vote: 58%\n",
    "\n",
    "Accuracy of correctly predicting voters that will not vote: 90%\n",
    "\n",
    "If our objective to predict voters that actually will vote, this model is far better than the majority classifier.  However, identifying voters with 58% accuracy is still not good enough. "
   ]
  },
  {
   "cell_type": "markdown",
   "metadata": {
    "collapsed": false
   },
   "source": [
    "We've observed that local election turnout varies widely among counties.  Let's add county_desc to the model and see if there is any meaningful improvement."
   ]
  },
  {
   "cell_type": "code",
   "execution_count": 47,
   "metadata": {
    "collapsed": true
   },
   "outputs": [],
   "source": [
    "enhanced_features = ['congressional', 'local', 'presidential',  'county_desc'] "
   ]
  },
  {
   "cell_type": "code",
   "execution_count": 48,
   "metadata": {
    "collapsed": false
   },
   "outputs": [],
   "source": [
    "model_reduced = model_sf[['local', 'target', 'congressional', 'presidential', 'county_desc']]\n",
    "train_data,test_data = model_reduced.random_split(.8)"
   ]
  },
  {
   "cell_type": "code",
   "execution_count": 49,
   "metadata": {
    "collapsed": false
   },
   "outputs": [
    {
     "name": "stdout",
     "output_type": "stream",
     "text": [
      "+---------------+-------------+-------+--------------+--------+\n",
      "| congressional | county_desc | local | presidential | target |\n",
      "+---------------+-------------+-------+--------------+--------+\n",
      "|       U       |      U      |   U   |      U       |   N    |\n",
      "|       Y       |   ALAMANCE  |   N   |      Y       |   N    |\n",
      "|       Y       |   ALAMANCE  |   Y   |      Y       |   N    |\n",
      "|       Y       |   ALAMANCE  |   N   |      Y       |   N    |\n",
      "|       N       |   ALAMANCE  |   N   |      Y       |   N    |\n",
      "|       Y       |   ALAMANCE  |   N   |      Y       |   N    |\n",
      "|       N       |   ALAMANCE  |   N   |      Y       |   N    |\n",
      "|       Y       |   ALAMANCE  |   N   |      Y       |   N    |\n",
      "|       Y       |   ALAMANCE  |   N   |      Y       |   N    |\n",
      "|       N       |   ALAMANCE  |   N   |      Y       |   N    |\n",
      "+---------------+-------------+-------+--------------+--------+\n",
      "[10 rows x 5 columns]\n",
      "\n"
     ]
    }
   ],
   "source": [
    "reference_sf = gl.SFrame({'local':'U', # create a new SFrame with 1 row and \"None\" for all categorical variables\n",
    "                    'target': 'N', \n",
    "                    'congressional': 'U', \n",
    "                    'presidential': 'U',\n",
    "                    'county_desc': 'U'})\n",
    "train_data = reference_sf.append(train_data) # append the full SFrame to the bottom of this 1 row SFrame \n",
    "print train_data.head()"
   ]
  },
  {
   "cell_type": "code",
   "execution_count": 50,
   "metadata": {
    "collapsed": false
   },
   "outputs": [
    {
     "data": {
      "text/html": [
       "<pre>Logistic regression:</pre>"
      ],
      "text/plain": [
       "Logistic regression:"
      ]
     },
     "metadata": {},
     "output_type": "display_data"
    },
    {
     "data": {
      "text/html": [
       "<pre>--------------------------------------------------------</pre>"
      ],
      "text/plain": [
       "--------------------------------------------------------"
      ]
     },
     "metadata": {},
     "output_type": "display_data"
    },
    {
     "data": {
      "text/html": [
       "<pre>Number of examples          : 2153986</pre>"
      ],
      "text/plain": [
       "Number of examples          : 2153986"
      ]
     },
     "metadata": {},
     "output_type": "display_data"
    },
    {
     "data": {
      "text/html": [
       "<pre>Number of classes           : 2</pre>"
      ],
      "text/plain": [
       "Number of classes           : 2"
      ]
     },
     "metadata": {},
     "output_type": "display_data"
    },
    {
     "data": {
      "text/html": [
       "<pre>Number of feature columns   : 4</pre>"
      ],
      "text/plain": [
       "Number of feature columns   : 4"
      ]
     },
     "metadata": {},
     "output_type": "display_data"
    },
    {
     "data": {
      "text/html": [
       "<pre>Number of unpacked features : 4</pre>"
      ],
      "text/plain": [
       "Number of unpacked features : 4"
      ]
     },
     "metadata": {},
     "output_type": "display_data"
    },
    {
     "data": {
      "text/html": [
       "<pre>Number of coefficients    : 105</pre>"
      ],
      "text/plain": [
       "Number of coefficients    : 105"
      ]
     },
     "metadata": {},
     "output_type": "display_data"
    },
    {
     "data": {
      "text/html": [
       "<pre>Starting Newton Method</pre>"
      ],
      "text/plain": [
       "Starting Newton Method"
      ]
     },
     "metadata": {},
     "output_type": "display_data"
    },
    {
     "data": {
      "text/html": [
       "<pre>--------------------------------------------------------</pre>"
      ],
      "text/plain": [
       "--------------------------------------------------------"
      ]
     },
     "metadata": {},
     "output_type": "display_data"
    },
    {
     "data": {
      "text/html": [
       "<pre>+-----------+----------+--------------+-------------------+---------------------+</pre>"
      ],
      "text/plain": [
       "+-----------+----------+--------------+-------------------+---------------------+"
      ]
     },
     "metadata": {},
     "output_type": "display_data"
    },
    {
     "data": {
      "text/html": [
       "<pre>| Iteration | Passes   | Elapsed Time | Training-accuracy | Validation-accuracy |</pre>"
      ],
      "text/plain": [
       "| Iteration | Passes   | Elapsed Time | Training-accuracy | Validation-accuracy |"
      ]
     },
     "metadata": {},
     "output_type": "display_data"
    },
    {
     "data": {
      "text/html": [
       "<pre>+-----------+----------+--------------+-------------------+---------------------+</pre>"
      ],
      "text/plain": [
       "+-----------+----------+--------------+-------------------+---------------------+"
      ]
     },
     "metadata": {},
     "output_type": "display_data"
    },
    {
     "data": {
      "text/html": [
       "<pre>| 1         | 2        | 7.537042     | 0.866139          | 0.866981            |</pre>"
      ],
      "text/plain": [
       "| 1         | 2        | 7.537042     | 0.866139          | 0.866981            |"
      ]
     },
     "metadata": {},
     "output_type": "display_data"
    },
    {
     "data": {
      "text/html": [
       "<pre>| 2         | 3        | 12.460135    | 0.866345          | 0.867151            |</pre>"
      ],
      "text/plain": [
       "| 2         | 3        | 12.460135    | 0.866345          | 0.867151            |"
      ]
     },
     "metadata": {},
     "output_type": "display_data"
    },
    {
     "data": {
      "text/html": [
       "<pre>| 3         | 4        | 17.261905    | 0.866397          | 0.867232            |</pre>"
      ],
      "text/plain": [
       "| 3         | 4        | 17.261905    | 0.866397          | 0.867232            |"
      ]
     },
     "metadata": {},
     "output_type": "display_data"
    },
    {
     "data": {
      "text/html": [
       "<pre>| 4         | 5        | 22.108294    | 0.866416          | 0.867256            |</pre>"
      ],
      "text/plain": [
       "| 4         | 5        | 22.108294    | 0.866416          | 0.867256            |"
      ]
     },
     "metadata": {},
     "output_type": "display_data"
    },
    {
     "data": {
      "text/html": [
       "<pre>| 5         | 6        | 26.972730    | 0.866416          | 0.867255            |</pre>"
      ],
      "text/plain": [
       "| 5         | 6        | 26.972730    | 0.866416          | 0.867255            |"
      ]
     },
     "metadata": {},
     "output_type": "display_data"
    },
    {
     "data": {
      "text/html": [
       "<pre>| 6         | 7        | 31.861732    | 0.866416          | 0.867255            |</pre>"
      ],
      "text/plain": [
       "| 6         | 7        | 31.861732    | 0.866416          | 0.867255            |"
      ]
     },
     "metadata": {},
     "output_type": "display_data"
    },
    {
     "data": {
      "text/html": [
       "<pre>| 7         | 8        | 36.855011    | 0.866416          | 0.867255            |</pre>"
      ],
      "text/plain": [
       "| 7         | 8        | 36.855011    | 0.866416          | 0.867255            |"
      ]
     },
     "metadata": {},
     "output_type": "display_data"
    },
    {
     "data": {
      "text/html": [
       "<pre>| 8         | 9        | 41.892909    | 0.866416          | 0.867255            |</pre>"
      ],
      "text/plain": [
       "| 8         | 9        | 41.892909    | 0.866416          | 0.867255            |"
      ]
     },
     "metadata": {},
     "output_type": "display_data"
    },
    {
     "data": {
      "text/html": [
       "<pre>| 9         | 10       | 46.837558    | 0.866416          | 0.867255            |</pre>"
      ],
      "text/plain": [
       "| 9         | 10       | 46.837558    | 0.866416          | 0.867255            |"
      ]
     },
     "metadata": {},
     "output_type": "display_data"
    },
    {
     "data": {
      "text/html": [
       "<pre>| 10        | 11       | 51.790245    | 0.866416          | 0.867255            |</pre>"
      ],
      "text/plain": [
       "| 10        | 11       | 51.790245    | 0.866416          | 0.867255            |"
      ]
     },
     "metadata": {},
     "output_type": "display_data"
    },
    {
     "data": {
      "text/html": [
       "<pre>| 11        | 12       | 56.716346    | 0.866416          | 0.867255            |</pre>"
      ],
      "text/plain": [
       "| 11        | 12       | 56.716346    | 0.866416          | 0.867255            |"
      ]
     },
     "metadata": {},
     "output_type": "display_data"
    },
    {
     "data": {
      "text/html": [
       "<pre>| 12        | 13       | 61.636430    | 0.866416          | 0.867255            |</pre>"
      ],
      "text/plain": [
       "| 12        | 13       | 61.636430    | 0.866416          | 0.867255            |"
      ]
     },
     "metadata": {},
     "output_type": "display_data"
    },
    {
     "data": {
      "text/html": [
       "<pre>| 13        | 14       | 66.849795    | 0.866416          | 0.867255            |</pre>"
      ],
      "text/plain": [
       "| 13        | 14       | 66.849795    | 0.866416          | 0.867255            |"
      ]
     },
     "metadata": {},
     "output_type": "display_data"
    },
    {
     "data": {
      "text/html": [
       "<pre>| 14        | 15       | 71.772887    | 0.866416          | 0.867255            |</pre>"
      ],
      "text/plain": [
       "| 14        | 15       | 71.772887    | 0.866416          | 0.867255            |"
      ]
     },
     "metadata": {},
     "output_type": "display_data"
    },
    {
     "data": {
      "text/html": [
       "<pre>+-----------+----------+--------------+-------------------+---------------------+</pre>"
      ],
      "text/plain": [
       "+-----------+----------+--------------+-------------------+---------------------+"
      ]
     },
     "metadata": {},
     "output_type": "display_data"
    },
    {
     "data": {
      "text/html": [
       "<pre>SUCCESS: Optimal solution found.</pre>"
      ],
      "text/plain": [
       "SUCCESS: Optimal solution found."
      ]
     },
     "metadata": {},
     "output_type": "display_data"
    },
    {
     "data": {
      "text/html": [
       "<pre></pre>"
      ],
      "text/plain": []
     },
     "metadata": {},
     "output_type": "display_data"
    }
   ],
   "source": [
    "turnout_model = gl.logistic_classifier.create(train_data, target='target',features= enhanced_features,validation_set=test_data,\n",
    "                                                          verbose=True, solver='newton', class_weights=None, max_iterations=100)"
   ]
  },
  {
   "cell_type": "code",
   "execution_count": 51,
   "metadata": {
    "collapsed": false
   },
   "outputs": [
    {
     "data": {
      "text/plain": [
       "{'accuracy': 0.8672545817051395,\n",
       " 'auc': 0.8569551142526537,\n",
       " 'confusion_matrix': Columns:\n",
       " \ttarget_label\tstr\n",
       " \tpredicted_label\tstr\n",
       " \tcount\tint\n",
       " \n",
       " Rows: 4\n",
       " \n",
       " Data:\n",
       " +--------------+-----------------+--------+\n",
       " | target_label | predicted_label | count  |\n",
       " +--------------+-----------------+--------+\n",
       " |      Y       |        N        | 51522  |\n",
       " |      N       |        Y        | 19918  |\n",
       " |      Y       |        Y        | 38977  |\n",
       " |      N       |        N        | 427756 |\n",
       " +--------------+-----------------+--------+\n",
       " [4 rows x 3 columns],\n",
       " 'f1_score': 0.5218014110339103,\n",
       " 'log_loss': 0.320198457225191,\n",
       " 'precision': 0.6618049070379489,\n",
       " 'recall': 0.43068984187670584,\n",
       " 'roc_curve': Columns:\n",
       " \tthreshold\tfloat\n",
       " \tfpr\tfloat\n",
       " \ttpr\tfloat\n",
       " \tp\tint\n",
       " \tn\tint\n",
       " \n",
       " Rows: 100001\n",
       " \n",
       " Data:\n",
       " +-----------+----------------+-----+-------+--------+\n",
       " | threshold |      fpr       | tpr |   p   |   n    |\n",
       " +-----------+----------------+-----+-------+--------+\n",
       " |    0.0    |      1.0       | 1.0 | 90499 | 447674 |\n",
       " |   1e-05   | 0.999935220719 | 1.0 | 90499 | 447674 |\n",
       " |   2e-05   | 0.999935220719 | 1.0 | 90499 | 447674 |\n",
       " |   3e-05   | 0.999883844047 | 1.0 | 90499 | 447674 |\n",
       " |   4e-05   | 0.999865973901 | 1.0 | 90499 | 447674 |\n",
       " |   5e-05   | 0.999649298373 | 1.0 | 90499 | 447674 |\n",
       " |   6e-05   | 0.999624726922 | 1.0 | 90499 | 447674 |\n",
       " |   7e-05   | 0.999624726922 | 1.0 | 90499 | 447674 |\n",
       " |   8e-05   | 0.999249453844 | 1.0 | 90499 | 447674 |\n",
       " |   9e-05   | 0.999218181087 | 1.0 | 90499 | 447674 |\n",
       " +-----------+----------------+-----+-------+--------+\n",
       " [100001 rows x 5 columns]\n",
       " Note: Only the head of the SFrame is printed.\n",
       " You can use print_rows(num_rows=m, num_columns=n) to print more rows and columns.}"
      ]
     },
     "execution_count": 51,
     "metadata": {},
     "output_type": "execute_result"
    }
   ],
   "source": [
    "turnout_model.evaluate(test_data)"
   ]
  },
  {
   "cell_type": "markdown",
   "metadata": {},
   "source": [
    "Accuracy is 86.7% for using  previous turnout + county as features vs. 85.1 % using only previous turnout, again a small improvement.   However, this does not tell the whole story.  Recall that the classifier using only previous turnout performed as follows:\n",
    "\n",
    "Accuracy of correctly predicting voters that will vote: 58%\n",
    "\n",
    "Accuracy of correctly predicting voters that will not vote: 90%\n",
    "\n",
    "Our new classifier adding county to the feature list performed as follows:\n",
    "\n",
    "Accuracy of correctly predicting voters that will vote: 43%\n",
    "\n",
    "Accuracy of correctly predicting voters that will not vote: 95%\n",
    "\n",
    "If our objective to predict voters that actually will vote, this goes in the wrong direction.  The new model became more accurate at predicting non-voters at the expense of the accuracy of predicting voters.  We need to fix this.\n",
    "\n",
    "Fortunately, there is a simple way do resolve this problem.  To achieve the best accuracy, the algorithm as it is considers the penalty for predicting a non-voter incorrectly as equal to the penalty for predicting a voter incorrectly.  This does not match our real-world objectives.  Classification modeling using unbalanced classes is a well studied subject, and one recommended way to handle this situation is to penalize an incorrect prediction into the majority class more than an incorrect prediction into the minority class.  This will increase the accuracy of predicting voters at the expense of the accuracy of predicting non-voter.  Overall accuracy will be lower, but this is a fair price to pay for increased accuracy of voters.  One rule of thumb is penalize incorrect prediction into the majority class proportionally to the class imbalance.  This would imply a penalty of 83.1/16.9.  In other words, the penalty for incorrectly predicting a voter as a non-voter would be approximately 5 times that of incorrectly predicting a voter as a non-voter.  Let's try modeling this way and see if we can get a better result."
   ]
  },
  {
   "cell_type": "code",
   "execution_count": 52,
   "metadata": {
    "collapsed": false
   },
   "outputs": [
    {
     "data": {
      "text/html": [
       "<pre>Logistic regression:</pre>"
      ],
      "text/plain": [
       "Logistic regression:"
      ]
     },
     "metadata": {},
     "output_type": "display_data"
    },
    {
     "data": {
      "text/html": [
       "<pre>--------------------------------------------------------</pre>"
      ],
      "text/plain": [
       "--------------------------------------------------------"
      ]
     },
     "metadata": {},
     "output_type": "display_data"
    },
    {
     "data": {
      "text/html": [
       "<pre>Number of examples          : 2153986</pre>"
      ],
      "text/plain": [
       "Number of examples          : 2153986"
      ]
     },
     "metadata": {},
     "output_type": "display_data"
    },
    {
     "data": {
      "text/html": [
       "<pre>Number of classes           : 2</pre>"
      ],
      "text/plain": [
       "Number of classes           : 2"
      ]
     },
     "metadata": {},
     "output_type": "display_data"
    },
    {
     "data": {
      "text/html": [
       "<pre>Number of feature columns   : 4</pre>"
      ],
      "text/plain": [
       "Number of feature columns   : 4"
      ]
     },
     "metadata": {},
     "output_type": "display_data"
    },
    {
     "data": {
      "text/html": [
       "<pre>Number of unpacked features : 4</pre>"
      ],
      "text/plain": [
       "Number of unpacked features : 4"
      ]
     },
     "metadata": {},
     "output_type": "display_data"
    },
    {
     "data": {
      "text/html": [
       "<pre>Number of coefficients    : 105</pre>"
      ],
      "text/plain": [
       "Number of coefficients    : 105"
      ]
     },
     "metadata": {},
     "output_type": "display_data"
    },
    {
     "data": {
      "text/html": [
       "<pre>Starting Newton Method</pre>"
      ],
      "text/plain": [
       "Starting Newton Method"
      ]
     },
     "metadata": {},
     "output_type": "display_data"
    },
    {
     "data": {
      "text/html": [
       "<pre>--------------------------------------------------------</pre>"
      ],
      "text/plain": [
       "--------------------------------------------------------"
      ]
     },
     "metadata": {},
     "output_type": "display_data"
    },
    {
     "data": {
      "text/html": [
       "<pre>+-----------+----------+--------------+-------------------+---------------------+</pre>"
      ],
      "text/plain": [
       "+-----------+----------+--------------+-------------------+---------------------+"
      ]
     },
     "metadata": {},
     "output_type": "display_data"
    },
    {
     "data": {
      "text/html": [
       "<pre>| Iteration | Passes   | Elapsed Time | Training-accuracy | Validation-accuracy |</pre>"
      ],
      "text/plain": [
       "| Iteration | Passes   | Elapsed Time | Training-accuracy | Validation-accuracy |"
      ]
     },
     "metadata": {},
     "output_type": "display_data"
    },
    {
     "data": {
      "text/html": [
       "<pre>+-----------+----------+--------------+-------------------+---------------------+</pre>"
      ],
      "text/plain": [
       "+-----------+----------+--------------+-------------------+---------------------+"
      ]
     },
     "metadata": {},
     "output_type": "display_data"
    },
    {
     "data": {
      "text/html": [
       "<pre>| 1         | 2        | 8.083498     | 0.807091          | 0.806995            |</pre>"
      ],
      "text/plain": [
       "| 1         | 2        | 8.083498     | 0.807091          | 0.806995            |"
      ]
     },
     "metadata": {},
     "output_type": "display_data"
    },
    {
     "data": {
      "text/html": [
       "<pre>| 2         | 3        | 13.110404    | 0.807497          | 0.807763            |</pre>"
      ],
      "text/plain": [
       "| 2         | 3        | 13.110404    | 0.807497          | 0.807763            |"
      ]
     },
     "metadata": {},
     "output_type": "display_data"
    },
    {
     "data": {
      "text/html": [
       "<pre>| 3         | 4        | 18.127208    | 0.805516          | 0.805667            |</pre>"
      ],
      "text/plain": [
       "| 3         | 4        | 18.127208    | 0.805516          | 0.805667            |"
      ]
     },
     "metadata": {},
     "output_type": "display_data"
    },
    {
     "data": {
      "text/html": [
       "<pre>| 4         | 5        | 23.135025    | 0.805520          | 0.805665            |</pre>"
      ],
      "text/plain": [
       "| 4         | 5        | 23.135025    | 0.805520          | 0.805665            |"
      ]
     },
     "metadata": {},
     "output_type": "display_data"
    },
    {
     "data": {
      "text/html": [
       "<pre>| 5         | 6        | 28.139496    | 0.805520          | 0.805665            |</pre>"
      ],
      "text/plain": [
       "| 5         | 6        | 28.139496    | 0.805520          | 0.805665            |"
      ]
     },
     "metadata": {},
     "output_type": "display_data"
    },
    {
     "data": {
      "text/html": [
       "<pre>| 6         | 7        | 33.182763    | 0.805520          | 0.805665            |</pre>"
      ],
      "text/plain": [
       "| 6         | 7        | 33.182763    | 0.805520          | 0.805665            |"
      ]
     },
     "metadata": {},
     "output_type": "display_data"
    },
    {
     "data": {
      "text/html": [
       "<pre>| 7         | 8        | 38.208138    | 0.805520          | 0.805665            |</pre>"
      ],
      "text/plain": [
       "| 7         | 8        | 38.208138    | 0.805520          | 0.805665            |"
      ]
     },
     "metadata": {},
     "output_type": "display_data"
    },
    {
     "data": {
      "text/html": [
       "<pre>| 8         | 9        | 43.257055    | 0.805520          | 0.805665            |</pre>"
      ],
      "text/plain": [
       "| 8         | 9        | 43.257055    | 0.805520          | 0.805665            |"
      ]
     },
     "metadata": {},
     "output_type": "display_data"
    },
    {
     "data": {
      "text/html": [
       "<pre>| 9         | 10       | 48.328041    | 0.805520          | 0.805665            |</pre>"
      ],
      "text/plain": [
       "| 9         | 10       | 48.328041    | 0.805520          | 0.805665            |"
      ]
     },
     "metadata": {},
     "output_type": "display_data"
    },
    {
     "data": {
      "text/html": [
       "<pre>| 10        | 11       | 53.483679    | 0.805520          | 0.805665            |</pre>"
      ],
      "text/plain": [
       "| 10        | 11       | 53.483679    | 0.805520          | 0.805665            |"
      ]
     },
     "metadata": {},
     "output_type": "display_data"
    },
    {
     "data": {
      "text/html": [
       "<pre>| 11        | 12       | 58.580835    | 0.805520          | 0.805665            |</pre>"
      ],
      "text/plain": [
       "| 11        | 12       | 58.580835    | 0.805520          | 0.805665            |"
      ]
     },
     "metadata": {},
     "output_type": "display_data"
    },
    {
     "data": {
      "text/html": [
       "<pre>| 12        | 13       | 63.944098    | 0.805520          | 0.805665            |</pre>"
      ],
      "text/plain": [
       "| 12        | 13       | 63.944098    | 0.805520          | 0.805665            |"
      ]
     },
     "metadata": {},
     "output_type": "display_data"
    },
    {
     "data": {
      "text/html": [
       "<pre>+-----------+----------+--------------+-------------------+---------------------+</pre>"
      ],
      "text/plain": [
       "+-----------+----------+--------------+-------------------+---------------------+"
      ]
     },
     "metadata": {},
     "output_type": "display_data"
    },
    {
     "data": {
      "text/html": [
       "<pre>SUCCESS: Optimal solution found.</pre>"
      ],
      "text/plain": [
       "SUCCESS: Optimal solution found."
      ]
     },
     "metadata": {},
     "output_type": "display_data"
    },
    {
     "data": {
      "text/html": [
       "<pre></pre>"
      ],
      "text/plain": []
     },
     "metadata": {},
     "output_type": "display_data"
    }
   ],
   "source": [
    "turnout_model = gl.logistic_classifier.create(train_data, target='target',features= enhanced_features,validation_set=test_data,\n",
    "                                                          verbose=True, solver='newton', class_weights='auto', max_iterations=100)"
   ]
  },
  {
   "cell_type": "code",
   "execution_count": 53,
   "metadata": {
    "collapsed": false
   },
   "outputs": [
    {
     "data": {
      "text/plain": [
       "{'accuracy': 0.8056647211956006,\n",
       " 'auc': 0.8572725692396028,\n",
       " 'confusion_matrix': Columns:\n",
       " \ttarget_label\tstr\n",
       " \tpredicted_label\tstr\n",
       " \tcount\tint\n",
       " \n",
       " Rows: 4\n",
       " \n",
       " Data:\n",
       " +--------------+-----------------+--------+\n",
       " | target_label | predicted_label | count  |\n",
       " +--------------+-----------------+--------+\n",
       " |      Y       |        N        | 24173  |\n",
       " |      N       |        Y        | 80413  |\n",
       " |      Y       |        Y        | 66326  |\n",
       " |      N       |        N        | 367261 |\n",
       " +--------------+-----------------+--------+\n",
       " [4 rows x 3 columns],\n",
       " 'f1_score': 0.5591515693101442,\n",
       " 'log_loss': 0.47003355372634803,\n",
       " 'precision': 0.4519998091850156,\n",
       " 'recall': 0.7328920761555376,\n",
       " 'roc_curve': Columns:\n",
       " \tthreshold\tfloat\n",
       " \tfpr\tfloat\n",
       " \ttpr\tfloat\n",
       " \tp\tint\n",
       " \tn\tint\n",
       " \n",
       " Rows: 100001\n",
       " \n",
       " Data:\n",
       " +-----------+----------------+-----+-------+--------+\n",
       " | threshold |      fpr       | tpr |   p   |   n    |\n",
       " +-----------+----------------+-----+-------+--------+\n",
       " |    0.0    |      1.0       | 1.0 | 90499 | 447674 |\n",
       " |   1e-05   | 0.999939688255 | 1.0 | 90499 | 447674 |\n",
       " |   2e-05   | 0.999935220719 | 1.0 | 90499 | 447674 |\n",
       " |   3e-05   | 0.999935220719 | 1.0 | 90499 | 447674 |\n",
       " |   4e-05   | 0.999935220719 | 1.0 | 90499 | 447674 |\n",
       " |   5e-05   | 0.999935220719 | 1.0 | 90499 | 447674 |\n",
       " |   6e-05   | 0.999935220719 | 1.0 | 90499 | 447674 |\n",
       " |   7e-05   | 0.999935220719 | 1.0 | 90499 | 447674 |\n",
       " |   8e-05   | 0.999935220719 | 1.0 | 90499 | 447674 |\n",
       " |   9e-05   | 0.999935220719 | 1.0 | 90499 | 447674 |\n",
       " +-----------+----------------+-----+-------+--------+\n",
       " [100001 rows x 5 columns]\n",
       " Note: Only the head of the SFrame is printed.\n",
       " You can use print_rows(num_rows=m, num_columns=n) to print more rows and columns.}"
      ]
     },
     "execution_count": 53,
     "metadata": {},
     "output_type": "execute_result"
    }
   ],
   "source": [
    "turnout_model.evaluate(test_data)"
   ]
  },
  {
   "cell_type": "markdown",
   "metadata": {},
   "source": [
    "Accuracy is 80.6% for using  previous turnout + county as features vs. 86.6% using the unweighted model, significantly lower.  Once again, this does not tell the whole story.  Recall that the classifier using the unweighted model performed as follows:\n",
    "\n",
    "Accuracy of correctly predicting voters that will vote: 43%\n",
    "\n",
    "Accuracy of correctly predicting voters that will not vote: 95%\n",
    "\n",
    "Using the weighted model, performance was:\n",
    "\n",
    "Accuracy of correctly predicting voters that will vote: 73%\n",
    "\n",
    "Accuracy of correctly predicting voters that will not vote: 82%\n",
    "\n",
    "\n",
    "If our objective to predict voters that actually will vote, this is a significant improvement.  The new model became more accurate at predicting voters at the expense of the accuracy of predicting non-voters.  This is exactly what we needed.\n",
    "\n",
    "To further improve accuracy of correctly predicting voters (make it as close as possible to the accuracy of correctly predicting non-voters), We can adjust the threshold for predicting non-voters lower.  Currently, every person with a probability score > 0.5 will be predicted as a voter, and those < 0.5 will be predicted as a non-voter.  Let's move this threshold down to balance the accuracies."
   ]
  },
  {
   "cell_type": "markdown",
   "metadata": {},
   "source": [
    "We now need to create a function that manually calculate accuracy, sensitivity and specificity.\n",
    "\n",
    "The function below (get_model_performance) takes as input a classification model, an SFrame used by this model to make predictions, and a threshold for making predictions such that any probability above this threshold yields s 'positive' or 'republican' classification while any probability below this threshold yields a 'negative' or 'democratic' classification. It also takes as input the column in the SFrame containing the classification target and the value of this column that represents a 'positive'.  As a reminder, we are considering 'republican' sentiment as a positive and 'democratic' sentiment as a negative.\n",
    "\n",
    "This function returns a 3-tuple:  accuracy, sensitivity, selectivity"
   ]
  },
  {
   "cell_type": "code",
   "execution_count": 54,
   "metadata": {
    "collapsed": true
   },
   "outputs": [],
   "source": [
    "from __future__ import division # convert integer division to floating point\n",
    "def get_model_performance(model, sframe, threshold, target_feature, positive_value):\n",
    "    sframe['percent'] = model.predict(sframe, output_type='probability') # add a column with the model generated probabilities\n",
    "    sframe['predict_postive'] = sframe['percent'] >= threshold # add a column that contains 'true' if a potivite is predicted\n",
    "    sframe['predict_negative'] = sframe['percent'] < threshold # add a column that contains 'true' if a negative is predicted\n",
    "    sframe['true_postive'] = sframe[target_feature] == positive_value # add a column that contains 'true' if the row is a true postive\n",
    "    sframe['true_negative'] = sframe[target_feature] != positive_value # add a column that contains 'true' if the row is a true negative\n",
    "    \n",
    "    num_observations = len(sframe) # total number of observations\n",
    "    true_positives = sframe['true_postive'].sum() # number of true postives\n",
    "    true_negatives = sframe['true_negative'].sum() # number of true negatives\n",
    "    correct_positives = ((sframe['true_postive'] == 1) & (sframe['predict_postive'] == 1)).sum() # number of correct positive predictions\n",
    "    correct_negatives = ((sframe['true_negative'] == 1) & (sframe['predict_negative'] == 1)).sum() # number of correct negative predictions\n",
    "    sensitivity = correct_positives/true_positives # calculate sensitivity: correctly predicted postives / total positives\n",
    "    specificity = correct_negatives/true_negatives  # calculate specificity: correclty predicted negatives / total negatives\n",
    "    accuracy = (correct_positives + correct_negatives)/num_observations # calculate accuracy:  correct predictions / total observations\n",
    "    return accuracy, sensitivity, specificity # return the 3-tuple"
   ]
  },
  {
   "cell_type": "markdown",
   "metadata": {},
   "source": [
    "Let's test the above function"
   ]
  },
  {
   "cell_type": "code",
   "execution_count": 55,
   "metadata": {
    "collapsed": false
   },
   "outputs": [
    {
     "name": "stdout",
     "output_type": "stream",
     "text": [
      "(0.8056647211956006, 0.7328920761555376, 0.8203759878840406)\n"
     ]
    }
   ],
   "source": [
    "print get_model_performance(turnout_model, test_data, .5, 'target', 'Y')"
   ]
  },
  {
   "cell_type": "markdown",
   "metadata": {},
   "source": [
    "Let's use the above function to select the threshold that balances the accuracies."
   ]
  },
  {
   "cell_type": "code",
   "execution_count": 56,
   "metadata": {
    "collapsed": false
   },
   "outputs": [
    {
     "name": "stdout",
     "output_type": "stream",
     "text": [
      "The best threshold value for predicting positives is 0.487878787879\n",
      "This yields accuracy of 0.772805858534 sensitivity of 0.785640541253 and specificity of 0.770194223469\n"
     ]
    }
   ],
   "source": [
    "min_difference = 1\n",
    "best_threshold = 0\n",
    "best_result = 0.0,0.0,0.0\n",
    "for thresh in np.linspace(0.45, 0.5, num=100):\n",
    "    output =  get_model_performance(turnout_model, train_data, thresh, 'target', 'Y')\n",
    "    difference = output[1]-output[2]\n",
    "    if abs(difference) < min_difference:\n",
    "        min_difference = abs(difference)\n",
    "        best_threshold = thresh\n",
    "        best_result = output\n",
    "print \"The best threshold value for predicting positives is \" + str(best_threshold)  \n",
    "print \"This yields accuracy of \" + str(best_result[0]) + \" sensitivity of \" + str(best_result[1]) + \" and specificity of \" + str(best_result[2])\n",
    "threshold_to_use = best_threshold  "
   ]
  },
  {
   "cell_type": "markdown",
   "metadata": {
    "collapsed": true
   },
   "source": [
    "We now have a good model.  To summarize:\n",
    "\n",
    "Accuracy of correctly predicting voters that will vote: 79%\n",
    "\n",
    "Accuracy of correctly predicting voters that will not vote: 77%\n",
    "\n",
    "If model probability score < 0.488 then predict \"Will not vote\"\n",
    "\n",
    "Else (probability score > 0.488) predict \"Will vote\"\n",
    "\n",
    "This model can be combined with 'status_cd' = 'I' ----> \"Will not vote\"  to make final predictions."
   ]
  },
  {
   "cell_type": "markdown",
   "metadata": {},
   "source": [
    "Let's explore the coefficients to determine the influence each has on the model."
   ]
  },
  {
   "cell_type": "code",
   "execution_count": 57,
   "metadata": {
    "collapsed": false
   },
   "outputs": [
    {
     "name": "stdout",
     "output_type": "stream",
     "text": [
      "+---------------+--------------+-------+------------------+-----------------+\n",
      "|      name     |    index     | class |      value       |      stderr     |\n",
      "+---------------+--------------+-------+------------------+-----------------+\n",
      "|  (intercept)  |     None     |   Y   |  -2.14075112037  |   7.9265846811  |\n",
      "| congressional |      Y       |   Y   |  0.859944421914  | 0.0198984970322 |\n",
      "| congressional |      N       |   Y   | -0.847431962115  | 0.0207891181476 |\n",
      "|     local     |      N       |   Y   | -0.443263932581  | 0.0178110335079 |\n",
      "|     local     |      Y       |   Y   |  1.84206357206   | 0.0185934806385 |\n",
      "|  presidential |      Y       |   Y   |  0.345722065867  | 0.0170247357358 |\n",
      "|  presidential |      N       |   Y   | -0.245998258174  |  0.02459794445  |\n",
      "|  county_desc  |   ALAMANCE   |   Y   |  1.04003369759   |  7.92664002797  |\n",
      "|  county_desc  |    AVERY     |   Y   |  3.37725713656   |  7.92748526281  |\n",
      "|  county_desc  |  ALEXANDER   |   Y   |  0.937905062256  |  7.92849992013  |\n",
      "|  county_desc  |     ASHE     |   Y   |  1.24904383571   |   7.9278817154  |\n",
      "|  county_desc  |    ANSON     |   Y   |  0.873701366233  |  7.92707276492  |\n",
      "|  county_desc  |   BEAUFORT   |   Y   |  1.82013023623   |  7.92680432609  |\n",
      "|  county_desc  | MECKLENBURG  |   Y   |  1.33040624897   |   7.9266005441  |\n",
      "|  county_desc  |  RUTHERFORD  |   Y   |  1.74753447818   |  7.92676937055  |\n",
      "|  county_desc  |   SAMPSON    |   Y   |  1.21407600401   |  7.92688996814  |\n",
      "|  county_desc  |    ROWAN     |   Y   |  1.38962672688   |  7.92666061054  |\n",
      "|  county_desc  |    STOKES    |   Y   |  1.65987551133   |  7.92695661833  |\n",
      "|  county_desc  |    SURRY     |   Y   |  1.69194034164   |  7.92678739801  |\n",
      "|  county_desc  |    STANLY    |   Y   |  1.14190358245   |  7.92672155156  |\n",
      "|  county_desc  |    SWAIN     |   Y   |  2.33085201075   |  7.92880575237  |\n",
      "|  county_desc  |   SCOTLAND   |   Y   |  2.41985275752   |  7.92675069206  |\n",
      "|  county_desc  |    UNION     |   Y   |  1.03681814832   |  7.92662429256  |\n",
      "|  county_desc  | TRANSYLVANIA |   Y   | -0.114251341722  |  7.92714046731  |\n",
      "|  county_desc  |   FORSYTH    |   Y   |  -1.30434255273  |  7.92663247872  |\n",
      "|  county_desc  |   TYRRELL    |   Y   |  3.16319233423   |  7.93157410983  |\n",
      "|  county_desc  |     WAKE     |   Y   |  0.490412962858  |  7.92660158837  |\n",
      "|  county_desc  |   FRANKLIN   |   Y   |   1.9297005753   |  7.92699184591  |\n",
      "|  county_desc  |    VANCE     |   Y   |  2.30571522124   |  7.92679422988  |\n",
      "|  county_desc  |    GASTON    |   Y   |  1.54382458349   |  7.92662311275  |\n",
      "|  county_desc  |  GRANVILLE   |   Y   |  1.51179798067   |   7.9267608506  |\n",
      "|  county_desc  |   GUILFORD   |   Y   |  0.464839990872  |   7.9266084284  |\n",
      "|  county_desc  |    GRAHAM    |   Y   |  0.527790674916  |  7.93282621632  |\n",
      "|  county_desc  |    GATES     |   Y   |  -12.1493600849  |  127.858686163  |\n",
      "|  county_desc  |    GREENE    |   Y   |  1.92072458676   |  7.92802051946  |\n",
      "|  county_desc  |    MOORE     |   Y   |  1.02549109443   |  7.92663291829  |\n",
      "|  county_desc  |  MONTGOMERY  |   Y   |  1.73175116901   |  7.92710986708  |\n",
      "|  county_desc  |   MITCHELL   |   Y   |  3.16123640134   |  7.92763091258  |\n",
      "|  county_desc  |     NASH     |   Y   |  1.51083093944   |  7.92664840318  |\n",
      "|  county_desc  |   HALIFAX    |   Y   |   1.0334476493   |  7.92675428335  |\n",
      "|  county_desc  | NEW HANOVER  |   Y   |  0.906369702418  |  7.92662715481  |\n",
      "|  county_desc  |   HARNETT    |   Y   |  1.52672756052   |  7.92675490398  |\n",
      "|  county_desc  |    ONSLOW    |   Y   |  0.245137862419  |  7.92672762183  |\n",
      "|  county_desc  |   HAYWOOD    |   Y   |  2.46254815087   |  7.92674653585  |\n",
      "|  county_desc  | NORTHAMPTON  |   Y   |  2.16860234652   |  7.92707927288  |\n",
      "|  county_desc  |  HENDERSON   |   Y   |  0.363685619389  |  7.92672200697  |\n",
      "|  county_desc  |   HERTFORD   |   Y   |  2.21848315047   |  7.92699312641  |\n",
      "|  county_desc  |    ORANGE    |   Y   |  1.87490649204   |  7.92663076203  |\n",
      "|  county_desc  |   IREDELL    |   Y   |  0.55844240059   |  7.92667243806  |\n",
      "|  county_desc  |     HOKE     |   Y   |  2.65333296728   |  7.92726334462  |\n",
      "|  county_desc  |  PASQUOTANK  |   Y   |  1.93488952572   |  7.92680736186  |\n",
      "|  county_desc  |   PAMLICO    |   Y   |  1.44865234941   |  7.92712159088  |\n",
      "|  county_desc  |   JACKSON    |   Y   |  0.849807141411  |  7.92740225872  |\n",
      "|  county_desc  |    PENDER    |   Y   |  1.72732099276   |  7.92705750642  |\n",
      "|  county_desc  |    PERSON    |   Y   |  -4.85687076613  |  7.96501438775  |\n",
      "|  county_desc  |   JOHNSTON   |   Y   |   1.1356618985   |  7.92667604099  |\n",
      "|  county_desc  |    JONES     |   Y   |  0.340138192493  |  7.92941110584  |\n",
      "|  county_desc  |     LEE      |   Y   |  0.421069664049  |  7.92678888155  |\n",
      "|  county_desc  |     PITT     |   Y   |  1.61271521845   |  7.92662881373  |\n",
      "|  county_desc  |   LINCOLN    |   Y   |  1.83722851879   |  7.92697235441  |\n",
      "|  county_desc  |  PERQUIMANS  |   Y   |  1.34687478105   |  7.92807292812  |\n",
      "|  county_desc  |    LENOIR    |   Y   |  1.76331538714   |   7.926726035   |\n",
      "|  county_desc  |    MACON     |   Y   |  0.593111819354  |   7.9273065475  |\n",
      "|  county_desc  |   RANDOLPH   |   Y   |  0.806666525886  |  7.92668769692  |\n",
      "|  county_desc  |   MCDOWELL   |   Y   |  0.895473098767  |  7.92738107199  |\n",
      "|  county_desc  |   MADISON    |   Y   |  2.10418275193   |  7.92748599871  |\n",
      "|  county_desc  |    MARTIN    |   Y   |   2.8281113643   |   7.9268824055  |\n",
      "|  county_desc  |     POLK     |   Y   |  1.59782399257   |  7.92741849838  |\n",
      "|  county_desc  |    WAYNE     |   Y   |   1.9013616272   |  7.92666951644  |\n",
      "|  county_desc  |  WASHINGTON  |   Y   |   2.7749153902   |  7.92735997627  |\n",
      "|  county_desc  |   ROBESON    |   Y   |  2.88481764208   |  7.92668710391  |\n",
      "|  county_desc  |   RICHMOND   |   Y   |  0.565226072345  |  7.92684923754  |\n",
      "|  county_desc  |   WATAUGA    |   Y   | 0.0336641172902  |  7.92670071125  |\n",
      "|  county_desc  |    WARREN    |   Y   |  2.03589368258   |   7.9281381804  |\n",
      "|  county_desc  |  ROCKINGHAM  |   Y   |  0.875677793233  |  7.92670320714  |\n",
      "|  county_desc  |    WILSON    |   Y   |  1.85239601853   |  7.92664809405  |\n",
      "|  county_desc  |    WILKES    |   Y   |  2.24899279109   |  7.92704612365  |\n",
      "|  county_desc  |    BERTIE    |   Y   |  1.44672301088   |  7.92722689277  |\n",
      "|  county_desc  |    BLADEN    |   Y   |  1.85883425278   |  7.92695776159  |\n",
      "|  county_desc  |  ALLEGHANY   |   Y   |   1.1109638783   |  7.92875189119  |\n",
      "|  county_desc  |  BRUNSWICK   |   Y   |  2.12212200978   |   7.9266344832  |\n",
      "|  county_desc  |    YADKIN    |   Y   |  0.375049213984  |  7.92735326074  |\n",
      "|  county_desc  |    YANCEY    |   Y   |  1.84022509981   |  7.92834274632  |\n",
      "|  county_desc  |   BUNCOMBE   |   Y   |  1.57512918345   |  7.92662299506  |\n",
      "|  county_desc  |    BURKE     |   Y   |  1.96043627734   |  7.92670899889  |\n",
      "|  county_desc  |   CABARRUS   |   Y   |  0.778348219966  |  7.92662936592  |\n",
      "|  county_desc  |   CALDWELL   |   Y   | -0.265353208736  |  7.92677792325  |\n",
      "|  county_desc  |   CARTERET   |   Y   |  1.49862416822   |   7.9266902511  |\n",
      "|  county_desc  |    CAMDEN    |   Y   |  2.14500551206   |  7.96299508219  |\n",
      "|  county_desc  |   CATAWBA    |   Y   |  0.507881871924  |  7.92666332117  |\n",
      "|  county_desc  |   CASWELL    |   Y   |  0.78636898334   |  7.92919123601  |\n",
      "|  county_desc  |   CHATHAM    |   Y   |  1.32628332471   |  7.92682264004  |\n",
      "|  county_desc  |  CLEVELAND   |   Y   |  1.74114323736   |  7.92667850617  |\n",
      "|  county_desc  |   CHEROKEE   |   Y   |  -5.29178600016  |  8.00297814882  |\n",
      "|  county_desc  |     CLAY     |   Y   |  -1.96822482496  |  7.97342486246  |\n",
      "|  county_desc  |    CHOWAN    |   Y   |  1.27680817626   |  7.92729436936  |\n",
      "|  county_desc  |    CRAVEN    |   Y   | -0.0962621040803 |  7.92669779558  |\n",
      "|  county_desc  |   COLUMBUS   |   Y   |   1.7532798381   |  7.92683361559  |\n",
      "|  county_desc  |  CUMBERLAND  |   Y   |  1.13690722028   |  7.92661888149  |\n",
      "|  county_desc  |     DARE     |   Y   |  1.59984547886   |  7.92674013383  |\n",
      "|  county_desc  |   DAVIDSON   |   Y   |  0.767814930276  |  7.92668458061  |\n",
      "|  county_desc  |    DUPLIN    |   Y   |  1.88910352499   |  7.92689927361  |\n",
      "|  county_desc  |    DAVIE     |   Y   |  2.03076766603   |  7.92690504344  |\n",
      "|  county_desc  |    DURHAM    |   Y   |  1.22948119909   |  7.92661035244  |\n",
      "|  county_desc  |  EDGECOMBE   |   Y   |  1.33278188827   |  7.92669685474  |\n",
      "+---------------+--------------+-------+------------------+-----------------+\n",
      "[105 rows x 5 columns]\n",
      "\n",
      "None\n"
     ]
    }
   ],
   "source": [
    "coeff_sf = turnout_model.coefficients\n",
    "print coeff_sf.print_rows(num_rows=200)"
   ]
  },
  {
   "cell_type": "markdown",
   "metadata": {},
   "source": [
    "By far, the factor that has the most impact on projecting turnout for an upcoming local election is whether a person voted in the last local election.  The next most meaningful factor is whether a person voted in the last congressional election.  Whether a person voted in the last presidential election has little impact on projecting turnout for the next local election.  \n",
    "\n",
    "Which county you live in in North Carolina has a large impact in whether you will vote in a local election.  That being said, county is very highly correlated with voting history.  This high correlation is demonstrated by the very small (1.6%) increase in accuracy we achieve by adding county to voting history.\n",
    "\n",
    "Let's explore the coefficients in more detail"
   ]
  },
  {
   "cell_type": "code",
   "execution_count": 58,
   "metadata": {
    "collapsed": false
   },
   "outputs": [],
   "source": [
    "turnout_model.save('turnout_model')"
   ]
  },
  {
   "cell_type": "code",
   "execution_count": 59,
   "metadata": {
    "collapsed": true
   },
   "outputs": [],
   "source": [
    "coeff_sf.save('turnout_coeff_sf')"
   ]
  },
  {
   "cell_type": "markdown",
   "metadata": {
    "collapsed": true
   },
   "source": [
    "Create a new dataframe for coefficient statistics, calculate these statistics, and add these to the dataframe.  First, create a pandas dataframe from the coefficient sframe."
   ]
  },
  {
   "cell_type": "code",
   "execution_count": 60,
   "metadata": {
    "collapsed": true
   },
   "outputs": [],
   "source": [
    "coeff_df = coeff_sf.to_dataframe()"
   ]
  },
  {
   "cell_type": "code",
   "execution_count": 61,
   "metadata": {
    "collapsed": false
   },
   "outputs": [],
   "source": [
    "import statsmodels.robust.scale as sm # for median absolute deviation (MAD)\n",
    "\n",
    "coeff_df['value'].astype('float64') # Ensure that values are float64\n",
    "coeff_statistics_df = pd.DataFrame(data=None, index=None, columns=['COEF','MIN', 'MAX', 'RANGE', 'MAD'], \n",
    "                                 dtype='float64', copy=False) # Create an empty dataframe for statistics\n",
    "names = coeff_df['name'].unique() # names has all the feature values \n",
    "# Iterate through all the features with more than 1 coeffient value (the categorical varaiabes) \n",
    "# and add statistics about the coefficient values to coeff_statistics_df\n",
    "for coeff in names:\n",
    "    df = coeff_df[coeff_df['name']== coeff]\n",
    "    if len(df) > 1:\n",
    "        new_row = pd.DataFrame([[coeff, df['value'].min(), df['value'].max(), df['value'].ptp(), \n",
    "                                 sm.mad(df['value'])]], columns=['COEF','MIN', 'MAX', 'RANGE', 'MAD']) \n",
    "                               \n",
    "        coeff_statistics_df = coeff_statistics_df.append(new_row, ignore_index=False)\n",
    "        \n",
    "coeff_statistics_df.sort_values('MAD', axis=0, ascending=False, inplace=True, \n",
    "                              kind='quicksort', na_position='last') # sort the dataframe on Median Absolute Deviation"
   ]
  },
  {
   "cell_type": "code",
   "execution_count": 62,
   "metadata": {
    "collapsed": false
   },
   "outputs": [
    {
     "name": "stdout",
     "output_type": "stream",
     "text": [
      "            COEF        MIN       MAX      RANGE       MAD\n",
      "0          local  -0.443264  1.842064   2.285328  1.694116\n",
      "0  congressional  -0.847432  0.859944   1.707376  1.265680\n",
      "0    county_desc -12.149360  3.377257  15.526617  0.781381\n",
      "0   presidential  -0.245998  0.345722   0.591720  0.438643\n"
     ]
    }
   ],
   "source": [
    "print coeff_statistics_df"
   ]
  },
  {
   "cell_type": "markdown",
   "metadata": {},
   "source": [
    "The table above supports our previous conclusions"
   ]
  },
  {
   "cell_type": "markdown",
   "metadata": {},
   "source": [
    "Let's try using a combination of county and precicnt_desc as our geographical predictor instead of just county. We create the new column first."
   ]
  },
  {
   "cell_type": "code",
   "execution_count": 63,
   "metadata": {
    "collapsed": false
   },
   "outputs": [],
   "source": [
    "model_sf['county_prec'] = model_sf['county_desc'] + model_sf['precinct_abbrv']"
   ]
  },
  {
   "cell_type": "markdown",
   "metadata": {},
   "source": [
    "Next we create the feature list"
   ]
  },
  {
   "cell_type": "code",
   "execution_count": 64,
   "metadata": {
    "collapsed": true
   },
   "outputs": [],
   "source": [
    "new_enhanced_features = ['congressional', 'local', 'presidential',  'county_prec'] "
   ]
  },
  {
   "cell_type": "code",
   "execution_count": 65,
   "metadata": {
    "collapsed": false
   },
   "outputs": [],
   "source": [
    "model_reduced = model_sf[['local', 'target', 'congressional', 'presidential', 'county_prec']]\n",
    "train_data,test_data = model_reduced.random_split(.8)"
   ]
  },
  {
   "cell_type": "code",
   "execution_count": 66,
   "metadata": {
    "collapsed": false
   },
   "outputs": [
    {
     "name": "stdout",
     "output_type": "stream",
     "text": [
      "+---------------+--------------+-------+--------------+--------+\n",
      "| congressional | county_prec  | local | presidential | target |\n",
      "+---------------+--------------+-------+--------------+--------+\n",
      "|       U       |      U       |   U   |      U       |   N    |\n",
      "|       Y       | ALAMANCE12W  |   N   |      Y       |   N    |\n",
      "|       Y       | ALAMANCE10S  |   Y   |      Y       |   N    |\n",
      "|       N       | ALAMANCE10S  |   N   |      Y       |   N    |\n",
      "|       Y       | ALAMANCE03S  |   N   |      Y       |   N    |\n",
      "|       N       | ALAMANCE12W  |   N   |      Y       |   N    |\n",
      "|       Y       | ALAMANCE12S  |   N   |      Y       |   N    |\n",
      "|       Y       | ALAMANCE126  |   N   |      Y       |   N    |\n",
      "|       Y       | ALAMANCE12E  |   N   |      Y       |   N    |\n",
      "|       N       | ALAMANCE1210 |   N   |      Y       |   N    |\n",
      "+---------------+--------------+-------+--------------+--------+\n",
      "[10 rows x 5 columns]\n",
      "\n"
     ]
    }
   ],
   "source": [
    "reference_sf = gl.SFrame({'local':'U', # create a new SFrame with 1 row and \"None\" for all categorical variables\n",
    "                    'target': 'N', \n",
    "                    'congressional': 'U', \n",
    "                    'presidential': 'U',\n",
    "                    'county_prec': 'U'})\n",
    "train_data = reference_sf.append(train_data) # append the full SFrame to the bottom of this 1 row SFrame \n",
    "print train_data.head()"
   ]
  },
  {
   "cell_type": "code",
   "execution_count": 67,
   "metadata": {
    "collapsed": false
   },
   "outputs": [
    {
     "data": {
      "text/html": [
       "<pre>Logistic regression:</pre>"
      ],
      "text/plain": [
       "Logistic regression:"
      ]
     },
     "metadata": {},
     "output_type": "display_data"
    },
    {
     "data": {
      "text/html": [
       "<pre>--------------------------------------------------------</pre>"
      ],
      "text/plain": [
       "--------------------------------------------------------"
      ]
     },
     "metadata": {},
     "output_type": "display_data"
    },
    {
     "data": {
      "text/html": [
       "<pre>Number of examples          : 2154011</pre>"
      ],
      "text/plain": [
       "Number of examples          : 2154011"
      ]
     },
     "metadata": {},
     "output_type": "display_data"
    },
    {
     "data": {
      "text/html": [
       "<pre>Number of classes           : 2</pre>"
      ],
      "text/plain": [
       "Number of classes           : 2"
      ]
     },
     "metadata": {},
     "output_type": "display_data"
    },
    {
     "data": {
      "text/html": [
       "<pre>Number of feature columns   : 4</pre>"
      ],
      "text/plain": [
       "Number of feature columns   : 4"
      ]
     },
     "metadata": {},
     "output_type": "display_data"
    },
    {
     "data": {
      "text/html": [
       "<pre>Number of unpacked features : 4</pre>"
      ],
      "text/plain": [
       "Number of unpacked features : 4"
      ]
     },
     "metadata": {},
     "output_type": "display_data"
    },
    {
     "data": {
      "text/html": [
       "<pre>Number of coefficients    : 2229</pre>"
      ],
      "text/plain": [
       "Number of coefficients    : 2229"
      ]
     },
     "metadata": {},
     "output_type": "display_data"
    },
    {
     "data": {
      "text/html": [
       "<pre>Starting Newton Method</pre>"
      ],
      "text/plain": [
       "Starting Newton Method"
      ]
     },
     "metadata": {},
     "output_type": "display_data"
    },
    {
     "data": {
      "text/html": [
       "<pre>--------------------------------------------------------</pre>"
      ],
      "text/plain": [
       "--------------------------------------------------------"
      ]
     },
     "metadata": {},
     "output_type": "display_data"
    },
    {
     "data": {
      "text/html": [
       "<pre>+-----------+----------+--------------+-------------------+---------------------+</pre>"
      ],
      "text/plain": [
       "+-----------+----------+--------------+-------------------+---------------------+"
      ]
     },
     "metadata": {},
     "output_type": "display_data"
    },
    {
     "data": {
      "text/html": [
       "<pre>| Iteration | Passes   | Elapsed Time | Training-accuracy | Validation-accuracy |</pre>"
      ],
      "text/plain": [
       "| Iteration | Passes   | Elapsed Time | Training-accuracy | Validation-accuracy |"
      ]
     },
     "metadata": {},
     "output_type": "display_data"
    },
    {
     "data": {
      "text/html": [
       "<pre>+-----------+----------+--------------+-------------------+---------------------+</pre>"
      ],
      "text/plain": [
       "+-----------+----------+--------------+-------------------+---------------------+"
      ]
     },
     "metadata": {},
     "output_type": "display_data"
    },
    {
     "data": {
      "text/html": [
       "<pre>| 1         | 2        | 14.963292    | 0.815192          | 0.814841            |</pre>"
      ],
      "text/plain": [
       "| 1         | 2        | 14.963292    | 0.815192          | 0.814841            |"
      ]
     },
     "metadata": {},
     "output_type": "display_data"
    },
    {
     "data": {
      "text/html": [
       "<pre>| 2         | 3        | 23.819433    | 0.809734          | 0.809391            |</pre>"
      ],
      "text/plain": [
       "| 2         | 3        | 23.819433    | 0.809734          | 0.809391            |"
      ]
     },
     "metadata": {},
     "output_type": "display_data"
    },
    {
     "data": {
      "text/html": [
       "<pre>| 3         | 4        | 32.883563    | 0.808103          | 0.807549            |</pre>"
      ],
      "text/plain": [
       "| 3         | 4        | 32.883563    | 0.808103          | 0.807549            |"
      ]
     },
     "metadata": {},
     "output_type": "display_data"
    },
    {
     "data": {
      "text/html": [
       "<pre>| 4         | 5        | 41.856189    | 0.808130          | 0.807564            |</pre>"
      ],
      "text/plain": [
       "| 4         | 5        | 41.856189    | 0.808130          | 0.807564            |"
      ]
     },
     "metadata": {},
     "output_type": "display_data"
    },
    {
     "data": {
      "text/html": [
       "<pre>| 5         | 6        | 50.917995    | 0.808144          | 0.807579            |</pre>"
      ],
      "text/plain": [
       "| 5         | 6        | 50.917995    | 0.808144          | 0.807579            |"
      ]
     },
     "metadata": {},
     "output_type": "display_data"
    },
    {
     "data": {
      "text/html": [
       "<pre>| 6         | 7        | 60.261033    | 0.808144          | 0.807579            |</pre>"
      ],
      "text/plain": [
       "| 6         | 7        | 60.261033    | 0.808144          | 0.807579            |"
      ]
     },
     "metadata": {},
     "output_type": "display_data"
    },
    {
     "data": {
      "text/html": [
       "<pre>| 7         | 8        | 69.408853    | 0.808144          | 0.807579            |</pre>"
      ],
      "text/plain": [
       "| 7         | 8        | 69.408853    | 0.808144          | 0.807579            |"
      ]
     },
     "metadata": {},
     "output_type": "display_data"
    },
    {
     "data": {
      "text/html": [
       "<pre>| 8         | 9        | 78.428897    | 0.808144          | 0.807579            |</pre>"
      ],
      "text/plain": [
       "| 8         | 9        | 78.428897    | 0.808144          | 0.807579            |"
      ]
     },
     "metadata": {},
     "output_type": "display_data"
    },
    {
     "data": {
      "text/html": [
       "<pre>| 9         | 10       | 87.433951    | 0.808144          | 0.807579            |</pre>"
      ],
      "text/plain": [
       "| 9         | 10       | 87.433951    | 0.808144          | 0.807579            |"
      ]
     },
     "metadata": {},
     "output_type": "display_data"
    },
    {
     "data": {
      "text/html": [
       "<pre>| 10        | 11       | 96.437068    | 0.808144          | 0.807579            |</pre>"
      ],
      "text/plain": [
       "| 10        | 11       | 96.437068    | 0.808144          | 0.807579            |"
      ]
     },
     "metadata": {},
     "output_type": "display_data"
    },
    {
     "data": {
      "text/html": [
       "<pre>| 11        | 12       | 105.460416   | 0.808144          | 0.807579            |</pre>"
      ],
      "text/plain": [
       "| 11        | 12       | 105.460416   | 0.808144          | 0.807579            |"
      ]
     },
     "metadata": {},
     "output_type": "display_data"
    },
    {
     "data": {
      "text/html": [
       "<pre>| 12        | 13       | 114.519843   | 0.808144          | 0.807579            |</pre>"
      ],
      "text/plain": [
       "| 12        | 13       | 114.519843   | 0.808144          | 0.807579            |"
      ]
     },
     "metadata": {},
     "output_type": "display_data"
    },
    {
     "data": {
      "text/html": [
       "<pre>| 13        | 14       | 123.815586   | 0.808144          | 0.807579            |</pre>"
      ],
      "text/plain": [
       "| 13        | 14       | 123.815586   | 0.808144          | 0.807579            |"
      ]
     },
     "metadata": {},
     "output_type": "display_data"
    },
    {
     "data": {
      "text/html": [
       "<pre>+-----------+----------+--------------+-------------------+---------------------+</pre>"
      ],
      "text/plain": [
       "+-----------+----------+--------------+-------------------+---------------------+"
      ]
     },
     "metadata": {},
     "output_type": "display_data"
    },
    {
     "data": {
      "text/html": [
       "<pre>SUCCESS: Optimal solution found.</pre>"
      ],
      "text/plain": [
       "SUCCESS: Optimal solution found."
      ]
     },
     "metadata": {},
     "output_type": "display_data"
    },
    {
     "data": {
      "text/html": [
       "<pre></pre>"
      ],
      "text/plain": []
     },
     "metadata": {},
     "output_type": "display_data"
    }
   ],
   "source": [
    "turnout_model = gl.logistic_classifier.create(train_data, target='target',features= new_enhanced_features, \n",
    "                                              validation_set=test_data, verbose=True, solver='newton', \n",
    "                                              class_weights='auto', max_iterations=100)"
   ]
  },
  {
   "cell_type": "code",
   "execution_count": 68,
   "metadata": {
    "collapsed": false
   },
   "outputs": [
    {
     "data": {
      "text/plain": [
       "{'accuracy': 0.8075789559749362,\n",
       " 'auc': 0.8858333549307208,\n",
       " 'confusion_matrix': Columns:\n",
       " \ttarget_label\tstr\n",
       " \tpredicted_label\tstr\n",
       " \tcount\tint\n",
       " \n",
       " Rows: 4\n",
       " \n",
       " Data:\n",
       " +--------------+-----------------+--------+\n",
       " | target_label | predicted_label | count  |\n",
       " +--------------+-----------------+--------+\n",
       " |      N       |        Y        | 85158  |\n",
       " |      Y       |        N        | 18393  |\n",
       " |      Y       |        Y        | 72219  |\n",
       " |      N       |        N        | 362378 |\n",
       " +--------------+-----------------+--------+\n",
       " [4 rows x 3 columns],\n",
       " 'f1_score': 0.5824371242272843,\n",
       " 'log_loss': 0.4291897182549305,\n",
       " 'precision': 0.4588917059036581,\n",
       " 'recall': 0.797013640577407,\n",
       " 'roc_curve': Columns:\n",
       " \tthreshold\tfloat\n",
       " \tfpr\tfloat\n",
       " \ttpr\tfloat\n",
       " \tp\tint\n",
       " \tn\tint\n",
       " \n",
       " Rows: 100001\n",
       " \n",
       " Data:\n",
       " +-----------+----------------+----------------+-------+--------+\n",
       " | threshold |      fpr       |      tpr       |   p   |   n    |\n",
       " +-----------+----------------+----------------+-------+--------+\n",
       " |    0.0    |      1.0       |      1.0       | 90612 | 447536 |\n",
       " |   1e-05   | 0.971924046334 | 0.999856531144 | 90612 | 447536 |\n",
       " |   2e-05   | 0.971792213364 | 0.999790314749 | 90612 | 447536 |\n",
       " |   3e-05   | 0.97178774445  | 0.999790314749 | 90612 | 447536 |\n",
       " |   4e-05   | 0.97178774445  | 0.999790314749 | 90612 | 447536 |\n",
       " |   5e-05   | 0.97178774445  | 0.999779278683 | 90612 | 447536 |\n",
       " |   6e-05   | 0.97178774445  | 0.999779278683 | 90612 | 447536 |\n",
       " |   7e-05   | 0.97178774445  | 0.999779278683 | 90612 | 447536 |\n",
       " |   8e-05   | 0.97178774445  | 0.999779278683 | 90612 | 447536 |\n",
       " |   9e-05   | 0.971691662794 | 0.999768242617 | 90612 | 447536 |\n",
       " +-----------+----------------+----------------+-------+--------+\n",
       " [100001 rows x 5 columns]\n",
       " Note: Only the head of the SFrame is printed.\n",
       " You can use print_rows(num_rows=m, num_columns=n) to print more rows and columns.}"
      ]
     },
     "execution_count": 68,
     "metadata": {},
     "output_type": "execute_result"
    }
   ],
   "source": [
    "turnout_model.evaluate(test_data)"
   ]
  },
  {
   "cell_type": "markdown",
   "metadata": {},
   "source": [
    "Accuracy is 80.8% for using  previous turnout + county as features vs. 80.6% using the county only model, increased slightly.  Recall that the classifier using only county performed as follows:\n",
    "\n",
    "Accuracy of correctly predicting voters that will vote: 73%\n",
    "\n",
    "Accuracy of correctly predicting voters that will not vote: 82%\n",
    "\n",
    "The new model using county + precinct performed as follows:\n",
    "\n",
    "Accuracy of correctly predicting voters that will vote: 80%\n",
    "\n",
    "Accuracy of correctly predicting voters that will not vote: 81%\n",
    "\n",
    "\n",
    "If our objective to predict voters that actually will vote, this is a significant improvement.  The new model became more accurate at predicting voters at the slight expense of the accuracy of predicting non-voters.  This is exactly what we needed.  These numbers are so close that tuning might be of limited value but we'll try it anyway to see if we can slightly improve the model\n"
   ]
  },
  {
   "cell_type": "code",
   "execution_count": 69,
   "metadata": {
    "collapsed": false
   },
   "outputs": [
    {
     "name": "stdout",
     "output_type": "stream",
     "text": [
      "The best threshold value for predicting positives is 0.489393939394\n",
      "This yields accuracy of 0.804164881238 sensitivity of 0.804322688208 and specificity of 0.804132782698\n"
     ]
    }
   ],
   "source": [
    "min_difference = 1\n",
    "best_threshold = 0\n",
    "best_result = 0.0,0.0,0.0\n",
    "for thresh in np.linspace(0.47, 0.5, num=100):\n",
    "    output =  get_model_performance(turnout_model, train_data, thresh, 'target', 'Y')\n",
    "    difference = output[1]-output[2]\n",
    "    if abs(difference) < min_difference:\n",
    "        min_difference = abs(difference)\n",
    "        best_threshold = thresh\n",
    "        best_result = output\n",
    "print \"The best threshold value for predicting positives is \" + str(best_threshold)  \n",
    "print \"This yields accuracy of \" + str(best_result[0]) + \" sensitivity of \" + str(best_result[1]) + \" and specificity of \" + str(best_result[2])\n",
    "threshold_to_use = best_threshold  "
   ]
  },
  {
   "cell_type": "markdown",
   "metadata": {},
   "source": [
    "Wow!  It looks like we hit the mark.  We'll use this new model to predict turnout for 2017 municipal elections by registered voter.  "
   ]
  },
  {
   "cell_type": "code",
   "execution_count": 70,
   "metadata": {
    "collapsed": true
   },
   "outputs": [],
   "source": [
    "coeff_sf = turnout_model.coefficients"
   ]
  },
  {
   "cell_type": "code",
   "execution_count": 71,
   "metadata": {
    "collapsed": false
   },
   "outputs": [],
   "source": [
    "turnout_model.save('enhanced_turnout_model')"
   ]
  },
  {
   "cell_type": "code",
   "execution_count": 72,
   "metadata": {
    "collapsed": true
   },
   "outputs": [],
   "source": [
    "coeff_sf.save('enhanced_turnout_coeff_sf')"
   ]
  },
  {
   "cell_type": "markdown",
   "metadata": {
    "collapsed": true
   },
   "source": [
    "Create a new dataframe for coefficient statistics, calculate these statistics, and add these to the dataframe.  First, create a pandas dataframe from the coefficient sframe."
   ]
  },
  {
   "cell_type": "code",
   "execution_count": 73,
   "metadata": {
    "collapsed": true
   },
   "outputs": [],
   "source": [
    "coeff_df = coeff_sf.to_dataframe()"
   ]
  },
  {
   "cell_type": "code",
   "execution_count": 74,
   "metadata": {
    "collapsed": false
   },
   "outputs": [],
   "source": [
    "import statsmodels.robust.scale as sm # for median absolute deviation (MAD)\n",
    "\n",
    "coeff_df['value'].astype('float64') # Ensure that values are float64\n",
    "coeff_statistics_df = pd.DataFrame(data=None, index=None, columns=['COEF','MIN', 'MAX', 'RANGE', 'MAD'], \n",
    "                                 dtype='float64', copy=False) # Create an empty dataframe for statistics\n",
    "names = coeff_df['name'].unique() # names has all the feature values \n",
    "# Iterate through all the features with more than 1 coeffient value (the categorical varaiabes) \n",
    "# and add statistics about the coefficient values to coeff_statistics_df\n",
    "for coeff in names:\n",
    "    df = coeff_df[coeff_df['name']== coeff]\n",
    "    if len(df) > 1:\n",
    "        new_row = pd.DataFrame([[coeff, df['value'].min(), df['value'].max(), df['value'].ptp(), \n",
    "                                 sm.mad(df['value'])]], columns=['COEF','MIN', 'MAX', 'RANGE', 'MAD']) \n",
    "                               \n",
    "        coeff_statistics_df = coeff_statistics_df.append(new_row, ignore_index=False)\n",
    "        \n",
    "coeff_statistics_df.sort_values('MAD', axis=0, ascending=False, inplace=True, \n",
    "                              kind='quicksort', na_position='last') # sort the dataframe on Median Absolute Deviation"
   ]
  },
  {
   "cell_type": "code",
   "execution_count": 75,
   "metadata": {
    "collapsed": false
   },
   "outputs": [
    {
     "name": "stdout",
     "output_type": "stream",
     "text": [
      "            COEF        MIN       MAX      RANGE       MAD\n",
      "0          local  -0.483707  1.892583   2.376290  1.761546\n",
      "0  congressional  -0.859728  0.904866   1.764594  1.308095\n",
      "0    county_prec -13.310620  5.666729  18.977349  1.041924\n",
      "0   presidential  -0.239070  0.393148   0.632218  0.468664\n"
     ]
    }
   ],
   "source": [
    "print coeff_statistics_df"
   ]
  },
  {
   "cell_type": "markdown",
   "metadata": {},
   "source": [
    "Let's compare the above to the previous model.  The MAD for local, congressional, and presidential previous participation is pretty much unchanged.  The MAD for county_prec is significantly higher than county alone.  This tells us that adding precinct to the county give us meaningful information as to turnout probability.  That being said, we need to be careful; county_prec is still highly correlated with the turnout information so we need to use this information carefully.  In other words, in specific precincts, there may be no real person that actually voted in the last 3 elections so if we were to model hypothetical people assuming 100% turnout in these last 3 elections our predictions would probably be off.  \n",
    "\n",
    "One final thought.  Municipal elections are very different from each other.  Some elections have no competitive races most years.  Other elections may be competitive some years and not competitive other years.  Statewide analyses and predictions are of limited use.  To most accurately model local elections, modeling needs to done for each unique municipality considering the specific circumstances of each election. I would suggest these be done a county at a time for each municipality in a county.  These models could be combined with the political preference model to help identify specific voters that have specific turnout probabilities combined with specific political leanings.  These voters could be contacted for focus groups and surveys for use in journalistic projects.   "
   ]
  }
 ],
 "metadata": {
  "celltoolbar": "Raw Cell Format",
  "kernelspec": {
   "display_name": "Python 2",
   "language": "python",
   "name": "python2"
  },
  "language_info": {
   "codemirror_mode": {
    "name": "ipython",
    "version": 2
   },
   "file_extension": ".py",
   "mimetype": "text/x-python",
   "name": "python",
   "nbconvert_exporter": "python",
   "pygments_lexer": "ipython2",
   "version": "2.7.13"
  }
 },
 "nbformat": 4,
 "nbformat_minor": 0
}
