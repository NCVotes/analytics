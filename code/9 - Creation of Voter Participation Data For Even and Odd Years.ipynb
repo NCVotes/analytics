{
 "cells": [
  {
   "cell_type": "markdown",
   "metadata": {},
   "source": [
    "##  We're going to load the turnout data, flatten it, and add it to key demographic data to create a comprehensive database table for query and predictions.  \n",
    "\n",
    "### We will consider that a person has 'voted' if they voted in any election in an odd year and the November general election in an even year\n"
   ]
  },
  {
   "cell_type": "code",
   "execution_count": 1,
   "metadata": {
    "collapsed": false
   },
   "outputs": [],
   "source": [
    "#First set everthing up\n",
    "import pyodbc\n",
    "import graphlab as gl\n",
    "import pandas as pd\n",
    "import matplotlib.pyplot as plt\n",
    "import numpy as np\n",
    "import datetime\n",
    "import local #server information and credentials\n",
    "from pullODBC import pullODBC\n",
    "from pullODBCall import pullODBCall\n",
    "from matplotlib.backends.backend_pdf import PdfPages\n",
    "from __future__ import division # convert integer division to floating point\n",
    "%matplotlib inline\n",
    "plt.style.use('seaborn-white')\n",
    "plt.rcParams['font.size'] = 7\n",
    "plt.tight_layout;\n",
    "plt.rc('xtick', labelsize=7) \n",
    "plt.rc('ytick', labelsize=7) "
   ]
  },
  {
   "cell_type": "markdown",
   "metadata": {},
   "source": [
    "### Section A: Extracting Voter History Data for each Registered Voter"
   ]
  },
  {
   "cell_type": "markdown",
   "metadata": {},
   "source": [
    "Read in voter history from a csv file"
   ]
  },
  {
   "cell_type": "code",
   "execution_count": 2,
   "metadata": {
    "collapsed": false
   },
   "outputs": [],
   "source": [
    "history=pd.read_csv('history.csv')"
   ]
  },
  {
   "cell_type": "markdown",
   "metadata": {},
   "source": [
    "Convert all columns to string"
   ]
  },
  {
   "cell_type": "code",
   "execution_count": 3,
   "metadata": {
    "collapsed": false
   },
   "outputs": [],
   "source": [
    "for col in history.columns:\n",
    "    history[col]= history[col].apply(str)"
   ]
  },
  {
   "cell_type": "markdown",
   "metadata": {},
   "source": [
    "Get rid of all the double quotes from the dataframe"
   ]
  },
  {
   "cell_type": "code",
   "execution_count": 4,
   "metadata": {
    "collapsed": false
   },
   "outputs": [
    {
     "name": "stdout",
     "output_type": "stream",
     "text": [
      "   Unnamed: 0      ncid election_lbl county_desc\n",
      "0           0   AA10737   11/03/2015    ALAMANCE\n",
      "1           1   AA10737   11/05/2013    ALAMANCE\n",
      "2           2   AA10737   05/06/2008    ALAMANCE\n",
      "3           3   AA10737   11/04/2008    ALAMANCE\n",
      "4           4   AA10737   10/09/2007    ALAMANCE\n",
      "5           5   AA10737   11/08/2011    ALAMANCE\n",
      "6           6   AA10737   11/04/2014    ALAMANCE\n",
      "7           7  AA107373   11/04/2014    ALAMANCE\n",
      "8           8  AA107373   11/06/2007    ALAMANCE\n",
      "9           9  AA107373   11/02/2010    ALAMANCE\n",
      "10         10  AA107373   11/08/2016    ALAMANCE\n",
      "11         11  AA107373   03/15/2016    ALAMANCE\n",
      "12         12  AA107373   11/04/2008    ALAMANCE\n",
      "13         13  AA107373   11/06/2012    ALAMANCE\n",
      "14         14  AA107373   05/08/2012    ALAMANCE\n"
     ]
    }
   ],
   "source": [
    "history.columns = history.columns.str.strip('\"')\n",
    "for i, col in enumerate(history.columns):\n",
    "    history.iloc[:, i] = history.iloc[:, i].str.replace('\"', '')\n",
    "print history.head(n=15)"
   ]
  },
  {
   "cell_type": "markdown",
   "metadata": {},
   "source": [
    "Drop the junk column"
   ]
  },
  {
   "cell_type": "code",
   "execution_count": 5,
   "metadata": {
    "collapsed": false
   },
   "outputs": [],
   "source": [
    "history = history.drop(['Unnamed: 0'], axis=1)"
   ]
  },
  {
   "cell_type": "markdown",
   "metadata": {},
   "source": [
    "Save the total number of rows to raw_len and print"
   ]
  },
  {
   "cell_type": "code",
   "execution_count": 6,
   "metadata": {
    "collapsed": false
   },
   "outputs": [
    {
     "name": "stdout",
     "output_type": "stream",
     "text": [
      "The number of rows pulled from the database is 32482836\n"
     ]
    }
   ],
   "source": [
    "raw_len=len(history)\n",
    "print \"The number of rows pulled from the database is \" + str(raw_len)"
   ]
  },
  {
   "cell_type": "markdown",
   "metadata": {},
   "source": [
    "Create a generic function to change blank fields to NaN for all categorical fields "
   ]
  },
  {
   "cell_type": "code",
   "execution_count": 7,
   "metadata": {
    "collapsed": true
   },
   "outputs": [],
   "source": [
    "def fix_blanks_NaN(x):\n",
    "    if x == \"\":\n",
    "        return np.nan\n",
    "    elif x == \" \":\n",
    "        return np.nan\n",
    "    else:\n",
    "        return x"
   ]
  },
  {
   "cell_type": "code",
   "execution_count": 8,
   "metadata": {
    "collapsed": false
   },
   "outputs": [],
   "source": [
    "history['election_lbl'] = history['election_lbl'].apply(fix_blanks_NaN) # change blanks to NaN\n",
    "history['ncid'] = history['ncid'].apply(fix_blanks_NaN) # etc.\n",
    "history['county_desc'] = history['county_desc'].apply(fix_blanks_NaN) # etc."
   ]
  },
  {
   "cell_type": "markdown",
   "metadata": {},
   "source": [
    "Clean the data by dropping rows with missing data and print a summary"
   ]
  },
  {
   "cell_type": "code",
   "execution_count": 9,
   "metadata": {
    "collapsed": false
   },
   "outputs": [
    {
     "name": "stdout",
     "output_type": "stream",
     "text": [
      "The number of rows I have dropped is 0\n",
      "The number of rows remaining in the database is 32482836\n",
      "The precentage of rows that I have dropped is: 0.000%\n"
     ]
    }
   ],
   "source": [
    "history.dropna(inplace=True, how='any') #drop all rows with NaN\n",
    "clean_len=len(history) #how many rows to I have left?\n",
    "difference = raw_len - clean_len #how many rows have I dropped?\n",
    "fraction = float(difference)/float(raw_len) #what fraction of rows have I dropped?\n",
    "print \"The number of rows I have dropped is \" + str(difference) \n",
    "print \"The number of rows remaining in the database is \" + str(clean_len)\n",
    "print \"The precentage of rows that I have dropped is: \" + str('{:.3%}'.format(fraction))"
   ]
  },
  {
   "cell_type": "markdown",
   "metadata": {},
   "source": [
    "We need to flatten the database to a single row per NCID and massage the data"
   ]
  },
  {
   "cell_type": "markdown",
   "metadata": {},
   "source": [
    "For local elections, election dates vary across the state in all odd numbered years.  In fact, many candidates run unopposed in the general election, so the primary election is more meaningfull.  Previously, we had only looked at elections held on election day in November.  For local elections, we will consider that a registered voter 'voted' if he voted in any election in odd numbered years.  So, the code below provides a marker of '1' if the voter voted at all in a year, '0' if that voter did not participate in any election that year."
   ]
  },
  {
   "cell_type": "markdown",
   "metadata": {},
   "source": [
    "In order to do this, we need to create a custom aggfunc that works on a pandas series and returns '1' if then length of that series is not equal to zero, and returns a '0' if the length of that series is equal to zero."
   ]
  },
  {
   "cell_type": "code",
   "execution_count": 10,
   "metadata": {
    "collapsed": true
   },
   "outputs": [],
   "source": [
    "def not_zero_len(x):\n",
    "    if len(x) != 0:\n",
    "        return 1\n",
    "    else:\n",
    "        return 0"
   ]
  },
  {
   "cell_type": "markdown",
   "metadata": {},
   "source": [
    "Let's create the new column 'year' that contains the year of the vote"
   ]
  },
  {
   "cell_type": "code",
   "execution_count": 11,
   "metadata": {
    "collapsed": false
   },
   "outputs": [],
   "source": [
    "history['year'] = history['election_lbl'].str[-4:]"
   ]
  },
  {
   "cell_type": "code",
   "execution_count": 12,
   "metadata": {
    "collapsed": false
   },
   "outputs": [
    {
     "name": "stdout",
     "output_type": "stream",
     "text": [
      "      ncid election_lbl county_desc  year\n",
      "0  AA10737   11/03/2015    ALAMANCE  2015\n",
      "1  AA10737   11/05/2013    ALAMANCE  2013\n",
      "2  AA10737   05/06/2008    ALAMANCE  2008\n",
      "3  AA10737   11/04/2008    ALAMANCE  2008\n",
      "4  AA10737   10/09/2007    ALAMANCE  2007\n"
     ]
    }
   ],
   "source": [
    "print history.head()"
   ]
  },
  {
   "cell_type": "markdown",
   "metadata": {},
   "source": [
    "Now we create a function that returns 'True' if the input number is even, 'False' if it is odd"
   ]
  },
  {
   "cell_type": "code",
   "execution_count": 13,
   "metadata": {
    "collapsed": true
   },
   "outputs": [],
   "source": [
    "def is_even(x):\n",
    "    if (x%2 == 0): \n",
    "        return True\n",
    "    else: \n",
    "        return False"
   ]
  },
  {
   "cell_type": "markdown",
   "metadata": {},
   "source": [
    "Next, we create a new column containing 'True' for even years, 'False' for odd years"
   ]
  },
  {
   "cell_type": "code",
   "execution_count": 14,
   "metadata": {
    "collapsed": false
   },
   "outputs": [],
   "source": [
    "history['even'] = history['year'].astype(int).apply(is_even)"
   ]
  },
  {
   "cell_type": "code",
   "execution_count": 15,
   "metadata": {
    "collapsed": false
   },
   "outputs": [
    {
     "name": "stdout",
     "output_type": "stream",
     "text": [
      "        ncid election_lbl county_desc  year   even\n",
      "0    AA10737   11/03/2015    ALAMANCE  2015  False\n",
      "1    AA10737   11/05/2013    ALAMANCE  2013  False\n",
      "2    AA10737   05/06/2008    ALAMANCE  2008   True\n",
      "3    AA10737   11/04/2008    ALAMANCE  2008   True\n",
      "4    AA10737   10/09/2007    ALAMANCE  2007  False\n",
      "5    AA10737   11/08/2011    ALAMANCE  2011  False\n",
      "6    AA10737   11/04/2014    ALAMANCE  2014   True\n",
      "7   AA107373   11/04/2014    ALAMANCE  2014   True\n",
      "8   AA107373   11/06/2007    ALAMANCE  2007  False\n",
      "9   AA107373   11/02/2010    ALAMANCE  2010   True\n",
      "10  AA107373   11/08/2016    ALAMANCE  2016   True\n",
      "11  AA107373   03/15/2016    ALAMANCE  2016   True\n",
      "12  AA107373   11/04/2008    ALAMANCE  2008   True\n",
      "13  AA107373   11/06/2012    ALAMANCE  2012   True\n",
      "14  AA107373   05/08/2012    ALAMANCE  2012   True\n",
      "15  AA107373   07/17/2012    ALAMANCE  2012   True\n",
      "16  AA107373   05/06/2008    ALAMANCE  2008   True\n",
      "17  AA107373   05/04/2010    ALAMANCE  2010   True\n",
      "18  AA107380   11/04/2008    GUILFORD  2008   True\n",
      "19  AA107380   11/06/2012    GUILFORD  2012   True\n",
      "20  AA107382   11/02/2010    ALAMANCE  2010   True\n",
      "21  AA107382   11/06/2012    ALAMANCE  2012   True\n",
      "22  AA107382   05/08/2012    ALAMANCE  2012   True\n",
      "23  AA107382   11/08/2016    ALAMANCE  2016   True\n",
      "24  AA107382   03/15/2016    ALAMANCE  2016   True\n",
      "25  AA107382   11/04/2008    ALAMANCE  2008   True\n",
      "26  AA107382   11/04/2014    ALAMANCE  2014   True\n",
      "27  AA107383   11/02/2010     IREDELL  2010   True\n",
      "28  AA107383   11/04/2008     IREDELL  2008   True\n",
      "29  AA107383   05/06/2008     IREDELL  2008   True\n",
      "30  AA107383   11/08/2016     IREDELL  2016   True\n",
      "31  AA107384   05/04/2010    ALAMANCE  2010   True\n",
      "32  AA107384   11/04/2014    ALAMANCE  2014   True\n",
      "33  AA107384   05/06/2014    ALAMANCE  2014   True\n",
      "34  AA107384   11/02/2010    ALAMANCE  2010   True\n",
      "35  AA107384   11/04/2008    ALAMANCE  2008   True\n",
      "36  AA107384   11/06/2012    ALAMANCE  2012   True\n",
      "37  AA107384   05/08/2012    ALAMANCE  2012   True\n",
      "38  AA107385   11/04/2008    ALAMANCE  2008   True\n",
      "39  AA107385   11/04/2014    ALAMANCE  2014   True\n",
      "40  AA107387   11/02/2010    ALAMANCE  2010   True\n",
      "41  AA107387   11/08/2016    ALAMANCE  2016   True\n",
      "42  AA107387   03/15/2016    ALAMANCE  2016   True\n",
      "43  AA107387   11/06/2012    ALAMANCE  2012   True\n",
      "44  AA107392   11/02/2010    ALAMANCE  2010   True\n",
      "45  AA107392   11/03/2009    ALAMANCE  2009  False\n",
      "46  AA107392   11/06/2012    ALAMANCE  2012   True\n",
      "47  AA107392   05/08/2012    ALAMANCE  2012   True\n",
      "48  AA107392   11/04/2014    ALAMANCE  2014   True\n",
      "49  AA107392   05/06/2014    ALAMANCE  2014   True\n"
     ]
    }
   ],
   "source": [
    "print history.head(n=50)"
   ]
  },
  {
   "cell_type": "markdown",
   "metadata": {
    "collapsed": true
   },
   "source": [
    "Now, let's split history into two dataframes, one for even years and one for odd years"
   ]
  },
  {
   "cell_type": "code",
   "execution_count": 16,
   "metadata": {
    "collapsed": false
   },
   "outputs": [],
   "source": [
    "history_even = history[history['even']]\n",
    "history_odd = history[~history['even']]"
   ]
  },
  {
   "cell_type": "code",
   "execution_count": 17,
   "metadata": {
    "collapsed": false
   },
   "outputs": [
    {
     "name": "stdout",
     "output_type": "stream",
     "text": [
      "0.10631704079\n"
     ]
    }
   ],
   "source": [
    "print len(history_odd)/(len(history_odd)+len(history_even))"
   ]
  },
  {
   "cell_type": "code",
   "execution_count": 18,
   "metadata": {
    "collapsed": false
   },
   "outputs": [
    {
     "name": "stdout",
     "output_type": "stream",
     "text": [
      "         ncid election_lbl county_desc  year   even\n",
      "0     AA10737   11/03/2015    ALAMANCE  2015  False\n",
      "1     AA10737   11/05/2013    ALAMANCE  2013  False\n",
      "4     AA10737   10/09/2007    ALAMANCE  2007  False\n",
      "5     AA10737   11/08/2011    ALAMANCE  2011  False\n",
      "8    AA107373   11/06/2007    ALAMANCE  2007  False\n",
      "45   AA107392   11/03/2009    ALAMANCE  2009  False\n",
      "50   AA107392   10/06/2015    ALAMANCE  2015  False\n",
      "52   AA107392   11/03/2015    ALAMANCE  2015  False\n",
      "69   AA107397   11/08/2011    ALAMANCE  2011  False\n",
      "72   AA107397   11/03/2015    ALAMANCE  2015  False\n",
      "89    AA10740   10/09/2007    ALAMANCE  2007  False\n",
      "92    AA10740   10/06/2009    ALAMANCE  2009  False\n",
      "94    AA10740   11/06/2007    ALAMANCE  2007  False\n",
      "97    AA10740   11/03/2009    ALAMANCE  2009  False\n",
      "98    AA10740   11/03/2015    ALAMANCE  2015  False\n",
      "99    AA10740   11/05/2013    ALAMANCE  2013  False\n",
      "100   AA10740   11/08/2011    ALAMANCE  2011  False\n",
      "123  AA107410   11/08/2011    ALAMANCE  2011  False\n",
      "140   AA10743   11/03/2009    GUILFORD  2009  False\n",
      "154  AA107432   11/03/2009    ALAMANCE  2009  False\n"
     ]
    }
   ],
   "source": [
    "print history_odd.head(n=20)"
   ]
  },
  {
   "cell_type": "code",
   "execution_count": 19,
   "metadata": {
    "collapsed": true
   },
   "outputs": [],
   "source": [
    "del history # we no longer need the full 'history' dataframe"
   ]
  },
  {
   "cell_type": "markdown",
   "metadata": {},
   "source": [
    "For even year elections, eliminate all records not in November"
   ]
  },
  {
   "cell_type": "code",
   "execution_count": 20,
   "metadata": {
    "collapsed": true
   },
   "outputs": [],
   "source": [
    "history_even = history_even[history_even['election_lbl'].astype(str).str[0:2]=='11']"
   ]
  },
  {
   "cell_type": "code",
   "execution_count": 21,
   "metadata": {
    "collapsed": false
   },
   "outputs": [
    {
     "name": "stdout",
     "output_type": "stream",
     "text": [
      "        ncid election_lbl county_desc  year  even\n",
      "3    AA10737   11/04/2008    ALAMANCE  2008  True\n",
      "6    AA10737   11/04/2014    ALAMANCE  2014  True\n",
      "7   AA107373   11/04/2014    ALAMANCE  2014  True\n",
      "9   AA107373   11/02/2010    ALAMANCE  2010  True\n",
      "10  AA107373   11/08/2016    ALAMANCE  2016  True\n"
     ]
    }
   ],
   "source": [
    "print history_even.head()"
   ]
  },
  {
   "cell_type": "code",
   "execution_count": 22,
   "metadata": {
    "collapsed": false
   },
   "outputs": [
    {
     "name": "stdout",
     "output_type": "stream",
     "text": [
      "       ncid election_lbl county_desc  year   even\n",
      "0   AA10737   11/03/2015    ALAMANCE  2015  False\n",
      "1   AA10737   11/05/2013    ALAMANCE  2013  False\n",
      "4   AA10737   10/09/2007    ALAMANCE  2007  False\n",
      "5   AA10737   11/08/2011    ALAMANCE  2011  False\n",
      "8  AA107373   11/06/2007    ALAMANCE  2007  False\n"
     ]
    }
   ],
   "source": [
    "print history_odd.head()"
   ]
  },
  {
   "cell_type": "markdown",
   "metadata": {},
   "source": [
    "Now, let's use pandas pivot table technology to flatten the history file for even year elections"
   ]
  },
  {
   "cell_type": "code",
   "execution_count": 23,
   "metadata": {
    "collapsed": false
   },
   "outputs": [],
   "source": [
    "elections_by_ncid = pd.pivot_table(history_even[['ncid','year']], index=['ncid'],  \n",
    "                                 aggfunc=len, columns='year', margins = False) # create a pivot table\n",
    "elections_flattened_even = pd.DataFrame(elections_by_ncid.to_records()) # convert the pivot table to a dataframe\n",
    "cols = elections_flattened_even.columns # get an index object with all the column names\n",
    "cols = cols.delete(0) # remove the first column name 'ncid' since I don't want to rename this\n",
    "elections_flattened_even.fillna(value=0, method=None, axis=None, inplace=True, limit=None, downcast=None) # replace NaN with 0\n",
    "elections_flattened_even[cols] = elections_flattened_even[cols].astype(int)# convert values to integers\n",
    "elections_flattened_even = elections_flattened_even.reindex_axis(sorted(elections_flattened_even.columns), axis=1) # sort the columns by year"
   ]
  },
  {
   "cell_type": "code",
   "execution_count": 24,
   "metadata": {
    "collapsed": false
   },
   "outputs": [
    {
     "name": "stdout",
     "output_type": "stream",
     "text": [
      "   2008  2010  2012  2014  2016  2018      ncid\n",
      "0     1     0     0     0     1     0  AA100000\n",
      "1     1     1     1     1     1     0  AA100006\n",
      "2     1     1     1     1     1     0  AA100007\n",
      "3     1     0     1     0     0     0  AA100008\n",
      "4     1     1     1     1     1     0  AA100009\n"
     ]
    }
   ],
   "source": [
    "print elections_flattened_even.head()"
   ]
  },
  {
   "cell_type": "markdown",
   "metadata": {},
   "source": [
    "Now, let's use pandas pivot table technology to flatten the history file for odd year elections"
   ]
  },
  {
   "cell_type": "markdown",
   "metadata": {},
   "source": [
    "First, we keep the aggfunc as 'len' so the output is the number of elections voted in each year"
   ]
  },
  {
   "cell_type": "code",
   "execution_count": 25,
   "metadata": {
    "collapsed": true
   },
   "outputs": [],
   "source": [
    "elections_by_ncid = pd.pivot_table(history_odd[['ncid','year']], index=['ncid'],  \n",
    "                                 aggfunc=len, columns='year', margins = False) # create a pivot table\n",
    "elections_flattened_odd = pd.DataFrame(elections_by_ncid.to_records()) # convert the pivot table to a dataframe\n",
    "cols = elections_flattened_odd.columns # get an index object with all the column names\n",
    "cols = cols.delete(0) # remove the first column name 'ncid' since I don't want to rename this\n",
    "elections_flattened_odd.fillna(value=0, method=None, axis=None, inplace=True, limit=None, downcast=None) # replace NaN with 0\n",
    "elections_flattened_odd[cols] = elections_flattened_odd[cols].astype(int)# convert values to integers\n",
    "elections_flattened_odd = elections_flattened_odd.reindex_axis(sorted(elections_flattened_odd.columns), axis=1) # sort the columns by year"
   ]
  },
  {
   "cell_type": "code",
   "execution_count": 26,
   "metadata": {
    "collapsed": false
   },
   "outputs": [
    {
     "name": "stdout",
     "output_type": "stream",
     "text": [
      "   2007  2009  2011  2013  2015      ncid\n",
      "0     0     0     1     0     0  AA100007\n",
      "1     2     1     1     0     0   AA10001\n",
      "2     0     1     0     0     0  AA100023\n",
      "3     0     0     0     1     1  AA100062\n",
      "4     0     0     0     1     1  AA100074\n",
      "5     0     0     1     1     0  AA100095\n",
      "6     1     0     0     0     0  AA100110\n",
      "7     2     1     1     0     1  AA100140\n",
      "8     2     0     0     0     1   AA10016\n",
      "9     1     0     0     0     0  AA100166\n"
     ]
    }
   ],
   "source": [
    "print elections_flattened_odd.head(n=10)"
   ]
  },
  {
   "cell_type": "markdown",
   "metadata": {},
   "source": [
    "Next, we set the aggfunc to 'not_zero_len'  so the output is '1' if voted in any election that year, '0' if not voted in any elections that year"
   ]
  },
  {
   "cell_type": "code",
   "execution_count": 27,
   "metadata": {
    "collapsed": true
   },
   "outputs": [],
   "source": [
    "elections_by_ncid = pd.pivot_table(history_odd[['ncid','year']], index=['ncid'],  \n",
    "                                 aggfunc=not_zero_len, columns='year', margins = False) # create a pivot table\n",
    "elections_flattened_odd = pd.DataFrame(elections_by_ncid.to_records()) # convert the pivot table to a dataframe\n",
    "cols = elections_flattened_odd.columns # get an index object with all the column names\n",
    "cols = cols.delete(0) # remove the first column name 'ncid' since I don't want to rename this\n",
    "elections_flattened_odd.fillna(value=0, method=None, axis=None, inplace=True, limit=None, downcast=None) # replace NaN with 0\n",
    "elections_flattened_odd[cols] = elections_flattened_odd[cols].astype(int)# convert values to integers\n",
    "elections_flattened_odd = elections_flattened_odd.reindex_axis(sorted(elections_flattened_odd.columns), axis=1) # sort the columns by year"
   ]
  },
  {
   "cell_type": "code",
   "execution_count": 28,
   "metadata": {
    "collapsed": false
   },
   "outputs": [
    {
     "name": "stdout",
     "output_type": "stream",
     "text": [
      "   2007  2009  2011  2013  2015      ncid\n",
      "0     0     0     1     0     0  AA100007\n",
      "1     1     1     1     0     0   AA10001\n",
      "2     0     1     0     0     0  AA100023\n",
      "3     0     0     0     1     1  AA100062\n",
      "4     0     0     0     1     1  AA100074\n",
      "5     0     0     1     1     0  AA100095\n",
      "6     1     0     0     0     0  AA100110\n",
      "7     1     1     1     0     1  AA100140\n",
      "8     1     0     0     0     1   AA10016\n",
      "9     1     0     0     0     0  AA100166\n"
     ]
    }
   ],
   "source": [
    "print elections_flattened_odd.head(n=10)"
   ]
  },
  {
   "cell_type": "markdown",
   "metadata": {
    "collapsed": true
   },
   "source": [
    "Now, let's join the odd and even dataframes.  We use an outer join so we keep all NCIDs"
   ]
  },
  {
   "cell_type": "code",
   "execution_count": 29,
   "metadata": {
    "collapsed": false
   },
   "outputs": [
    {
     "name": "stdout",
     "output_type": "stream",
     "text": [
      "6490208 1455448 6459643\n"
     ]
    }
   ],
   "source": [
    "elections_flattened = pd.merge(elections_flattened_odd, elections_flattened_even, how='outer')\n",
    "print len(elections_flattened), len(elections_flattened_odd), len(elections_flattened_even)"
   ]
  },
  {
   "cell_type": "code",
   "execution_count": 30,
   "metadata": {
    "collapsed": false
   },
   "outputs": [
    {
     "name": "stdout",
     "output_type": "stream",
     "text": [
      "   2007  2009  2011  2013  2015      ncid  2008  2010  2012  2014  2016  2018\n",
      "0   0.0   0.0   1.0   0.0   0.0  AA100007   1.0   1.0   1.0   1.0   1.0   0.0\n",
      "1   1.0   1.0   1.0   0.0   0.0   AA10001   1.0   1.0   1.0   1.0   0.0   0.0\n",
      "2   0.0   1.0   0.0   0.0   0.0  AA100023   1.0   0.0   1.0   0.0   0.0   0.0\n",
      "3   0.0   0.0   0.0   1.0   1.0  AA100062   1.0   1.0   1.0   1.0   1.0   0.0\n",
      "4   0.0   0.0   0.0   1.0   1.0  AA100074   1.0   1.0   1.0   1.0   1.0   0.0\n",
      "5   0.0   0.0   1.0   1.0   0.0  AA100095   1.0   0.0   1.0   0.0   1.0   0.0\n",
      "6   1.0   0.0   0.0   0.0   0.0  AA100110   1.0   1.0   1.0   1.0   1.0   0.0\n",
      "7   1.0   1.0   1.0   0.0   1.0  AA100140   1.0   1.0   1.0   1.0   1.0   0.0\n",
      "8   1.0   0.0   0.0   0.0   1.0   AA10016   1.0   1.0   1.0   1.0   1.0   0.0\n",
      "9   1.0   0.0   0.0   0.0   0.0  AA100166   1.0   1.0   1.0   1.0   1.0   0.0\n"
     ]
    }
   ],
   "source": [
    "print elections_flattened.head(n=10)"
   ]
  },
  {
   "cell_type": "markdown",
   "metadata": {},
   "source": [
    "Just in case, change any 'NaN' values to zero"
   ]
  },
  {
   "cell_type": "code",
   "execution_count": 31,
   "metadata": {
    "collapsed": true
   },
   "outputs": [],
   "source": [
    "elections_flattened.fillna(value=0, method=None, axis=None, inplace=True, limit=None, downcast=None)"
   ]
  },
  {
   "cell_type": "markdown",
   "metadata": {},
   "source": [
    "Finally, let's sort by columns in ascending order and get rid of '2018'"
   ]
  },
  {
   "cell_type": "code",
   "execution_count": 32,
   "metadata": {
    "collapsed": false
   },
   "outputs": [
    {
     "name": "stderr",
     "output_type": "stream",
     "text": [
      "C:\\Users\\scott\\Anaconda2\\envs\\gl-env\\lib\\site-packages\\ipykernel\\__main__.py:2: FutureWarning: sort(....) is deprecated, use sort_index(.....)\n",
      "  from ipykernel import kernelapp as app\n"
     ]
    }
   ],
   "source": [
    "elections_flattened = elections_flattened.drop('2018', axis=1)\n",
    "elections_flattened.sort(columns=None, axis=1, ascending=True, inplace=True, kind='quicksort', na_position='last')"
   ]
  },
  {
   "cell_type": "code",
   "execution_count": 33,
   "metadata": {
    "collapsed": false
   },
   "outputs": [
    {
     "name": "stdout",
     "output_type": "stream",
     "text": [
      "   2007  2008  2009  2010  2011  2012  2013  2014  2015  2016      ncid\n",
      "0   0.0   1.0   0.0   1.0   1.0   1.0   0.0   1.0   0.0   1.0  AA100007\n",
      "1   1.0   1.0   1.0   1.0   1.0   1.0   0.0   1.0   0.0   0.0   AA10001\n",
      "2   0.0   1.0   1.0   0.0   0.0   1.0   0.0   0.0   0.0   0.0  AA100023\n",
      "3   0.0   1.0   0.0   1.0   0.0   1.0   1.0   1.0   1.0   1.0  AA100062\n",
      "4   0.0   1.0   0.0   1.0   0.0   1.0   1.0   1.0   1.0   1.0  AA100074\n"
     ]
    }
   ],
   "source": [
    "print elections_flattened.head()"
   ]
  },
  {
   "cell_type": "markdown",
   "metadata": {},
   "source": [
    "Clean up dataframes that are no longer necessary"
   ]
  },
  {
   "cell_type": "code",
   "execution_count": 34,
   "metadata": {
    "collapsed": false
   },
   "outputs": [],
   "source": [
    "del history_even, history_odd, elections_flattened_even, elections_flattened_odd"
   ]
  },
  {
   "cell_type": "code",
   "execution_count": 35,
   "metadata": {
    "collapsed": true
   },
   "outputs": [],
   "source": [
    "elections_flattened.to_csv('elections_flattened.csv')"
   ]
  },
  {
   "cell_type": "markdown",
   "metadata": {
    "collapsed": false
   },
   "source": [
    "We now have a flat dataframe with one row for each ncid and a column for each year.  The value in that column is '1' if the person with the ncid voted in the general election (even years) or any election (odd year) and '0' if they didn't vote"
   ]
  },
  {
   "cell_type": "markdown",
   "metadata": {},
   "source": [
    "### Section B: Extracting Voter Demographics"
   ]
  },
  {
   "cell_type": "markdown",
   "metadata": {},
   "source": [
    "Read in voter demographics from a csv file"
   ]
  },
  {
   "cell_type": "code",
   "execution_count": 36,
   "metadata": {
    "collapsed": false
   },
   "outputs": [],
   "source": [
    "demographics = pd.read_csv('demographics.csv')"
   ]
  },
  {
   "cell_type": "markdown",
   "metadata": {},
   "source": [
    "Convert all columns to string"
   ]
  },
  {
   "cell_type": "code",
   "execution_count": 37,
   "metadata": {
    "collapsed": false
   },
   "outputs": [],
   "source": [
    "for col in demographics.columns:\n",
    "    demographics[col]= demographics[col].apply(str)"
   ]
  },
  {
   "cell_type": "markdown",
   "metadata": {},
   "source": [
    "Get rid of all the double quotes from the dataframe"
   ]
  },
  {
   "cell_type": "code",
   "execution_count": 38,
   "metadata": {
    "collapsed": false
   },
   "outputs": [
    {
     "name": "stdout",
     "output_type": "stream",
     "text": [
      "  Unnamed: 0 birth_age gender_code race_code ethnic_code party_cd status_cd  \\\n",
      "0          0        79           M         W          NL      DEM         A   \n",
      "1          1        60           M         W          NL      REP         A   \n",
      "2          2        43           M         W          NL      REP         A   \n",
      "3          3        55           M         W          NL      REP         A   \n",
      "4          4        58           F         W          NL      DEM         I   \n",
      "\n",
      "  zip_code birth_state drivers_lic county_desc  registr_dt      ncid  \\\n",
      "0    27253          NC           N    ALAMANCE  01/19/1959   AA34771   \n",
      "1    27215          NC           Y    ALAMANCE  04/09/1984   AA53687   \n",
      "2    27302          NC           Y    ALAMANCE  04/02/1992   AA80986   \n",
      "3    27215          NC           Y    ALAMANCE  09/15/2003  AA131587   \n",
      "4    27258          NC           Y    ALAMANCE  05/19/2006  AA146650   \n",
      "\n",
      "  precinct_abbrv municipality_abbrv last_name first_name  \n",
      "0             07                        PAYNE      JERRY  \n",
      "1            12W                BUR     PAYNE      JERRY  \n",
      "2            10S                MEB     PAYNE      JERRY  \n",
      "3            03S                BUR     PAYNE      JERRY  \n",
      "4             13                HAW     PAYNE         JO  \n"
     ]
    }
   ],
   "source": [
    "demographics.columns = demographics.columns.str.strip('\"')\n",
    "for i, col in enumerate(demographics.columns):\n",
    "    demographics.iloc[:, i] = demographics.iloc[:, i].str.replace('\"', '')\n",
    "print demographics.head()"
   ]
  },
  {
   "cell_type": "code",
   "execution_count": 39,
   "metadata": {
    "collapsed": false
   },
   "outputs": [
    {
     "name": "stdout",
     "output_type": "stream",
     "text": [
      "The number of rows pulled from the database is 6774419\n"
     ]
    }
   ],
   "source": [
    "#Save the total number of rows to raw_len and print. \n",
    "raw_len=len(demographics)\n",
    "print \"The number of rows pulled from the database is \" + str(raw_len)"
   ]
  },
  {
   "cell_type": "code",
   "execution_count": 40,
   "metadata": {
    "collapsed": false
   },
   "outputs": [
    {
     "name": "stdout",
     "output_type": "stream",
     "text": [
      "Index([u'Unnamed: 0', u'birth_age', u'gender_code', u'race_code',\n",
      "       u'ethnic_code', u'party_cd', u'status_cd', u'zip_code', u'birth_state',\n",
      "       u'drivers_lic', u'county_desc', u'registr_dt', u'ncid',\n",
      "       u'precinct_abbrv', u'municipality_abbrv', u'last_name', u'first_name'],\n",
      "      dtype='object')\n"
     ]
    }
   ],
   "source": [
    "print demographics.columns"
   ]
  },
  {
   "cell_type": "markdown",
   "metadata": {},
   "source": [
    "Create two lists:  one for fields that can have a value \"None\" and another for fields that must be deleted if blank"
   ]
  },
  {
   "cell_type": "code",
   "execution_count": 41,
   "metadata": {
    "collapsed": true
   },
   "outputs": [],
   "source": [
    "can_have_none = ['municipality_abbrv', 'birth_state', 'last_name', 'first_name']\n",
    "cannot_have_none = ['birth_age', 'gender_code', 'race_code',\n",
    "       'ethnic_code', 'party_cd', 'status_cd', 'zip_code', \n",
    "       'drivers_lic', 'county_desc', 'registr_dt', 'ncid',\n",
    "       'precinct_abbrv']"
   ]
  },
  {
   "cell_type": "markdown",
   "metadata": {},
   "source": [
    "Create a generic function to change blank fields to 'None' for 'birth_state', 'municipality_abbrv', 'first_name' and 'last_name'"
   ]
  },
  {
   "cell_type": "code",
   "execution_count": 42,
   "metadata": {
    "collapsed": true
   },
   "outputs": [],
   "source": [
    "def fix_blanks(x):\n",
    "    if x == \"\":\n",
    "        return \"None\"\n",
    "    elif x == \" \":\n",
    "        return \"None\"\n",
    "    else:\n",
    "        return x"
   ]
  },
  {
   "cell_type": "code",
   "execution_count": 45,
   "metadata": {
    "collapsed": false
   },
   "outputs": [],
   "source": [
    "for col in can_have_none:\n",
    "    demographics[col] = demographics[col].apply(fix_blanks)\n",
    "    \n",
    "for col in cannot_have_none:\n",
    "    demographics[col] = demographics[col].apply(fix_blanks_NaN)"
   ]
  },
  {
   "cell_type": "code",
   "execution_count": 46,
   "metadata": {
    "collapsed": false
   },
   "outputs": [
    {
     "name": "stdout",
     "output_type": "stream",
     "text": [
      "The number of rows I have dropped is 3156\n",
      "The number of rows remaining in the database is 6771263\n",
      "The precentage of rows that I have dropped is: 0.047%\n"
     ]
    }
   ],
   "source": [
    "demographics.dropna(inplace=True, how='any') #drop all rows with NaN\n",
    "clean_len=len(demographics) #how many rows to I have left?\n",
    "difference = raw_len - clean_len #how many rows have I dropped?\n",
    "fraction = float(difference)/float(raw_len) #what fraction of rows have I dropped?\n",
    "print \"The number of rows I have dropped is \" + str(difference) \n",
    "print \"The number of rows remaining in the database is \" + str(clean_len)\n",
    "print \"The precentage of rows that I have dropped is: \" + str('{:.3%}'.format(fraction))"
   ]
  },
  {
   "cell_type": "markdown",
   "metadata": {},
   "source": [
    "### Section C: Merging Demographics and Turnout History"
   ]
  },
  {
   "cell_type": "markdown",
   "metadata": {},
   "source": [
    "Now we do a left join, adding turnout information to each ncid in the demographics dataframe"
   ]
  },
  {
   "cell_type": "code",
   "execution_count": 47,
   "metadata": {
    "collapsed": true
   },
   "outputs": [],
   "source": [
    "combined = pd.merge(demographics, elections_flattened, how='left', on='ncid')"
   ]
  },
  {
   "cell_type": "code",
   "execution_count": 48,
   "metadata": {
    "collapsed": false
   },
   "outputs": [
    {
     "name": "stdout",
     "output_type": "stream",
     "text": [
      "6771263 6771263 6490208\n"
     ]
    }
   ],
   "source": [
    "print len(combined), len(demographics), len(elections_flattened)"
   ]
  },
  {
   "cell_type": "code",
   "execution_count": 49,
   "metadata": {
    "collapsed": false
   },
   "outputs": [
    {
     "name": "stdout",
     "output_type": "stream",
     "text": [
      "  Unnamed: 0 birth_age gender_code race_code ethnic_code party_cd status_cd  \\\n",
      "0          0        79           M         W          NL      DEM         A   \n",
      "1          1        60           M         W          NL      REP         A   \n",
      "2          2        43           M         W          NL      REP         A   \n",
      "3          3        55           M         W          NL      REP         A   \n",
      "4          4        58           F         W          NL      DEM         I   \n",
      "\n",
      "  zip_code birth_state drivers_lic  ...  2007 2008 2009 2010 2011 2012 2013  \\\n",
      "0    27253          NC           N  ...   0.0  1.0  0.0  1.0  0.0  1.0  0.0   \n",
      "1    27215          NC           Y  ...   0.0  1.0  0.0  1.0  0.0  1.0  0.0   \n",
      "2    27302          NC           Y  ...   0.0  1.0  1.0  1.0  0.0  1.0  1.0   \n",
      "3    27215          NC           Y  ...   0.0  1.0  0.0  1.0  0.0  1.0  0.0   \n",
      "4    27258          NC           Y  ...   NaN  NaN  NaN  NaN  NaN  NaN  NaN   \n",
      "\n",
      "   2014  2015  2016  \n",
      "0   1.0   0.0   1.0  \n",
      "1   1.0   0.0   1.0  \n",
      "2   1.0   0.0   1.0  \n",
      "3   1.0   0.0   1.0  \n",
      "4   NaN   NaN   NaN  \n",
      "\n",
      "[5 rows x 27 columns]\n"
     ]
    }
   ],
   "source": [
    "print combined.head()"
   ]
  },
  {
   "cell_type": "markdown",
   "metadata": {
    "collapsed": true
   },
   "source": [
    "Now save the dataframe 'combined' in a .csv"
   ]
  },
  {
   "cell_type": "code",
   "execution_count": 50,
   "metadata": {
    "collapsed": false
   },
   "outputs": [],
   "source": [
    "combined.to_csv('combined_updated.csv')"
   ]
  }
 ],
 "metadata": {
  "celltoolbar": "Raw Cell Format",
  "kernelspec": {
   "display_name": "Python (gl-env)",
   "language": "python",
   "name": "gl-env"
  },
  "language_info": {
   "codemirror_mode": {
    "name": "ipython",
    "version": 2
   },
   "file_extension": ".py",
   "mimetype": "text/x-python",
   "name": "python",
   "nbconvert_exporter": "python",
   "pygments_lexer": "ipython2",
   "version": "2.7.13"
  }
 },
 "nbformat": 4,
 "nbformat_minor": 0
}
