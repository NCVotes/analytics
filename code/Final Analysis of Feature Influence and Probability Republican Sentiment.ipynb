{
 "cells": [
  {
   "cell_type": "markdown",
   "metadata": {},
   "source": [
    "### Using Median Absolute Deviation to Measure Impact of Demographic Features"
   ]
  },
  {
   "cell_type": "code",
   "execution_count": 3,
   "metadata": {
    "collapsed": false
   },
   "outputs": [
    {
     "name": "stderr",
     "output_type": "stream",
     "text": [
      "C:\\Anaconda\\envs\\gl-env\\lib\\site-packages\\IPython\\html.py:14: ShimWarning: The `IPython.html` package has been deprecated since IPython 4.0. You should import from `notebook` instead. `IPython.html.widgets` has moved to `ipywidgets`.\n",
      "  \"`IPython.html.widgets` has moved to `ipywidgets`.\", ShimWarning)\n"
     ]
    }
   ],
   "source": [
    "# First set everthing up\n",
    "import pyodbc\n",
    "import graphlab as gl\n",
    "import pandas as pd\n",
    "import matplotlib.pyplot as plt\n",
    "import numpy as np\n",
    "import datetime\n",
    "import local # server information and credentials\n",
    "import statsmodels.robust.scale as sm # for median absolute deviation (MAD)\n",
    "import seaborn as sns\n",
    "from pullODBC import pullODBC\n",
    "from matplotlib.backends.backend_pdf import PdfPages\n",
    "%matplotlib inline\n",
    "plt.style.use('seaborn-white')\n",
    "plt.rcParams['font.size'] = 10\n",
    "plt.tight_layout;\n",
    "plt.rc('xtick', labelsize=10) \n",
    "plt.rc('ytick', labelsize=10) \n",
    "pd.options.display.float_format = '{:.3f}'.format # display as floating point to 3 decimal places"
   ]
  },
  {
   "cell_type": "code",
   "execution_count": 4,
   "metadata": {
    "collapsed": false
   },
   "outputs": [
    {
     "data": {
      "text/html": [
       "<style>.container { width:100% !important; }</style>"
      ],
      "text/plain": [
       "<IPython.core.display.HTML object>"
      ]
     },
     "metadata": {},
     "output_type": "display_data"
    }
   ],
   "source": [
    "from IPython.core.display import display, HTML\n",
    "display(HTML(\"<style>.container { width:100% !important; }</style>\")) # for a wide screen"
   ]
  },
  {
   "cell_type": "markdown",
   "metadata": {},
   "source": [
    "First retrieve the coefficient dataframe and the full demographics dataframe from their pickle files"
   ]
  },
  {
   "cell_type": "code",
   "execution_count": 5,
   "metadata": {
    "collapsed": true
   },
   "outputs": [],
   "source": [
    "coeff_df = pd.read_pickle('coeff_df')\n",
    "demographics = pd.read_pickle('demographics')"
   ]
  },
  {
   "cell_type": "markdown",
   "metadata": {},
   "source": [
    "Next, create a new dataframe for coefficient statistics, calculate these statistics for categorical variables, and add these to the dataframe"
   ]
  },
  {
   "cell_type": "code",
   "execution_count": 6,
   "metadata": {
    "collapsed": false
   },
   "outputs": [],
   "source": [
    "coeff_df['value'].astype('float64') # Ensure that values are float64\n",
    "coeff_statistics_df = pd.DataFrame(data=None, index=None, columns=['COEF','MIN', 'MAX', 'RANGE', 'MAD'], \n",
    "                                 dtype='float64', copy=False) # Create an empty dataframe for statistics\n",
    "names = coeff_df['name'].unique() # names has all the feature values \n",
    "# Iterate through all the features with more than 1 coeffient value (the categorical varaiabes) \n",
    "# and add statistics about the coefficient values to coeff_statistics_df\n",
    "for coeff in names:\n",
    "    df = coeff_df[coeff_df['name']== coeff]\n",
    "    if len(df) > 1:\n",
    "        new_row = pd.DataFrame([[coeff, df['value'].min(), df['value'].max(), df['value'].ptp(), \n",
    "                                 sm.mad(df['value'])]], columns=['COEF','MIN', 'MAX', 'RANGE', 'MAD']) \n",
    "                               \n",
    "        coeff_statistics_df = coeff_statistics_df.append(new_row, ignore_index=False)\n",
    "        \n",
    "coeff_statistics_df.sort_values('MAD', axis=0, ascending=False, inplace=True, \n",
    "                              kind='quicksort', na_position='last') # sort the dataframe on Median Absolute Deviation"
   ]
  },
  {
   "cell_type": "code",
   "execution_count": 7,
   "metadata": {
    "collapsed": false
   },
   "outputs": [
    {
     "name": "stdout",
     "output_type": "stream",
     "text": [
      "               COEF    MIN    MAX  RANGE   MAD\n",
      "0          zip_code -2.709  1.469  4.178 0.541\n",
      "0    race_ethnicity -1.613  0.656  2.269 0.388\n",
      "0       race_gender -1.651  0.523  2.175 0.347\n",
      "0       birth_state -0.265  0.571  0.836 0.167\n",
      "0  gender_ethnicity -0.522  0.044  0.567 0.161\n",
      "0       drivers_lic -0.251 -0.091  0.161 0.119\n"
     ]
    }
   ],
   "source": [
    "print coeff_statistics_df # print the sorted statistics for the categorical variables"
   ]
  },
  {
   "cell_type": "markdown",
   "metadata": {},
   "source": [
    "Now let's work on continuous features\n",
    "\n",
    "First, extract all the relevant coefficients"
   ]
  },
  {
   "cell_type": "code",
   "execution_count": 8,
   "metadata": {
    "collapsed": false
   },
   "outputs": [],
   "source": [
    "#coeff_df = coeff_df.to_dataframe()\n",
    "birth_age = coeff_df[coeff_df['name']=='birth_age']['value'].iloc[0]\n",
    "age_squared=coeff_df[coeff_df['name']=='age_squared']['value'].iloc[0]\n",
    "age_cubed=coeff_df[coeff_df['name']=='age_cubed']['value'].iloc[0]\n",
    "years_since_registration = coeff_df[coeff_df['name']=='years_since_registration']['value'].iloc[0]\n",
    "years_squared = coeff_df[coeff_df['name']=='years_squared']['value'].iloc[0]\n",
    "years_cubed = coeff_df[coeff_df['name']=='years_cubed']['value'].iloc[0]"
   ]
  },
  {
   "cell_type": "markdown",
   "metadata": {},
   "source": [
    "Create a new row containing statistics on years since registration"
   ]
  },
  {
   "cell_type": "code",
   "execution_count": 9,
   "metadata": {
    "collapsed": false
   },
   "outputs": [
    {
     "name": "stdout",
     "output_type": "stream",
     "text": [
      "              COEF    MIN   MAX  RANGE   MAD\n",
      "0  years_since_reg -0.882 0.022  0.903 0.344\n"
     ]
    }
   ],
   "source": [
    "years_formula = 'years_since_registration*x + years_squared*x**2 + years_cubed*x**3'\n",
    "x = np.array(range(0,60))\n",
    "y = eval(years_formula)\n",
    "y = pd.Series(y)\n",
    "new_row_years = pd.DataFrame([['years_since_reg', y.min(), y.max(), y.ptp(), sm.mad(y)]],\n",
    "                              columns=['COEF','MIN', 'MAX', 'RANGE', 'MAD'])\n",
    "print new_row_years"
   ]
  },
  {
   "cell_type": "markdown",
   "metadata": {},
   "source": [
    "Create a new row containing statistics on age"
   ]
  },
  {
   "cell_type": "code",
   "execution_count": 10,
   "metadata": {
    "collapsed": false
   },
   "outputs": [
    {
     "name": "stdout",
     "output_type": "stream",
     "text": [
      "        COEF    MIN   MAX  RANGE   MAD\n",
      "0  birth_age -0.255 0.077  0.331 0.086\n"
     ]
    }
   ],
   "source": [
    "years_formula = 'birth_age*x + age_squared*x**2 + age_cubed*x**3'\n",
    "x = np.array(range(18,81))\n",
    "y = eval(years_formula)\n",
    "y = pd.Series(y)\n",
    "new_row_age = pd.DataFrame([['birth_age', y.min(), y.max(), y.ptp(), sm.mad(y)]],\n",
    "                              columns=['COEF','MIN', 'MAX', 'RANGE', 'MAD'])\n",
    "print new_row_age"
   ]
  },
  {
   "cell_type": "markdown",
   "metadata": {},
   "source": [
    "Add the rows with statistics on age and years since registration to the dataframe, sort by MAD, and print"
   ]
  },
  {
   "cell_type": "code",
   "execution_count": 11,
   "metadata": {
    "collapsed": false
   },
   "outputs": [],
   "source": [
    "coeff_statistics_df = coeff_statistics_df.append(new_row_years, ignore_index=False)\n",
    "coeff_statistics_df = coeff_statistics_df.append(new_row_age, ignore_index=False)\n",
    "coeff_statistics_df.sort_values('MAD', axis=0, ascending=False, inplace=True, \n",
    "                              kind='quicksort', na_position='last')"
   ]
  },
  {
   "cell_type": "markdown",
   "metadata": {
    "collapsed": true
   },
   "source": [
    "Final Analysis of Demographic Features' Influence on Party Sentiment Sorted by Median Absolute Deviation"
   ]
  },
  {
   "cell_type": "code",
   "execution_count": 12,
   "metadata": {
    "collapsed": false
   },
   "outputs": [
    {
     "name": "stdout",
     "output_type": "stream",
     "text": [
      "               COEF    MIN    MAX  RANGE   MAD\n",
      "0          zip_code -2.709  1.469  4.178 0.541\n",
      "0    race_ethnicity -1.613  0.656  2.269 0.388\n",
      "0       race_gender -1.651  0.523  2.175 0.347\n",
      "0   years_since_reg -0.882  0.022  0.903 0.344\n",
      "0       birth_state -0.265  0.571  0.836 0.167\n",
      "0  gender_ethnicity -0.522  0.044  0.567 0.161\n",
      "0       drivers_lic -0.251 -0.091  0.161 0.119\n",
      "0         birth_age -0.255  0.077  0.331 0.086\n"
     ]
    }
   ],
   "source": [
    "print coeff_statistics_df"
   ]
  },
  {
   "cell_type": "markdown",
   "metadata": {},
   "source": [
    "### Exploring the Distribution of the Probability of Leaning Republican\n",
    "\n",
    "Plot histograms with rug both with and without kernel density.  "
   ]
  },
  {
   "cell_type": "code",
   "execution_count": 13,
   "metadata": {
    "collapsed": false
   },
   "outputs": [
    {
     "data": {
      "text/plain": [
       "<matplotlib.text.Text at 0x9cd8e9b0>"
      ]
     },
     "execution_count": 13,
     "metadata": {},
     "output_type": "execute_result"
    },
    {
     "data": {
      "image/png": "[encoded data removed]",
      "text/plain": [
       "<matplotlib.figure.Figure at 0x9cc462b0>"
      ]
     },
     "metadata": {},
     "output_type": "display_data"
    }
   ],
   "source": [
    "fig, axs = plt.subplots(figsize=(20,6), ncols=2, nrows=1)\n",
    "# Without Kernel Density\n",
    "hist = sns.distplot(demographics['percent'],bins=np.arange(0, 1.1, 0.1),norm_hist=False, vertical=False, kde=False, ax=axs[0])\n",
    "sample = demographics['percent'].sample(frac=0.00009)\n",
    "rug = sns.rugplot(sample, ax=axs[0])\n",
    "# With Kernel Density\n",
    "hist = sns.distplot(demographics['percent'],bins=np.arange(0, 1.1, 0.1),norm_hist=False, vertical=False, kde=True, ax=axs[1])\n",
    "rug = sns.rugplot(sample, ax=axs[1])\n",
    "# Labels\n",
    "axs[0].set_xlabel('Probablity Republican')\n",
    "axs[0].set_ylabel('Count')\n",
    "axs[1].set_xlabel('Probablity Republican')\n",
    "axs[1].set_ylabel('Density')"
   ]
  },
  {
   "cell_type": "markdown",
   "metadata": {},
   "source": [
    "### Characterizing the demographics of voters with probability republican <= 0.1"
   ]
  },
  {
   "cell_type": "code",
   "execution_count": 14,
   "metadata": {
    "collapsed": false
   },
   "outputs": [
    {
     "data": {
      "text/plain": [
       "Index([u'birth_age', u'party_cd', u'zip_code', u'birth_state', u'drivers_lic',\n",
       "       u'race_gender', u'race_ethnicity', u'gender_ethnicity', u'age_squared',\n",
       "       u'age_cubed', u'years_since_registration', u'years_squared',\n",
       "       u'years_cubed', u'percent'],\n",
       "      dtype='object')"
      ]
     },
     "execution_count": 14,
     "metadata": {},
     "output_type": "execute_result"
    }
   ],
   "source": [
    "low_prob_df = demographics[demographics['percent']<= 0.1]\n",
    "low_prob_df.columns"
   ]
  },
  {
   "cell_type": "code",
   "execution_count": 15,
   "metadata": {
    "collapsed": false
   },
   "outputs": [],
   "source": [
    "analysis = low_prob_df.groupby(['race_gender'])['race_gender'].count()/low_prob_df.groupby(['race_gender'])['race_gender'].count().sum()\n",
    "pd.options.display.float_format = '{:.1%}'.format #display as percentages"
   ]
  },
  {
   "cell_type": "code",
   "execution_count": 16,
   "metadata": {
    "collapsed": false
   },
   "outputs": [
    {
     "name": "stdout",
     "output_type": "stream",
     "text": [
      "race_gender\n",
      "BF   57.3%\n",
      "BM   40.2%\n",
      "BU    1.0%\n",
      "IF    0.3%\n",
      "MF    0.3%\n",
      "OF    0.2%\n",
      "UF    0.2%\n",
      "WF    0.1%\n",
      "IM    0.1%\n",
      "OM    0.1%\n",
      "UM    0.1%\n",
      "AF    0.1%\n",
      "MM    0.0%\n",
      "UU    0.0%\n",
      "AM    0.0%\n",
      "WM    0.0%\n",
      "AU    0.0%\n",
      "MU    0.0%\n",
      "OU    0.0%\n",
      "WU    0.0%\n",
      "Name: race_gender, dtype: float64\n"
     ]
    }
   ],
   "source": [
    "print analysis.sort_values(ascending = False)"
   ]
  },
  {
   "cell_type": "markdown",
   "metadata": {},
   "source": [
    "Conclusion:  98.5% of voters with probability of having Republican sentiment <= 0.1 are African American"
   ]
  },
  {
   "cell_type": "code",
   "execution_count": null,
   "metadata": {
    "collapsed": true
   },
   "outputs": [],
   "source": []
  }
 ],
 "metadata": {
  "kernelspec": {
   "display_name": "Python [conda env:gl-env]",
   "language": "python",
   "name": "conda-env-gl-env-py"
  },
  "language_info": {
   "codemirror_mode": {
    "name": "ipython",
    "version": 2
   },
   "file_extension": ".py",
   "mimetype": "text/x-python",
   "name": "python",
   "nbconvert_exporter": "python",
   "pygments_lexer": "ipython2",
   "version": "2.7.13"
  }
 },
 "nbformat": 4,
 "nbformat_minor": 0
}
