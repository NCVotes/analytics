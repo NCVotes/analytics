{
 "cells": [
  {
   "cell_type": "markdown",
   "metadata": {},
   "source": [
    "##  We're now going to reat the turnout data and analyze turnout by precinct for only 2008"
   ]
  },
  {
   "cell_type": "code",
   "execution_count": 1,
   "metadata": {
    "collapsed": false
   },
   "outputs": [],
   "source": [
    "#First set everthing up\n",
    "import pyodbc\n",
    "import graphlab as gl\n",
    "import pandas as pd\n",
    "import matplotlib.pyplot as plt\n",
    "import numpy as np\n",
    "import datetime\n",
    "import local #server information and credentials\n",
    "from pullODBC import pullODBC\n",
    "from pullODBCall import pullODBCall\n",
    "from matplotlib.backends.backend_pdf import PdfPages\n",
    "from __future__ import division # convert integer division to floating point\n",
    "%matplotlib inline\n",
    "plt.style.use('seaborn-white')\n",
    "plt.rcParams['font.size'] = 7\n",
    "plt.tight_layout;\n",
    "plt.rc('xtick', labelsize=7) \n",
    "plt.rc('ytick', labelsize=7) "
   ]
  },
  {
   "cell_type": "markdown",
   "metadata": {},
   "source": [
    "### Section A: Analyzing Turnout by Precinct for Voters Affiliated with a Party"
   ]
  },
  {
   "cell_type": "markdown",
   "metadata": {},
   "source": [
    "Read in the csv for the combined data: county, precinct, party code, and 2106 turnout"
   ]
  },
  {
   "cell_type": "code",
   "execution_count": 2,
   "metadata": {
    "collapsed": false
   },
   "outputs": [
    {
     "name": "stderr",
     "output_type": "stream",
     "text": [
      "C:\\Users\\Scott\\Anaconda2\\envs\\gl-env\\lib\\site-packages\\IPython\\core\\interactiveshell.py:2723: DtypeWarning: Columns (12) have mixed types. Specify dtype option on import or set low_memory=False.\n",
      "  interactivity=interactivity, compiler=compiler, result=result)\n"
     ]
    }
   ],
   "source": [
    "combined = pd.read_csv('C:/voter/combined2008.csv', low_memory=True)"
   ]
  },
  {
   "cell_type": "code",
   "execution_count": 3,
   "metadata": {
    "collapsed": false
   },
   "outputs": [
    {
     "name": "stdout",
     "output_type": "stream",
     "text": [
      "6264627\n"
     ]
    }
   ],
   "source": [
    "print len(combined)"
   ]
  },
  {
   "cell_type": "code",
   "execution_count": 4,
   "metadata": {
    "collapsed": false
   },
   "outputs": [
    {
     "name": "stdout",
     "output_type": "stream",
     "text": [
      "4308287.0\n"
     ]
    }
   ],
   "source": [
    "print combined['2008'].sum()"
   ]
  },
  {
   "cell_type": "markdown",
   "metadata": {},
   "source": [
    "Print out the columns of this dataframe"
   ]
  },
  {
   "cell_type": "code",
   "execution_count": 5,
   "metadata": {
    "collapsed": false
   },
   "outputs": [
    {
     "name": "stdout",
     "output_type": "stream",
     "text": [
      "Index([u'Unnamed: 0', u'birth_age', u'gender_code', u'race_code',\n",
      "       u'ethnic_code', u'party_cd', u'status_cd', u'zip_code', u'birth_state',\n",
      "       u'county_desc', u'registr_dt', u'ncid', u'precinct_abbrv',\n",
      "       u'Unnamed: 0.1', u'2007', u'2008', u'2009', u'2010', u'2011', u'2012',\n",
      "       u'2013', u'2014', u'2015', u'2016', u'2018'],\n",
      "      dtype='object')\n"
     ]
    }
   ],
   "source": [
    "print combined.columns"
   ]
  },
  {
   "cell_type": "markdown",
   "metadata": {},
   "source": [
    "Subset the dataframe to leave only the relevent columns "
   ]
  },
  {
   "cell_type": "code",
   "execution_count": 6,
   "metadata": {
    "collapsed": false
   },
   "outputs": [],
   "source": [
    "turnout = combined.ix[:,['county_desc', 'party_cd', 'precinct_abbrv', '2008']]\n",
    "del combined"
   ]
  },
  {
   "cell_type": "code",
   "execution_count": 7,
   "metadata": {
    "collapsed": false
   },
   "outputs": [
    {
     "name": "stdout",
     "output_type": "stream",
     "text": [
      "  county_desc party_cd precinct_abbrv  2008\n",
      "0     CHATHAM      DEM         45       1.0\n",
      "1   CLEVELAND      DEM         KM 2     1.0\n",
      "2    COLUMBUS      DEM         P01A     1.0\n",
      "3      CRAVEN      DEM         14       1.0\n",
      "4  CUMBERLAND      REP         G9A      0.0\n"
     ]
    }
   ],
   "source": [
    "print turnout.head()"
   ]
  },
  {
   "cell_type": "markdown",
   "metadata": {},
   "source": [
    "Creat a custom aggfunc to count the percentage of rows with '1' in column '2016'"
   ]
  },
  {
   "cell_type": "code",
   "execution_count": 8,
   "metadata": {
    "collapsed": true
   },
   "outputs": [],
   "source": [
    "def percent_non_zero(x):\n",
    "    frac = np.sum(x)/np.size(x)\n",
    "    return(frac)"
   ]
  },
  {
   "cell_type": "markdown",
   "metadata": {},
   "source": [
    "Create a Pivot Table with index of county, precinct and columns party_cd and aggregation 2016"
   ]
  },
  {
   "cell_type": "code",
   "execution_count": 9,
   "metadata": {
    "collapsed": false
   },
   "outputs": [],
   "source": [
    "registered_by_precinct = pd.pivot_table(turnout, index=['county_desc','precinct_abbrv'], values=['2008'],  \n",
    "                                 aggfunc=percent_non_zero, columns=['party_cd'], margins = False) \n"
   ]
  },
  {
   "cell_type": "code",
   "execution_count": 10,
   "metadata": {
    "collapsed": false
   },
   "outputs": [
    {
     "data": {
      "text/plain": [
       "Index([u'county_desc', u'precinct_abbrv', u'('2008', 'DEM')',\n",
       "       u'('2008', 'LIB')', u'('2008', 'REP')', u'('2008', 'UNA')'],\n",
       "      dtype='object')"
      ]
     },
     "execution_count": 10,
     "metadata": {},
     "output_type": "execute_result"
    }
   ],
   "source": [
    "pd.options.display.float_format = '{:.1%}'.format #display as percentages\n",
    "new_dataframe = pd.DataFrame.from_records(registered_by_precinct.to_records())\n",
    "new_dataframe.columns\n",
    "\n",
    "\n"
   ]
  },
  {
   "cell_type": "code",
   "execution_count": 11,
   "metadata": {
    "collapsed": false
   },
   "outputs": [],
   "source": [
    "new_dataframe.to_csv('C:/voter/turnout2008.csv')"
   ]
  },
  {
   "cell_type": "code",
   "execution_count": 12,
   "metadata": {
    "collapsed": false
   },
   "outputs": [
    {
     "name": "stdout",
     "output_type": "stream",
     "text": [
      "  county_desc precinct_abbrv  ('2008', 'DEM')  ('2008', 'LIB')  \\\n",
      "0    ALAMANCE         01                68.3%           100.0%   \n",
      "1    ALAMANCE         02                72.1%           100.0%   \n",
      "2    ALAMANCE         035               73.6%           100.0%   \n",
      "3    ALAMANCE         03C               82.5%             nan%   \n",
      "4    ALAMANCE         03N               76.7%            75.0%   \n",
      "\n",
      "   ('2008', 'REP')  ('2008', 'UNA')  \n",
      "0            74.5%            60.2%  \n",
      "1            80.5%            70.3%  \n",
      "2            77.8%            65.8%  \n",
      "3            83.8%            72.3%  \n",
      "4            78.5%            71.0%  \n"
     ]
    }
   ],
   "source": [
    "print new_dataframe.head()"
   ]
  }
 ],
 "metadata": {
  "celltoolbar": "Raw Cell Format",
  "kernelspec": {
   "display_name": "Python 2",
   "language": "python",
   "name": "python2"
  },
  "language_info": {
   "codemirror_mode": {
    "name": "ipython",
    "version": 2
   },
   "file_extension": ".py",
   "mimetype": "text/x-python",
   "name": "python",
   "nbconvert_exporter": "python",
   "pygments_lexer": "ipython2",
   "version": "2.7.13"
  }
 },
 "nbformat": 4,
 "nbformat_minor": 0
}
