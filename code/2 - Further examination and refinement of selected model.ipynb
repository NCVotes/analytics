{
 "cells": [
  {
   "cell_type": "markdown",
   "metadata": {},
   "source": [
    "##  Further examination and refinement of selected model including review of class probability histogram on the training data.  \n",
    "### Overview\n",
    " \n",
    "In the previous activity, we evaluated various models for analyzing party sentiment.  We settled on a simplified model that will be easy to analyze and work with without sacrificing much accuracy.  For this next activity, we're going to refine and further analyze this model to add in the continuous variables so that we can explore which demographics have the most influence on party sentiment.  We will also examine the range of logistic regression probabilites.\n",
    "\n",
    "\n",
    "\n",
    "    \n",
    "\n",
    "\n",
    "\n",
    "\n"
   ]
  },
  {
   "cell_type": "markdown",
   "metadata": {},
   "source": [
    "### Section A: Preparation, Pulling Data from the Database, and Cleaning the Data"
   ]
  },
  {
   "cell_type": "code",
   "execution_count": 1,
   "metadata": {
    "collapsed": false
   },
   "outputs": [],
   "source": [
    "#First set everthing up\n",
    "import pyodbc\n",
    "import graphlab as gl\n",
    "import pandas as pd\n",
    "import matplotlib.pyplot as plt\n",
    "import numpy as np\n",
    "import datetime\n",
    "import local #server information and credentials\n",
    "from pullODBC import pullODBC \n",
    "from matplotlib.backends.backend_pdf import PdfPages\n",
    "%matplotlib inline\n",
    "plt.style.use('seaborn-white')\n",
    "plt.rcParams['font.size'] = 7\n",
    "plt.tight_layout;\n",
    "plt.rc('xtick', labelsize=7) \n",
    "plt.rc('ytick', labelsize=7) "
   ]
  },
  {
   "cell_type": "markdown",
   "metadata": {},
   "source": [
    "Display everything in full screen"
   ]
  },
  {
   "cell_type": "code",
   "execution_count": 2,
   "metadata": {
    "collapsed": false
   },
   "outputs": [
    {
     "data": {
      "text/html": [
       "<style>.container { width:100% !important; }</style>"
      ],
      "text/plain": [
       "<IPython.core.display.HTML object>"
      ]
     },
     "metadata": {},
     "output_type": "display_data"
    }
   ],
   "source": [
    "from IPython.core.display import display, HTML\n",
    "display(HTML(\"<style>.container { width:100% !important; }</style>\"))"
   ]
  },
  {
   "cell_type": "markdown",
   "metadata": {},
   "source": [
    "Set up the fields that I need to pull from the database.  This is only those necessary for the final model"
   ]
  },
  {
   "cell_type": "code",
   "execution_count": 3,
   "metadata": {
    "collapsed": false
   },
   "outputs": [
    {
     "name": "stdout",
     "output_type": "stream",
     "text": [
      "[\"birth_age\"], [\"gender_code\"], [\"race_code\"], [\"ethnic_code\"],[\"party_cd\"], [\"status_cd\"], [\"zip_code\"], [\"birth_state\"], [\"drivers_lic\"], [\"county_desc\"], [\"registr_dt\"]\n"
     ]
    }
   ],
   "source": [
    "#Set up the fields that I need to pull from the database \n",
    "fields = '[\"birth_age\"], [\"gender_code\"], [\"race_code\"], [\"ethnic_code\"],[\"party_cd\"], [\"status_cd\"], [\"zip_code\"], [\"birth_state\"], [\"drivers_lic\"], [\"county_desc\"], [\"registr_dt\"]'\n",
    "print fields"
   ]
  },
  {
   "cell_type": "markdown",
   "metadata": {},
   "source": [
    "Only registered, active and inactive voters affiliated as democratic or republican will be pulled for this analysis.   Below I set up my filtering condition to reflect this.  "
   ]
  },
  {
   "cell_type": "code",
   "execution_count": 4,
   "metadata": {
    "collapsed": false
   },
   "outputs": [
    {
     "name": "stdout",
     "output_type": "stream",
     "text": [
      "([\"status_cd\"] = '\"A\"' OR [\"status_cd\"] = '\"I\"') AND ([\"party_cd\"] = '\"DEM\"' OR [\"party_cd\"] = '\"REP\"')\n"
     ]
    }
   ],
   "source": [
    "condition1 = '[\"status_cd\"] = ' + local.single_double_quote + 'A' + local.double_single_quote\n",
    "condition2 = '[\"status_cd\"] = ' + local.single_double_quote + 'I' + local.double_single_quote\n",
    "condition3 = '[\"county_desc\"] = ' + local.single_double_quote + 'Wake' + local.double_single_quote\n",
    "condition4 = '[\"party_cd\"] = ' + local.single_double_quote + 'DEM' + local.double_single_quote\n",
    "condition5 = '[\"party_cd\"] = ' + local.single_double_quote + 'REP' + local.double_single_quote\n",
    "condition = \"(\" + condition1 + \" OR \" + condition2 + \")\" + \" AND \"  + \"(\" + condition4 + \" OR \" + condition5 + \")\" # This line will be run on Azure\n",
    "# condition = \"(\" + condition1 + \" OR \" + condition2 + \")\" + \" AND \"  + \"(\" + condition4 + \" OR \" + condition5 + \")\" + \" AND \" + condition3 # This line will be run on local\n",
    "\n",
    "\n",
    "\n",
    "print condition"
   ]
  },
  {
   "cell_type": "markdown",
   "metadata": {},
   "source": [
    "Pull the data from my local database"
   ]
  },
  {
   "cell_type": "code",
   "execution_count": 5,
   "metadata": {
    "collapsed": false
   },
   "outputs": [],
   "source": [
    "demographics=pullODBC(local.driver,\n",
    "                      local.server,\n",
    "                      local.database,\n",
    "                      local.username,\n",
    "                      local.password,\n",
    "                      local.table,\n",
    "                      fields,\n",
    "                      condition)"
   ]
  },
  {
   "cell_type": "markdown",
   "metadata": {},
   "source": [
    "Get rid of all the double quotes from the dataframe"
   ]
  },
  {
   "cell_type": "code",
   "execution_count": 6,
   "metadata": {
    "collapsed": false
   },
   "outputs": [
    {
     "name": "stdout",
     "output_type": "stream",
     "text": [
      "  birth_age gender_code race_code ethnic_code party_cd status_cd zip_code  \\\n",
      "0        93           F         W          NL      DEM         A    27215   \n",
      "1        59           M         W          NL      REP         A    27253   \n",
      "2        68           F         W          NL      REP         A    27217   \n",
      "3        76           M         W          UN      REP         A    27217   \n",
      "4        28           M         W          NL      DEM         A    27302   \n",
      "\n",
      "  birth_state drivers_lic county_desc  registr_dt  \n",
      "0          SC           Y    ALAMANCE  07/02/1998  \n",
      "1          WV           Y    ALAMANCE  05/13/2014  \n",
      "2          PA           Y    ALAMANCE  08/14/2001  \n",
      "3          IA           Y    ALAMANCE  10/23/2001  \n",
      "4          IN           N    ALAMANCE  06/09/2015  \n"
     ]
    }
   ],
   "source": [
    "demographics.columns = demographics.columns.str.strip('\"')\n",
    "for i, col in enumerate(demographics.columns):\n",
    "    demographics.iloc[:, i] = demographics.iloc[:, i].str.replace('\"', '')\n",
    "print demographics.head()"
   ]
  },
  {
   "cell_type": "markdown",
   "metadata": {},
   "source": [
    "Save the total number of active, democratic and republican voters to raw-len and print. We will use this later after cleaning to calculate how many rows we have deleted"
   ]
  },
  {
   "cell_type": "code",
   "execution_count": 7,
   "metadata": {
    "collapsed": false
   },
   "outputs": [
    {
     "name": "stdout",
     "output_type": "stream",
     "text": [
      "The number of rows pulled from the database is 4692494\n"
     ]
    }
   ],
   "source": [
    "raw_len=len(demographics)\n",
    "print \"The number of rows pulled from the database is \" + str(raw_len)"
   ]
  },
  {
   "cell_type": "markdown",
   "metadata": {},
   "source": [
    "Create a generic function to change blank fields to NaN for all categorical fields except birth_state and municipality_abbrv"
   ]
  },
  {
   "cell_type": "code",
   "execution_count": 8,
   "metadata": {
    "collapsed": true
   },
   "outputs": [],
   "source": [
    "def fix_blanks_NaN(x):\n",
    "    if x == \"\":\n",
    "        return np.nan\n",
    "    elif x == \" \":\n",
    "        return np.nan\n",
    "    else:\n",
    "        return x"
   ]
  },
  {
   "cell_type": "markdown",
   "metadata": {},
   "source": [
    "Create a generic function to change blank fields to None for birth_state and municipality_abbrv"
   ]
  },
  {
   "cell_type": "code",
   "execution_count": 9,
   "metadata": {
    "collapsed": true
   },
   "outputs": [],
   "source": [
    "def fix_blanks(x):\n",
    "    if x == \"\":\n",
    "        return \"None\"\n",
    "    elif x == \" \":\n",
    "        return \"None\"\n",
    "    else:\n",
    "        return x"
   ]
  },
  {
   "cell_type": "code",
   "execution_count": 10,
   "metadata": {
    "collapsed": false
   },
   "outputs": [],
   "source": [
    "demographics['birth_state'] = demographics['birth_state'].apply(fix_blanks) # change blanks to \"None\" in birth_state\n",
    "demographics['gender_code'] = demographics['gender_code'].apply(fix_blanks_NaN) # change blanks to NaN in gender_code\n",
    "demographics['race_code'] = demographics['race_code'].apply(fix_blanks_NaN) # etc.\n",
    "demographics['ethnic_code'] = demographics['ethnic_code'].apply(fix_blanks_NaN) \n",
    "demographics['zip_code'] = demographics['zip_code'].apply(fix_blanks_NaN)\n",
    "demographics['birth_state'] = demographics['birth_state'].apply(fix_blanks_NaN) \n",
    "demographics['drivers_lic'] = demographics['drivers_lic'].apply(fix_blanks_NaN) \n",
    "demographics['county_desc'] = demographics['county_desc'].apply(fix_blanks_NaN) \n",
    "demographics['registr_dt'] = demographics['registr_dt'].apply(fix_blanks_NaN)"
   ]
  },
  {
   "cell_type": "markdown",
   "metadata": {},
   "source": [
    "Clean the data by dropping rows with missing data and print a summary"
   ]
  },
  {
   "cell_type": "code",
   "execution_count": 11,
   "metadata": {
    "collapsed": false
   },
   "outputs": [
    {
     "name": "stdout",
     "output_type": "stream",
     "text": [
      "The number of rows I have dropped is 142\n",
      "The number of rows remaining in the database is 4692352\n",
      "The precentage of rows that I have dropped is: 0.003%\n"
     ]
    }
   ],
   "source": [
    "demographics.dropna(inplace=True, how='any') #drop all rows with NaN\n",
    "clean_len=len(demographics) #how many rows to I have left?\n",
    "difference = raw_len - clean_len #how many rows have I dropped?\n",
    "fraction = float(difference)/float(raw_len) #what fraction of rows have I dropped?\n",
    "print \"The number of rows I have dropped is \" + str(difference) \n",
    "print \"The number of rows remaining in the database is \" + str(clean_len)\n",
    "print \"The precentage of rows that I have dropped is: \" + str('{:.3%}'.format(fraction))"
   ]
  },
  {
   "cell_type": "markdown",
   "metadata": {},
   "source": [
    "convert birth_age to a float and registr_dt to datetime"
   ]
  },
  {
   "cell_type": "code",
   "execution_count": 12,
   "metadata": {
    "collapsed": false
   },
   "outputs": [],
   "source": [
    "demographics['birth_age'] = demographics['birth_age'].astype('float64')\n",
    "demographics['registr_dt'] = pd.to_datetime(demographics['registr_dt'])"
   ]
  },
  {
   "cell_type": "markdown",
   "metadata": {},
   "source": [
    "### Section B:  Modeling and Evaluation of Coefficients"
   ]
  },
  {
   "cell_type": "markdown",
   "metadata": {},
   "source": [
    "We need to determine the \"Majority Classifier\".  This is the percentage of the entire measured population that is a member of the majority class (either democratic or republican).  This is the baseline for measuring our model performance using \"accuracy\" since it is the performance we would achieve if we predicted every member of the population to be in the majority class"
   ]
  },
  {
   "cell_type": "code",
   "execution_count": 13,
   "metadata": {
    "collapsed": false
   },
   "outputs": [
    {
     "name": "stdout",
     "output_type": "stream",
     "text": [
      "party_cd\n",
      "DEM    0.562467\n",
      "REP    0.437533\n",
      "Name: party_cd, dtype: float64\n"
     ]
    }
   ],
   "source": [
    "majority = demographics.groupby(['party_cd'])['party_cd'].count()/demographics.groupby(['party_cd'])['party_cd'].count().sum()\n",
    "print majority"
   ]
  },
  {
   "cell_type": "markdown",
   "metadata": {},
   "source": [
    "###### The majority class with all voters is \"democratic\" and the accuracy of the \"Majority Classifier\" is 56.2%.  This will be our baseline for measuring model accuracy.\n"
   ]
  },
  {
   "cell_type": "markdown",
   "metadata": {},
   "source": [
    "\n",
    "Use years since registered rather than days to make coefficient interpretation clearer\n"
   ]
  },
  {
   "cell_type": "code",
   "execution_count": 14,
   "metadata": {
    "collapsed": true
   },
   "outputs": [],
   "source": [
    "def convert_to_float(x): # function to convert a timedelta object to a float of years\n",
    "    return x.total_seconds()/(60*60*24*365.2422)"
   ]
  },
  {
   "cell_type": "markdown",
   "metadata": {},
   "source": [
    "Create all the interaction features and get rid of everything not needed for the model "
   ]
  },
  {
   "cell_type": "code",
   "execution_count": 15,
   "metadata": {
    "collapsed": false
   },
   "outputs": [],
   "source": [
    "demographics['race_gender'] = demographics['race_code'] + demographics ['gender_code']\n",
    "demographics['race_ethnicity'] = demographics['race_code'] + demographics['ethnic_code']\n",
    "demographics['gender_ethnicity'] = demographics['gender_code'] + demographics ['ethnic_code']\n",
    "demographics['age_squared'] = (demographics['birth_age'])**2\n",
    "demographics['age_cubed'] = (demographics['birth_age'])**3\n",
    "now = pd.to_datetime('today') # get today's data\n",
    "demographics['years_since_registration'] = now - demographics['registr_dt'] # get days since registration as a timedelta object\n",
    "demographics['years_since_registration'] = demographics['years_since_registration'].apply(convert_to_float) # convert to float\n",
    "demographics['years_squared'] = (demographics['years_since_registration'])**2\n",
    "demographics['years_cubed'] = (demographics['years_since_registration'])**3\n",
    "demographics = demographics.drop(['registr_dt', 'race_code', 'gender_code', 'ethnic_code', 'county_desc', 'status_cd'], 1) # We no longer need these\n"
   ]
  },
  {
   "cell_type": "markdown",
   "metadata": {},
   "source": [
    "##### Features\n",
    "I select only the features from the simple model"
   ]
  },
  {
   "cell_type": "code",
   "execution_count": 16,
   "metadata": {
    "collapsed": false
   },
   "outputs": [],
   "source": [
    "initial_features = ['birth_age', \n",
    "                    'zip_code', \n",
    "                    'birth_state', \n",
    "                    'drivers_lic', \n",
    "                    'race_gender', \n",
    "                    'race_ethnicity', \n",
    "                    'gender_ethnicity',\n",
    "                    'age_squared', \n",
    "                    'age_cubed',\n",
    "                    'years_since_registration',\n",
    "                    'years_squared',\n",
    "                    'years_cubed'\n",
    "                    ] "
   ]
  },
  {
   "cell_type": "markdown",
   "metadata": {},
   "source": [
    "##### For analysis of coefficients we need to remove \"outliers\"\n",
    "\n",
    "To remove any \"outliers\", I need counts for each value of a feature.  If any value of a feature has very few observations (via threshold variable below), we will delete it from the data.  The following code removes these from the dataframe.  \n",
    "\n",
    "The reason this needs to be done is because feature values with very few observations can generate logistic regression coefficients that are extremely large.  Since we'll be using coefficient values to determine the importance of features, not doing this could distort the analysis. However, when doing predictions, we will use all the feature values."
   ]
  },
  {
   "cell_type": "code",
   "execution_count": 17,
   "metadata": {
    "collapsed": false
   },
   "outputs": [
    {
     "name": "stdout",
     "output_type": "stream",
     "text": [
      "The number of outliers that were removed from the data is 2423\n"
     ]
    }
   ],
   "source": [
    "from collections import Counter\n",
    "\n",
    "threshold = 120 # if fewer than 120 voters have a feature value, remove them from the data\n",
    "feature_values_to_remove = list() # create an empty list to hold all the feature values to remove\n",
    "# Don't remove any of the continuous features\n",
    "explore_features = [feature for feature in initial_features if ((feature != \"birth_age\") & (feature != \"age_squared\") & (feature != \"age_cubed\") & (feature != \"years_since_registration\")) & (feature != 'years_squared') & (feature != 'years_cubed')]\n",
    "\n",
    "\n",
    "\n",
    "for feature in explore_features: # first identifiy the feature values to be remove\n",
    "    hist_series = np.array(demographics[feature].astype('string')) # create a series consisiting of only the values of the feature\n",
    "    counts = Counter(hist_series) # create a dictionary with key equal to feature value, and value equal to number of occurances\n",
    "    df = pd.DataFrame.from_dict(counts, orient='index') # convert the dictionary into a data frame\n",
    "    df.sort_values(0,axis=0, ascending=True, inplace=True, kind='quicksort', na_position='last') # sort for exploration\n",
    "    df.index.name = 'value' # make the index a column\n",
    "    df.reset_index(inplace=True) # reset the data frame indexes\n",
    "    df.columns = ['value','count'] # name the columns\n",
    "    to_remove = df.query('count < ' + str(threshold))['value'] # create a series containing the feature values with < threshold values \n",
    "    feature_values_to_remove.append(to_remove) # append these to the list of feature values to remove\n",
    "    #print \"Feature values to be removed are \" + str(feature_values_to_remove)\n",
    "\n",
    "\n",
    "for feature in explore_features:\n",
    "    feature_index = pd.Index(explore_features).get_loc(feature) # get the index of the feature\n",
    "    values_to_remove = feature_values_to_remove[feature_index] # now pull this feature's \"values to remove\" from the list\n",
    "    #print \"The values to be removed are\" + str(values_toremove)\n",
    "    for value in values_to_remove: # iterate to remove each value\n",
    "        demographics = demographics[demographics[feature] != value]\n",
    "\n",
    "out_len = len(demographics)\n",
    "print \"The number of outliers that were removed from the data is \" + str(clean_len-out_len)"
   ]
  },
  {
   "cell_type": "code",
   "execution_count": 18,
   "metadata": {
    "collapsed": false
   },
   "outputs": [
    {
     "name": "stdout",
     "output_type": "stream",
     "text": [
      "This non-commercial license of GraphLab Create for academic use is assigned to scottsmi@live.unc.edu and will expire on May 15, 2018.\n"
     ]
    },
    {
     "name": "stderr",
     "output_type": "stream",
     "text": [
      "[INFO] graphlab.cython.cy_server: GraphLab Create v2.1 started. Logging: C:\\Windows\\SERVIC~2\\LOCALS~1\\AppData\\Local\\Temp\\graphlab_server_1499886850.log.0\n"
     ]
    }
   ],
   "source": [
    "# For scalability, we need to convert our data into a GraphLab SFrame\n",
    "\n",
    "demographicsS=gl.SFrame(demographics)\n",
    "#demographicsS['birth_age']=demographics['birth_age'].astype('float') # Make sure that this is also float in the SFrame"
   ]
  },
  {
   "cell_type": "markdown",
   "metadata": {},
   "source": [
    "Split the data into training/validation data(80%) and test data (20%)"
   ]
  },
  {
   "cell_type": "code",
   "execution_count": 19,
   "metadata": {
    "collapsed": false
   },
   "outputs": [],
   "source": [
    "training, test = demographicsS.random_split(.8)# split 80/20"
   ]
  },
  {
   "cell_type": "markdown",
   "metadata": {},
   "source": [
    "Before I begin my detailed analysis, I need to ensure that the logistic classifier will use a neutral reference so all coefficient will be calculated relative to this baseline.  I need to create 2 rows to put on top of the SFrame with \"None\" as the value of all the categorical variables.  This will select \"None\" as the reference value and will print all the coefficients.  I'm also putting in mean values for all continuous variables to move the intercept as close to zero as possible.  "
   ]
  },
  {
   "cell_type": "markdown",
   "metadata": {
    "collapsed": true
   },
   "source": [
    "First, we calculate the mean age of voters, and the mean number of days that they've been registered."
   ]
  },
  {
   "cell_type": "code",
   "execution_count": 20,
   "metadata": {
    "collapsed": true
   },
   "outputs": [],
   "source": [
    "mean_age = demographics['birth_age'].mean()\n",
    "mean_years = demographics['years_since_registration'].mean()"
   ]
  },
  {
   "cell_type": "markdown",
   "metadata": {},
   "source": [
    "Next, we create a two-row dataframe with 'None' as the value for all categorical variables and the means as the value for all continuous variables."
   ]
  },
  {
   "cell_type": "code",
   "execution_count": 21,
   "metadata": {
    "collapsed": false
   },
   "outputs": [],
   "source": [
    "non_vals = ['None','None'] # values to fill the fields\n",
    "reference_sf = gl.SFrame({'birth_age':[mean_age, mean_age], # create a new SFrame with 2 rows and \"None\" for all categorical variables\n",
    "                    'party_cd':['DEM','REP'], \n",
    "                    'zip_code': non_vals, \n",
    "                    'birth_state': non_vals, \n",
    "                    'drivers_lic': non_vals, \n",
    "                    'race_gender': non_vals, \n",
    "                    'race_ethnicity': non_vals, \n",
    "                    'gender_ethnicity': non_vals,\n",
    "                    'age_squared' : [mean_age**2, mean_age**2],\n",
    "                    'age_cubed' : [mean_age**3,mean_age**3],\n",
    "                    'years_since_registration' : [mean_years, mean_years],\n",
    "                    'years_squared' : [mean_years**2, mean_years**2],\n",
    "                    'years_cubed' : [mean_years**3, mean_years**3]})"
   ]
  },
  {
   "cell_type": "markdown",
   "metadata": {
    "collapsed": false
   },
   "source": [
    "Now we will run logistic regression using no L1 Penalty with all the variables"
   ]
  },
  {
   "cell_type": "code",
   "execution_count": 22,
   "metadata": {
    "collapsed": false
   },
   "outputs": [],
   "source": [
    "train = reference_sf.append(training) # put the two reference rows on the top of training data so they will establish the reference\n",
    "model = gl.logistic_classifier.create(train, target='party_cd', features=initial_features, \n",
    "                                              validation_set=None, l1_penalty=0, l2_penalty=0.01, \n",
    "                                              verbose=False, max_iterations=10000, class_weights=None)"
   ]
  },
  {
   "cell_type": "markdown",
   "metadata": {},
   "source": [
    "Let's explore the model"
   ]
  },
  {
   "cell_type": "code",
   "execution_count": 23,
   "metadata": {
    "collapsed": false
   },
   "outputs": [
    {
     "data": {
      "text/plain": [
       "{'accuracy': 0.7509582220516348,\n",
       " 'auc': 0.8287886470720984,\n",
       " 'confusion_matrix': Columns:\n",
       " \ttarget_label\tstr\n",
       " \tpredicted_label\tstr\n",
       " \tcount\tint\n",
       " \n",
       " Rows: 4\n",
       " \n",
       " Data:\n",
       " +--------------+-----------------+--------+\n",
       " | target_label | predicted_label | count  |\n",
       " +--------------+-----------------+--------+\n",
       " |     REP      |       DEM       | 70035  |\n",
       " |     REP      |       REP       | 340031 |\n",
       " |     DEM      |       DEM       | 364319 |\n",
       " |     DEM      |       REP       | 163550 |\n",
       " +--------------+-----------------+--------+\n",
       " [4 rows x 3 columns],\n",
       " 'f1_score': 0.7443378022365312,\n",
       " 'log_loss': 0.48338506769174544,\n",
       " 'precision': 0.6752260311647977,\n",
       " 'recall': 0.8292104197860832,\n",
       " 'roc_curve': Columns:\n",
       " \tthreshold\tfloat\n",
       " \tfpr\tfloat\n",
       " \ttpr\tfloat\n",
       " \tp\tint\n",
       " \tn\tint\n",
       " \n",
       " Rows: 100001\n",
       " \n",
       " Data:\n",
       " +-----------+-----+-----+--------+--------+\n",
       " | threshold | fpr | tpr |   p    |   n    |\n",
       " +-----------+-----+-----+--------+--------+\n",
       " |    0.0    | 1.0 | 1.0 | 410066 | 527869 |\n",
       " |   1e-05   | 1.0 | 1.0 | 410066 | 527869 |\n",
       " |   2e-05   | 1.0 | 1.0 | 410066 | 527869 |\n",
       " |   3e-05   | 1.0 | 1.0 | 410066 | 527869 |\n",
       " |   4e-05   | 1.0 | 1.0 | 410066 | 527869 |\n",
       " |   5e-05   | 1.0 | 1.0 | 410066 | 527869 |\n",
       " |   6e-05   | 1.0 | 1.0 | 410066 | 527869 |\n",
       " |   7e-05   | 1.0 | 1.0 | 410066 | 527869 |\n",
       " |   8e-05   | 1.0 | 1.0 | 410066 | 527869 |\n",
       " |   9e-05   | 1.0 | 1.0 | 410066 | 527869 |\n",
       " +-----------+-----+-----+--------+--------+\n",
       " [100001 rows x 5 columns]\n",
       " Note: Only the head of the SFrame is printed.\n",
       " You can use print_rows(num_rows=m, num_columns=n) to print more rows and columns.}"
      ]
     },
     "execution_count": 23,
     "metadata": {},
     "output_type": "execute_result"
    }
   ],
   "source": [
    "model.evaluate(test)"
   ]
  },
  {
   "cell_type": "markdown",
   "metadata": {},
   "source": [
    "The accuracy of the model is 75.1% vs. 56.2% for the majority classifier, a 18.9% positive difference.  "
   ]
  },
  {
   "cell_type": "markdown",
   "metadata": {},
   "source": [
    "Let's save the coefficients for the continuous variables for later use"
   ]
  },
  {
   "cell_type": "code",
   "execution_count": 24,
   "metadata": {
    "collapsed": false
   },
   "outputs": [],
   "source": [
    "coeff = model.get('coefficients')\n",
    "birth_age=coeff[coeff['name']=='birth_age']['value'][0]\n",
    "age_squared=coeff[coeff['name']=='age_squared']['value'][0]\n",
    "age_cubed=coeff[coeff['name']=='age_cubed']['value'][0]\n",
    "years_since_registration = coeff[coeff['name']=='years_since_registration']['value'][0]\n",
    "years_squared = coeff[coeff['name']=='years_squared']['value'][0]\n",
    "years_cubed = coeff[coeff['name']=='years_cubed']['value'][0]"
   ]
  },
  {
   "cell_type": "markdown",
   "metadata": {},
   "source": [
    "Now, let's look at all the coefficients and analyze them.  For now, ignore birth_age, age_squared, age_cubed, years_since_registration, years_squared, and years_cubed"
   ]
  },
  {
   "cell_type": "code",
   "execution_count": 25,
   "metadata": {
    "collapsed": false
   },
   "outputs": [
    {
     "name": "stdout",
     "output_type": "stream",
     "text": [
      "                     feature     min_coeff     max_coeff    spread\n",
      "12                  zip_code -2.708726e+00  1.469351e+00  4.178078\n",
      "7             race_ethnicity -1.612972e+00  6.563529e-01  2.269325\n",
      "8                race_gender -1.651347e+00  5.233299e-01  2.174677\n",
      "4                birth_state -2.652629e-01  5.706098e-01  0.835873\n",
      "6           gender_ethnicity -5.224391e-01  4.443757e-02  0.566877\n",
      "5                drivers_lic -2.514679e-01 -9.063308e-02  0.160835\n",
      "1                  age_cubed  1.825949e-08  1.825949e-08  0.000000\n",
      "2                age_squared -1.156306e-04 -1.156306e-04  0.000000\n",
      "3                  birth_age  5.951229e-03  5.951229e-03  0.000000\n",
      "9                years_cubed  4.438442e-06  4.438442e-06  0.000000\n",
      "10  years_since_registration  7.268984e-03  7.268984e-03  0.000000\n",
      "11             years_squared -6.383558e-04 -6.383558e-04  0.000000\n",
      "                                  abs_value\n",
      "name             value     index           \n",
      "birth_state      -0.265263 MA      0.265263\n",
      "                 -0.208118 VT      0.208118\n",
      "                 -0.166108 RI      0.166108\n",
      "                 -0.129615 DC      0.129615\n",
      "                 -0.123005 CT      0.123005\n",
      "                 -0.122938 WV      0.122938\n",
      "                 -0.086507 VI      0.086507\n",
      "                 -0.060946 NY      0.060946\n",
      "                 -0.055144 NH      0.055144\n",
      "                 -0.052355 OC      0.052355\n",
      "                  0.010097 PR      0.010097\n",
      "                  0.019529 ME      0.019529\n",
      "                  0.023187 AR      0.023187\n",
      "                  0.026162 MN      0.026162\n",
      "                  0.055840 KY      0.055840\n",
      "                  0.057495 OR      0.057495\n",
      "                  0.060034 NJ      0.060034\n",
      "                  0.062933 WA      0.062933\n",
      "                  0.070537 PA      0.070537\n",
      "                  0.076811 WI      0.076811\n",
      "                  0.083232 MD      0.083232\n",
      "                  0.083687 CA      0.083687\n",
      "                  0.092671 NV      0.092671\n",
      "                  0.093721 DE      0.093721\n",
      "                  0.102108 CO      0.102108\n",
      "                  0.104663 IL      0.104663\n",
      "                  0.133934 IA      0.133934\n",
      "                  0.135888 OH      0.135888\n",
      "                  0.150961 ND      0.150961\n",
      "                  0.151481 NC      0.151481\n",
      "                  0.152389 FL      0.152389\n",
      "                  0.171738 MI      0.171738\n",
      "                  0.194438 MO      0.194438\n",
      "                  0.196226 NM      0.196226\n",
      "                  0.211446 GU      0.211446\n",
      "                  0.222925 HI      0.222925\n",
      "                  0.227556 AZ      0.227556\n",
      "                  0.228514 MT      0.228514\n",
      "                  0.235985 OK      0.235985\n",
      "                  0.237184 TN      0.237184\n",
      "                  0.251739 VA      0.251739\n",
      "                  0.265548 WY      0.265548\n",
      "                  0.272359 KS      0.272359\n",
      "                  0.272813 IN      0.272813\n",
      "                  0.279613 SD      0.279613\n",
      "                  0.281753 LA      0.281753\n",
      "                  0.289643 NE      0.289643\n",
      "                  0.295293 AK      0.295293\n",
      "                  0.297890 SC      0.297890\n",
      "                  0.321022 AL      0.321022\n",
      "                  0.324661 GA      0.324661\n",
      "                  0.330848 TX      0.330848\n",
      "                  0.343108 ID      0.343108\n",
      "                  0.455618 MS      0.455618\n",
      "                  0.570610 UT      0.570610\n",
      "drivers_lic      -0.251468 N       0.251468\n",
      "                 -0.090633 Y       0.090633\n",
      "gender_ethnicity -0.522439 FHL     0.522439\n",
      "                 -0.372882 FUN     0.372882\n",
      "                 -0.289557 MHL     0.289557\n",
      "                 -0.242797 UHL     0.242797\n",
      "                 -0.180974 UUN     0.180974\n",
      "                 -0.175904 FNL     0.175904\n",
      "                 -0.115755 MUN     0.115755\n",
      "                 -0.066850 UNL     0.066850\n",
      "                  0.044438 MNL     0.044438\n",
      "race_ethnicity   -1.612972 BUN     1.612972\n",
      "                 -1.518426 BNL     1.518426\n",
      "                 -0.684077 UHL     0.684077\n",
      "                 -0.604754 BHL     0.604754\n",
      "                 -0.553679 MUN     0.553679\n",
      "                 -0.523582 MNL     0.523582\n",
      "                 -0.381934 WHL     0.381934\n",
      "                 -0.350931 OHL     0.350931\n",
      "                 -0.295790 IHL     0.295790\n",
      "                 -0.238447 OUN     0.238447\n",
      "                 -0.189602 INL     0.189602\n",
      "                 -0.165278 ANL     0.165278\n",
      "                 -0.105019 MHL     0.105019\n",
      "                 -0.097679 AHL     0.097679\n",
      "                 -0.048367 ONL     0.048367\n",
      "                  0.025861 IUN     0.025861\n",
      "                  0.072022 AUN     0.072022\n",
      "                  0.086715 UNL     0.086715\n",
      "                  0.096932 UUN     0.096932\n",
      "                  0.434163 WNL     0.434163\n",
      "                  0.656353 WUN     0.656353\n",
      "race_gender      -1.651347 BF      1.651347\n",
      "                 -1.539938 BU      1.539938\n",
      "                 -1.378736 BM      1.378736\n",
      "                 -0.628218 MF      0.628218\n",
      "                 -0.549391 OU      0.549391\n",
      "                 -0.475340 AU      0.475340\n",
      "                 -0.242129 OF      0.242129\n",
      "                 -0.231334 MU      0.231334\n",
      "                 -0.201804 IF      0.201804\n",
      "                 -0.175606 UF      0.175606\n",
      "                 -0.156744 MM      0.156744\n",
      "                 -0.153633 OM      0.153633\n",
      "                 -0.149191 AM      0.149191\n",
      "                 -0.114901 IM      0.114901\n",
      "                 -0.057971 UM      0.057971\n",
      "                 -0.022919 AF      0.022919\n",
      "                  0.077210 UU      0.077210\n",
      "                  0.350961 WU      0.350961\n",
      "                  0.379845 IU      0.379845\n",
      "                  0.405269 WF      0.405269\n",
      "                  0.523330 WM      0.523330\n",
      "zip_code         -2.708726 27110   2.708726\n",
      "                 -2.553948 27510   2.553948\n",
      "                 -2.350208 28801   2.350208\n",
      "                 -2.254733 27701   2.254733\n",
      "                 -1.984165 27885   1.984165\n",
      "                 -1.873443 27960   1.873443\n",
      "                 -1.782634 27844   1.782634\n",
      "                 -1.769818 27826   1.769818\n",
      "                 -1.710878 27516   1.710878\n",
      "                 -1.674015 27876   1.674015\n",
      "                 -1.611326 27514   1.611326\n",
      "                 -1.606019 27820   1.606019\n",
      "                 -1.569918 28743   1.569918\n",
      "                 -1.533635 28438   1.533635\n",
      "                 -1.524049 27853   1.524049\n",
      "                 -1.499479 28035   1.499479\n",
      "                 -1.472579 28439   1.472579\n",
      "                 -1.465150 27707   1.465150\n",
      "                 -1.452338 28442   1.452338\n",
      "                 -1.379982 28788   1.379982\n",
      "                 -1.369899 27601   1.369899\n",
      "                 -1.365742 28455   1.365742\n",
      "                 -1.362512 27705   1.362512\n",
      "                 -1.359274 27411   1.359274\n",
      "                 -1.357835 27845   1.357835\n",
      "                 -1.354127 28091   1.354127\n",
      "                 -1.336411 28804   1.336411\n",
      "                 -1.331590 28369   1.331590\n",
      "                 -1.274080 27862   1.274080\n",
      "                 -1.269462 28372   1.269462\n",
      "                 -1.267665 28430   1.267665\n",
      "                 -1.263116 28332   1.263116\n",
      "                 -1.261807 28434   1.261807\n",
      "                 -1.260090 28340   1.260090\n",
      "                 -1.243361 27605   1.243361\n",
      "                 -1.235830 28806   1.235830\n",
      "                 -1.220113 27708   1.220113\n",
      "                 -1.218995 27897   1.218995\n",
      "                 -1.204189 27877   1.204189\n",
      "                 -1.192628 28330   1.192628\n",
      "                 -1.190380 28433   1.190380\n",
      "                 -1.190022 28170   1.190022\n",
      "                 -1.188955 28007   1.188955\n",
      "                 -1.186674 27713   1.186674\n",
      "                 -1.179864 28431   1.179864\n",
      "                 -1.179712 28423   1.179712\n",
      "                 -1.173544 28360   1.173544\n",
      "                 -1.172824 28432   1.172824\n",
      "                 -1.171128 27869   1.171128\n",
      "                 -1.165155 28805   1.165155\n",
      "                 -1.163820 27582   1.163820\n",
      "                 -1.155847 27517   1.155847\n",
      "                 -1.151929 27942   1.151929\n",
      "                 -1.149515 28320   1.149515\n",
      "                 -1.133137 27589   1.133137\n",
      "                 -1.133000 27928   1.133000\n",
      "                 -1.126673 27403   1.126673\n",
      "                 -1.125091 27983   1.125091\n",
      "                 -1.122909 27986   1.122909\n",
      "                 -1.121081 27855   1.121081\n",
      "                 -1.116863 27563   1.116863\n",
      "                 -1.106021 27925   1.106021\n",
      "                 -1.096720 28392   1.096720\n",
      "                 -1.095373 28383   1.095373\n",
      "                 -1.092160 27401   1.092160\n",
      "                 -1.089633 28119   1.089633\n",
      "                 -1.071344 27305   1.071344\n",
      "                 -1.069466 28358   1.069466\n",
      "                 -1.049087 27412   1.049087\n",
      "                 -1.046099 28779   1.046099\n",
      "                 -1.044407 27972   1.044407\n",
      "                 -1.035148 28205   1.035148\n",
      "                 -1.029211 28753   1.029211\n",
      "                 -1.027854 28337   1.027854\n",
      "                 -1.014229 28377   1.014229\n",
      "                 -1.000402 27946   1.000402\n",
      "                 -0.998130 27551   0.998130\n",
      "                 -0.982610 27970   0.982610\n",
      "                 -0.980381 27536   0.980381\n",
      "                 -0.973597 27840   0.973597\n",
      "                 -0.970575 27938   0.970575\n",
      "                 -0.968768 28364   0.968768\n",
      "                 -0.963186 27805   0.963186\n",
      "                 -0.961842 27704   0.961842\n",
      "                 -0.961371 27824   0.961371\n",
      "                 -0.960119 28783   0.960119\n",
      "                 -0.951867 27278   0.951867\n",
      "                 -0.943547 28580   0.943547\n",
      "                 -0.941185 28709   0.941185\n",
      "                 -0.935852 28520   0.935852\n",
      "                 -0.934846 27935   0.934846\n",
      "                 -0.929599 28450   0.929599\n",
      "                 -0.926507 27832   0.926507\n",
      "                 -0.923623 28204   0.923623\n",
      "                 -0.921644 27910   0.921644\n",
      "                 -0.917647 27890   0.917647\n",
      "                 -0.914317 27924   0.914317\n",
      "                 -0.912037 27875   0.912037\n",
      "                 -0.909000 28345   0.909000\n",
      "                 -0.906267 27312   0.906267\n",
      "                 -0.899250 27823   0.899250\n",
      "                 -0.898042 27866   0.898042\n",
      "                 -0.897480 28786   0.897480\n",
      "                 -0.887757 27962   0.887757\n",
      "                 -0.882591 28745   0.882591\n",
      "                 -0.852001 28463   0.852001\n",
      "                 -0.846346 28401   0.846346\n",
      "                 -0.842611 28713   0.842611\n",
      "                 -0.839210 28379   0.839210\n",
      "                 -0.837324 27849   0.837324\n",
      "                 -0.835078 27819   0.835078\n",
      "                 -0.829174 27922   0.829174\n",
      "                 -0.828403 28206   0.828403\n",
      "                 -0.827186 28803   0.827186\n",
      "                 -0.824070 28472   0.824070\n",
      "                 -0.818233 28721   0.818233\n",
      "                 -0.813815 27953   0.813815\n",
      "                 -0.807876 28386   0.807876\n",
      "                 -0.797352 27968   0.797352\n",
      "                 -0.794865 28778   0.794865\n",
      "                 -0.790618 28363   0.790618\n",
      "                 -0.784536 27212   0.784536\n",
      "                 -0.783517 27839   0.783517\n",
      "                 -0.783144 27954   0.783144\n",
      "                 -0.772236 27872   0.772236\n",
      "                 -0.771796 28711   0.771796\n",
      "                 -0.766934 27565   0.766934\n",
      "                 -0.759946 27831   0.759946\n",
      "                 -0.755754 28509   0.755754\n",
      "                 -0.751604 28135   0.751604\n",
      "                 -0.751524 27610   0.751524\n",
      "                 -0.747987 27818   0.747987\n",
      "                 -0.740325 28343   0.740325\n",
      "                 -0.725561 28785   0.725561\n",
      "                 -0.725537 27870   0.725537\n",
      "                 -0.718748 28349   0.718748\n",
      "                 -0.714730 27979   0.714730\n",
      "                 -0.710969 27821   0.710969\n",
      "                 -0.702933 28351   0.702933\n",
      "                 -0.702276 27604   0.702276\n",
      "                 -0.699037 28723   0.699037\n",
      "                 -0.696173 27379   0.696173\n",
      "                 -0.694885 27101   0.694885\n",
      "                 -0.691850 27607   0.691850\n",
      "                 -0.688116 27608   0.688116\n",
      "                 -0.688073 27537   0.688073\n",
      "                 -0.685385 27874   0.685385\n",
      "                 -0.679967 28352   0.679967\n",
      "                 -0.665185 27957   0.665185\n",
      "                 -0.659722 27507   0.659722\n",
      "                 -0.656359 28208   0.656359\n",
      "                 -0.655641 28707   0.655641\n",
      "                 -0.653334 27606   0.653334\n",
      "                 -0.640401 28347   0.640401\n",
      "                 -0.630336 27573   0.630336\n",
      "                 -0.625808 28754   0.625808\n",
      "                 -0.623432 27703   0.623432\n",
      "                 -0.620805 28448   0.620805\n",
      "                 -0.620403 27857   0.620403\n",
      "                 -0.619499 27243   0.619499\n",
      "                 -0.615423 28338   0.615423\n",
      "                 -0.609736 27920   0.609736\n",
      "                 -0.609381 27544   0.609381\n",
      "                 -0.604515 27892   0.604515\n",
      "                 -0.603044 27886   0.603044\n",
      "                 -0.601855 27812   0.601855\n",
      "                 -0.601171 27843   0.601171\n",
      "                 -0.599839 28399   0.599839\n",
      "                 -0.591363 28787   0.591363\n",
      "                 -0.589859 27541   0.589859\n",
      "                 -0.586971 27846   0.586971\n",
      "                 -0.579704 28675   0.579704\n",
      "                 -0.576141 27850   0.576141\n",
      "                 -0.573736 28583   0.573736\n",
      "                 -0.573697 28212   0.573697\n",
      "                 -0.568916 28751   0.568916\n",
      "                 -0.562446 28716   0.562446\n",
      "                 -0.557691 27974   0.557691\n",
      "                 -0.549971 27959   0.549971\n",
      "                 -0.548956 27919   0.548956\n",
      "                 -0.548290 27231   0.548290\n",
      "                 -0.541876 27553   0.541876\n",
      "                 -0.539673 28213   0.539673\n",
      "                 -0.536959 28714   0.536959\n",
      "                 -0.532355 27017   0.532355\n",
      "                 -0.528669 27712   0.528669\n",
      "                 -0.527463 28538   0.527463\n",
      "                 -0.526972 27888   0.526972\n",
      "                 -0.517970 27981   0.517970\n",
      "                 -0.516908 28585   0.516908\n",
      "                 -0.514565 28663   0.514565\n",
      "                 -0.511710 27917   0.511710\n",
      "                 -0.502435 28384   0.502435\n",
      "                 -0.492424 28217   0.492424\n",
      "                 -0.487335 28515   0.487335\n",
      "                 -0.486681 27574   0.486681\n",
      "                 -0.484743 27612   0.484743\n",
      "                 -0.481497 28608   0.481497\n",
      "                 -0.478475 28607   0.478475\n",
      "                 -0.473459 28456   0.473459\n",
      "                 -0.471989 28262   0.471989\n",
      "                 -0.471861 28617   0.471861\n",
      "                 -0.469588 27923   0.469588\n",
      "                 -0.463363 27873   0.463363\n",
      "                 -0.450811 27964   0.450811\n",
      "                 -0.448487 27560   0.448487\n",
      "                 -0.444367 28325   0.444367\n",
      "                 -0.442119 28202   0.442119\n",
      "                 -0.441751 28730   0.441751\n",
      "                 -0.439688 27314   0.439688\n",
      "                 -0.437268 28203   0.437268\n",
      "                 -0.436452 28090   0.436452\n",
      "                 -0.431702 27948   0.431702\n",
      "                 -0.431064 27509   0.431064\n",
      "                 -0.429502 27879   0.429502\n",
      "                 -0.428535 27291   0.428535\n",
      "                 -0.427586 28789   0.427586\n",
      "                 -0.424142 28704   0.424142\n",
      "                 -0.424137 28735   0.424137\n",
      "                 -0.423789 27209   0.423789\n",
      "                 -0.415271 27965   0.415271\n",
      "                 -0.414976 27609   0.414976\n",
      "                 -0.414535 28301   0.414535\n",
      "                 -0.413378 28715   0.413378\n",
      "                 -0.409185 27511   0.409185\n",
      "                 -0.407410 27937   0.407410\n",
      "                 -0.399306 27980   0.399306\n",
      "                 -0.395005 27947   0.395005\n",
      "                 -0.392498 27852   0.392498\n",
      "                 -0.387722 27943   0.387722\n",
      "                 -0.386742 28719   0.386742\n",
      "                 -0.386731 27343   0.386731\n",
      "                 -0.383788 27936   0.383788\n",
      "                 -0.380621 27315   0.380621\n",
      "                 -0.378014 27356   0.378014\n",
      "                 -0.370835 28441   0.370835\n",
      "                 -0.365951 27967   0.365951\n",
      "                 -0.360587 27371   0.360587\n",
      "                 -0.355831 28216   0.355831\n",
      "                 -0.354869 28396   0.354869\n",
      "                 -0.354673 28403   0.354673\n",
      "                 -0.353731 27932   0.353731\n",
      "                 -0.352978 27405   0.352978\n",
      "                 -0.350487 28529   0.350487\n",
      "                 -0.350220 28640   0.350220\n",
      "                 -0.343548 28655   0.343548\n",
      "                 -0.343107 27109   0.343107\n",
      "                 -0.342385 28701   0.342385\n",
      "                 -0.341745 27616   0.341745\n",
      "                 -0.340235 28133   0.340235\n",
      "                 -0.326830 28748   0.326830\n",
      "                 -0.321988 28623   0.321988\n",
      "                 -0.321189 27103   0.321189\n",
      "                 -0.320284 27513   0.320284\n",
      "                 -0.317628 27966   0.317628\n",
      "                 -0.316065 28511   0.316065\n",
      "                 -0.315662 28114   0.315662\n",
      "                 -0.314447 27829   0.314447\n",
      "                 -0.311813 28398   0.311813\n",
      "                 -0.309994 28150   0.309994\n",
      "                 -0.309198 28215   0.309198\n",
      "                 -0.306210 27326   0.306210\n",
      "                 -0.305597 27834   0.305597\n",
      "                 -0.303687 28040   0.303687\n",
      "                 -0.303569 28421   0.303569\n",
      "                 -0.303496 27864   0.303496\n",
      "                 -0.303454 28712   0.303454\n",
      "                 -0.301544 27915   0.301544\n",
      "                 -0.300289 28717   0.300289\n",
      "                 -0.300121 28209   0.300121\n",
      "                 -0.295160 27344   0.295160\n",
      "                 -0.294284 27572   0.294284\n",
      "                 -0.291732 28587   0.291732\n",
      "                 -0.291032 28782   0.291032\n",
      "                 -0.278687 27330   0.278687\n",
      "                 -0.278171 27806   0.278171\n",
      "                 -0.277644 28043   0.277644\n",
      "                 -0.276198 28077   0.276198\n",
      "                 -0.275452 27891   0.275452\n",
      "                 -0.274842 27847   0.274842\n",
      "                 -0.272322 27909   0.272322\n",
      "                 -0.269433 27944   0.269433\n",
      "                 -0.268722 28428   0.268722\n",
      "                 -0.268304 27207   0.268304\n",
      "                 -0.266007 27949   0.266007\n",
      "                 -0.265319 28223   0.265319\n",
      "                 -0.262835 27549   0.262835\n",
      "                 -0.254660 28269   0.254660\n",
      "                 -0.254018 28273   0.254018\n",
      "                 -0.248610 27617   0.248610\n",
      "                 -0.247198 27306   0.247198\n",
      "                 -0.246895 27916   0.246895\n",
      "                 -0.244984 27503   0.244984\n",
      "                 -0.243385 27408   0.243385\n",
      "                 -0.239737 27893   0.239737\n",
      "                 -0.236869 27260   0.236869\n",
      "                 -0.236376 27105   0.236376\n",
      "                 -0.233040 28775   0.233040\n",
      "                 -0.232476 27603   0.232476\n",
      "                 -0.231812 27871   0.231812\n",
      "                 -0.231659 28702   0.231659\n",
      "                 -0.230733 28160   0.230733\n",
      "                 -0.226444 27519   0.226444\n",
      "                 -0.224782 27613   0.224782\n",
      "                 -0.223486 28577   0.223486\n",
      "                 -0.221660 28501   0.221660\n",
      "                 -0.221126 27883   0.221126\n",
      "                 -0.218371 28341   0.218371\n",
      "                 -0.212467 28752   0.212467\n",
      "                 -0.210260 27816   0.210260\n",
      "                 -0.208944 27522   0.208944\n",
      "                 -0.205071 27311   0.205071\n",
      "                 -0.204234 27926   0.204234\n",
      "                 -0.203154 28636   0.203154\n",
      "                 -0.199739 27941   0.199739\n",
      "                 -0.198502 28274   0.198502\n",
      "                 -0.198400 28357   0.198400\n",
      "                 -0.197563 27801   0.197563\n",
      "                 -0.196564 28508   0.196564\n",
      "                 -0.193310 28447   0.193310\n",
      "                 -0.192940 27410   0.192940\n",
      "                 -0.187732 28901   0.187732\n",
      "                 -0.186006 28152   0.186006\n",
      "                 -0.184803 28619   0.184803\n",
      "                 -0.184358 27407   0.184358\n",
      "                 -0.183767 28763   0.183767\n",
      "                 -0.183096 28435   0.183096\n",
      "                 -0.179133 28134   0.179133\n",
      "                 -0.177441 28009   0.177441\n",
      "                 -0.176023 28573   0.176023\n",
      "                 -0.175891 27024   0.175891\n",
      "                 -0.171478 28504   0.171478\n",
      "                 -0.171333 27828   0.171333\n",
      "                 -0.167938 27409   0.167938\n",
      "                 -0.167495 27973   0.167495\n",
      "                 -0.167394 27027   0.167394\n",
      "                 -0.167131 28159   0.167131\n",
      "                 -0.160356 28692   0.160356\n",
      "                 -0.158181 27545   0.158181\n",
      "                 -0.157375 28605   0.157375\n",
      "                 -0.152595 28694   0.152595\n",
      "                 -0.151116 27939   0.151116\n",
      "                 -0.145974 27106   0.145974\n",
      "                 -0.145226 28556   0.145226\n",
      "                 -0.143431 27546   0.143431\n",
      "                 -0.142292 28444   0.142292\n",
      "                 -0.141623 27025   0.141623\n",
      "                 -0.141564 27559   0.141564\n",
      "                 -0.140605 27229   0.140605\n",
      "                 -0.140492 27127   0.140492\n",
      "                 -0.138398 27615   0.138398\n",
      "                 -0.136659 28627   0.136659\n",
      "                 -0.136203 28690   0.136203\n",
      "                 -0.135467 27921   0.135467\n",
      "                 -0.132767 27508   0.132767\n",
      "                 -0.131742 27518   0.131742\n",
      "                 -0.130649 27581   0.130649\n",
      "                 -0.125695 28586   0.125695\n",
      "                 -0.124278 28516   0.124278\n",
      "                 -0.123616 28462   0.123616\n",
      "                 -0.119631 27861   0.119631\n",
      "                 -0.119220 27505   0.119220\n",
      "                 -0.118084 28761   0.118084\n",
      "                 -0.111572 28722   0.111572\n",
      "                 -0.107150 28412   0.107150\n",
      "                 -0.106704 27523   0.106704\n",
      "                 -0.103103 28214   0.103103\n",
      "                 -0.102873 28513   0.102873\n",
      "                 -0.099206 28478   0.099206\n",
      "                 -0.099113 28525   0.099113\n",
      "                 -0.098530 28571   0.098530\n",
      "                 -0.098310 27302   0.098310\n",
      "                 -0.098049 27502   0.098049\n",
      "                 -0.092643 27808   0.092643\n",
      "                 -0.090507 28530   0.090507\n",
      "                 -0.087404 27252   0.087404\n",
      "                 -0.087394 28905   0.087394\n",
      "                 -0.086052 28762   0.086052\n",
      "                 -0.086003 28734   0.086003\n",
      "                 -0.080973 27217   0.080973\n",
      "                 -0.072422 27858   0.072422\n",
      "                 -0.071932 28644   0.071932\n",
      "                 -0.066088 28773   0.066088\n",
      "                 -0.066037 28305   0.066037\n",
      "                 -0.064562 28371   0.064562\n",
      "                 -0.063299 27288   0.063299\n",
      "                 -0.061889 28021   0.061889\n",
      "                 -0.060509 28466   0.060509\n",
      "                 -0.060472 27810   0.060472\n",
      "                 -0.059184 27529   0.059184\n",
      "                 -0.058720 27104   0.058720\n",
      "                 -0.057389 28518   0.057389\n",
      "                 -0.057136 28771   0.057136\n",
      "                 -0.054725 27882   0.054725\n",
      "                 -0.054543 27455   0.054543\n",
      "                 -0.051815 28768   0.051815\n",
      "                 -0.050991 28628   0.050991\n",
      "                 -0.050643 28436   0.050643\n",
      "                 -0.049417 28458   0.049417\n",
      "                 -0.044261 27878   0.044261\n",
      "                 -0.041151 27253   0.041151\n",
      "                 -0.039620 28526   0.039620\n",
      "                 -0.038272 27406   0.038272\n",
      "                 -0.031036 27048   0.031036\n",
      "                 -0.030506 27525   0.030506\n",
      "                 -0.029966 27889   0.029966\n",
      "                 -0.029754 27577   0.029754\n",
      "                 -0.028709 28902   0.028709\n",
      "                 -0.028544 27842   0.028544\n",
      "                 -0.026567 28465   0.026567\n",
      "                 -0.026181 27927   0.026181\n",
      "                 -0.024168 27046   0.024168\n",
      "                 -0.018608 27320   0.018608\n",
      "                 -0.018529 28470   0.018529\n",
      "                 -0.017414 28510   0.017414\n",
      "                 -0.014127 27030   0.014127\n",
      "                 -0.012828 28756   0.012828\n",
      "                 -0.012221 27583   0.012221\n",
      "                 -0.010044 28679   0.010044\n",
      "                 -0.009395 28904   0.009395\n",
      "                 -0.009134 28036   0.009134\n",
      "                 -0.008133 28139   0.008133\n",
      "                 -0.004767 27813   0.004767\n",
      "                 -0.002052 28425   0.002052\n",
      "                 -0.001065 28429   0.001065\n",
      "                  0.001199 28393   0.001199\n",
      "                  0.002193 28092   0.002193\n",
      "                  0.007770 28449   0.007770\n",
      "                  0.008422 27884   0.008422\n",
      "                  0.013667 28732   0.013667\n",
      "                  0.015802 27258   0.015802\n",
      "                  0.016062 27042   0.016062\n",
      "                  0.016880 28376   0.016880\n",
      "                  0.018945 28572   0.018945\n",
      "                  0.019567 28278   0.019567\n",
      "                  0.020953 28211   0.020953\n",
      "                  0.021128 28590   0.021128\n",
      "                  0.022689 28339   0.022689\n",
      "                  0.022859 27597   0.022859\n",
      "                  0.023813 28409   0.023813\n",
      "                  0.023902 28039   0.023902\n",
      "                  0.024706 28523   0.024706\n",
      "                  0.026821 27804   0.026821\n",
      "                  0.026822 28453   0.026822\n",
      "                  0.030327 28641   0.030327\n",
      "                  0.034210 27896   0.034210\n",
      "                  0.034704 28020   0.034704\n",
      "                  0.035854 28405   0.035854\n",
      "                  0.035898 28451   0.035898\n",
      "                  0.038509 28033   0.038509\n",
      "                  0.038730 28553   0.038730\n",
      "                  0.038960 27976   0.038960\n",
      "                  0.039766 27557   0.039766\n",
      "                  0.040601 28109   0.040601\n",
      "                  0.041324 28210   0.041324\n",
      "                  0.041469 28464   0.041469\n",
      "                  0.046082 27215   0.046082\n",
      "                  0.046391 28531   0.046391\n",
      "                  0.047214 28420   0.047214\n",
      "                  0.047928 27860   0.047928\n",
      "                  0.054166 28521   0.054166\n",
      "                  0.056864 27880   0.056864\n",
      "                  0.056948 28551   0.056948\n",
      "                  0.057233 27807   0.057233\n",
      "                  0.057379 28678   0.057379\n",
      "                  0.058883 27332   0.058883\n",
      "                  0.059957 27837   0.059957\n",
      "                  0.061099 27576   0.061099\n",
      "                  0.061419 28167   0.061419\n",
      "                  0.061765 27814   0.061765\n",
      "                  0.062213 27555   0.062213\n",
      "                  0.063184 27950   0.063184\n",
      "                  0.064868 28671   0.064868\n",
      "                  0.065259 27539   0.065259\n",
      "                  0.066132 28073   0.066132\n",
      "                  0.068017 28303   0.068017\n",
      "                  0.068438 28052   0.068438\n",
      "                  0.069820 28528   0.069820\n",
      "                  0.069828 28740   0.069828\n",
      "                  0.071212 28395   0.071212\n",
      "                  0.071702 28304   0.071702\n",
      "                  0.071725 28174   0.071725\n",
      "                  0.076137 27540   0.076137\n",
      "                  0.076672 28366   0.076672\n",
      "                  0.076724 28312   0.076724\n",
      "                  0.077072 27244   0.077072\n",
      "                  0.078408 28621   0.078408\n",
      "                  0.080485 28746   0.080485\n",
      "                  0.084005 28791   0.084005\n",
      "                  0.084452 28144   0.084452\n",
      "                  0.087596 27822   0.087596\n",
      "                  0.088989 28365   0.088989\n",
      "                  0.092506 28631   0.092506\n",
      "                  0.095672 28906   0.095672\n",
      "                  0.098582 27856   0.098582\n",
      "                  0.099421 27591   0.099421\n",
      "                  0.101835 28626   0.101835\n",
      "                  0.103073 28350   0.103073\n",
      "                  0.110873 28128   0.110873\n",
      "                  0.112203 28909   0.112203\n",
      "                  0.113566 27524   0.113566\n",
      "                  0.116462 27043   0.116462\n",
      "                  0.123220 27851   0.123220\n",
      "                  0.126868 27809   0.126868\n",
      "                  0.126891 28054   0.126891\n",
      "                  0.128957 28676   0.128957\n",
      "                  0.129357 28270   0.129357\n",
      "                  0.129579 28480   0.129579\n",
      "                  0.130788 28718   0.130788\n",
      "                  0.134686 27562   0.134686\n",
      "                  0.136158 28227   0.136158\n",
      "                  0.136414 28315   0.136414\n",
      "                  0.136975 28411   0.136975\n",
      "                  0.139863 28468   0.139863\n",
      "                  0.141672 28314   0.141672\n",
      "                  0.146790 28759   0.146790\n",
      "                  0.149845 27568   0.149845\n",
      "                  0.151906 28739   0.151906\n",
      "                  0.157425 28742   0.157425\n",
      "                  0.158546 28560   0.158546\n",
      "                  0.162271 28693   0.162271\n",
      "                  0.164631 27614   0.164631\n",
      "                  0.165041 27542   0.165041\n",
      "                  0.167522 28684   0.167522\n",
      "                  0.169725 28645   0.169725\n",
      "                  0.171487 28736   0.171487\n",
      "                  0.172547 28519   0.172547\n",
      "                  0.175149 28105   0.175149\n",
      "                  0.175657 28226   0.175657\n",
      "                  0.176110 28766   0.176110\n",
      "                  0.176693 28643   0.176693\n",
      "                  0.178726 28018   0.178726\n",
      "                  0.179881 28207   0.179881\n",
      "                  0.180483 28112   0.180483\n",
      "                  0.180672 28101   0.180672\n",
      "                  0.181856 28604   0.181856\n",
      "                  0.183208 27292   0.183208\n",
      "                  0.183869 27047   0.183869\n",
      "                  0.185235 28078   0.185235\n",
      "                  0.185539 28422   0.185539\n",
      "                  0.186263 28469   0.186263\n",
      "                  0.186482 27520   0.186482\n",
      "                  0.187315 27022   0.187315\n",
      "                  0.187402 27865   0.187402\n",
      "                  0.188958 28452   0.188958\n",
      "                  0.189055 28348   0.189055\n",
      "                  0.189118 27817   0.189118\n",
      "                  0.193205 28624   0.193205\n",
      "                  0.195232 28772   0.195232\n",
      "                  0.195900 27571   0.195900\n",
      "                  0.196472 28445   0.196472\n",
      "                  0.196497 28637   0.196497\n",
      "                  0.196790 27530   0.196790\n",
      "                  0.202110 28792   0.202110\n",
      "                  0.202315 27803   0.202315\n",
      "                  0.203324 28012   0.203324\n",
      "                  0.203339 28457   0.203339\n",
      "                  0.205203 28461   0.205203\n",
      "                  0.208401 28612   0.208401\n",
      "                  0.209634 27596   0.209634\n",
      "                  0.210934 28467   0.210934\n",
      "                  0.211116 28578   0.211116\n",
      "                  0.216503 27262   0.216503\n",
      "                  0.220140 27526   0.220140\n",
      "                  0.220359 28083   0.220359\n",
      "                  0.221181 27299   0.221181\n",
      "                  0.222164 27830   0.222164\n",
      "                  0.224409 28311   0.224409\n",
      "                  0.226523 27282   0.226523\n",
      "                  0.227486 27377   0.227486\n",
      "                  0.228093 28555   0.228093\n",
      "                  0.228981 28390   0.228981\n",
      "                  0.229332 28098   0.229332\n",
      "                  0.231010 27052   0.231010\n",
      "                  0.231432 28086   0.231432\n",
      "                  0.233014 28306   0.233014\n",
      "                  0.233112 27281   0.233112\n",
      "                  0.234626 28333   0.234626\n",
      "                  0.238415 28677   0.238415\n",
      "                  0.239193 27587   0.239193\n",
      "                  0.240670 28454   0.240670\n",
      "                  0.245030 27301   0.245030\n",
      "                  0.245048 28391   0.245048\n",
      "                  0.245454 27019   0.245454\n",
      "                  0.247238 27249   0.247238\n",
      "                  0.249259 28277   0.249259\n",
      "                  0.255073 28524   0.255073\n",
      "                  0.255396 27203   0.255396\n",
      "                  0.257843 28512   0.257843\n",
      "                  0.258538 28527   0.258538\n",
      "                  0.259569 27534   0.259569\n",
      "                  0.259630 28729   0.259630\n",
      "                  0.262866 28557   0.262866\n",
      "                  0.265130 28741   0.265130\n",
      "                  0.266829 28103   0.266829\n",
      "                  0.270836 28562   0.270836\n",
      "                  0.273178 28328   0.273178\n",
      "                  0.274107 28025   0.274107\n",
      "                  0.274347 28479   0.274347\n",
      "                  0.275755 28698   0.275755\n",
      "                  0.276537 27214   0.276537\n",
      "                  0.279904 28001   0.279904\n",
      "                  0.282762 28611   0.282762\n",
      "                  0.285129 28032   0.285129\n",
      "                  0.288008 28638   0.288008\n",
      "                  0.295522 28016   0.295522\n",
      "                  0.295972 28683   0.295972\n",
      "                  0.303335 28774   0.303335\n",
      "                  0.305755 28027   0.305755\n",
      "                  0.307578 28726   0.307578\n",
      "                  0.309228 28356   0.309228\n",
      "                  0.311750 28115   0.311750\n",
      "                  0.314192 27265   0.314192\n",
      "                  0.316133 28310   0.316133\n",
      "                  0.321119 28031   0.321119\n",
      "                  0.328240 27501   0.328240\n",
      "                  0.328926 28581   0.328926\n",
      "                  0.333348 28630   0.333348\n",
      "                  0.337354 28342   0.337354\n",
      "                  0.338594 27041   0.338594\n",
      "                  0.339783 28681   0.339783\n",
      "                  0.340018 27569   0.340018\n",
      "                  0.341704 28373   0.341704\n",
      "                  0.345954 28544   0.345954\n",
      "                  0.347341 27929   0.347341\n",
      "                  0.349182 28387   0.349182\n",
      "                  0.351992 27050   0.351992\n",
      "                  0.353280 28326   0.353280\n",
      "                  0.353510 27349   0.353510\n",
      "                  0.358092 28034   0.358092\n",
      "                  0.358566 27504   0.358566\n",
      "                  0.362730 27208   0.362730\n",
      "                  0.365609 28075   0.365609\n",
      "                  0.366459 28079   0.366459\n",
      "                  0.367396 27592   0.367396\n",
      "                  0.368160 28120   0.368160\n",
      "                  0.371035 27956   0.371035\n",
      "                  0.372170 28658   0.372170\n",
      "                  0.372372 28606   0.372372\n",
      "                  0.373074 28168   0.373074\n",
      "                  0.374115 27521   0.374115\n",
      "                  0.375308 27040   0.375308\n",
      "                  0.378037 28394   0.378037\n",
      "                  0.378689 28323   0.378689\n",
      "                  0.380898 27527   0.380898\n",
      "                  0.383108 28080   0.383108\n",
      "                  0.384669 28443   0.384669\n",
      "                  0.387092 27013   0.387092\n",
      "                  0.387930 28610   0.387930\n",
      "                  0.388647 27053   0.388647\n",
      "                  0.391414 27045   0.391414\n",
      "                  0.392173 28594   0.392173\n",
      "                  0.399472 28382   0.399472\n",
      "                  0.400435 27107   0.400435\n",
      "                  0.403630 28602   0.403630\n",
      "                  0.406661 28665   0.406661\n",
      "                  0.407231 28110   0.407231\n",
      "                  0.409880 28667   0.409880\n",
      "                  0.410650 28081   0.410650\n",
      "                  0.411368 27357   0.411368\n",
      "                  0.414131 28651   0.414131\n",
      "                  0.417531 27284   0.417531\n",
      "                  0.419532 28017   0.419532\n",
      "                  0.421019 28625   0.421019\n",
      "                  0.421796 28164   0.421796\n",
      "                  0.422373 28147   0.422373\n",
      "                  0.423622 28072   0.423622\n",
      "                  0.424130 28634   0.424130\n",
      "                  0.424789 28601   0.424789\n",
      "                  0.430380 28088   0.430380\n",
      "                  0.434192 28056   0.434192\n",
      "                  0.437620 28697   0.437620\n",
      "                  0.440649 28127   0.440649\n",
      "                  0.442799 28747   0.442799\n",
      "                  0.448579 27023   0.448579\n",
      "                  0.453462 27298   0.453462\n",
      "                  0.456202 28327   0.456202\n",
      "                  0.456682 28659   0.456682\n",
      "                  0.465517 28613   0.465517\n",
      "                  0.465913 28334   0.465913\n",
      "                  0.467386 27358   0.467386\n",
      "                  0.470408 28166   0.470408\n",
      "                  0.471796 28570   0.471796\n",
      "                  0.472096 27012   0.472096\n",
      "                  0.472984 28584   0.472984\n",
      "                  0.479454 27051   0.479454\n",
      "                  0.487790 28318   0.487790\n",
      "                  0.497182 28579   0.497182\n",
      "                  0.497565 28790   0.497565\n",
      "                  0.499342 28574   0.499342\n",
      "                  0.499543 27376   0.499543\n",
      "                  0.500692 28124   0.500692\n",
      "                  0.505216 27021   0.505216\n",
      "                  0.509368 28307   0.509368\n",
      "                  0.517833 27283   0.517833\n",
      "                  0.519279 28546   0.519279\n",
      "                  0.520330 28460   0.520330\n",
      "                  0.522931 28618   0.522931\n",
      "                  0.524949 27295   0.524949\n",
      "                  0.532733 28539   0.532733\n",
      "                  0.534837 28731   0.534837\n",
      "                  0.544574 28540   0.544574\n",
      "                  0.547069 28385   0.547069\n",
      "                  0.562434 27863   0.562434\n",
      "                  0.564198 27009   0.564198\n",
      "                  0.569917 27958   0.569917\n",
      "                  0.570858 28137   0.570858\n",
      "                  0.572925 28037   0.572925\n",
      "                  0.573988 27054   0.573988\n",
      "                  0.583187 28107   0.583187\n",
      "                  0.590288 28006   0.590288\n",
      "                  0.593972 28708   0.593972\n",
      "                  0.602241 27360   0.602241\n",
      "                  0.606504 28781   0.606504\n",
      "                  0.613355 28650   0.613355\n",
      "                  0.618879 27233   0.618879\n",
      "                  0.619278 28104   0.619278\n",
      "                  0.620464 28344   0.620464\n",
      "                  0.626845 27007   0.626845\n",
      "                  0.631980 27310   0.631980\n",
      "                  0.632385 27263   0.632385\n",
      "                  0.636974 27248   0.636974\n",
      "                  0.640753 28670   0.640753\n",
      "                  0.646074 28117   0.646074\n",
      "                  0.651236 28146   0.651236\n",
      "                  0.654637 28673   0.654637\n",
      "                  0.656079 28609   0.656079\n",
      "                  0.662357 27313   0.662357\n",
      "                  0.678340 28660   0.678340\n",
      "                  0.680841 28669   0.680841\n",
      "                  0.689363 27316   0.689363\n",
      "                  0.691988 28532   0.691988\n",
      "                  0.698350 28173   0.698350\n",
      "                  0.704261 27317   0.704261\n",
      "                  0.714151 28542   0.714151\n",
      "                  0.721401 28685   0.721401\n",
      "                  0.721825 28668   0.721825\n",
      "                  0.725849 28125   0.725849\n",
      "                  0.728218 28071   0.728218\n",
      "                  0.736695 27235   0.736695\n",
      "                  0.738711 27205   0.738711\n",
      "                  0.739526 28642   0.739526\n",
      "                  0.750745 28374   0.750745\n",
      "                  0.755423 28163   0.755423\n",
      "                  0.760053 28689   0.760053\n",
      "                  0.760321 27014   0.760321\n",
      "                  0.761772 28654   0.761772\n",
      "                  0.788960 28682   0.788960\n",
      "                  0.809407 27242   0.809407\n",
      "                  0.812364 28129   0.812364\n",
      "                  0.820844 28582   0.820844\n",
      "                  0.825719 28138   0.825719\n",
      "                  0.828173 27028   0.828173\n",
      "                  0.832690 27370   0.832690\n",
      "                  0.834519 28023   0.834519\n",
      "                  0.845924 28635   0.845924\n",
      "                  0.866759 27018   0.866759\n",
      "                  0.873789 27055   0.873789\n",
      "                  0.884800 28543   0.884800\n",
      "                  0.890275 27011   0.890275\n",
      "                  0.899507 28615   0.899507\n",
      "                  0.919679 27239   0.919679\n",
      "                  0.927444 28649   0.927444\n",
      "                  0.936908 27020   0.936908\n",
      "                  0.964620 27341   0.964620\n",
      "                  0.970757 27355   0.970757\n",
      "                  0.988119 27350   0.988119\n",
      "                  1.001745 27325   1.001745\n",
      "                  1.019028 27006   1.019028\n",
      "                  1.045569 27016   1.045569\n",
      "                  1.055823 28097   1.055823\n",
      "                  1.065250 28547   1.065250\n",
      "                  1.091329 28646   1.091329\n",
      "                  1.113572 28041   1.113572\n",
      "                  1.259943 28777   1.259943\n",
      "                  1.402798 28616   1.402798\n",
      "                  1.423804 28657   1.423804\n",
      "                  1.432744 28705   1.432744\n",
      "                  1.469351 28622   1.469351\n"
     ]
    }
   ],
   "source": [
    "pd.set_option('display.max_rows', 50000)\n",
    "coeff_sf = model.get('coefficients')\n",
    "coeff_df = coeff_sf.to_dataframe()\n",
    "coeff_df.to_pickle('coeff_df')\n",
    "#coeff_pivot = pd.pivot_table(coeff_df, index=['name','index'], values=['value'],columns=['class'], aggfunc='mean', margins=False)\n",
    "new_df = coeff_df.sort_values(['name','value','index'],axis=0, ascending=True, inplace=False, kind='quicksort', na_position='last')\n",
    "new_df.drop('stderr', axis=1, inplace=True)\n",
    "new_df['abs_value'] = abs(new_df['value'])\n",
    "coeff_pivot = pd.pivot_table(new_df, index=['name','value','index'], columns=None,  margins=False, values = 'abs_value')\n",
    "min_max_pivot = pd.pivot_table(new_df, index = ['name'], values = ['value'], aggfunc=[np.min,np.max])\n",
    "flattened = pd.DataFrame(min_max_pivot.to_records())\n",
    "flattened.columns = ['feature','min_coeff','max_coeff']\n",
    "flattened['spread'] = flattened['max_coeff'] - flattened['min_coeff']\n",
    "flattened = flattened[flattened['feature'] != '(intercept)']\n",
    "#flattened = flattened[flattened['feature'] != 'birth_age']\n",
    "#flattened = flattened[flattened['feature'] != 'age_squared']\n",
    "#flattened = flattened[flattened['feature'] != 'age_cubed']\n",
    "#flattened = flattened[flattened['feature'] != 'years_since_registration']\n",
    "flattened.sort_values(['spread'],axis=0, ascending=False, inplace=True, kind='quicksort', na_position='last')\n",
    "print flattened\n",
    "print coeff_pivot"
   ]
  },
  {
   "cell_type": "markdown",
   "metadata": {},
   "source": [
    "It looks like the model is accurate and solid.  "
   ]
  },
  {
   "cell_type": "markdown",
   "metadata": {
    "collapsed": true
   },
   "source": [
    "This is very clear for the categorical variables.  In order of most influential they are\n",
    "\n",
    "0. zip_code\n",
    "1. race_ethnicity\n",
    "2. race_gender\n",
    "3. birth state\n",
    "4. gender_ethnicity\n",
    "5. drivers_license\n",
    "\n",
    "For the continuous variables, we need to draw some graphs to interpret them. \n",
    "\n",
    "Let's graph these and see what they look like by creating a simple graphing functions"
   ]
  },
  {
   "cell_type": "code",
   "execution_count": 26,
   "metadata": {
    "collapsed": false
   },
   "outputs": [],
   "source": [
    "def graph(formula, x_range):  \n",
    "    x = np.array(x_range)  \n",
    "    y = eval(formula)\n",
    "    plt.plot(x, y)  \n",
    "    plt.show()"
   ]
  },
  {
   "cell_type": "markdown",
   "metadata": {},
   "source": [
    "Years Since Registration"
   ]
  },
  {
   "cell_type": "code",
   "execution_count": 27,
   "metadata": {
    "collapsed": false
   },
   "outputs": [
    {
     "data": {
      "image/png": "[encoded data removed]",
      "text/plain": [
       "<matplotlib.figure.Figure at 0x11851c5c0>"
      ]
     },
     "metadata": {},
     "output_type": "display_data"
    }
   ],
   "source": [
    "graph('years_since_registration*x + years_squared*x**2 + years_cubed*x**3', range(0,69))"
   ]
  },
  {
   "cell_type": "markdown",
   "metadata": {},
   "source": [
    "So we can conclude that voters lean more democratic the more years they were registered.  The spread in coefficients between 0 and 69 years registered is approximately 1.0.  This covers voters from 18 thru 90"
   ]
  },
  {
   "cell_type": "markdown",
   "metadata": {
    "collapsed": false
   },
   "source": [
    "Age"
   ]
  },
  {
   "cell_type": "code",
   "execution_count": 31,
   "metadata": {
    "collapsed": false
   },
   "outputs": [
    {
     "data": {
      "image/png": "[encoded data removed]",
      "text/plain": [
       "<matplotlib.figure.Figure at 0xdd3cf320>"
      ]
     },
     "metadata": {},
     "output_type": "display_data"
    }
   ],
   "source": [
    "graph('birth_age*x + age_squared*x**2 + age_cubed*x**3', range(18,90))"
   ]
  },
  {
   "cell_type": "markdown",
   "metadata": {
    "collapsed": false
   },
   "source": [
    "The graph above shows that voters lean more democratic the older they are.  The spread in coefficients between ages 18 and 90 is approximaty 0.4\n",
    "\n",
    "##### The table below summarizes the demographic influencers of party preference"
   ]
  },
  {
   "cell_type": "markdown",
   "metadata": {
    "collapsed": false
   },
   "source": [
    "<img src=\"files/influencers.jpg\">"
   ]
  },
  {
   "cell_type": "markdown",
   "metadata": {
    "collapsed": false
   },
   "source": [
    "### Section C: Explore the 'percentages'  in the modeling data"
   ]
  },
  {
   "cell_type": "code",
   "execution_count": 29,
   "metadata": {
    "collapsed": false
   },
   "outputs": [
    {
     "data": {
      "text/plain": [
       "(array([ 1275755.,    99145.,   163008.,   261117.,   373145.,   586572.,\n",
       "          903145.,   832105.,   193125.]),\n",
       " array([ 0. ,  0.1,  0.2,  0.3,  0.4,  0.5,  0.6,  0.7,  0.8,  0.9]),\n",
       " <a list of 9 Patch objects>)"
      ]
     },
     "execution_count": 29,
     "metadata": {},
     "output_type": "execute_result"
    },
    {
     "data": {
      "image/png": "[encoded data removed]",
      "text/plain": [
       "<matplotlib.figure.Figure at 0xe061d160>"
      ]
     },
     "metadata": {},
     "output_type": "display_data"
    }
   ],
   "source": [
    "demographicsS['percent'] = model.predict(demographicsS, output_type='probability')\n",
    "plt.hist(demographicsS['percent'], bins=np.arange(0, 1, 0.1))"
   ]
  },
  {
   "cell_type": "markdown",
   "metadata": {},
   "source": [
    "The results are very interesting.  There is a large group of voters that have an extremely high probability of being democratic.  Based upon the demographic study conducted earlier in the year, this matches are expectations for African Americans voters.  If you also assume there is a high degree of political segregation by geography (manifiested in zip codes) this also makes sense."
   ]
  },
  {
   "cell_type": "code",
   "execution_count": 30,
   "metadata": {
    "collapsed": true
   },
   "outputs": [],
   "source": [
    "demographics = demographicsS.to_dataframe()\n",
    "demographics.to_pickle('demographics')"
   ]
  },
  {
   "cell_type": "code",
   "execution_count": null,
   "metadata": {
    "collapsed": true
   },
   "outputs": [],
   "source": []
  }
 ],
 "metadata": {
  "celltoolbar": "Raw Cell Format",
  "kernelspec": {
   "display_name": "Python [conda env:gl-env]",
   "language": "python",
   "name": "conda-env-gl-env-py"
  },
  "language_info": {
   "codemirror_mode": {
    "name": "ipython",
    "version": 2
   },
   "file_extension": ".py",
   "mimetype": "text/x-python",
   "name": "python",
   "nbconvert_exporter": "python",
   "pygments_lexer": "ipython2",
   "version": "2.7.13"
  }
 },
 "nbformat": 4,
 "nbformat_minor": 0
}
