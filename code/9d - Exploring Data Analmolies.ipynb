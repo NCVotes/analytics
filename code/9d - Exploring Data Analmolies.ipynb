{
 "cells": [
  {
   "cell_type": "markdown",
   "metadata": {},
   "source": [
    "##  We're going to look for data anomalies"
   ]
  },
  {
   "cell_type": "code",
   "execution_count": 1,
   "metadata": {
    "collapsed": false
   },
   "outputs": [
    {
     "data": {
      "text/html": [
       "<style>.container { width:100% !important; }</style>"
      ],
      "text/plain": [
       "<IPython.core.display.HTML object>"
      ]
     },
     "metadata": {},
     "output_type": "display_data"
    }
   ],
   "source": [
    "#First set everthing up\n",
    "import pyodbc\n",
    "import graphlab as gl\n",
    "import pandas as pd\n",
    "import matplotlib.pyplot as plt\n",
    "import numpy as np\n",
    "import datetime\n",
    "import local #server information and credentials\n",
    "from pullODBC import pullODBC\n",
    "from pullODBCall import pullODBCall\n",
    "from matplotlib.backends.backend_pdf import PdfPages\n",
    "from __future__ import division # convert integer division to floating point\n",
    "%matplotlib inline\n",
    "plt.style.use('seaborn-white')\n",
    "plt.rcParams['font.size'] = 7\n",
    "plt.tight_layout;\n",
    "plt.rc('xtick', labelsize=7) \n",
    "plt.rc('ytick', labelsize=7) \n",
    "from IPython.core.display import display, HTML\n",
    "display(HTML(\"<style>.container { width:100% !important; }</style>\"))"
   ]
  },
  {
   "cell_type": "markdown",
   "metadata": {},
   "source": [
    "### Section A: Extracting Voter History Data for each Registered Voter  to find data anomalies"
   ]
  },
  {
   "cell_type": "code",
   "execution_count": 2,
   "metadata": {
    "collapsed": false
   },
   "outputs": [
    {
     "name": "stdout",
     "output_type": "stream",
     "text": [
      "[\"ncid\"], [\"election_lbl\"], [\"county_desc\"], [\"pct_label\"],[\"voted_county_desc\"], [\"voting_method\"]\n"
     ]
    }
   ],
   "source": [
    "#Set up the fields that I need to pull from the database \n",
    "fields = '[\"ncid\"], [\"election_lbl\"], [\"county_desc\"], [\"pct_label\"],[\"voted_county_desc\"], [\"voting_method\"]'\n",
    "print fields"
   ]
  },
  {
   "cell_type": "markdown",
   "metadata": {},
   "source": [
    "Change the database to 'history' and the table to 'ncvhis_Statewide'"
   ]
  },
  {
   "cell_type": "code",
   "execution_count": 3,
   "metadata": {
    "collapsed": false
   },
   "outputs": [],
   "source": [
    "local.database = 'history'\n",
    "local.table = 'ncvhis_Statewide'"
   ]
  },
  {
   "cell_type": "code",
   "execution_count": 4,
   "metadata": {
    "collapsed": false
   },
   "outputs": [],
   "source": [
    "history=pullODBCall(local.driver,\n",
    "                      local.server,\n",
    "                      local.database,\n",
    "                      local.username,\n",
    "                      local.password,\n",
    "                      local.table,\n",
    "                      fields)"
   ]
  },
  {
   "cell_type": "markdown",
   "metadata": {},
   "source": [
    "Get rid of all the double quotes from the dataframe"
   ]
  },
  {
   "cell_type": "code",
   "execution_count": 5,
   "metadata": {
    "collapsed": false
   },
   "outputs": [
    {
     "name": "stdout",
     "output_type": "stream",
     "text": [
      "        ncid election_lbl county_desc pct_label voted_county_desc  \\\n",
      "0    AA10737   11/03/2015    ALAMANCE       124          ALAMANCE   \n",
      "1    AA10737   11/05/2013    ALAMANCE       124          ALAMANCE   \n",
      "2    AA10737   05/06/2008    ALAMANCE       124          ALAMANCE   \n",
      "3    AA10737   11/04/2008    ALAMANCE       124          ALAMANCE   \n",
      "4    AA10737   10/09/2007    ALAMANCE       124          ALAMANCE   \n",
      "5    AA10737   11/08/2011    ALAMANCE       124          ALAMANCE   \n",
      "6    AA10737   11/04/2014    ALAMANCE       124          ALAMANCE   \n",
      "7   AA107373   11/04/2014    ALAMANCE       064          ALAMANCE   \n",
      "8   AA107373   11/06/2007    ALAMANCE       12E          ALAMANCE   \n",
      "9   AA107373   11/02/2010    ALAMANCE       064          ALAMANCE   \n",
      "10  AA107373   11/08/2016    ALAMANCE       064          ALAMANCE   \n",
      "11  AA107373   03/15/2016    ALAMANCE       064          ALAMANCE   \n",
      "12  AA107373   11/04/2008    ALAMANCE       064          ALAMANCE   \n",
      "13  AA107373   11/06/2012    ALAMANCE       064          ALAMANCE   \n",
      "14  AA107373   05/08/2012    ALAMANCE       064          ALAMANCE   \n",
      "\n",
      "       voting_method  \n",
      "0          IN-PERSON  \n",
      "1          IN-PERSON  \n",
      "2          IN-PERSON  \n",
      "3   ABSENTEE ONESTOP  \n",
      "4          IN-PERSON  \n",
      "5          IN-PERSON  \n",
      "6   ABSENTEE ONESTOP  \n",
      "7          IN-PERSON  \n",
      "8          IN-PERSON  \n",
      "9          IN-PERSON  \n",
      "10         IN-PERSON  \n",
      "11         IN-PERSON  \n",
      "12         IN-PERSON  \n",
      "13         IN-PERSON  \n",
      "14         IN-PERSON  \n"
     ]
    }
   ],
   "source": [
    "history.columns = history.columns.str.strip('\"')\n",
    "for i, col in enumerate(history.columns):\n",
    "    history.iloc[:, i] = history.iloc[:, i].str.replace('\"', '')\n",
    "print history.head(n=15)"
   ]
  },
  {
   "cell_type": "code",
   "execution_count": 6,
   "metadata": {
    "collapsed": false
   },
   "outputs": [
    {
     "name": "stdout",
     "output_type": "stream",
     "text": [
      "The number of rows pulled from the database is 32482836\n"
     ]
    }
   ],
   "source": [
    "#Save the total number of rows to raw_len and print. \n",
    "raw_len=len(history)\n",
    "print \"The number of rows pulled from the database is \" + str(raw_len)"
   ]
  },
  {
   "cell_type": "markdown",
   "metadata": {},
   "source": [
    "Create a generic function to change blank fields to NaN for all categorical fields "
   ]
  },
  {
   "cell_type": "code",
   "execution_count": 7,
   "metadata": {
    "collapsed": true
   },
   "outputs": [],
   "source": [
    "def fix_blanks_NaN(x):\n",
    "    if x == \"\":\n",
    "        return np.nan\n",
    "    elif x == \" \":\n",
    "        return np.nan\n",
    "    else:\n",
    "        return x"
   ]
  },
  {
   "cell_type": "code",
   "execution_count": 8,
   "metadata": {
    "collapsed": false
   },
   "outputs": [],
   "source": [
    "history['election_lbl'] = history['election_lbl'].apply(fix_blanks_NaN) # change blanks to NaN\n",
    "history['ncid'] = history['ncid'].apply(fix_blanks_NaN) # etc.\n",
    "history['county_desc'] = history['county_desc'].apply(fix_blanks_NaN) # etc."
   ]
  },
  {
   "cell_type": "markdown",
   "metadata": {},
   "source": [
    "Clean the data by dropping rows with missing data and print a summary"
   ]
  },
  {
   "cell_type": "code",
   "execution_count": 9,
   "metadata": {
    "collapsed": false
   },
   "outputs": [
    {
     "name": "stdout",
     "output_type": "stream",
     "text": [
      "The number of rows I have dropped is 0\n",
      "The number of rows remaining in the database is 32482836\n",
      "The precentage of rows that I have dropped is: 0.000%\n"
     ]
    }
   ],
   "source": [
    "history.dropna(inplace=True, how='any') #drop all rows with NaN\n",
    "clean_len=len(history) #how many rows to I have left?\n",
    "difference = raw_len - clean_len #how many rows have I dropped?\n",
    "fraction = float(difference)/float(raw_len) #what fraction of rows have I dropped?\n",
    "print \"The number of rows I have dropped is \" + str(difference) \n",
    "print \"The number of rows remaining in the database is \" + str(clean_len)\n",
    "print \"The precentage of rows that I have dropped is: \" + str('{:.3%}'.format(fraction))"
   ]
  },
  {
   "cell_type": "markdown",
   "metadata": {},
   "source": [
    "Now we need to discard all elections not in November, since we only want to analyze general elections"
   ]
  },
  {
   "cell_type": "code",
   "execution_count": 10,
   "metadata": {
    "collapsed": false
   },
   "outputs": [],
   "source": [
    "history = history[history['election_lbl'].astype(str).str[0:2]=='11']"
   ]
  },
  {
   "cell_type": "markdown",
   "metadata": {},
   "source": [
    "We need to flatten the database to a single row per NCID and massage the data"
   ]
  },
  {
   "cell_type": "code",
   "execution_count": 11,
   "metadata": {
    "collapsed": false
   },
   "outputs": [
    {
     "name": "stdout",
     "output_type": "stream",
     "text": [
      "   2007  2008  2009  2010  2011  2012  2013  2014  2015  2016  2018      ncid\n",
      "0     0     1     0     0     0     0     0     0     0     1     0  AA100000\n",
      "1     0     1     0     1     0     1     0     1     0     1     0  AA100006\n",
      "2     0     1     0     1     1     1     0     1     0     1     0  AA100007\n",
      "3     0     1     0     0     0     1     0     0     0     0     0  AA100008\n",
      "4     0     1     0     1     0     1     0     1     0     1     0  AA100009\n"
     ]
    }
   ],
   "source": [
    "elections_by_ncid = pd.pivot_table(history[['ncid','election_lbl']], index=['ncid'],  \n",
    "                                 aggfunc=len, columns='election_lbl', margins = False) # create a pivot table\n",
    "elections_flattened = pd.DataFrame(elections_by_ncid.to_records()) # convert the pivot table to a dataframe\n",
    "cols = elections_flattened.columns # get an index object with all the column names\n",
    "cols = cols.delete(0) # remove the first column name 'ncid' since I don't want to rename this\n",
    "elections_flattened.fillna(value=0, method=None, axis=None, inplace=True, limit=None, downcast=None) # replace NaN with 0\n",
    "elections_flattened[cols] = elections_flattened[cols].astype(int)# convert values to integers\n",
    "for col in cols: # rename each election column to only the election year rather than the full date\n",
    "    elections_flattened.rename(index=str, inplace=True, columns={col : col[-4:]})\n",
    "elections_flattened = elections_flattened.reindex_axis(sorted(elections_flattened.columns), axis=1) # sort the columns by year\n",
    "\n",
    "print elections_flattened.head()"
   ]
  },
  {
   "cell_type": "markdown",
   "metadata": {},
   "source": [
    "Let's examine some anomolies in the voter history data.  Notice above that there is a column for 2018.  This means there is a record in the data for 2018.  Let's first find out which NCID is assocated with this record."
   ]
  },
  {
   "cell_type": "code",
   "execution_count": 12,
   "metadata": {
    "collapsed": false
   },
   "outputs": [
    {
     "name": "stdout",
     "output_type": "stream",
     "text": [
      "height has been deprecated.\n",
      "\n",
      "         2007  2008  2009  2010  2011  2012  2013  2014  2015  2016  2018       ncid\n",
      "3355290     0     0     0     0     0     0     0     0     0     0     1  CW1008993\n"
     ]
    }
   ],
   "source": [
    "del elections_by_ncid # This is not used anymore sol let's delete it to free up some memory\n",
    "pd.set_option('display.height', 5000)\n",
    "pd.set_option('display.max_rows', 5000)\n",
    "pd.set_option('display.max_columns', 500)\n",
    "pd.set_option('display.width', 1000)\n",
    "print elections_flattened[elections_flattened['2018']==1]"
   ]
  },
  {
   "cell_type": "markdown",
   "metadata": {},
   "source": [
    "We've identified NCID CW1008993.  Let's look at the entire November voting history for this NCID from 2007 thru 2016."
   ]
  },
  {
   "cell_type": "code",
   "execution_count": 13,
   "metadata": {
    "collapsed": false
   },
   "outputs": [],
   "source": [
    "voter_2018 = history[history['ncid']== 'CW1008993']"
   ]
  },
  {
   "cell_type": "code",
   "execution_count": 14,
   "metadata": {
    "collapsed": false
   },
   "outputs": [
    {
     "name": "stdout",
     "output_type": "stream",
     "text": [
      "               ncid election_lbl  county_desc pct_label voted_county_desc voting_method\n",
      "16586046  CW1008993   11/06/2018  MECKLENBURG       061       MECKLENBURG     IN-PERSON\n"
     ]
    }
   ],
   "source": [
    "print voter_2018"
   ]
  },
  {
   "cell_type": "markdown",
   "metadata": {},
   "source": [
    "Apparently, the person associated with NCID CW1008993 only has a single record for 2018.  Since November 6th was election day in both 2007 and 2012, this record may be a typo from that year.\n",
    "\n",
    "Let's now look at instances where more than one voting record exists for an ncid for a November election.  First, we see how many NCIDs are associated with multiple voting records for each year"
   ]
  },
  {
   "cell_type": "code",
   "execution_count": 15,
   "metadata": {
    "collapsed": false
   },
   "outputs": [
    {
     "name": "stdout",
     "output_type": "stream",
     "text": [
      "31\n",
      "521\n",
      "11\n",
      "142\n",
      "10\n",
      "239\n",
      "8\n",
      "49\n",
      "1\n",
      "67\n"
     ]
    }
   ],
   "source": [
    "for year in ['2007', '2008', '2009', '2010', '2011', '2012', '2013', '2014', '2015', '2016']:\n",
    "        print len(elections_flattened[elections_flattened[year]>1])"
   ]
  },
  {
   "cell_type": "markdown",
   "metadata": {},
   "source": [
    "Considering the fact that we have over 32M voting records, this is a relatively small number.  However, these cases need investigation.  Since the voter history file has over 32M records, it's difficult to reshape and analyze in it's raw form.  Therefore, we need to create a subset of the voter history file for analysis.  To do this, we'll first identify any and all ncids that have more than one voting record for a specific November election.  We will then create a subset of the voter histroy file only containing records with these ncids.\n",
    "\n",
    "Lets group the data by NCID (only for NCIDs associated with multiple voting records) and generate a report for all of these NCIDs."
   ]
  },
  {
   "cell_type": "code",
   "execution_count": 16,
   "metadata": {
    "collapsed": false
   },
   "outputs": [],
   "source": [
    "multiple_records = elections_flattened[(elections_flattened['2007']>1) | (elections_flattened['2008']>1)\\\n",
    "|(elections_flattened['2009']>1) | (elections_flattened['2010']>1)\\\n",
    "|(elections_flattened['2011']>1) | (elections_flattened['2012']>1)\\\n",
    "|(elections_flattened['2013']>1) | (elections_flattened['2014']>1)\\\n",
    "|(elections_flattened['2015']>1) | (elections_flattened['2016']>1)]"
   ]
  },
  {
   "cell_type": "code",
   "execution_count": 17,
   "metadata": {
    "collapsed": false
   },
   "outputs": [
    {
     "name": "stdout",
     "output_type": "stream",
     "text": [
      "825\n"
     ]
    }
   ],
   "source": [
    "print len(multiple_records)"
   ]
  },
  {
   "cell_type": "markdown",
   "metadata": {},
   "source": [
    "It looks like a total of 825 NCIDs have multiple records for November elections from 2007 thru 2016.  We need to select records from the voter history data corresponding only to these NCIDs.  First create an iterable series of NCIDs from multiple_records."
   ]
  },
  {
   "cell_type": "code",
   "execution_count": 18,
   "metadata": {
    "collapsed": false
   },
   "outputs": [],
   "source": [
    "multiple_series = multiple_records['ncid']"
   ]
  },
  {
   "cell_type": "markdown",
   "metadata": {},
   "source": [
    "Next, let's subset out the history dataframe to include only those records associated with voters having multiple records in any year"
   ]
  },
  {
   "cell_type": "code",
   "execution_count": 19,
   "metadata": {
    "collapsed": false
   },
   "outputs": [
    {
     "name": "stdout",
     "output_type": "stream",
     "text": [
      "4149\n"
     ]
    }
   ],
   "source": [
    "history_subset = history[history['ncid'].isin(multiple_series)]\n",
    "print len(history_subset)"
   ]
  },
  {
   "cell_type": "markdown",
   "metadata": {},
   "source": [
    "We have 4149 records.  Now let's group by NICD and election_lbl"
   ]
  },
  {
   "cell_type": "code",
   "execution_count": 20,
   "metadata": {
    "collapsed": false
   },
   "outputs": [
    {
     "name": "stdout",
     "output_type": "stream",
     "text": [
      "4149\n",
      "                                  pct_label voted_county_desc     voting_method\n",
      "ncid     election_lbl county_desc                                              \n",
      "AA131256 11/04/2008   GUILFORD          03N          ALAMANCE       PROVISIONAL\n",
      "                      GUILFORD          03N          ALAMANCE       PROVISIONAL\n",
      "AA173882 11/04/2008   ALAMANCE          12N          ALAMANCE         IN-PERSON\n",
      "                      ALAMANCE          12N          ALAMANCE         IN-PERSON\n",
      "         11/06/2012   ALAMANCE          127          ALAMANCE  ABSENTEE ONESTOP\n",
      "         11/08/2016   ALAMANCE          03N          ALAMANCE  ABSENTEE ONESTOP\n",
      "AB14598  11/02/2010   ANSON              B2         ALEXANDER         IN-PERSON\n",
      "         11/04/2008   ANSON              B2         ALEXANDER         IN-PERSON\n",
      "         11/04/2014   ANSON            LILE             ANSON  ABSENTEE ONESTOP\n",
      "         11/06/2012   ANSON              B2         ALEXANDER         IN-PERSON\n",
      "                      ANSON            LILE             ANSON  ABSENTEE ONESTOP\n",
      "         11/08/2016   ANSON            LILE             ANSON         IN-PERSON\n",
      "AB22129  11/02/2010   ALEXANDER          B1         ALEXANDER  ABSENTEE ONESTOP\n",
      "                      ALEXANDER          26           CATAWBA         IN-PERSON\n",
      "         11/04/2008   ALEXANDER          B1         ALEXANDER  ABSENTEE ONESTOP\n"
     ]
    },
    {
     "name": "stderr",
     "output_type": "stream",
     "text": [
      "C:\\Users\\scott\\Anaconda2\\envs\\gl-env\\lib\\site-packages\\ipykernel\\__main__.py:2: SettingWithCopyWarning: \n",
      "A value is trying to be set on a copy of a slice from a DataFrame.\n",
      "Try using .loc[row_indexer,col_indexer] = value instead\n",
      "\n",
      "See the caveats in the documentation: http://pandas.pydata.org/pandas-docs/stable/indexing.html#indexing-view-versus-copy\n",
      "  from ipykernel import kernelapp as app\n"
     ]
    }
   ],
   "source": [
    "### First stip out blanks from election_lbl\n",
    "history_subset['election_lbl']= history_subset['election_lbl'].map(lambda x: x.strip())\n",
    "history_subset = history_subset.sort_values(by = ['ncid', 'election_lbl'], ascending=[1, 1])\n",
    "report = history_subset.set_index(['ncid', 'election_lbl', 'county_desc'])\n",
    "print len(report)\n",
    "print report.head(n=15)"
   ]
  },
  {
   "cell_type": "markdown",
   "metadata": {},
   "source": [
    "This list is too long to analyze.  Let's only select the nicd / election_lbl combinations where there is more than one \"vote\""
   ]
  },
  {
   "cell_type": "code",
   "execution_count": 21,
   "metadata": {
    "collapsed": false
   },
   "outputs": [],
   "source": [
    "# First, reset the indexs and create a groupby object\n",
    "reset_report = report.reset_index()# Reset the index\n",
    "num_voting_records = reset_report.groupby(['ncid', 'election_lbl'])['county_desc'].count() # Create a groupBy object with counts of number of \"votes\"\n",
    "multiple = num_voting_records[num_voting_records >1] # Only keep entries with more than 1 \"vote\""
   ]
  },
  {
   "cell_type": "markdown",
   "metadata": {},
   "source": [
    "The series \"multiple\" contains all the indexes ( ncid / election_lbl combinations) where there was more than 1 \"vote\" recored.  Let's use this series to iterate on the \"reset_report\" dataframe to only select instances of more than one vote"
   ]
  },
  {
   "cell_type": "code",
   "execution_count": 22,
   "metadata": {
    "collapsed": false
   },
   "outputs": [],
   "source": [
    "index_list = list() # Create an empty list for the indexes to keep\n",
    "\n",
    "for row in multiple.index.values:\n",
    "    ncid = row[0]\n",
    "    election_lbl = row[1]\n",
    "    selected_row_indices = reset_report[(reset_report['ncid']== ncid) & (reset_report['election_lbl']== election_lbl)].index[0:2]\n",
    "    index_list.append(selected_row_indices)\n",
    "    "
   ]
  },
  {
   "cell_type": "code",
   "execution_count": 23,
   "metadata": {
    "collapsed": false
   },
   "outputs": [
    {
     "name": "stdout",
     "output_type": "stream",
     "text": [
      "1079.0\n"
     ]
    },
    {
     "name": "stderr",
     "output_type": "stream",
     "text": [
      "C:\\Users\\scott\\Anaconda2\\envs\\gl-env\\lib\\site-packages\\ipykernel\\__main__.py:4: SettingWithCopyWarning: \n",
      "A value is trying to be set on a copy of a slice from a DataFrame\n",
      "\n",
      "See the caveats in the documentation: http://pandas.pydata.org/pandas-docs/stable/indexing.html#indexing-view-versus-copy\n"
     ]
    }
   ],
   "source": [
    "selected = [element for tupl in index_list for element in tupl]\n",
    "new_report = reset_report[reset_report.index.isin(selected)]\n",
    "#To simplify report, let's delete county_desc since this is only the current county where the voter is registered.  We will only focus on voted_county_desc\n",
    "new_report.drop('county_desc',axis=1, inplace=True)\n",
    "print len(new_report)/2\n",
    "new_report =  new_report.set_index(['ncid', 'election_lbl', 'voted_county_desc'])"
   ]
  },
  {
   "cell_type": "markdown",
   "metadata": {},
   "source": [
    "Let me know save this to a text file"
   ]
  },
  {
   "cell_type": "code",
   "execution_count": 24,
   "metadata": {
    "collapsed": false
   },
   "outputs": [
    {
     "name": "stdout",
     "output_type": "stream",
     "text": [
      "Writing 'new_report' (DataFrame) to file 'multiple_voting_records_june2017_snapshot.txt'.\n"
     ]
    }
   ],
   "source": [
    "%store new_report > multiple_voting_records_june2017_snapshot.txt"
   ]
  },
  {
   "cell_type": "markdown",
   "metadata": {},
   "source": [
    "Clean up old dataframes"
   ]
  },
  {
   "cell_type": "code",
   "execution_count": 25,
   "metadata": {
    "collapsed": false
   },
   "outputs": [],
   "source": [
    "del history\n",
    "del elections_flattened"
   ]
  },
  {
   "cell_type": "markdown",
   "metadata": {},
   "source": [
    "### Section B: Extracting Voter Demographics to find data anomalies"
   ]
  },
  {
   "cell_type": "markdown",
   "metadata": {
    "collapsed": false
   },
   "source": [
    "First change the database and table names back to get registration data"
   ]
  },
  {
   "cell_type": "code",
   "execution_count": 26,
   "metadata": {
    "collapsed": false
   },
   "outputs": [],
   "source": [
    "local.database = 'registration'\n",
    "local.table = 'ncvoter_Statewide'"
   ]
  },
  {
   "cell_type": "markdown",
   "metadata": {
    "collapsed": false
   },
   "source": [
    "We now do the standard extraction and cleaning.  I've excluded comments since task has been done many times"
   ]
  },
  {
   "cell_type": "code",
   "execution_count": 27,
   "metadata": {
    "collapsed": false
   },
   "outputs": [
    {
     "name": "stdout",
     "output_type": "stream",
     "text": [
      "[\"birth_age\"], [\"gender_code\"], [\"race_code\"], [\"ethnic_code\"],[\"party_cd\"], [\"status_cd\"], [\"zip_code\"], [\"birth_state\"], [\"drivers_lic\"], [\"county_desc\"], [\"registr_dt\"],[\"ncid\"],[\"precinct_abbrv\"]\n"
     ]
    }
   ],
   "source": [
    "#Set up the fields that I need to pull from the database \n",
    "fields = '[\"birth_age\"], [\"gender_code\"], [\"race_code\"], [\"ethnic_code\"],[\"party_cd\"], [\"status_cd\"], [\"zip_code\"], [\"birth_state\"], [\"drivers_lic\"], [\"county_desc\"], [\"registr_dt\"],[\"ncid\"],[\"precinct_abbrv\"]'\n",
    "print fields"
   ]
  },
  {
   "cell_type": "code",
   "execution_count": 28,
   "metadata": {
    "collapsed": false
   },
   "outputs": [
    {
     "name": "stdout",
     "output_type": "stream",
     "text": [
      "([\"status_cd\"] = '\"A\"' OR [\"status_cd\"] = '\"I\"')\n"
     ]
    }
   ],
   "source": [
    "condition1 = '[\"status_cd\"] = ' + local.single_double_quote + 'A' + local.double_single_quote\n",
    "condition2 = '[\"status_cd\"] = ' + local.single_double_quote + 'I' + local.double_single_quote\n",
    "condition3 = '[\"county_desc\"] = ' + local.single_double_quote + 'Chatham' + local.double_single_quote\n",
    "condition = \"(\" + condition1 + \" OR \" + condition2 + \")\"  # This line will be run on Azure\n",
    "#condition = \"(\" + condition1 + \" OR \" + condition2 + \")\" + \" AND \" + condition3# This line will be run on local\n",
    "print condition"
   ]
  },
  {
   "cell_type": "code",
   "execution_count": 29,
   "metadata": {
    "collapsed": false
   },
   "outputs": [],
   "source": [
    "demographics=pullODBC(local.driver,\n",
    "                      local.server,\n",
    "                      local.database,\n",
    "                      local.username,\n",
    "                      local.password,\n",
    "                      local.table,\n",
    "                      fields,\n",
    "                      condition)"
   ]
  },
  {
   "cell_type": "markdown",
   "metadata": {},
   "source": [
    "Get rid of all the double quotes from the dataframe"
   ]
  },
  {
   "cell_type": "code",
   "execution_count": 30,
   "metadata": {
    "collapsed": false
   },
   "outputs": [
    {
     "name": "stdout",
     "output_type": "stream",
     "text": [
      "  birth_age gender_code race_code ethnic_code party_cd status_cd zip_code birth_state drivers_lic county_desc  registr_dt      ncid precinct_abbrv\n",
      "0        79           M         W          NL      DEM         A    27253          NC           N    ALAMANCE  01/19/1959   AA34771             07\n",
      "1        60           M         W          NL      REP         A    27215          NC           Y    ALAMANCE  04/09/1984   AA53687            12W\n",
      "2        43           M         W          NL      REP         A    27302          NC           Y    ALAMANCE  04/02/1992   AA80986            10S\n",
      "3        55           M         W          NL      REP         A    27215          NC           Y    ALAMANCE  09/15/2003  AA131587            03S\n",
      "4        58           F         W          NL      DEM         I    27258          NC           Y    ALAMANCE  05/19/2006  AA146650             13\n"
     ]
    }
   ],
   "source": [
    "demographics.columns = demographics.columns.str.strip('\"')\n",
    "for i, col in enumerate(demographics.columns):\n",
    "    demographics.iloc[:, i] = demographics.iloc[:, i].str.replace('\"', '')\n",
    "print demographics.head()"
   ]
  },
  {
   "cell_type": "code",
   "execution_count": 31,
   "metadata": {
    "collapsed": false
   },
   "outputs": [
    {
     "name": "stdout",
     "output_type": "stream",
     "text": [
      "The number of rows pulled from the database is 6774419\n"
     ]
    }
   ],
   "source": [
    "#Save the total number of rows to raw_len and print. \n",
    "raw_len=len(demographics)\n",
    "print \"The number of rows pulled from the database is \" + str(raw_len)"
   ]
  },
  {
   "cell_type": "markdown",
   "metadata": {},
   "source": [
    "Create a generic function to change blank fields to 'None' for some categorical fields "
   ]
  },
  {
   "cell_type": "code",
   "execution_count": 32,
   "metadata": {
    "collapsed": true
   },
   "outputs": [],
   "source": [
    "def fix_blanks(x):\n",
    "    if x == \"\":\n",
    "        return \"None\"\n",
    "    elif x == \" \":\n",
    "        return \"None\"\n",
    "    else:\n",
    "        return x"
   ]
  },
  {
   "cell_type": "markdown",
   "metadata": {},
   "source": [
    "Create a generic function to change blank fields to NaN for all categorical fields "
   ]
  },
  {
   "cell_type": "code",
   "execution_count": 33,
   "metadata": {
    "collapsed": true
   },
   "outputs": [],
   "source": [
    "def fix_blanks_NaN(x):\n",
    "    if x == \"\":\n",
    "        return np.nan\n",
    "    elif x == \" \":\n",
    "        return np.nan\n",
    "    else:\n",
    "        return x"
   ]
  },
  {
   "cell_type": "code",
   "execution_count": 34,
   "metadata": {
    "collapsed": false
   },
   "outputs": [],
   "source": [
    "demographics['birth_state'] = demographics['birth_state'].apply(fix_blanks) # change blanks to \"None\" in birth_state\n",
    "demographics['gender_code'] = demographics['gender_code'].apply(fix_blanks_NaN) # change blanks to NaN in gender_code\n",
    "demographics['race_code'] = demographics['race_code'].apply(fix_blanks_NaN) # etc.\n",
    "demographics['ethnic_code'] = demographics['ethnic_code'].apply(fix_blanks_NaN) \n",
    "demographics['zip_code'] = demographics['zip_code'].apply(fix_blanks_NaN)\n",
    "demographics['birth_state'] = demographics['birth_state'].apply(fix_blanks_NaN) \n",
    "demographics['drivers_lic'] = demographics['drivers_lic'].apply(fix_blanks_NaN) \n",
    "demographics['county_desc'] = demographics['county_desc'].apply(fix_blanks_NaN) \n",
    "demographics['registr_dt'] = demographics['registr_dt'].apply(fix_blanks_NaN)\n",
    "demographics['ncid'] = demographics['ncid'].apply(fix_blanks_NaN)\n",
    "demographics['precinct_abbrv'] = demographics['precinct_abbrv'].apply(fix_blanks_NaN)"
   ]
  },
  {
   "cell_type": "code",
   "execution_count": 35,
   "metadata": {
    "collapsed": false
   },
   "outputs": [
    {
     "name": "stdout",
     "output_type": "stream",
     "text": [
      "The number of rows I have dropped is 3156\n",
      "The number of rows remaining in the database is 6771263\n",
      "The precentage of rows that I have dropped is: 0.047%\n"
     ]
    }
   ],
   "source": [
    "demographics.dropna(inplace=True, how='any') #drop all rows with NaN\n",
    "clean_len=len(demographics) #how many rows to I have left?\n",
    "difference = raw_len - clean_len #how many rows have I dropped?\n",
    "fraction = float(difference)/float(raw_len) #what fraction of rows have I dropped?\n",
    "print \"The number of rows I have dropped is \" + str(difference) \n",
    "print \"The number of rows remaining in the database is \" + str(clean_len)\n",
    "print \"The precentage of rows that I have dropped is: \" + str('{:.3%}'.format(fraction))"
   ]
  },
  {
   "cell_type": "code",
   "execution_count": 36,
   "metadata": {
    "collapsed": true
   },
   "outputs": [],
   "source": [
    "def convert_to_float(x): # function to convert a timedelta object to a float of years\n",
    "    return x.total_seconds()/(60*60*24*365.2422)"
   ]
  },
  {
   "cell_type": "code",
   "execution_count": 37,
   "metadata": {
    "collapsed": false
   },
   "outputs": [],
   "source": [
    "demographics['birth_age'] = demographics['birth_age'].astype('float64')\n",
    "demographics['registr_dt'] = pd.to_datetime(demographics['registr_dt'], format='%m/%d/%Y')\n",
    "demographics['years_since_registration'] = pd.to_datetime('today') - demographics['registr_dt'] # get days since registration as a timedelta object\n",
    "demographics['years_since_registration'] = demographics['years_since_registration'].apply(convert_to_float) # convert to years in floating point\n"
   ]
  },
  {
   "cell_type": "markdown",
   "metadata": {},
   "source": [
    "Frist, let's look at voters over 115 years of age"
   ]
  },
  {
   "cell_type": "code",
   "execution_count": 38,
   "metadata": {
    "collapsed": false
   },
   "outputs": [
    {
     "name": "stdout",
     "output_type": "stream",
     "text": [
      "5201\n",
      "           ncid  birth_age\n",
      "40378   AA12753      117.0\n",
      "65502   AA15391      117.0\n",
      "65807   AG16763      116.0\n",
      "65809   AG16764      116.0\n",
      "66346   AA64367      117.0\n",
      "78704   AA24092      117.0\n",
      "101378   AB8204      117.0\n",
      "102552   AB4557      117.0\n",
      "105985   AB2589      117.0\n",
      "114305   AG5279      116.0\n",
      "114715   AG9385      116.0\n",
      "126226   AG9308      116.0\n",
      "132188  AG19708      116.0\n",
      "139591  AG11778      116.0\n",
      "139627  AG14826      116.0\n",
      "140097  AD12103      116.0\n",
      "144034   AB2994      117.0\n",
      "147012  AG11592      116.0\n",
      "154927   AB2684      117.0\n",
      "171588   AB6855      117.0\n"
     ]
    }
   ],
   "source": [
    "print len(demographics[demographics['birth_age']> 115])\n",
    "print demographics[demographics['birth_age']> 115][['ncid', 'birth_age']].head(n=20)"
   ]
  },
  {
   "cell_type": "markdown",
   "metadata": {},
   "source": [
    "These are obviously errors.  Let's create a report sorting these folks by county and storing this in a report."
   ]
  },
  {
   "cell_type": "code",
   "execution_count": 39,
   "metadata": {
    "collapsed": false,
    "scrolled": true
   },
   "outputs": [
    {
     "name": "stdout",
     "output_type": "stream",
     "text": [
      "Writing 'subset' (DataFrame) to file 'age_errors_june2017_snapshot.txt'.\n"
     ]
    }
   ],
   "source": [
    "subset = demographics[demographics['birth_age']> 115][['county_desc', 'ncid', 'birth_age','registr_dt']]\n",
    "subset = subset.sort_values(by = ['county_desc','birth_age'], ascending=True)\n",
    "subset = subset.set_index(['county_desc','birth_age']) #sort by county\n",
    "%store subset > age_errors_june2017_snapshot.txt"
   ]
  },
  {
   "cell_type": "markdown",
   "metadata": {},
   "source": [
    "Let's now create a report with counts by county"
   ]
  },
  {
   "cell_type": "code",
   "execution_count": 40,
   "metadata": {
    "collapsed": false
   },
   "outputs": [
    {
     "data": {
      "text/plain": [
       "county_desc\n",
       "GUILFORD       2245\n",
       "FORSYTH        1489\n",
       "CUMBERLAND      459\n",
       "RANDOLPH        266\n",
       "HENDERSON       185\n",
       "HALIFAX         153\n",
       "JOHNSTON         84\n",
       "SCOTLAND         61\n",
       "PITT             51\n",
       "BEAUFORT         31\n",
       "RICHMOND         21\n",
       "GRANVILLE        13\n",
       "SAMPSON          12\n",
       "ALEXANDER         9\n",
       "WAYNE             9\n",
       "EDGECOMBE         8\n",
       "BRUNSWICK         7\n",
       "VANCE             6\n",
       "NORTHAMPTON       6\n",
       "YADKIN            6\n",
       "CHEROKEE          5\n",
       "ROBESON           5\n",
       "MARTIN            5\n",
       "ORANGE            4\n",
       "MCDOWELL          4\n",
       "ALAMANCE          4\n",
       "GATES             4\n",
       "HARNETT           3\n",
       "COLUMBUS          3\n",
       "HERTFORD          3\n",
       "BERTIE            3\n",
       "ROWAN             3\n",
       "MONTGOMERY        3\n",
       "NASH              3\n",
       "BLADEN            2\n",
       "WILSON            2\n",
       "CARTERET          2\n",
       "PERSON            2\n",
       "CHATHAM           2\n",
       "FRANKLIN          2\n",
       "NEW HANOVER       2\n",
       "CURRITUCK         2\n",
       "ONSLOW            1\n",
       "CABARRUS          1\n",
       "BURKE             1\n",
       "MITCHELL          1\n",
       "MECKLENBURG       1\n",
       "BUNCOMBE          1\n",
       "STANLY            1\n",
       "DAVIDSON          1\n",
       "WATAUGA           1\n",
       "ANSON             1\n",
       "DUPLIN            1\n",
       "DURHAM            1\n",
       "Name: county_desc, dtype: int64"
      ]
     },
     "execution_count": 40,
     "metadata": {},
     "output_type": "execute_result"
    }
   ],
   "source": [
    "# First, reset the indexs and create a groupby object\n",
    "subset = subset.reset_index()# Reset the index\n",
    "num_invalid_age = subset.groupby(['county_desc'])['county_desc'].count() # Create a groupBy object with counts of number of voters with birth_age > 115\n",
    "num_invalid_age.nlargest(100)# Sort by number of voters"
   ]
  },
  {
   "cell_type": "markdown",
   "metadata": {},
   "source": [
    "It looks like six counties make up the bulk of the problem records: GUILFORD, FORSYTH, CUMBERLAND, RANDOLPH, HENDERSON, and HALIFAX      "
   ]
  },
  {
   "cell_type": "markdown",
   "metadata": {},
   "source": [
    "Next, let's look at voters that have been registered for more than 100 years"
   ]
  },
  {
   "cell_type": "code",
   "execution_count": 41,
   "metadata": {
    "collapsed": false
   },
   "outputs": [
    {
     "name": "stdout",
     "output_type": "stream",
     "text": [
      "10342\n",
      "           ncid registr_dt\n",
      "1158     AA3305 1900-01-01\n",
      "2487     AA6313 1900-01-01\n",
      "2510     AA6336 1900-01-01\n",
      "2870   AA110542 1900-01-01\n",
      "2982    AA36629 1900-01-01\n",
      "2983    AA36630 1900-01-01\n",
      "3058    AA36668 1900-01-01\n",
      "3848     AA9057 1900-01-01\n",
      "3893     AA9089 1900-01-01\n",
      "5211    AA11828 1900-01-01\n",
      "6553    AA13983 1900-01-01\n",
      "9733     AA6556 1900-01-01\n",
      "10107   AA27501 1900-01-01\n",
      "12467   AA12034 1900-01-01\n",
      "12471   AA12039 1900-01-01\n"
     ]
    }
   ],
   "source": [
    "print len(demographics[demographics['years_since_registration']> 100])\n",
    "print demographics[demographics['years_since_registration']> 100][['ncid', 'registr_dt']].head(n=15)"
   ]
  },
  {
   "cell_type": "markdown",
   "metadata": {},
   "source": [
    "These are obviously errors.  Let's create a report sorting these folks by county and storing this in a report."
   ]
  },
  {
   "cell_type": "code",
   "execution_count": 42,
   "metadata": {
    "collapsed": false,
    "scrolled": true
   },
   "outputs": [
    {
     "name": "stdout",
     "output_type": "stream",
     "text": [
      "Writing 'subset' (DataFrame) to file 'registration_errors_june2017_snapshot.txt'.\n"
     ]
    }
   ],
   "source": [
    "subset = demographics[demographics['years_since_registration']> 100][['county_desc', 'ncid', 'registr_dt', 'birth_age']]\n",
    "subset = subset.sort_values(by = ['county_desc','registr_dt'], ascending=True)\n",
    "subset = subset.set_index(['county_desc','registr_dt']) #sort by county\n",
    "%store subset > registration_errors_june2017_snapshot.txt"
   ]
  },
  {
   "cell_type": "markdown",
   "metadata": {},
   "source": [
    "Let's now create a report with counts by county"
   ]
  },
  {
   "cell_type": "code",
   "execution_count": 43,
   "metadata": {
    "collapsed": false
   },
   "outputs": [
    {
     "data": {
      "text/plain": [
       "county_desc\n",
       "CUMBERLAND     8381\n",
       "MCDOWELL        784\n",
       "PERSON          191\n",
       "ALAMANCE        139\n",
       "DUPLIN          124\n",
       "HALIFAX         101\n",
       "WARREN           53\n",
       "DURHAM           51\n",
       "CATAWBA          42\n",
       "BUNCOMBE         34\n",
       "CHATHAM          33\n",
       "ORANGE           28\n",
       "IREDELL          27\n",
       "NASH             15\n",
       "SCOTLAND         14\n",
       "BURKE            14\n",
       "RANDOLPH         14\n",
       "GRANVILLE        13\n",
       "CLAY             13\n",
       "MECKLENBURG      13\n",
       "MONTGOMERY       13\n",
       "ROBESON          12\n",
       "STANLY           11\n",
       "UNION            11\n",
       "CLEVELAND        11\n",
       "CHEROKEE         11\n",
       "YADKIN           10\n",
       "HOKE             10\n",
       "ROWAN             9\n",
       "MADISON           9\n",
       "FORSYTH           8\n",
       "CARTERET          8\n",
       "PITT              7\n",
       "YANCEY            7\n",
       "FRANKLIN          7\n",
       "BRUNSWICK         7\n",
       "EDGECOMBE         7\n",
       "ROCKINGHAM        6\n",
       "HENDERSON         6\n",
       "BERTIE            5\n",
       "CURRITUCK         5\n",
       "JOHNSTON          5\n",
       "SAMPSON           4\n",
       "HARNETT           4\n",
       "VANCE             4\n",
       "CASWELL           4\n",
       "SURRY             3\n",
       "ASHE              3\n",
       "CALDWELL          3\n",
       "GUILFORD          3\n",
       "NORTHAMPTON       3\n",
       "PERQUIMANS        3\n",
       "DAVIDSON          3\n",
       "MITCHELL          3\n",
       "GASTON            3\n",
       "DARE              2\n",
       "CRAVEN            2\n",
       "COLUMBUS          2\n",
       "WILKES            2\n",
       "WASHINGTON        2\n",
       "ANSON             2\n",
       "BLADEN            2\n",
       "HERTFORD          1\n",
       "ALLEGHANY         1\n",
       "WAYNE             1\n",
       "GATES             1\n",
       "HAYWOOD           1\n",
       "ALEXANDER         1\n",
       "RUTHERFORD        1\n",
       "JONES             1\n",
       "LENOIR            1\n",
       "CABARRUS          1\n",
       "RICHMOND          1\n",
       "MARTIN            1\n",
       "POLK              1\n",
       "DAVIE             1\n",
       "ONSLOW            1\n",
       "GRAHAM            1\n",
       "Name: county_desc, dtype: int64"
      ]
     },
     "execution_count": 43,
     "metadata": {},
     "output_type": "execute_result"
    }
   ],
   "source": [
    "# First, reset the indexs and create a groupby object\n",
    "subset = subset.reset_index()# Reset the index\n",
    "num_invalid_registration = subset.groupby(['county_desc'])['county_desc'].count() # Create a groupBy object with counts of number of voters with invalid registration dates\n",
    "num_invalid_registration.nlargest(100)# Sort by number of voters"
   ]
  },
  {
   "cell_type": "markdown",
   "metadata": {},
   "source": [
    "It looks like six counties make up the bulk of the problem records: CUMBERLAND, MCDOWELL, PERSON, ALAMANCE, DUPLIN, and HALIFAX            "
   ]
  }
 ],
 "metadata": {
  "celltoolbar": "Raw Cell Format",
  "kernelspec": {
   "display_name": "Python (gl-env)",
   "language": "python",
   "name": "gl-env"
  },
  "language_info": {
   "codemirror_mode": {
    "name": "ipython",
    "version": 2
   },
   "file_extension": ".py",
   "mimetype": "text/x-python",
   "name": "python",
   "nbconvert_exporter": "python",
   "pygments_lexer": "ipython2",
   "version": "2.7.13"
  }
 },
 "nbformat": 4,
 "nbformat_minor": 0
}
